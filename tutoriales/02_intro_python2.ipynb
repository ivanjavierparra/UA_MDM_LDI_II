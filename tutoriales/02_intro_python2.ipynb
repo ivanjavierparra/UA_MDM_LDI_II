{
  "cells": [
    {
      "cell_type": "markdown",
      "metadata": {
        "colab_type": "text",
        "id": "YkVfvT77robC"
      },
      "source": [
        "# Importación de Librerías\n",
        "\n",
        "Importar una librería entera\n"
      ]
    },
    {
      "cell_type": "code",
      "execution_count": null,
      "metadata": {
        "colab": {},
        "colab_type": "code",
        "id": "mpw2IhwPruyL"
      },
      "outputs": [],
      "source": [
        "import random"
      ]
    },
    {
      "cell_type": "markdown",
      "metadata": {
        "colab_type": "text",
        "id": "HfzxYBZvsJ7D"
      },
      "source": [
        "Puedo asignar un nombre corto para facilitar la llamada de funciones"
      ]
    },
    {
      "cell_type": "code",
      "execution_count": null,
      "metadata": {
        "colab": {},
        "colab_type": "code",
        "id": "gXbMrrVVr4g2"
      },
      "outputs": [],
      "source": [
        "import pandas as pd"
      ]
    },
    {
      "cell_type": "markdown",
      "metadata": {
        "colab_type": "text",
        "id": "OrtcQ04ZryEn"
      },
      "source": [
        "Importar solo una función de una librería"
      ]
    },
    {
      "cell_type": "code",
      "execution_count": null,
      "metadata": {
        "colab": {},
        "colab_type": "code",
        "id": "hxTJMxLLrxd1"
      },
      "outputs": [],
      "source": [
        "from random import sample"
      ]
    },
    {
      "cell_type": "markdown",
      "metadata": {
        "colab_type": "text",
        "id": "5Gcv4LytpJa6"
      },
      "source": [
        "# Estructuras de control\n",
        "\n",
        "## Comparadores lógicos\n",
        "\n",
        "| Operador | Acción |\n",
        "| -------- | ------ |\n",
        "| ==       | igual  |\n",
        "| > =       | mayor o igual |\n",
        "| >        | mayor estricto |\n",
        "| < =      | menor o igual |\n",
        "| <     | menor estricto |\n",
        "| ! = | desigual|\n",
        "| or | o |\n",
        "| and | y |\n"
      ]
    },
    {
      "cell_type": "code",
      "execution_count": null,
      "metadata": {
        "colab": {},
        "colab_type": "code",
        "id": "vAQhz4JBpJa8",
        "outputId": "2ded7896-a2c2-4291-b9f1-f00b8404005b"
      },
      "outputs": [
        {
          "data": {
            "text/plain": [
              "True"
            ]
          },
          "execution_count": 1,
          "metadata": {
            "tags": []
          },
          "output_type": "execute_result"
        }
      ],
      "source": [
        "1 == 1"
      ]
    },
    {
      "cell_type": "code",
      "execution_count": null,
      "metadata": {
        "colab": {},
        "colab_type": "code",
        "id": "VOliCyFXpJbD",
        "outputId": "4dbbe339-a2c1-4547-948c-4369686a91ad"
      },
      "outputs": [
        {
          "data": {
            "text/plain": [
              "False"
            ]
          },
          "execution_count": 2,
          "metadata": {
            "tags": []
          },
          "output_type": "execute_result"
        }
      ],
      "source": [
        "1 == 2"
      ]
    },
    {
      "cell_type": "code",
      "execution_count": null,
      "metadata": {
        "colab": {},
        "colab_type": "code",
        "id": "Kyntul6YpJbH",
        "outputId": "dba5cc87-99d1-45ae-e4d2-d2b785d74d6f"
      },
      "outputs": [
        {
          "data": {
            "text/plain": [
              "True"
            ]
          },
          "execution_count": 3,
          "metadata": {
            "tags": []
          },
          "output_type": "execute_result"
        }
      ],
      "source": [
        "1 == 1."
      ]
    },
    {
      "cell_type": "code",
      "execution_count": null,
      "metadata": {
        "colab": {},
        "colab_type": "code",
        "id": "qRuWkBNMpJbL",
        "outputId": "7dc12373-a14c-4e18-f0d4-af827c398782"
      },
      "outputs": [
        {
          "data": {
            "text/plain": [
              "True"
            ]
          },
          "execution_count": 4,
          "metadata": {
            "tags": []
          },
          "output_type": "execute_result"
        }
      ],
      "source": [
        "\"hola\" == \"hola\""
      ]
    },
    {
      "cell_type": "code",
      "execution_count": null,
      "metadata": {
        "colab": {},
        "colab_type": "code",
        "id": "gPRDGwcOpJbP",
        "outputId": "f23faaaa-387d-4981-9982-eb0f635e0900"
      },
      "outputs": [
        {
          "data": {
            "text/plain": [
              "False"
            ]
          },
          "execution_count": 5,
          "metadata": {
            "tags": []
          },
          "output_type": "execute_result"
        }
      ],
      "source": [
        "\"hola\" == \"Hola\""
      ]
    },
    {
      "cell_type": "code",
      "execution_count": null,
      "metadata": {
        "colab": {},
        "colab_type": "code",
        "id": "8zsLgypvpJbT",
        "outputId": "a4e7593a-4fe4-4c2b-961d-a7b6c2e5f239"
      },
      "outputs": [
        {
          "data": {
            "text/plain": [
              "True"
            ]
          },
          "execution_count": 6,
          "metadata": {
            "tags": []
          },
          "output_type": "execute_result"
        }
      ],
      "source": [
        "\"hola\" != \"Hola\""
      ]
    },
    {
      "cell_type": "code",
      "execution_count": null,
      "metadata": {
        "colab": {
          "base_uri": "https://localhost:8080/",
          "height": 34
        },
        "colab_type": "code",
        "id": "z78cEc50pJbW",
        "outputId": "6ea49aa4-4621-4872-b0f4-eed4ba321f76"
      },
      "outputs": [
        {
          "data": {
            "text/plain": [
              "True"
            ]
          },
          "execution_count": 1,
          "metadata": {
            "tags": []
          },
          "output_type": "execute_result"
        }
      ],
      "source": [
        "(1 == 1) and (2 == 2)"
      ]
    },
    {
      "cell_type": "code",
      "execution_count": null,
      "metadata": {
        "colab": {
          "base_uri": "https://localhost:8080/",
          "height": 34
        },
        "colab_type": "code",
        "id": "aTCRHJnDpJbd",
        "outputId": "a2b8ffb9-19d3-4e57-831c-e3ac0260b147"
      },
      "outputs": [
        {
          "data": {
            "text/plain": [
              "False"
            ]
          },
          "execution_count": 2,
          "metadata": {
            "tags": []
          },
          "output_type": "execute_result"
        }
      ],
      "source": [
        "(1 == 1) and (2 != 2)"
      ]
    },
    {
      "cell_type": "code",
      "execution_count": null,
      "metadata": {
        "colab": {
          "base_uri": "https://localhost:8080/",
          "height": 34
        },
        "colab_type": "code",
        "id": "HTZEJDB9pJbh",
        "outputId": "aa76121f-c5f2-4acf-84a5-3db42afddb3c"
      },
      "outputs": [
        {
          "data": {
            "text/plain": [
              "True"
            ]
          },
          "execution_count": 3,
          "metadata": {
            "tags": []
          },
          "output_type": "execute_result"
        }
      ],
      "source": [
        "(1 == 1) or (2 != 2)"
      ]
    },
    {
      "cell_type": "code",
      "execution_count": null,
      "metadata": {
        "colab": {
          "base_uri": "https://localhost:8080/",
          "height": 34
        },
        "colab_type": "code",
        "id": "eKQySLbMpJbn",
        "outputId": "4c509e08-0354-47d9-cf11-7d78202e4fad"
      },
      "outputs": [
        {
          "data": {
            "text/plain": [
              "False"
            ]
          },
          "execution_count": 7,
          "metadata": {
            "tags": []
          },
          "output_type": "execute_result"
        }
      ],
      "source": [
        "not ((1 == 1) or (2 != 2))"
      ]
    },
    {
      "cell_type": "code",
      "execution_count": null,
      "metadata": {
        "colab": {
          "base_uri": "https://localhost:8080/",
          "height": 34
        },
        "colab_type": "code",
        "id": "rzUaqIqFpJbr",
        "outputId": "41a9fe2b-12f0-45ba-c8f1-322d52af9415"
      },
      "outputs": [
        {
          "data": {
            "text/plain": [
              "True"
            ]
          },
          "execution_count": 10,
          "metadata": {
            "tags": []
          },
          "output_type": "execute_result"
        }
      ],
      "source": [
        "not (1 == 1) or (2 == 2)"
      ]
    },
    {
      "cell_type": "markdown",
      "metadata": {
        "colab_type": "text",
        "id": "TNPw6SwzkQjw"
      },
      "source": [
        "### El operador \"not in\""
      ]
    },
    {
      "cell_type": "code",
      "execution_count": 7,
      "metadata": {
        "colab": {
          "base_uri": "https://localhost:8080/",
          "height": 34
        },
        "colab_type": "code",
        "id": "bPvwLj0gkY1M",
        "outputId": "e90347c9-caf6-441f-af0d-56c95cca5ed8"
      },
      "outputs": [
        {
          "data": {
            "text/plain": [
              "True"
            ]
          },
          "execution_count": 7,
          "metadata": {
            "tags": []
          },
          "output_type": "execute_result"
        }
      ],
      "source": [
        "'Juan' in ['Pedro', 'Lucia', 'Juan', 'Maria']"
      ]
    },
    {
      "cell_type": "code",
      "execution_count": 8,
      "metadata": {
        "colab": {
          "base_uri": "https://localhost:8080/",
          "height": 34
        },
        "colab_type": "code",
        "id": "W5Z6UR6ekew2",
        "outputId": "2b28549a-f15c-4e2e-a558-b720f6436868"
      },
      "outputs": [
        {
          "data": {
            "text/plain": [
              "False"
            ]
          },
          "execution_count": 8,
          "metadata": {
            "tags": []
          },
          "output_type": "execute_result"
        }
      ],
      "source": [
        "'Juan' not in ['Pedro', 'Lucia', 'Juan', 'Maria']"
      ]
    },
    {
      "cell_type": "code",
      "execution_count": 9,
      "metadata": {
        "colab": {
          "base_uri": "https://localhost:8080/",
          "height": 34
        },
        "colab_type": "code",
        "id": "Qtojp_Inkgwp",
        "outputId": "c4a744f8-d761-4e87-deb2-0233b18ee5c2"
      },
      "outputs": [
        {
          "data": {
            "text/plain": [
              "True"
            ]
          },
          "execution_count": 9,
          "metadata": {
            "tags": []
          },
          "output_type": "execute_result"
        }
      ],
      "source": [
        "'Julieta' not in ['Pedro', 'Lucia', 'Juan', 'Maria']"
      ]
    },
    {
      "cell_type": "markdown",
      "metadata": {
        "colab_type": "text",
        "id": "cL1D1T45kyib"
      },
      "source": [
        "### Asignación con operador aritmético\n",
        "\n",
        "| Operador | Equivalente |\n",
        "| -------- | ----------- |\n",
        "| `a += 1` | `a = a + 1` |\n",
        "| `a -= 1` | `a = a - 1` |\n",
        "| `a *= 1` | `a = a * 1` |\n",
        "| `a /= 1` | `a = a / 1` |\n",
        "| `a %= 1` | `a = a % 1` |"
      ]
    },
    {
      "cell_type": "code",
      "execution_count": 10,
      "metadata": {
        "colab": {
          "base_uri": "https://localhost:8080/",
          "height": 35
        },
        "colab_type": "code",
        "id": "VuMrXVdLks4n",
        "outputId": "e6badfa5-7480-45d0-d983-d499927de38d"
      },
      "outputs": [
        {
          "data": {
            "text/plain": [
              "'Hello world!'"
            ]
          },
          "execution_count": 10,
          "metadata": {
            "tags": []
          },
          "output_type": "execute_result"
        }
      ],
      "source": [
        "a = 'Hello'\n",
        "a += ' world!'\n",
        "a"
      ]
    },
    {
      "cell_type": "code",
      "execution_count": 15,
      "metadata": {
        "colab": {
          "base_uri": "https://localhost:8080/",
          "height": 67
        },
        "colab_type": "code",
        "id": "6gsCqDEtmiSS",
        "outputId": "1f674729-f707-441d-9c61-95d2874f608f"
      },
      "outputs": [
        {
          "name": "stdout",
          "output_type": "stream",
          "text": [
            "2\n",
            "4\n",
            "8\n"
          ]
        }
      ],
      "source": [
        "a = 2\n",
        "print(a)\n",
        "\n",
        "a *= 2\n",
        "print(a)\n",
        "\n",
        "a *= 2\n",
        "print(a)"
      ]
    },
    {
      "cell_type": "markdown",
      "metadata": {
        "colab_type": "text",
        "id": "82xO1hGUpJbu"
      },
      "source": [
        "## Condicionales"
      ]
    },
    {
      "cell_type": "code",
      "execution_count": null,
      "metadata": {
        "colab": {},
        "colab_type": "code",
        "id": "6NKcH11tpJbv",
        "outputId": "ebe48f58-96a2-44c3-c779-31a5c8a0a37f",
        "tags": []
      },
      "outputs": [
        {
          "name": "stdout",
          "output_type": "stream",
          "text": [
            "econtrado\n"
          ]
        }
      ],
      "source": [
        "persona = \"Juan\"\n",
        "if (persona == \"Juan\"):\n",
        "    print(\"econtrado\")"
      ]
    },
    {
      "cell_type": "code",
      "execution_count": null,
      "metadata": {
        "colab": {},
        "colab_type": "code",
        "id": "axy543RwpJby",
        "outputId": "12fba4a3-6ce2-4f57-b578-d078d4b0190c",
        "tags": []
      },
      "outputs": [
        {
          "name": "stdout",
          "output_type": "stream",
          "text": [
            "no encontrado\n"
          ]
        }
      ],
      "source": [
        "if (persona == \"Pedro\"):\n",
        "    print(\"econtrado\")\n",
        "else:\n",
        "    print(\"no encontrado\")"
      ]
    },
    {
      "cell_type": "code",
      "execution_count": null,
      "metadata": {
        "colab": {},
        "colab_type": "code",
        "id": "yzU1Iu5ipJb1",
        "outputId": "9abe805f-7f2b-43ce-e01b-456134fe73e6",
        "tags": []
      },
      "outputs": [
        {
          "name": "stdout",
          "output_type": "stream",
          "text": [
            "econtrado Juan\n"
          ]
        }
      ],
      "source": [
        "if (persona == \"Pedro\"):\n",
        "    print(\"econtrado Pedro\")\n",
        "elif (persona == \"Juan\"): \n",
        "    print(\"econtrado Juan\")\n",
        "else:\n",
        "    print(\"no encontrado\")"
      ]
    },
    {
      "cell_type": "markdown",
      "metadata": {
        "colab_type": "text",
        "id": "DbCgt-XKpJb4"
      },
      "source": [
        "## Loops"
      ]
    },
    {
      "cell_type": "markdown",
      "metadata": {
        "colab_type": "text",
        "id": "2xD8Q7YOQFZi"
      },
      "source": [
        "### Loops usando For"
      ]
    },
    {
      "cell_type": "code",
      "execution_count": null,
      "metadata": {
        "colab": {},
        "colab_type": "code",
        "id": "BSXUM02KpJb5",
        "outputId": "6c7f60cf-05d9-48c9-e410-e61050f85d70",
        "tags": []
      },
      "outputs": [
        {
          "name": "stdout",
          "output_type": "stream",
          "text": [
            "1\n",
            "2\n",
            "3\n"
          ]
        }
      ],
      "source": [
        "for a in [1, 2, 3]:\n",
        "    print(a)"
      ]
    },
    {
      "cell_type": "code",
      "execution_count": null,
      "metadata": {
        "colab": {},
        "colab_type": "code",
        "id": "LKZGumv6pJb-",
        "outputId": "05282f09-ba46-4f0e-fe85-18e6bfc91590",
        "tags": []
      },
      "outputs": [
        {
          "name": "stdout",
          "output_type": "stream",
          "text": [
            "1\n",
            "2\n",
            "3\n"
          ]
        }
      ],
      "source": [
        "lista = [1, 2, 3]\n",
        "for a in lista:\n",
        "    print(a)"
      ]
    },
    {
      "cell_type": "code",
      "execution_count": null,
      "metadata": {
        "colab": {},
        "colab_type": "code",
        "id": "mODIDXvlpJcB",
        "outputId": "252b521d-2b86-4582-af8b-f58d49c54719",
        "tags": []
      },
      "outputs": [
        {
          "name": "stdout",
          "output_type": "stream",
          "text": [
            "v1\n",
            "v2\n",
            "v3\n"
          ]
        }
      ],
      "source": [
        "diccionario = {\"v1\": 1, \"v2\": 2, \"v3\": 3}\n",
        "for a in diccionario:\n",
        "    print(a)"
      ]
    },
    {
      "cell_type": "code",
      "execution_count": null,
      "metadata": {
        "colab": {
          "base_uri": "https://localhost:8080/",
          "height": 67
        },
        "colab_type": "code",
        "id": "1VUE26c1pJcE",
        "outputId": "bc2e6306-3a42-4bc8-e480-d0f7afd88b7e",
        "tags": []
      },
      "outputs": [
        {
          "name": "stdout",
          "output_type": "stream",
          "text": [
            "v1 1\n",
            "v2 2\n",
            "v3 3\n"
          ]
        }
      ],
      "source": [
        "diccionario = {\"v1\": 1, \"v2\": 2, \"v3\": 3}\n",
        "for a in diccionario.keys():\n",
        "    print(a, diccionario[a])"
      ]
    },
    {
      "cell_type": "code",
      "execution_count": null,
      "metadata": {
        "colab": {
          "base_uri": "https://localhost:8080/",
          "height": 34
        },
        "colab_type": "code",
        "id": "EK0A_9jzpJcL",
        "outputId": "7666b1af-5cf1-4749-bbfc-83067d620910"
      },
      "outputs": [
        {
          "data": {
            "text/plain": [
              "dict_items([('v1', 1), ('v2', 2), ('v3', 3)])"
            ]
          },
          "execution_count": 36,
          "metadata": {
            "tags": []
          },
          "output_type": "execute_result"
        }
      ],
      "source": [
        "diccionario.items()"
      ]
    },
    {
      "cell_type": "code",
      "execution_count": null,
      "metadata": {
        "colab": {},
        "colab_type": "code",
        "id": "L7Jmh98OpJcH",
        "outputId": "4bb0dc1a-4894-486d-d49a-71936064f968",
        "tags": []
      },
      "outputs": [
        {
          "name": "stdout",
          "output_type": "stream",
          "text": [
            "llave: v1, valor: 1\n",
            "llave: v2, valor: 2\n",
            "llave: v3, valor: 3\n"
          ]
        }
      ],
      "source": [
        "diccionario = {\"v1\": 1, \"v2\": 2, \"v3\": 3}\n",
        "for k, v in diccionario.items():\n",
        "    print(f\"llave: {k}, valor: {v}\")"
      ]
    },
    {
      "cell_type": "code",
      "execution_count": null,
      "metadata": {
        "colab": {
          "base_uri": "https://localhost:8080/",
          "height": 50
        },
        "colab_type": "code",
        "id": "sFPIuNBjpJcO",
        "outputId": "2ef3b018-642f-47dd-abde-c54678652058"
      },
      "outputs": [
        {
          "name": "stdout",
          "output_type": "stream",
          "text": [
            "1\n",
            "2\n"
          ]
        }
      ],
      "source": [
        "v1, v2 = 1, 2\n",
        "print(v1)\n",
        "print(v2)"
      ]
    },
    {
      "cell_type": "code",
      "execution_count": null,
      "metadata": {
        "colab": {
          "base_uri": "https://localhost:8080/",
          "height": 67
        },
        "colab_type": "code",
        "id": "LK6yuZkSpJcS",
        "outputId": "120792ac-3f48-4efc-ed5b-a38c1d8ac815",
        "tags": []
      },
      "outputs": [
        {
          "name": "stdout",
          "output_type": "stream",
          "text": [
            "el indice 0 tienen un valor a\n",
            "el indice 1 tienen un valor b\n",
            "el indice 2 tienen un valor c\n"
          ]
        }
      ],
      "source": [
        "lista = [\"a\", \"b\", \"c\"]\n",
        "for indice in range(len(lista)):\n",
        "    print(f\"el indice {indice} tienen un valor {lista[indice]}\")"
      ]
    },
    {
      "cell_type": "code",
      "execution_count": null,
      "metadata": {
        "colab": {
          "base_uri": "https://localhost:8080/",
          "height": 34
        },
        "colab_type": "code",
        "id": "kw2C5fW9qzLs",
        "outputId": "d838341a-2c4e-48c8-f003-ffad4cb8f200"
      },
      "outputs": [
        {
          "data": {
            "text/plain": [
              "range(0, 3)"
            ]
          },
          "execution_count": 14,
          "metadata": {
            "tags": []
          },
          "output_type": "execute_result"
        }
      ],
      "source": [
        "range(len(lista))"
      ]
    },
    {
      "cell_type": "code",
      "execution_count": null,
      "metadata": {
        "colab": {
          "base_uri": "https://localhost:8080/",
          "height": 67
        },
        "colab_type": "code",
        "id": "ay_M9kW5pJcV",
        "outputId": "fd4f4157-4ed7-4e9d-8372-d07e0c049b1d",
        "tags": []
      },
      "outputs": [
        {
          "name": "stdout",
          "output_type": "stream",
          "text": [
            "el indice 0 tienen un valor a\n",
            "el indice 1 tienen un valor b\n",
            "el indice 2 tienen un valor c\n"
          ]
        }
      ],
      "source": [
        "for indice, elemento in enumerate(lista):\n",
        "    print(f\"el indice {indice} tienen un valor {elemento}\")"
      ]
    },
    {
      "cell_type": "markdown",
      "metadata": {
        "colab_type": "text",
        "id": "5VQeBfG8t-Mc"
      },
      "source": [
        "### Loops usando While "
      ]
    },
    {
      "cell_type": "code",
      "execution_count": null,
      "metadata": {
        "colab": {},
        "colab_type": "code",
        "id": "EC9ZihppQloi"
      },
      "outputs": [],
      "source": [
        "from random import random"
      ]
    },
    {
      "cell_type": "code",
      "execution_count": null,
      "metadata": {
        "colab": {
          "base_uri": "https://localhost:8080/",
          "height": 202
        },
        "colab_type": "code",
        "id": "eu8BPp7qpJcY",
        "outputId": "fbd1dda9-f9f3-4063-bf46-9454cf777a64",
        "tags": []
      },
      "outputs": [
        {
          "name": "stdout",
          "output_type": "stream",
          "text": [
            "0\n",
            "nuevo cent: 0.45213893899776947\n",
            "nuevo cent: 0.41145580009217186\n",
            "nuevo cent: 0.6847429458295473\n",
            "nuevo cent: 0.6167300719624855\n",
            "nuevo cent: 0.22184164761367897\n",
            "nuevo cent: 0.08837425503441121\n",
            "nuevo cent: 0.03806110307242461\n",
            "nuevo cent: 0.6775709136362923\n",
            "nuevo cent: 0.017772150559181576\n",
            "nuevo cent: 0.8682520610830691\n"
          ]
        }
      ],
      "source": [
        "cent = 0\n",
        "print(cent)\n",
        "while cent < 0.7:\n",
        "    cent = random()\n",
        "    print(\"nuevo cent:\", cent)"
      ]
    },
    {
      "cell_type": "markdown",
      "metadata": {
        "colab_type": "text",
        "id": "Uvgbm2L8jfH6"
      },
      "source": [
        "### Loop de múltiples Listas usando zip()\n"
      ]
    },
    {
      "cell_type": "code",
      "execution_count": 6,
      "metadata": {
        "colab": {
          "base_uri": "https://localhost:8080/",
          "height": 84
        },
        "colab_type": "code",
        "id": "oWZnX8DsjoOn",
        "outputId": "22b85fbc-2a19-4be9-9974-1f39f04e1312"
      },
      "outputs": [
        {
          "name": "stdout",
          "output_type": "stream",
          "text": [
            "La calificación de Pedro fue 8 sobre 10\n",
            "La calificación de Lucia fue 9 sobre 10\n",
            "La calificación de Juan fue 3 sobre 10\n",
            "La calificación de Maria fue 5 sobre 10\n"
          ]
        }
      ],
      "source": [
        "name = ['Pedro', 'Lucia', 'Juan', 'Maria']\n",
        "age = [8, 9, 3, 5]\n",
        "for n, a in zip(name, age):\n",
        "  print('La calificación de {} fue {} sobre 10'.format(n, a))"
      ]
    },
    {
      "cell_type": "markdown",
      "metadata": {
        "colab_type": "text",
        "id": "qMjTuQxspJcd"
      },
      "source": [
        "### List Comprehension vs. For Loops"
      ]
    },
    {
      "cell_type": "code",
      "execution_count": null,
      "metadata": {
        "colab": {
          "base_uri": "https://localhost:8080/",
          "height": 34
        },
        "colab_type": "code",
        "id": "06gFgkR6pJcd",
        "outputId": "351c2f75-f425-4578-ffe7-a5341f75eb42",
        "tags": []
      },
      "outputs": [
        {
          "name": "stdout",
          "output_type": "stream",
          "text": [
            "1000 loops, best of 3: 1.22 ms per loop\n"
          ]
        }
      ],
      "source": [
        "%%timeit\n",
        "lista1 = []\n",
        "for a in range(10000):\n",
        "    b = a / 2 + 10\n",
        "    lista1.append(b)"
      ]
    },
    {
      "cell_type": "code",
      "execution_count": null,
      "metadata": {
        "colab": {
          "base_uri": "https://localhost:8080/",
          "height": 34
        },
        "colab_type": "code",
        "id": "4n0Nls8GpJcg",
        "outputId": "8dae6d1b-8bfd-45d6-f57a-9429e65d640d",
        "tags": []
      },
      "outputs": [
        {
          "name": "stdout",
          "output_type": "stream",
          "text": [
            "1000 loops, best of 3: 851 µs per loop\n"
          ]
        }
      ],
      "source": [
        "%%timeit\n",
        "lista2 = [a / 2 + 10 for a in range(10000)]"
      ]
    },
    {
      "cell_type": "markdown",
      "metadata": {
        "colab_type": "text",
        "id": "PJChvhCrR4rX"
      },
      "source": [
        "## Referencia y Copia de Objetos"
      ]
    },
    {
      "cell_type": "code",
      "execution_count": null,
      "metadata": {
        "colab": {},
        "colab_type": "code",
        "id": "rhY65hfcpJcj"
      },
      "outputs": [],
      "source": [
        "lista1 = []\n",
        "for a in range(10):\n",
        "    b = a / 2 + 10\n",
        "    lista1.append(b)"
      ]
    },
    {
      "cell_type": "code",
      "execution_count": null,
      "metadata": {
        "colab": {},
        "colab_type": "code",
        "id": "q_MUUmYNReHE"
      },
      "outputs": [],
      "source": [
        "lista2 = [a / 2 + 10 for a in range(10)]"
      ]
    },
    {
      "cell_type": "code",
      "execution_count": null,
      "metadata": {
        "colab": {
          "base_uri": "https://localhost:8080/",
          "height": 50
        },
        "colab_type": "code",
        "id": "xUoa1Zw1Rj90",
        "outputId": "70a08bde-5c69-4d5e-cc0c-832f04592668"
      },
      "outputs": [
        {
          "name": "stdout",
          "output_type": "stream",
          "text": [
            "[10.0, 10.5, 11.0, 11.5, 12.0, 12.5, 13.0, 13.5, 14.0, 14.5]\n",
            "[10.0, 10.5, 11.0, 11.5, 12.0, 12.5, 13.0, 13.5, 14.0, 14.5]\n"
          ]
        }
      ],
      "source": [
        "print(lista1)\n",
        "print(lista2)"
      ]
    },
    {
      "cell_type": "code",
      "execution_count": null,
      "metadata": {
        "colab": {
          "base_uri": "https://localhost:8080/",
          "height": 50
        },
        "colab_type": "code",
        "id": "H4RwHTuapJcm",
        "outputId": "71e31864-fd6e-45e7-e87f-974bd21b2010",
        "tags": []
      },
      "outputs": [
        {
          "name": "stdout",
          "output_type": "stream",
          "text": [
            "False\n",
            "True\n"
          ]
        }
      ],
      "source": [
        "print(lista1 is lista2)\n",
        "print(lista1 == lista2)"
      ]
    },
    {
      "cell_type": "code",
      "execution_count": null,
      "metadata": {
        "colab": {
          "base_uri": "https://localhost:8080/",
          "height": 34
        },
        "colab_type": "code",
        "id": "kgZsiqpipJco",
        "outputId": "3065824b-a507-467b-ddfb-587f7a858d38"
      },
      "outputs": [
        {
          "data": {
            "text/plain": [
              "True"
            ]
          },
          "execution_count": 51,
          "metadata": {
            "tags": []
          },
          "output_type": "execute_result"
        }
      ],
      "source": [
        "lista3 = lista2\n",
        "lista3 is lista2"
      ]
    },
    {
      "cell_type": "markdown",
      "metadata": {
        "colab_type": "text",
        "id": "3hpIu8EuSBnT"
      },
      "source": [
        "Que sucede si modifico un elemento de la lista2 y veo la lista3"
      ]
    },
    {
      "cell_type": "code",
      "execution_count": null,
      "metadata": {
        "colab": {
          "base_uri": "https://localhost:8080/",
          "height": 34
        },
        "colab_type": "code",
        "id": "Cve_LeoIpJcr",
        "outputId": "a5eabd5b-c84e-42f1-972a-dfb73440ddb5"
      },
      "outputs": [
        {
          "data": {
            "text/plain": [
              "['nuevo_elemento', 10.5, 11.0, 11.5, 12.0, 12.5, 13.0, 13.5, 14.0, 14.5]"
            ]
          },
          "execution_count": 52,
          "metadata": {
            "tags": []
          },
          "output_type": "execute_result"
        }
      ],
      "source": [
        "lista2[0] = \"nuevo_elemento\"\n",
        "\n",
        "lista3"
      ]
    },
    {
      "cell_type": "code",
      "execution_count": null,
      "metadata": {
        "colab": {
          "base_uri": "https://localhost:8080/",
          "height": 34
        },
        "colab_type": "code",
        "id": "aEfhhOLspJcx",
        "outputId": "41a3301b-9b1c-4b1c-d1dd-e170f42e8b8c"
      },
      "outputs": [
        {
          "data": {
            "text/plain": [
              "[10.0, 10.5, 11.0, 11.5, 12.0, 12.5, 13.0, 13.5, 14.0, 14.5]"
            ]
          },
          "execution_count": 53,
          "metadata": {
            "tags": []
          },
          "output_type": "execute_result"
        }
      ],
      "source": [
        "lista4 = lista1.copy()\n",
        "lista1[0] = \"nuevo2\"\n",
        "lista4"
      ]
    },
    {
      "cell_type": "markdown",
      "metadata": {
        "colab_type": "text",
        "id": "G3S9WwhApJcz"
      },
      "source": [
        "## Dictionary Comprehension"
      ]
    },
    {
      "cell_type": "markdown",
      "metadata": {
        "colab_type": "text",
        "id": "T4HpK4QASn3B"
      },
      "source": [
        "Puedo crear diccionarios usando Dictionary Comprehension de la sigiente forma:\n",
        "\n",
        "`dictionary = {key: value for vars in iterable}`"
      ]
    },
    {
      "cell_type": "code",
      "execution_count": null,
      "metadata": {
        "colab": {},
        "colab_type": "code",
        "id": "tuhs3FJZpJc0",
        "outputId": "46969970-2c2f-4902-bf6f-eaa5bf299d32"
      },
      "outputs": [
        {
          "data": {
            "text/plain": [
              "{'v1': 1, 'v2': 2, 'v3': 3}"
            ]
          },
          "execution_count": 49,
          "metadata": {
            "tags": []
          },
          "output_type": "execute_result"
        }
      ],
      "source": [
        "dic_comp ={k: v for k, v in [(\"v1\", 1), (\"v2\", 2), (\"v3\", 3)]}\n",
        "dic_comp"
      ]
    },
    {
      "cell_type": "markdown",
      "metadata": {
        "colab_type": "text",
        "id": "TZHb1kYVSxlz"
      },
      "source": [
        "Con un for loop:"
      ]
    },
    {
      "cell_type": "code",
      "execution_count": null,
      "metadata": {
        "colab": {
          "base_uri": "https://localhost:8080/",
          "height": 34
        },
        "colab_type": "code",
        "id": "n6yJ4X3zSmzX",
        "outputId": "05dedbce-be78-47c8-98c2-61eb4389de48"
      },
      "outputs": [
        {
          "name": "stdout",
          "output_type": "stream",
          "text": [
            "{1: 1, 2: 4, 3: 9, 4: 16, 5: 25, 6: 36, 7: 49, 8: 64, 9: 81, 10: 100}\n"
          ]
        }
      ],
      "source": [
        "cuadrado = dict()\n",
        "for num in range(1, 11):\n",
        "    cuadrado[num] = num*num\n",
        "print(cuadrado)"
      ]
    },
    {
      "cell_type": "markdown",
      "metadata": {
        "colab_type": "text",
        "id": "BV4hb4pxS53R"
      },
      "source": [
        "Usando Dictionary Comprehension"
      ]
    },
    {
      "cell_type": "code",
      "execution_count": null,
      "metadata": {
        "colab": {
          "base_uri": "https://localhost:8080/",
          "height": 34
        },
        "colab_type": "code",
        "id": "s-yJOur-S3aT",
        "outputId": "d2294a0e-0701-4fc2-e0d8-8e7d67479acb"
      },
      "outputs": [
        {
          "name": "stdout",
          "output_type": "stream",
          "text": [
            "{1: 1, 2: 4, 3: 9, 4: 16, 5: 25, 6: 36, 7: 49, 8: 64, 9: 81, 10: 100}\n"
          ]
        }
      ],
      "source": [
        "cuadrado = {num: num*num for num in range(1, 11)}\n",
        "print(cuadrado)"
      ]
    },
    {
      "cell_type": "markdown",
      "metadata": {
        "colab_type": "text",
        "id": "_79LRuBbpJc2"
      },
      "source": [
        "## Ejercicios \n",
        "\n",
        "1. Crear una lista con valores del 100 al 500 a intervaloes de 50\n"
      ]
    },
    {
      "cell_type": "markdown",
      "metadata": {
        "colab_type": "text",
        "id": "9XxijtrpTej6"
      },
      "source": [
        "\n",
        "2. Convertir esa lista en un diccionario donde los valores sean los elementos de la lista y las llaves el texto 'pago_{i}' donde i es el indice del pago, ej. pago_1 = 100"
      ]
    },
    {
      "cell_type": "markdown",
      "metadata": {
        "colab_type": "text",
        "id": "F28rZweXTrSw"
      },
      "source": [
        "3. Sacar el valor actual de la lista considerandola una lista de pagos a intervalos regulares con una tasa de interes del 100%. El valor actual es la suma de los valores individuales descontados por el interes, cada pago se descuenta dividiendolo por (1 + tasa)^indice, por ej. 150 / ((1 + 1) ** 2). Recordar que los indices empiezan en 0"
      ]
    },
    {
      "cell_type": "code",
      "execution_count": 2,
      "metadata": {
        "colab": {},
        "colab_type": "code",
        "id": "uuyGLvvNjTE4"
      },
      "outputs": [
        {
          "name": "stdout",
          "output_type": "stream",
          "text": [
            "[100, 101, 102, 103, 104, 105, 106, 107, 108, 109, 110, 111, 112, 113, 114, 115, 116, 117, 118, 119, 120, 121, 122, 123, 124, 125, 126, 127, 128, 129, 130, 131, 132, 133, 134, 135, 136, 137, 138, 139, 140, 141, 142, 143, 144, 145, 146, 147, 148, 149, 150, 151, 152, 153, 154, 155, 156, 157, 158, 159, 160, 161, 162, 163, 164, 165, 166, 167, 168, 169, 170, 171, 172, 173, 174, 175, 176, 177, 178, 179, 180, 181, 182, 183, 184, 185, 186, 187, 188, 189, 190, 191, 192, 193, 194, 195, 196, 197, 198, 199, 200, 201, 202, 203, 204, 205, 206, 207, 208, 209, 210, 211, 212, 213, 214, 215, 216, 217, 218, 219, 220, 221, 222, 223, 224, 225, 226, 227, 228, 229, 230, 231, 232, 233, 234, 235, 236, 237, 238, 239, 240, 241, 242, 243, 244, 245, 246, 247, 248, 249, 250, 251, 252, 253, 254, 255, 256, 257, 258, 259, 260, 261, 262, 263, 264, 265, 266, 267, 268, 269, 270, 271, 272, 273, 274, 275, 276, 277, 278, 279, 280, 281, 282, 283, 284, 285, 286, 287, 288, 289, 290, 291, 292, 293, 294, 295, 296, 297, 298, 299, 300, 301, 302, 303, 304, 305, 306, 307, 308, 309, 310, 311, 312, 313, 314, 315, 316, 317, 318, 319, 320, 321, 322, 323, 324, 325, 326, 327, 328, 329, 330, 331, 332, 333, 334, 335, 336, 337, 338, 339, 340, 341, 342, 343, 344, 345, 346, 347, 348, 349, 350, 351, 352, 353, 354, 355, 356, 357, 358, 359, 360, 361, 362, 363, 364, 365, 366, 367, 368, 369, 370, 371, 372, 373, 374, 375, 376, 377, 378, 379, 380, 381, 382, 383, 384, 385, 386, 387, 388, 389, 390, 391, 392, 393, 394, 395, 396, 397, 398, 399, 400, 401, 402, 403, 404, 405, 406, 407, 408, 409, 410, 411, 412, 413, 414, 415, 416, 417, 418, 419, 420, 421, 422, 423, 424, 425, 426, 427, 428, 429, 430, 431, 432, 433, 434, 435, 436, 437, 438, 439, 440, 441, 442, 443, 444, 445, 446, 447, 448, 449, 450, 451, 452, 453, 454, 455, 456, 457, 458, 459, 460, 461, 462, 463, 464, 465, 466, 467, 468, 469, 470, 471, 472, 473, 474, 475, 476, 477, 478, 479, 480, 481, 482, 483, 484, 485, 486, 487, 488, 489, 490, 491, 492, 493, 494, 495, 496, 497, 498, 499]\n"
          ]
        }
      ],
      "source": [
        "lista = [i for i in range(100,501,50)]\n",
        "print(lista)"
      ]
    },
    {
      "cell_type": "code",
      "execution_count": 5,
      "metadata": {},
      "outputs": [
        {
          "name": "stdout",
          "output_type": "stream",
          "text": [
            "{'pago_0': 100, 'pago_1': 101, 'pago_2': 102, 'pago_3': 103, 'pago_4': 104, 'pago_5': 105, 'pago_6': 106, 'pago_7': 107, 'pago_8': 108, 'pago_9': 109, 'pago_10': 110, 'pago_11': 111, 'pago_12': 112, 'pago_13': 113, 'pago_14': 114, 'pago_15': 115, 'pago_16': 116, 'pago_17': 117, 'pago_18': 118, 'pago_19': 119, 'pago_20': 120, 'pago_21': 121, 'pago_22': 122, 'pago_23': 123, 'pago_24': 124, 'pago_25': 125, 'pago_26': 126, 'pago_27': 127, 'pago_28': 128, 'pago_29': 129, 'pago_30': 130, 'pago_31': 131, 'pago_32': 132, 'pago_33': 133, 'pago_34': 134, 'pago_35': 135, 'pago_36': 136, 'pago_37': 137, 'pago_38': 138, 'pago_39': 139, 'pago_40': 140, 'pago_41': 141, 'pago_42': 142, 'pago_43': 143, 'pago_44': 144, 'pago_45': 145, 'pago_46': 146, 'pago_47': 147, 'pago_48': 148, 'pago_49': 149, 'pago_50': 150, 'pago_51': 151, 'pago_52': 152, 'pago_53': 153, 'pago_54': 154, 'pago_55': 155, 'pago_56': 156, 'pago_57': 157, 'pago_58': 158, 'pago_59': 159, 'pago_60': 160, 'pago_61': 161, 'pago_62': 162, 'pago_63': 163, 'pago_64': 164, 'pago_65': 165, 'pago_66': 166, 'pago_67': 167, 'pago_68': 168, 'pago_69': 169, 'pago_70': 170, 'pago_71': 171, 'pago_72': 172, 'pago_73': 173, 'pago_74': 174, 'pago_75': 175, 'pago_76': 176, 'pago_77': 177, 'pago_78': 178, 'pago_79': 179, 'pago_80': 180, 'pago_81': 181, 'pago_82': 182, 'pago_83': 183, 'pago_84': 184, 'pago_85': 185, 'pago_86': 186, 'pago_87': 187, 'pago_88': 188, 'pago_89': 189, 'pago_90': 190, 'pago_91': 191, 'pago_92': 192, 'pago_93': 193, 'pago_94': 194, 'pago_95': 195, 'pago_96': 196, 'pago_97': 197, 'pago_98': 198, 'pago_99': 199, 'pago_100': 200, 'pago_101': 201, 'pago_102': 202, 'pago_103': 203, 'pago_104': 204, 'pago_105': 205, 'pago_106': 206, 'pago_107': 207, 'pago_108': 208, 'pago_109': 209, 'pago_110': 210, 'pago_111': 211, 'pago_112': 212, 'pago_113': 213, 'pago_114': 214, 'pago_115': 215, 'pago_116': 216, 'pago_117': 217, 'pago_118': 218, 'pago_119': 219, 'pago_120': 220, 'pago_121': 221, 'pago_122': 222, 'pago_123': 223, 'pago_124': 224, 'pago_125': 225, 'pago_126': 226, 'pago_127': 227, 'pago_128': 228, 'pago_129': 229, 'pago_130': 230, 'pago_131': 231, 'pago_132': 232, 'pago_133': 233, 'pago_134': 234, 'pago_135': 235, 'pago_136': 236, 'pago_137': 237, 'pago_138': 238, 'pago_139': 239, 'pago_140': 240, 'pago_141': 241, 'pago_142': 242, 'pago_143': 243, 'pago_144': 244, 'pago_145': 245, 'pago_146': 246, 'pago_147': 247, 'pago_148': 248, 'pago_149': 249, 'pago_150': 250, 'pago_151': 251, 'pago_152': 252, 'pago_153': 253, 'pago_154': 254, 'pago_155': 255, 'pago_156': 256, 'pago_157': 257, 'pago_158': 258, 'pago_159': 259, 'pago_160': 260, 'pago_161': 261, 'pago_162': 262, 'pago_163': 263, 'pago_164': 264, 'pago_165': 265, 'pago_166': 266, 'pago_167': 267, 'pago_168': 268, 'pago_169': 269, 'pago_170': 270, 'pago_171': 271, 'pago_172': 272, 'pago_173': 273, 'pago_174': 274, 'pago_175': 275, 'pago_176': 276, 'pago_177': 277, 'pago_178': 278, 'pago_179': 279, 'pago_180': 280, 'pago_181': 281, 'pago_182': 282, 'pago_183': 283, 'pago_184': 284, 'pago_185': 285, 'pago_186': 286, 'pago_187': 287, 'pago_188': 288, 'pago_189': 289, 'pago_190': 290, 'pago_191': 291, 'pago_192': 292, 'pago_193': 293, 'pago_194': 294, 'pago_195': 295, 'pago_196': 296, 'pago_197': 297, 'pago_198': 298, 'pago_199': 299, 'pago_200': 300, 'pago_201': 301, 'pago_202': 302, 'pago_203': 303, 'pago_204': 304, 'pago_205': 305, 'pago_206': 306, 'pago_207': 307, 'pago_208': 308, 'pago_209': 309, 'pago_210': 310, 'pago_211': 311, 'pago_212': 312, 'pago_213': 313, 'pago_214': 314, 'pago_215': 315, 'pago_216': 316, 'pago_217': 317, 'pago_218': 318, 'pago_219': 319, 'pago_220': 320, 'pago_221': 321, 'pago_222': 322, 'pago_223': 323, 'pago_224': 324, 'pago_225': 325, 'pago_226': 326, 'pago_227': 327, 'pago_228': 328, 'pago_229': 329, 'pago_230': 330, 'pago_231': 331, 'pago_232': 332, 'pago_233': 333, 'pago_234': 334, 'pago_235': 335, 'pago_236': 336, 'pago_237': 337, 'pago_238': 338, 'pago_239': 339, 'pago_240': 340, 'pago_241': 341, 'pago_242': 342, 'pago_243': 343, 'pago_244': 344, 'pago_245': 345, 'pago_246': 346, 'pago_247': 347, 'pago_248': 348, 'pago_249': 349, 'pago_250': 350, 'pago_251': 351, 'pago_252': 352, 'pago_253': 353, 'pago_254': 354, 'pago_255': 355, 'pago_256': 356, 'pago_257': 357, 'pago_258': 358, 'pago_259': 359, 'pago_260': 360, 'pago_261': 361, 'pago_262': 362, 'pago_263': 363, 'pago_264': 364, 'pago_265': 365, 'pago_266': 366, 'pago_267': 367, 'pago_268': 368, 'pago_269': 369, 'pago_270': 370, 'pago_271': 371, 'pago_272': 372, 'pago_273': 373, 'pago_274': 374, 'pago_275': 375, 'pago_276': 376, 'pago_277': 377, 'pago_278': 378, 'pago_279': 379, 'pago_280': 380, 'pago_281': 381, 'pago_282': 382, 'pago_283': 383, 'pago_284': 384, 'pago_285': 385, 'pago_286': 386, 'pago_287': 387, 'pago_288': 388, 'pago_289': 389, 'pago_290': 390, 'pago_291': 391, 'pago_292': 392, 'pago_293': 393, 'pago_294': 394, 'pago_295': 395, 'pago_296': 396, 'pago_297': 397, 'pago_298': 398, 'pago_299': 399, 'pago_300': 400, 'pago_301': 401, 'pago_302': 402, 'pago_303': 403, 'pago_304': 404, 'pago_305': 405, 'pago_306': 406, 'pago_307': 407, 'pago_308': 408, 'pago_309': 409, 'pago_310': 410, 'pago_311': 411, 'pago_312': 412, 'pago_313': 413, 'pago_314': 414, 'pago_315': 415, 'pago_316': 416, 'pago_317': 417, 'pago_318': 418, 'pago_319': 419, 'pago_320': 420, 'pago_321': 421, 'pago_322': 422, 'pago_323': 423, 'pago_324': 424, 'pago_325': 425, 'pago_326': 426, 'pago_327': 427, 'pago_328': 428, 'pago_329': 429, 'pago_330': 430, 'pago_331': 431, 'pago_332': 432, 'pago_333': 433, 'pago_334': 434, 'pago_335': 435, 'pago_336': 436, 'pago_337': 437, 'pago_338': 438, 'pago_339': 439, 'pago_340': 440, 'pago_341': 441, 'pago_342': 442, 'pago_343': 443, 'pago_344': 444, 'pago_345': 445, 'pago_346': 446, 'pago_347': 447, 'pago_348': 448, 'pago_349': 449, 'pago_350': 450, 'pago_351': 451, 'pago_352': 452, 'pago_353': 453, 'pago_354': 454, 'pago_355': 455, 'pago_356': 456, 'pago_357': 457, 'pago_358': 458, 'pago_359': 459, 'pago_360': 460, 'pago_361': 461, 'pago_362': 462, 'pago_363': 463, 'pago_364': 464, 'pago_365': 465, 'pago_366': 466, 'pago_367': 467, 'pago_368': 468, 'pago_369': 469, 'pago_370': 470, 'pago_371': 471, 'pago_372': 472, 'pago_373': 473, 'pago_374': 474, 'pago_375': 475, 'pago_376': 476, 'pago_377': 477, 'pago_378': 478, 'pago_379': 479, 'pago_380': 480, 'pago_381': 481, 'pago_382': 482, 'pago_383': 483, 'pago_384': 484, 'pago_385': 485, 'pago_386': 486, 'pago_387': 487, 'pago_388': 488, 'pago_389': 489, 'pago_390': 490, 'pago_391': 491, 'pago_392': 492, 'pago_393': 493, 'pago_394': 494, 'pago_395': 495, 'pago_396': 496, 'pago_397': 497, 'pago_398': 498, 'pago_399': 499}\n"
          ]
        }
      ],
      "source": [
        "dicccionario = dict()\n",
        "for i in range(len(lista)):\n",
        "    dicccionario[f\"pago_{i}\"] = lista[i]\n",
        "print(dicccionario)"
      ]
    },
    {
      "cell_type": "code",
      "execution_count": 6,
      "metadata": {},
      "outputs": [
        {
          "data": {
            "text/plain": [
              "{'pago_1': 100,\n",
              " 'pago_2': 101,\n",
              " 'pago_3': 102,\n",
              " 'pago_4': 103,\n",
              " 'pago_5': 104,\n",
              " 'pago_6': 105,\n",
              " 'pago_7': 106,\n",
              " 'pago_8': 107,\n",
              " 'pago_9': 108,\n",
              " 'pago_10': 109,\n",
              " 'pago_11': 110,\n",
              " 'pago_12': 111,\n",
              " 'pago_13': 112,\n",
              " 'pago_14': 113,\n",
              " 'pago_15': 114,\n",
              " 'pago_16': 115,\n",
              " 'pago_17': 116,\n",
              " 'pago_18': 117,\n",
              " 'pago_19': 118,\n",
              " 'pago_20': 119,\n",
              " 'pago_21': 120,\n",
              " 'pago_22': 121,\n",
              " 'pago_23': 122,\n",
              " 'pago_24': 123,\n",
              " 'pago_25': 124,\n",
              " 'pago_26': 125,\n",
              " 'pago_27': 126,\n",
              " 'pago_28': 127,\n",
              " 'pago_29': 128,\n",
              " 'pago_30': 129,\n",
              " 'pago_31': 130,\n",
              " 'pago_32': 131,\n",
              " 'pago_33': 132,\n",
              " 'pago_34': 133,\n",
              " 'pago_35': 134,\n",
              " 'pago_36': 135,\n",
              " 'pago_37': 136,\n",
              " 'pago_38': 137,\n",
              " 'pago_39': 138,\n",
              " 'pago_40': 139,\n",
              " 'pago_41': 140,\n",
              " 'pago_42': 141,\n",
              " 'pago_43': 142,\n",
              " 'pago_44': 143,\n",
              " 'pago_45': 144,\n",
              " 'pago_46': 145,\n",
              " 'pago_47': 146,\n",
              " 'pago_48': 147,\n",
              " 'pago_49': 148,\n",
              " 'pago_50': 149,\n",
              " 'pago_51': 150,\n",
              " 'pago_52': 151,\n",
              " 'pago_53': 152,\n",
              " 'pago_54': 153,\n",
              " 'pago_55': 154,\n",
              " 'pago_56': 155,\n",
              " 'pago_57': 156,\n",
              " 'pago_58': 157,\n",
              " 'pago_59': 158,\n",
              " 'pago_60': 159,\n",
              " 'pago_61': 160,\n",
              " 'pago_62': 161,\n",
              " 'pago_63': 162,\n",
              " 'pago_64': 163,\n",
              " 'pago_65': 164,\n",
              " 'pago_66': 165,\n",
              " 'pago_67': 166,\n",
              " 'pago_68': 167,\n",
              " 'pago_69': 168,\n",
              " 'pago_70': 169,\n",
              " 'pago_71': 170,\n",
              " 'pago_72': 171,\n",
              " 'pago_73': 172,\n",
              " 'pago_74': 173,\n",
              " 'pago_75': 174,\n",
              " 'pago_76': 175,\n",
              " 'pago_77': 176,\n",
              " 'pago_78': 177,\n",
              " 'pago_79': 178,\n",
              " 'pago_80': 179,\n",
              " 'pago_81': 180,\n",
              " 'pago_82': 181,\n",
              " 'pago_83': 182,\n",
              " 'pago_84': 183,\n",
              " 'pago_85': 184,\n",
              " 'pago_86': 185,\n",
              " 'pago_87': 186,\n",
              " 'pago_88': 187,\n",
              " 'pago_89': 188,\n",
              " 'pago_90': 189,\n",
              " 'pago_91': 190,\n",
              " 'pago_92': 191,\n",
              " 'pago_93': 192,\n",
              " 'pago_94': 193,\n",
              " 'pago_95': 194,\n",
              " 'pago_96': 195,\n",
              " 'pago_97': 196,\n",
              " 'pago_98': 197,\n",
              " 'pago_99': 198,\n",
              " 'pago_100': 199,\n",
              " 'pago_101': 200,\n",
              " 'pago_102': 201,\n",
              " 'pago_103': 202,\n",
              " 'pago_104': 203,\n",
              " 'pago_105': 204,\n",
              " 'pago_106': 205,\n",
              " 'pago_107': 206,\n",
              " 'pago_108': 207,\n",
              " 'pago_109': 208,\n",
              " 'pago_110': 209,\n",
              " 'pago_111': 210,\n",
              " 'pago_112': 211,\n",
              " 'pago_113': 212,\n",
              " 'pago_114': 213,\n",
              " 'pago_115': 214,\n",
              " 'pago_116': 215,\n",
              " 'pago_117': 216,\n",
              " 'pago_118': 217,\n",
              " 'pago_119': 218,\n",
              " 'pago_120': 219,\n",
              " 'pago_121': 220,\n",
              " 'pago_122': 221,\n",
              " 'pago_123': 222,\n",
              " 'pago_124': 223,\n",
              " 'pago_125': 224,\n",
              " 'pago_126': 225,\n",
              " 'pago_127': 226,\n",
              " 'pago_128': 227,\n",
              " 'pago_129': 228,\n",
              " 'pago_130': 229,\n",
              " 'pago_131': 230,\n",
              " 'pago_132': 231,\n",
              " 'pago_133': 232,\n",
              " 'pago_134': 233,\n",
              " 'pago_135': 234,\n",
              " 'pago_136': 235,\n",
              " 'pago_137': 236,\n",
              " 'pago_138': 237,\n",
              " 'pago_139': 238,\n",
              " 'pago_140': 239,\n",
              " 'pago_141': 240,\n",
              " 'pago_142': 241,\n",
              " 'pago_143': 242,\n",
              " 'pago_144': 243,\n",
              " 'pago_145': 244,\n",
              " 'pago_146': 245,\n",
              " 'pago_147': 246,\n",
              " 'pago_148': 247,\n",
              " 'pago_149': 248,\n",
              " 'pago_150': 249,\n",
              " 'pago_151': 250,\n",
              " 'pago_152': 251,\n",
              " 'pago_153': 252,\n",
              " 'pago_154': 253,\n",
              " 'pago_155': 254,\n",
              " 'pago_156': 255,\n",
              " 'pago_157': 256,\n",
              " 'pago_158': 257,\n",
              " 'pago_159': 258,\n",
              " 'pago_160': 259,\n",
              " 'pago_161': 260,\n",
              " 'pago_162': 261,\n",
              " 'pago_163': 262,\n",
              " 'pago_164': 263,\n",
              " 'pago_165': 264,\n",
              " 'pago_166': 265,\n",
              " 'pago_167': 266,\n",
              " 'pago_168': 267,\n",
              " 'pago_169': 268,\n",
              " 'pago_170': 269,\n",
              " 'pago_171': 270,\n",
              " 'pago_172': 271,\n",
              " 'pago_173': 272,\n",
              " 'pago_174': 273,\n",
              " 'pago_175': 274,\n",
              " 'pago_176': 275,\n",
              " 'pago_177': 276,\n",
              " 'pago_178': 277,\n",
              " 'pago_179': 278,\n",
              " 'pago_180': 279,\n",
              " 'pago_181': 280,\n",
              " 'pago_182': 281,\n",
              " 'pago_183': 282,\n",
              " 'pago_184': 283,\n",
              " 'pago_185': 284,\n",
              " 'pago_186': 285,\n",
              " 'pago_187': 286,\n",
              " 'pago_188': 287,\n",
              " 'pago_189': 288,\n",
              " 'pago_190': 289,\n",
              " 'pago_191': 290,\n",
              " 'pago_192': 291,\n",
              " 'pago_193': 292,\n",
              " 'pago_194': 293,\n",
              " 'pago_195': 294,\n",
              " 'pago_196': 295,\n",
              " 'pago_197': 296,\n",
              " 'pago_198': 297,\n",
              " 'pago_199': 298,\n",
              " 'pago_200': 299,\n",
              " 'pago_201': 300,\n",
              " 'pago_202': 301,\n",
              " 'pago_203': 302,\n",
              " 'pago_204': 303,\n",
              " 'pago_205': 304,\n",
              " 'pago_206': 305,\n",
              " 'pago_207': 306,\n",
              " 'pago_208': 307,\n",
              " 'pago_209': 308,\n",
              " 'pago_210': 309,\n",
              " 'pago_211': 310,\n",
              " 'pago_212': 311,\n",
              " 'pago_213': 312,\n",
              " 'pago_214': 313,\n",
              " 'pago_215': 314,\n",
              " 'pago_216': 315,\n",
              " 'pago_217': 316,\n",
              " 'pago_218': 317,\n",
              " 'pago_219': 318,\n",
              " 'pago_220': 319,\n",
              " 'pago_221': 320,\n",
              " 'pago_222': 321,\n",
              " 'pago_223': 322,\n",
              " 'pago_224': 323,\n",
              " 'pago_225': 324,\n",
              " 'pago_226': 325,\n",
              " 'pago_227': 326,\n",
              " 'pago_228': 327,\n",
              " 'pago_229': 328,\n",
              " 'pago_230': 329,\n",
              " 'pago_231': 330,\n",
              " 'pago_232': 331,\n",
              " 'pago_233': 332,\n",
              " 'pago_234': 333,\n",
              " 'pago_235': 334,\n",
              " 'pago_236': 335,\n",
              " 'pago_237': 336,\n",
              " 'pago_238': 337,\n",
              " 'pago_239': 338,\n",
              " 'pago_240': 339,\n",
              " 'pago_241': 340,\n",
              " 'pago_242': 341,\n",
              " 'pago_243': 342,\n",
              " 'pago_244': 343,\n",
              " 'pago_245': 344,\n",
              " 'pago_246': 345,\n",
              " 'pago_247': 346,\n",
              " 'pago_248': 347,\n",
              " 'pago_249': 348,\n",
              " 'pago_250': 349,\n",
              " 'pago_251': 350,\n",
              " 'pago_252': 351,\n",
              " 'pago_253': 352,\n",
              " 'pago_254': 353,\n",
              " 'pago_255': 354,\n",
              " 'pago_256': 355,\n",
              " 'pago_257': 356,\n",
              " 'pago_258': 357,\n",
              " 'pago_259': 358,\n",
              " 'pago_260': 359,\n",
              " 'pago_261': 360,\n",
              " 'pago_262': 361,\n",
              " 'pago_263': 362,\n",
              " 'pago_264': 363,\n",
              " 'pago_265': 364,\n",
              " 'pago_266': 365,\n",
              " 'pago_267': 366,\n",
              " 'pago_268': 367,\n",
              " 'pago_269': 368,\n",
              " 'pago_270': 369,\n",
              " 'pago_271': 370,\n",
              " 'pago_272': 371,\n",
              " 'pago_273': 372,\n",
              " 'pago_274': 373,\n",
              " 'pago_275': 374,\n",
              " 'pago_276': 375,\n",
              " 'pago_277': 376,\n",
              " 'pago_278': 377,\n",
              " 'pago_279': 378,\n",
              " 'pago_280': 379,\n",
              " 'pago_281': 380,\n",
              " 'pago_282': 381,\n",
              " 'pago_283': 382,\n",
              " 'pago_284': 383,\n",
              " 'pago_285': 384,\n",
              " 'pago_286': 385,\n",
              " 'pago_287': 386,\n",
              " 'pago_288': 387,\n",
              " 'pago_289': 388,\n",
              " 'pago_290': 389,\n",
              " 'pago_291': 390,\n",
              " 'pago_292': 391,\n",
              " 'pago_293': 392,\n",
              " 'pago_294': 393,\n",
              " 'pago_295': 394,\n",
              " 'pago_296': 395,\n",
              " 'pago_297': 396,\n",
              " 'pago_298': 397,\n",
              " 'pago_299': 398,\n",
              " 'pago_300': 399,\n",
              " 'pago_301': 400,\n",
              " 'pago_302': 401,\n",
              " 'pago_303': 402,\n",
              " 'pago_304': 403,\n",
              " 'pago_305': 404,\n",
              " 'pago_306': 405,\n",
              " 'pago_307': 406,\n",
              " 'pago_308': 407,\n",
              " 'pago_309': 408,\n",
              " 'pago_310': 409,\n",
              " 'pago_311': 410,\n",
              " 'pago_312': 411,\n",
              " 'pago_313': 412,\n",
              " 'pago_314': 413,\n",
              " 'pago_315': 414,\n",
              " 'pago_316': 415,\n",
              " 'pago_317': 416,\n",
              " 'pago_318': 417,\n",
              " 'pago_319': 418,\n",
              " 'pago_320': 419,\n",
              " 'pago_321': 420,\n",
              " 'pago_322': 421,\n",
              " 'pago_323': 422,\n",
              " 'pago_324': 423,\n",
              " 'pago_325': 424,\n",
              " 'pago_326': 425,\n",
              " 'pago_327': 426,\n",
              " 'pago_328': 427,\n",
              " 'pago_329': 428,\n",
              " 'pago_330': 429,\n",
              " 'pago_331': 430,\n",
              " 'pago_332': 431,\n",
              " 'pago_333': 432,\n",
              " 'pago_334': 433,\n",
              " 'pago_335': 434,\n",
              " 'pago_336': 435,\n",
              " 'pago_337': 436,\n",
              " 'pago_338': 437,\n",
              " 'pago_339': 438,\n",
              " 'pago_340': 439,\n",
              " 'pago_341': 440,\n",
              " 'pago_342': 441,\n",
              " 'pago_343': 442,\n",
              " 'pago_344': 443,\n",
              " 'pago_345': 444,\n",
              " 'pago_346': 445,\n",
              " 'pago_347': 446,\n",
              " 'pago_348': 447,\n",
              " 'pago_349': 448,\n",
              " 'pago_350': 449,\n",
              " 'pago_351': 450,\n",
              " 'pago_352': 451,\n",
              " 'pago_353': 452,\n",
              " 'pago_354': 453,\n",
              " 'pago_355': 454,\n",
              " 'pago_356': 455,\n",
              " 'pago_357': 456,\n",
              " 'pago_358': 457,\n",
              " 'pago_359': 458,\n",
              " 'pago_360': 459,\n",
              " 'pago_361': 460,\n",
              " 'pago_362': 461,\n",
              " 'pago_363': 462,\n",
              " 'pago_364': 463,\n",
              " 'pago_365': 464,\n",
              " 'pago_366': 465,\n",
              " 'pago_367': 466,\n",
              " 'pago_368': 467,\n",
              " 'pago_369': 468,\n",
              " 'pago_370': 469,\n",
              " 'pago_371': 470,\n",
              " 'pago_372': 471,\n",
              " 'pago_373': 472,\n",
              " 'pago_374': 473,\n",
              " 'pago_375': 474,\n",
              " 'pago_376': 475,\n",
              " 'pago_377': 476,\n",
              " 'pago_378': 477,\n",
              " 'pago_379': 478,\n",
              " 'pago_380': 479,\n",
              " 'pago_381': 480,\n",
              " 'pago_382': 481,\n",
              " 'pago_383': 482,\n",
              " 'pago_384': 483,\n",
              " 'pago_385': 484,\n",
              " 'pago_386': 485,\n",
              " 'pago_387': 486,\n",
              " 'pago_388': 487,\n",
              " 'pago_389': 488,\n",
              " 'pago_390': 489,\n",
              " 'pago_391': 490,\n",
              " 'pago_392': 491,\n",
              " 'pago_393': 492,\n",
              " 'pago_394': 493,\n",
              " 'pago_395': 494,\n",
              " 'pago_396': 495,\n",
              " 'pago_397': 496,\n",
              " 'pago_398': 497,\n",
              " 'pago_399': 498,\n",
              " 'pago_400': 499}"
            ]
          },
          "execution_count": 6,
          "metadata": {},
          "output_type": "execute_result"
        }
      ],
      "source": [
        "diccionario = {f'pago_{idx + 1}': valor for idx, valor in enumerate(lista)}\n",
        "diccionario"
      ]
    },
    {
      "cell_type": "code",
      "execution_count": 7,
      "metadata": {},
      "outputs": [
        {
          "ename": "NameError",
          "evalue": "name 'e1' is not defined",
          "output_type": "error",
          "traceback": [
            "\u001b[1;31m---------------------------------------------------------------------------\u001b[0m",
            "\u001b[1;31mNameError\u001b[0m                                 Traceback (most recent call last)",
            "Cell \u001b[1;32mIn[7], line 1\u001b[0m\n\u001b[1;32m----> 1\u001b[0m e3 \u001b[38;5;241m=\u001b[39m [value\u001b[38;5;241m/\u001b[39m(\u001b[38;5;241m2\u001b[39m\u001b[38;5;241m*\u001b[39m\u001b[38;5;241m*\u001b[39m(index\u001b[38;5;241m+\u001b[39m\u001b[38;5;241m1\u001b[39m)) \u001b[38;5;28;01mfor\u001b[39;00m index, value \u001b[38;5;129;01min\u001b[39;00m \u001b[38;5;28menumerate\u001b[39m(e1)]\n",
            "\u001b[1;31mNameError\u001b[0m: name 'e1' is not defined"
          ]
        }
      ],
      "source": [
        "e3 = [value/(2**(index+1)) for index, value in enumerate(e1)]"
      ]
    }
  ],
  "metadata": {
    "colab": {
      "include_colab_link": true,
      "name": "02_intro_python2.ipynb",
      "provenance": []
    },
    "kernelspec": {
      "display_name": "Python 3",
      "language": "python",
      "name": "python3"
    },
    "language_info": {
      "codemirror_mode": {
        "name": "ipython",
        "version": 3
      },
      "file_extension": ".py",
      "mimetype": "text/x-python",
      "name": "python",
      "nbconvert_exporter": "python",
      "pygments_lexer": "ipython3",
      "version": "3.11.9"
    }
  },
  "nbformat": 4,
  "nbformat_minor": 0
}
