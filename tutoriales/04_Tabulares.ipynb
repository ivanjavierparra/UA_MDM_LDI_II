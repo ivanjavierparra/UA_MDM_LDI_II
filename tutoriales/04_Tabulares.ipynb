{
 "cells": [
  {
   "cell_type": "code",
   "execution_count": 1,
   "metadata": {},
   "outputs": [
    {
     "name": "stderr",
     "output_type": "stream",
     "text": [
      "c:\\Users\\Usuario\\.conda\\envs\\ldi2\\Lib\\site-packages\\tqdm\\auto.py:21: TqdmWarning: IProgress not found. Please update jupyter and ipywidgets. See https://ipywidgets.readthedocs.io/en/stable/user_install.html\n",
      "  from .autonotebook import tqdm as notebook_tqdm\n"
     ]
    }
   ],
   "source": [
    "import numpy as np \n",
    "import pandas as pd \n",
    "import lightgbm as lgb\n",
    "\n",
    "from sklearn.model_selection import train_test_split, StratifiedKFold\n",
    "from sklearn.metrics import cohen_kappa_score, accuracy_score,balanced_accuracy_score\n",
    "from sklearn.utils import shuffle\n",
    "\n",
    "from plotly import express as px\n",
    "\n",
    "#from UA_MDM_LDI_II.tutoriales.utils import plot_confusion_matrix\n",
    "from utils import plot_confusion_matrix\n",
    "\n",
    "import os\n",
    "\n",
    "import optuna\n",
    "from optuna.artifacts import FileSystemArtifactStore, upload_artifact\n",
    "\n",
    "from joblib import load, dump\n"
   ]
  },
  {
   "cell_type": "code",
   "execution_count": 2,
   "metadata": {},
   "outputs": [],
   "source": [
    "# Paths\n",
    "BASE_DIR = '../../'\n",
    "PATH_TO_TRAIN = os.path.join(BASE_DIR, \"input/petfinder-adoption-prediction/train/train.csv\")\n",
    "PATH_TO_MODELS = os.path.join(BASE_DIR, \"UA_MDM_LDI_II/work/models\")\n",
    "PATH_TO_TEMP_FILES = os.path.join(BASE_DIR, \"UA_MDM_LDI_II/work/optuna_temp_artifacts\")\n",
    "PATH_TO_OPTUNA_ARTIFACTS = os.path.join(BASE_DIR, \"UA_MDM_LDI_II/work/optuna_artifacts\")\n",
    "\n",
    "\n",
    "SEED = 42\n",
    "BATCH_SIZE = 50\n",
    "TEST_SIZE = 0.2"
   ]
  },
  {
   "cell_type": "code",
   "execution_count": 3,
   "metadata": {},
   "outputs": [],
   "source": [
    "# Datos Tabulares\n",
    "dataset = pd.read_csv(PATH_TO_TRAIN)"
   ]
  },
  {
   "cell_type": "code",
   "execution_count": 4,
   "metadata": {},
   "outputs": [
    {
     "data": {
      "text/plain": [
       "Index(['Type', 'Name', 'Age', 'Breed1', 'Breed2', 'Gender', 'Color1', 'Color2',\n",
       "       'Color3', 'MaturitySize', 'FurLength', 'Vaccinated', 'Dewormed',\n",
       "       'Sterilized', 'Health', 'Quantity', 'Fee', 'State', 'RescuerID',\n",
       "       'VideoAmt', 'Description', 'PetID', 'PhotoAmt', 'AdoptionSpeed'],\n",
       "      dtype='object')"
      ]
     },
     "execution_count": 4,
     "metadata": {},
     "output_type": "execute_result"
    }
   ],
   "source": [
    "dataset.columns"
   ]
  },
  {
   "cell_type": "code",
   "execution_count": 5,
   "metadata": {},
   "outputs": [],
   "source": [
    "train, test = train_test_split(dataset,\n",
    "                               test_size = TEST_SIZE,\n",
    "                               random_state = SEED,\n",
    "                               stratify = dataset.AdoptionSpeed)"
   ]
  },
  {
   "cell_type": "code",
   "execution_count": 6,
   "metadata": {},
   "outputs": [],
   "source": [
    "char_feats = [f for f in dataset.columns if dataset[f].dtype=='O']\n",
    "numeric_feats = [f for f in dataset.columns if dataset[f].dtype!='O']"
   ]
  },
  {
   "cell_type": "code",
   "execution_count": 7,
   "metadata": {},
   "outputs": [],
   "source": [
    "features = ['Type',\n",
    " 'Age',\n",
    " 'Breed1',\n",
    " 'Breed2',\n",
    " 'Gender',\n",
    " 'Color1',\n",
    " 'Color2',\n",
    " 'Color3',\n",
    " 'MaturitySize',\n",
    " 'FurLength',\n",
    " 'Vaccinated',\n",
    " 'Dewormed',\n",
    " 'Sterilized',\n",
    " 'Health',\n",
    " 'Quantity',\n",
    " 'Fee',\n",
    " 'State',\n",
    " 'VideoAmt',\n",
    " 'PhotoAmt']\n",
    "\n",
    "label = 'AdoptionSpeed'"
   ]
  },
  {
   "cell_type": "code",
   "execution_count": 8,
   "metadata": {},
   "outputs": [],
   "source": [
    "X_train = train[features]\n",
    "y_train = train[label]\n",
    "\n",
    "X_test = test[features]\n",
    "y_test = test[label]"
   ]
  },
  {
   "cell_type": "code",
   "execution_count": 9,
   "metadata": {},
   "outputs": [
    {
     "data": {
      "text/plain": [
       "array([2, 3, 4, 1, 0], dtype=int64)"
      ]
     },
     "execution_count": 9,
     "metadata": {},
     "output_type": "execute_result"
    }
   ],
   "source": [
    "y_train.unique()"
   ]
  },
  {
   "cell_type": "code",
   "execution_count": 10,
   "metadata": {},
   "outputs": [
    {
     "name": "stdout",
     "output_type": "stream",
     "text": [
      "[LightGBM] [Info] Auto-choosing row-wise multi-threading, the overhead of testing was 0.001838 seconds.\n",
      "You can set `force_row_wise=true` to remove the overhead.\n",
      "And if memory is not enough, you can set `force_col_wise=true`.\n",
      "[LightGBM] [Info] Total Bins 438\n",
      "[LightGBM] [Info] Number of data points in the train set: 11994, number of used features: 19\n",
      "[LightGBM] [Info] Start training from score -3.599148\n",
      "[LightGBM] [Info] Start training from score -1.579379\n",
      "[LightGBM] [Info] Start training from score -1.311924\n",
      "[LightGBM] [Info] Start training from score -1.526206\n",
      "[LightGBM] [Info] Start training from score -1.273359\n"
     ]
    }
   ],
   "source": [
    "lgb_params = params = {\n",
    "                        'objective': 'multiclass',\n",
    "                        'num_class': len(y_train.unique())\n",
    "                        }\n",
    "\n",
    "\n",
    "lgb_train_dataset = lgb.Dataset(data=X_train,\n",
    "                                label=y_train)\n",
    "\n",
    "\n",
    "lgb_model = lgb.train(lgb_params,\n",
    "                      lgb_train_dataset)"
   ]
  },
  {
   "cell_type": "code",
   "execution_count": 11,
   "metadata": {},
   "outputs": [
    {
     "data": {
      "text/plain": [
       "0.31327315052086113"
      ]
     },
     "execution_count": 11,
     "metadata": {},
     "output_type": "execute_result"
    }
   ],
   "source": [
    "y_pred = lgb_model.predict(X_test).argmax(axis=1)\n",
    "\n",
    "cohen_kappa_score(y_test,y_pred, weights = 'quadratic')"
   ]
  },
  {
   "cell_type": "code",
   "execution_count": 12,
   "metadata": {},
   "outputs": [
    {
     "data": {
      "application/vnd.plotly.v1+json": {
       "config": {
        "plotlyServerURL": "https://plot.ly"
       },
       "data": [
        {
         "type": "heatmap",
         "x": [
          0,
          1,
          2,
          3,
          4
         ],
         "y": [
          0,
          1,
          2,
          3,
          4
         ],
         "z": [
          [
           6.097560975609756,
           39.02439024390244,
           26.82926829268293,
           10.975609756097562,
           17.073170731707318
          ],
          [
           0.3236245954692557,
           35.11326860841424,
           36.084142394822,
           7.605177993527508,
           20.87378640776699
          ],
          [
           0,
           24.411400247831473,
           36.926889714993806,
           11.400247831474598,
           27.261462205700127
          ],
          [
           0,
           17.94478527607362,
           34.20245398773007,
           18.55828220858896,
           29.29447852760736
          ],
          [
           0.4761904761904762,
           11.666666666666666,
           21.071428571428573,
           7.261904761904763,
           59.523809523809526
          ]
         ]
        }
       ],
       "layout": {
        "annotations": [
         {
          "font": {
           "color": "white"
          },
          "showarrow": false,
          "text": "6.1 - 5",
          "x": 0,
          "xref": "x",
          "y": 0,
          "yref": "y"
         },
         {
          "font": {
           "color": "white"
          },
          "showarrow": false,
          "text": "39.0 - 32",
          "x": 1,
          "xref": "x",
          "y": 0,
          "yref": "y"
         },
         {
          "font": {
           "color": "white"
          },
          "showarrow": false,
          "text": "26.8 - 22",
          "x": 2,
          "xref": "x",
          "y": 0,
          "yref": "y"
         },
         {
          "font": {
           "color": "white"
          },
          "showarrow": false,
          "text": "11.0 - 9",
          "x": 3,
          "xref": "x",
          "y": 0,
          "yref": "y"
         },
         {
          "font": {
           "color": "white"
          },
          "showarrow": false,
          "text": "17.1 - 14",
          "x": 4,
          "xref": "x",
          "y": 0,
          "yref": "y"
         },
         {
          "font": {
           "color": "white"
          },
          "showarrow": false,
          "text": "0.3 - 2",
          "x": 0,
          "xref": "x",
          "y": 1,
          "yref": "y"
         },
         {
          "font": {
           "color": "white"
          },
          "showarrow": false,
          "text": "35.1 - 217",
          "x": 1,
          "xref": "x",
          "y": 1,
          "yref": "y"
         },
         {
          "font": {
           "color": "white"
          },
          "showarrow": false,
          "text": "36.1 - 223",
          "x": 2,
          "xref": "x",
          "y": 1,
          "yref": "y"
         },
         {
          "font": {
           "color": "white"
          },
          "showarrow": false,
          "text": "7.6 - 47",
          "x": 3,
          "xref": "x",
          "y": 1,
          "yref": "y"
         },
         {
          "font": {
           "color": "white"
          },
          "showarrow": false,
          "text": "20.9 - 129",
          "x": 4,
          "xref": "x",
          "y": 1,
          "yref": "y"
         },
         {
          "font": {
           "color": "white"
          },
          "showarrow": false,
          "text": "0.0 - 0",
          "x": 0,
          "xref": "x",
          "y": 2,
          "yref": "y"
         },
         {
          "font": {
           "color": "white"
          },
          "showarrow": false,
          "text": "24.4 - 197",
          "x": 1,
          "xref": "x",
          "y": 2,
          "yref": "y"
         },
         {
          "font": {
           "color": "white"
          },
          "showarrow": false,
          "text": "36.9 - 298",
          "x": 2,
          "xref": "x",
          "y": 2,
          "yref": "y"
         },
         {
          "font": {
           "color": "white"
          },
          "showarrow": false,
          "text": "11.4 - 92",
          "x": 3,
          "xref": "x",
          "y": 2,
          "yref": "y"
         },
         {
          "font": {
           "color": "white"
          },
          "showarrow": false,
          "text": "27.3 - 220",
          "x": 4,
          "xref": "x",
          "y": 2,
          "yref": "y"
         },
         {
          "font": {
           "color": "white"
          },
          "showarrow": false,
          "text": "0.0 - 0",
          "x": 0,
          "xref": "x",
          "y": 3,
          "yref": "y"
         },
         {
          "font": {
           "color": "white"
          },
          "showarrow": false,
          "text": "17.9 - 117",
          "x": 1,
          "xref": "x",
          "y": 3,
          "yref": "y"
         },
         {
          "font": {
           "color": "white"
          },
          "showarrow": false,
          "text": "34.2 - 223",
          "x": 2,
          "xref": "x",
          "y": 3,
          "yref": "y"
         },
         {
          "font": {
           "color": "white"
          },
          "showarrow": false,
          "text": "18.6 - 121",
          "x": 3,
          "xref": "x",
          "y": 3,
          "yref": "y"
         },
         {
          "font": {
           "color": "white"
          },
          "showarrow": false,
          "text": "29.3 - 191",
          "x": 4,
          "xref": "x",
          "y": 3,
          "yref": "y"
         },
         {
          "font": {
           "color": "white"
          },
          "showarrow": false,
          "text": "0.5 - 4",
          "x": 0,
          "xref": "x",
          "y": 4,
          "yref": "y"
         },
         {
          "font": {
           "color": "white"
          },
          "showarrow": false,
          "text": "11.7 - 98",
          "x": 1,
          "xref": "x",
          "y": 4,
          "yref": "y"
         },
         {
          "font": {
           "color": "white"
          },
          "showarrow": false,
          "text": "21.1 - 177",
          "x": 2,
          "xref": "x",
          "y": 4,
          "yref": "y"
         },
         {
          "font": {
           "color": "white"
          },
          "showarrow": false,
          "text": "7.3 - 61",
          "x": 3,
          "xref": "x",
          "y": 4,
          "yref": "y"
         },
         {
          "font": {
           "color": "white"
          },
          "showarrow": false,
          "text": "59.5 - 500",
          "x": 4,
          "xref": "x",
          "y": 4,
          "yref": "y"
         }
        ],
        "height": 800,
        "template": {
         "data": {
          "bar": [
           {
            "error_x": {
             "color": "#2a3f5f"
            },
            "error_y": {
             "color": "#2a3f5f"
            },
            "marker": {
             "line": {
              "color": "#E5ECF6",
              "width": 0.5
             },
             "pattern": {
              "fillmode": "overlay",
              "size": 10,
              "solidity": 0.2
             }
            },
            "type": "bar"
           }
          ],
          "barpolar": [
           {
            "marker": {
             "line": {
              "color": "#E5ECF6",
              "width": 0.5
             },
             "pattern": {
              "fillmode": "overlay",
              "size": 10,
              "solidity": 0.2
             }
            },
            "type": "barpolar"
           }
          ],
          "carpet": [
           {
            "aaxis": {
             "endlinecolor": "#2a3f5f",
             "gridcolor": "white",
             "linecolor": "white",
             "minorgridcolor": "white",
             "startlinecolor": "#2a3f5f"
            },
            "baxis": {
             "endlinecolor": "#2a3f5f",
             "gridcolor": "white",
             "linecolor": "white",
             "minorgridcolor": "white",
             "startlinecolor": "#2a3f5f"
            },
            "type": "carpet"
           }
          ],
          "choropleth": [
           {
            "colorbar": {
             "outlinewidth": 0,
             "ticks": ""
            },
            "type": "choropleth"
           }
          ],
          "contour": [
           {
            "colorbar": {
             "outlinewidth": 0,
             "ticks": ""
            },
            "colorscale": [
             [
              0,
              "#0d0887"
             ],
             [
              0.1111111111111111,
              "#46039f"
             ],
             [
              0.2222222222222222,
              "#7201a8"
             ],
             [
              0.3333333333333333,
              "#9c179e"
             ],
             [
              0.4444444444444444,
              "#bd3786"
             ],
             [
              0.5555555555555556,
              "#d8576b"
             ],
             [
              0.6666666666666666,
              "#ed7953"
             ],
             [
              0.7777777777777778,
              "#fb9f3a"
             ],
             [
              0.8888888888888888,
              "#fdca26"
             ],
             [
              1,
              "#f0f921"
             ]
            ],
            "type": "contour"
           }
          ],
          "contourcarpet": [
           {
            "colorbar": {
             "outlinewidth": 0,
             "ticks": ""
            },
            "type": "contourcarpet"
           }
          ],
          "heatmap": [
           {
            "colorbar": {
             "outlinewidth": 0,
             "ticks": ""
            },
            "colorscale": [
             [
              0,
              "#0d0887"
             ],
             [
              0.1111111111111111,
              "#46039f"
             ],
             [
              0.2222222222222222,
              "#7201a8"
             ],
             [
              0.3333333333333333,
              "#9c179e"
             ],
             [
              0.4444444444444444,
              "#bd3786"
             ],
             [
              0.5555555555555556,
              "#d8576b"
             ],
             [
              0.6666666666666666,
              "#ed7953"
             ],
             [
              0.7777777777777778,
              "#fb9f3a"
             ],
             [
              0.8888888888888888,
              "#fdca26"
             ],
             [
              1,
              "#f0f921"
             ]
            ],
            "type": "heatmap"
           }
          ],
          "heatmapgl": [
           {
            "colorbar": {
             "outlinewidth": 0,
             "ticks": ""
            },
            "colorscale": [
             [
              0,
              "#0d0887"
             ],
             [
              0.1111111111111111,
              "#46039f"
             ],
             [
              0.2222222222222222,
              "#7201a8"
             ],
             [
              0.3333333333333333,
              "#9c179e"
             ],
             [
              0.4444444444444444,
              "#bd3786"
             ],
             [
              0.5555555555555556,
              "#d8576b"
             ],
             [
              0.6666666666666666,
              "#ed7953"
             ],
             [
              0.7777777777777778,
              "#fb9f3a"
             ],
             [
              0.8888888888888888,
              "#fdca26"
             ],
             [
              1,
              "#f0f921"
             ]
            ],
            "type": "heatmapgl"
           }
          ],
          "histogram": [
           {
            "marker": {
             "pattern": {
              "fillmode": "overlay",
              "size": 10,
              "solidity": 0.2
             }
            },
            "type": "histogram"
           }
          ],
          "histogram2d": [
           {
            "colorbar": {
             "outlinewidth": 0,
             "ticks": ""
            },
            "colorscale": [
             [
              0,
              "#0d0887"
             ],
             [
              0.1111111111111111,
              "#46039f"
             ],
             [
              0.2222222222222222,
              "#7201a8"
             ],
             [
              0.3333333333333333,
              "#9c179e"
             ],
             [
              0.4444444444444444,
              "#bd3786"
             ],
             [
              0.5555555555555556,
              "#d8576b"
             ],
             [
              0.6666666666666666,
              "#ed7953"
             ],
             [
              0.7777777777777778,
              "#fb9f3a"
             ],
             [
              0.8888888888888888,
              "#fdca26"
             ],
             [
              1,
              "#f0f921"
             ]
            ],
            "type": "histogram2d"
           }
          ],
          "histogram2dcontour": [
           {
            "colorbar": {
             "outlinewidth": 0,
             "ticks": ""
            },
            "colorscale": [
             [
              0,
              "#0d0887"
             ],
             [
              0.1111111111111111,
              "#46039f"
             ],
             [
              0.2222222222222222,
              "#7201a8"
             ],
             [
              0.3333333333333333,
              "#9c179e"
             ],
             [
              0.4444444444444444,
              "#bd3786"
             ],
             [
              0.5555555555555556,
              "#d8576b"
             ],
             [
              0.6666666666666666,
              "#ed7953"
             ],
             [
              0.7777777777777778,
              "#fb9f3a"
             ],
             [
              0.8888888888888888,
              "#fdca26"
             ],
             [
              1,
              "#f0f921"
             ]
            ],
            "type": "histogram2dcontour"
           }
          ],
          "mesh3d": [
           {
            "colorbar": {
             "outlinewidth": 0,
             "ticks": ""
            },
            "type": "mesh3d"
           }
          ],
          "parcoords": [
           {
            "line": {
             "colorbar": {
              "outlinewidth": 0,
              "ticks": ""
             }
            },
            "type": "parcoords"
           }
          ],
          "pie": [
           {
            "automargin": true,
            "type": "pie"
           }
          ],
          "scatter": [
           {
            "fillpattern": {
             "fillmode": "overlay",
             "size": 10,
             "solidity": 0.2
            },
            "type": "scatter"
           }
          ],
          "scatter3d": [
           {
            "line": {
             "colorbar": {
              "outlinewidth": 0,
              "ticks": ""
             }
            },
            "marker": {
             "colorbar": {
              "outlinewidth": 0,
              "ticks": ""
             }
            },
            "type": "scatter3d"
           }
          ],
          "scattercarpet": [
           {
            "marker": {
             "colorbar": {
              "outlinewidth": 0,
              "ticks": ""
             }
            },
            "type": "scattercarpet"
           }
          ],
          "scattergeo": [
           {
            "marker": {
             "colorbar": {
              "outlinewidth": 0,
              "ticks": ""
             }
            },
            "type": "scattergeo"
           }
          ],
          "scattergl": [
           {
            "marker": {
             "colorbar": {
              "outlinewidth": 0,
              "ticks": ""
             }
            },
            "type": "scattergl"
           }
          ],
          "scattermapbox": [
           {
            "marker": {
             "colorbar": {
              "outlinewidth": 0,
              "ticks": ""
             }
            },
            "type": "scattermapbox"
           }
          ],
          "scatterpolar": [
           {
            "marker": {
             "colorbar": {
              "outlinewidth": 0,
              "ticks": ""
             }
            },
            "type": "scatterpolar"
           }
          ],
          "scatterpolargl": [
           {
            "marker": {
             "colorbar": {
              "outlinewidth": 0,
              "ticks": ""
             }
            },
            "type": "scatterpolargl"
           }
          ],
          "scatterternary": [
           {
            "marker": {
             "colorbar": {
              "outlinewidth": 0,
              "ticks": ""
             }
            },
            "type": "scatterternary"
           }
          ],
          "surface": [
           {
            "colorbar": {
             "outlinewidth": 0,
             "ticks": ""
            },
            "colorscale": [
             [
              0,
              "#0d0887"
             ],
             [
              0.1111111111111111,
              "#46039f"
             ],
             [
              0.2222222222222222,
              "#7201a8"
             ],
             [
              0.3333333333333333,
              "#9c179e"
             ],
             [
              0.4444444444444444,
              "#bd3786"
             ],
             [
              0.5555555555555556,
              "#d8576b"
             ],
             [
              0.6666666666666666,
              "#ed7953"
             ],
             [
              0.7777777777777778,
              "#fb9f3a"
             ],
             [
              0.8888888888888888,
              "#fdca26"
             ],
             [
              1,
              "#f0f921"
             ]
            ],
            "type": "surface"
           }
          ],
          "table": [
           {
            "cells": {
             "fill": {
              "color": "#EBF0F8"
             },
             "line": {
              "color": "white"
             }
            },
            "header": {
             "fill": {
              "color": "#C8D4E3"
             },
             "line": {
              "color": "white"
             }
            },
            "type": "table"
           }
          ]
         },
         "layout": {
          "annotationdefaults": {
           "arrowcolor": "#2a3f5f",
           "arrowhead": 0,
           "arrowwidth": 1
          },
          "autotypenumbers": "strict",
          "coloraxis": {
           "colorbar": {
            "outlinewidth": 0,
            "ticks": ""
           }
          },
          "colorscale": {
           "diverging": [
            [
             0,
             "#8e0152"
            ],
            [
             0.1,
             "#c51b7d"
            ],
            [
             0.2,
             "#de77ae"
            ],
            [
             0.3,
             "#f1b6da"
            ],
            [
             0.4,
             "#fde0ef"
            ],
            [
             0.5,
             "#f7f7f7"
            ],
            [
             0.6,
             "#e6f5d0"
            ],
            [
             0.7,
             "#b8e186"
            ],
            [
             0.8,
             "#7fbc41"
            ],
            [
             0.9,
             "#4d9221"
            ],
            [
             1,
             "#276419"
            ]
           ],
           "sequential": [
            [
             0,
             "#0d0887"
            ],
            [
             0.1111111111111111,
             "#46039f"
            ],
            [
             0.2222222222222222,
             "#7201a8"
            ],
            [
             0.3333333333333333,
             "#9c179e"
            ],
            [
             0.4444444444444444,
             "#bd3786"
            ],
            [
             0.5555555555555556,
             "#d8576b"
            ],
            [
             0.6666666666666666,
             "#ed7953"
            ],
            [
             0.7777777777777778,
             "#fb9f3a"
            ],
            [
             0.8888888888888888,
             "#fdca26"
            ],
            [
             1,
             "#f0f921"
            ]
           ],
           "sequentialminus": [
            [
             0,
             "#0d0887"
            ],
            [
             0.1111111111111111,
             "#46039f"
            ],
            [
             0.2222222222222222,
             "#7201a8"
            ],
            [
             0.3333333333333333,
             "#9c179e"
            ],
            [
             0.4444444444444444,
             "#bd3786"
            ],
            [
             0.5555555555555556,
             "#d8576b"
            ],
            [
             0.6666666666666666,
             "#ed7953"
            ],
            [
             0.7777777777777778,
             "#fb9f3a"
            ],
            [
             0.8888888888888888,
             "#fdca26"
            ],
            [
             1,
             "#f0f921"
            ]
           ]
          },
          "colorway": [
           "#636efa",
           "#EF553B",
           "#00cc96",
           "#ab63fa",
           "#FFA15A",
           "#19d3f3",
           "#FF6692",
           "#B6E880",
           "#FF97FF",
           "#FECB52"
          ],
          "font": {
           "color": "#2a3f5f"
          },
          "geo": {
           "bgcolor": "white",
           "lakecolor": "white",
           "landcolor": "#E5ECF6",
           "showlakes": true,
           "showland": true,
           "subunitcolor": "white"
          },
          "hoverlabel": {
           "align": "left"
          },
          "hovermode": "closest",
          "mapbox": {
           "style": "light"
          },
          "paper_bgcolor": "white",
          "plot_bgcolor": "#E5ECF6",
          "polar": {
           "angularaxis": {
            "gridcolor": "white",
            "linecolor": "white",
            "ticks": ""
           },
           "bgcolor": "#E5ECF6",
           "radialaxis": {
            "gridcolor": "white",
            "linecolor": "white",
            "ticks": ""
           }
          },
          "scene": {
           "xaxis": {
            "backgroundcolor": "#E5ECF6",
            "gridcolor": "white",
            "gridwidth": 2,
            "linecolor": "white",
            "showbackground": true,
            "ticks": "",
            "zerolinecolor": "white"
           },
           "yaxis": {
            "backgroundcolor": "#E5ECF6",
            "gridcolor": "white",
            "gridwidth": 2,
            "linecolor": "white",
            "showbackground": true,
            "ticks": "",
            "zerolinecolor": "white"
           },
           "zaxis": {
            "backgroundcolor": "#E5ECF6",
            "gridcolor": "white",
            "gridwidth": 2,
            "linecolor": "white",
            "showbackground": true,
            "ticks": "",
            "zerolinecolor": "white"
           }
          },
          "shapedefaults": {
           "line": {
            "color": "#2a3f5f"
           }
          },
          "ternary": {
           "aaxis": {
            "gridcolor": "white",
            "linecolor": "white",
            "ticks": ""
           },
           "baxis": {
            "gridcolor": "white",
            "linecolor": "white",
            "ticks": ""
           },
           "bgcolor": "#E5ECF6",
           "caxis": {
            "gridcolor": "white",
            "linecolor": "white",
            "ticks": ""
           }
          },
          "title": {
           "x": 0.05
          },
          "xaxis": {
           "automargin": true,
           "gridcolor": "white",
           "linecolor": "white",
           "ticks": "",
           "title": {
            "standoff": 15
           },
           "zerolinecolor": "white",
           "zerolinewidth": 2
          },
          "yaxis": {
           "automargin": true,
           "gridcolor": "white",
           "linecolor": "white",
           "ticks": "",
           "title": {
            "standoff": 15
           },
           "zerolinecolor": "white",
           "zerolinewidth": 2
          }
         }
        },
        "title": {
         "text": "Conf Matrix"
        },
        "width": 800,
        "xaxis": {
         "title": {
          "text": "Predicted value"
         }
        },
        "yaxis": {
         "title": {
          "text": "Real value"
         }
        }
       }
      }
     },
     "metadata": {},
     "output_type": "display_data"
    }
   ],
   "source": [
    "display(plot_confusion_matrix(y_test,y_pred))"
   ]
  },
  {
   "cell_type": "code",
   "execution_count": 13,
   "metadata": {},
   "outputs": [
    {
     "data": {
      "text/plain": [
       "1.0"
      ]
     },
     "execution_count": 13,
     "metadata": {},
     "output_type": "execute_result"
    }
   ],
   "source": [
    "cohen_kappa_score(y_test,y_test, weights = 'quadratic')"
   ]
  },
  {
   "cell_type": "code",
   "execution_count": 14,
   "metadata": {},
   "outputs": [
    {
     "data": {
      "application/vnd.plotly.v1+json": {
       "config": {
        "plotlyServerURL": "https://plot.ly"
       },
       "data": [
        {
         "type": "heatmap",
         "x": [
          0,
          1,
          2,
          3,
          4
         ],
         "y": [
          0,
          1,
          2,
          3,
          4
         ],
         "z": [
          [
           100,
           0,
           0,
           0,
           0
          ],
          [
           0,
           100,
           0,
           0,
           0
          ],
          [
           0,
           0,
           100,
           0,
           0
          ],
          [
           0,
           0,
           0,
           100,
           0
          ],
          [
           0,
           0,
           0,
           0,
           100
          ]
         ]
        }
       ],
       "layout": {
        "annotations": [
         {
          "font": {
           "color": "white"
          },
          "showarrow": false,
          "text": "100.0 - 82",
          "x": 0,
          "xref": "x",
          "y": 0,
          "yref": "y"
         },
         {
          "font": {
           "color": "white"
          },
          "showarrow": false,
          "text": "0.0 - 0",
          "x": 1,
          "xref": "x",
          "y": 0,
          "yref": "y"
         },
         {
          "font": {
           "color": "white"
          },
          "showarrow": false,
          "text": "0.0 - 0",
          "x": 2,
          "xref": "x",
          "y": 0,
          "yref": "y"
         },
         {
          "font": {
           "color": "white"
          },
          "showarrow": false,
          "text": "0.0 - 0",
          "x": 3,
          "xref": "x",
          "y": 0,
          "yref": "y"
         },
         {
          "font": {
           "color": "white"
          },
          "showarrow": false,
          "text": "0.0 - 0",
          "x": 4,
          "xref": "x",
          "y": 0,
          "yref": "y"
         },
         {
          "font": {
           "color": "white"
          },
          "showarrow": false,
          "text": "0.0 - 0",
          "x": 0,
          "xref": "x",
          "y": 1,
          "yref": "y"
         },
         {
          "font": {
           "color": "white"
          },
          "showarrow": false,
          "text": "100.0 - 618",
          "x": 1,
          "xref": "x",
          "y": 1,
          "yref": "y"
         },
         {
          "font": {
           "color": "white"
          },
          "showarrow": false,
          "text": "0.0 - 0",
          "x": 2,
          "xref": "x",
          "y": 1,
          "yref": "y"
         },
         {
          "font": {
           "color": "white"
          },
          "showarrow": false,
          "text": "0.0 - 0",
          "x": 3,
          "xref": "x",
          "y": 1,
          "yref": "y"
         },
         {
          "font": {
           "color": "white"
          },
          "showarrow": false,
          "text": "0.0 - 0",
          "x": 4,
          "xref": "x",
          "y": 1,
          "yref": "y"
         },
         {
          "font": {
           "color": "white"
          },
          "showarrow": false,
          "text": "0.0 - 0",
          "x": 0,
          "xref": "x",
          "y": 2,
          "yref": "y"
         },
         {
          "font": {
           "color": "white"
          },
          "showarrow": false,
          "text": "0.0 - 0",
          "x": 1,
          "xref": "x",
          "y": 2,
          "yref": "y"
         },
         {
          "font": {
           "color": "white"
          },
          "showarrow": false,
          "text": "100.0 - 807",
          "x": 2,
          "xref": "x",
          "y": 2,
          "yref": "y"
         },
         {
          "font": {
           "color": "white"
          },
          "showarrow": false,
          "text": "0.0 - 0",
          "x": 3,
          "xref": "x",
          "y": 2,
          "yref": "y"
         },
         {
          "font": {
           "color": "white"
          },
          "showarrow": false,
          "text": "0.0 - 0",
          "x": 4,
          "xref": "x",
          "y": 2,
          "yref": "y"
         },
         {
          "font": {
           "color": "white"
          },
          "showarrow": false,
          "text": "0.0 - 0",
          "x": 0,
          "xref": "x",
          "y": 3,
          "yref": "y"
         },
         {
          "font": {
           "color": "white"
          },
          "showarrow": false,
          "text": "0.0 - 0",
          "x": 1,
          "xref": "x",
          "y": 3,
          "yref": "y"
         },
         {
          "font": {
           "color": "white"
          },
          "showarrow": false,
          "text": "0.0 - 0",
          "x": 2,
          "xref": "x",
          "y": 3,
          "yref": "y"
         },
         {
          "font": {
           "color": "white"
          },
          "showarrow": false,
          "text": "100.0 - 652",
          "x": 3,
          "xref": "x",
          "y": 3,
          "yref": "y"
         },
         {
          "font": {
           "color": "white"
          },
          "showarrow": false,
          "text": "0.0 - 0",
          "x": 4,
          "xref": "x",
          "y": 3,
          "yref": "y"
         },
         {
          "font": {
           "color": "white"
          },
          "showarrow": false,
          "text": "0.0 - 0",
          "x": 0,
          "xref": "x",
          "y": 4,
          "yref": "y"
         },
         {
          "font": {
           "color": "white"
          },
          "showarrow": false,
          "text": "0.0 - 0",
          "x": 1,
          "xref": "x",
          "y": 4,
          "yref": "y"
         },
         {
          "font": {
           "color": "white"
          },
          "showarrow": false,
          "text": "0.0 - 0",
          "x": 2,
          "xref": "x",
          "y": 4,
          "yref": "y"
         },
         {
          "font": {
           "color": "white"
          },
          "showarrow": false,
          "text": "0.0 - 0",
          "x": 3,
          "xref": "x",
          "y": 4,
          "yref": "y"
         },
         {
          "font": {
           "color": "white"
          },
          "showarrow": false,
          "text": "100.0 - 840",
          "x": 4,
          "xref": "x",
          "y": 4,
          "yref": "y"
         }
        ],
        "height": 800,
        "template": {
         "data": {
          "bar": [
           {
            "error_x": {
             "color": "#2a3f5f"
            },
            "error_y": {
             "color": "#2a3f5f"
            },
            "marker": {
             "line": {
              "color": "#E5ECF6",
              "width": 0.5
             },
             "pattern": {
              "fillmode": "overlay",
              "size": 10,
              "solidity": 0.2
             }
            },
            "type": "bar"
           }
          ],
          "barpolar": [
           {
            "marker": {
             "line": {
              "color": "#E5ECF6",
              "width": 0.5
             },
             "pattern": {
              "fillmode": "overlay",
              "size": 10,
              "solidity": 0.2
             }
            },
            "type": "barpolar"
           }
          ],
          "carpet": [
           {
            "aaxis": {
             "endlinecolor": "#2a3f5f",
             "gridcolor": "white",
             "linecolor": "white",
             "minorgridcolor": "white",
             "startlinecolor": "#2a3f5f"
            },
            "baxis": {
             "endlinecolor": "#2a3f5f",
             "gridcolor": "white",
             "linecolor": "white",
             "minorgridcolor": "white",
             "startlinecolor": "#2a3f5f"
            },
            "type": "carpet"
           }
          ],
          "choropleth": [
           {
            "colorbar": {
             "outlinewidth": 0,
             "ticks": ""
            },
            "type": "choropleth"
           }
          ],
          "contour": [
           {
            "colorbar": {
             "outlinewidth": 0,
             "ticks": ""
            },
            "colorscale": [
             [
              0,
              "#0d0887"
             ],
             [
              0.1111111111111111,
              "#46039f"
             ],
             [
              0.2222222222222222,
              "#7201a8"
             ],
             [
              0.3333333333333333,
              "#9c179e"
             ],
             [
              0.4444444444444444,
              "#bd3786"
             ],
             [
              0.5555555555555556,
              "#d8576b"
             ],
             [
              0.6666666666666666,
              "#ed7953"
             ],
             [
              0.7777777777777778,
              "#fb9f3a"
             ],
             [
              0.8888888888888888,
              "#fdca26"
             ],
             [
              1,
              "#f0f921"
             ]
            ],
            "type": "contour"
           }
          ],
          "contourcarpet": [
           {
            "colorbar": {
             "outlinewidth": 0,
             "ticks": ""
            },
            "type": "contourcarpet"
           }
          ],
          "heatmap": [
           {
            "colorbar": {
             "outlinewidth": 0,
             "ticks": ""
            },
            "colorscale": [
             [
              0,
              "#0d0887"
             ],
             [
              0.1111111111111111,
              "#46039f"
             ],
             [
              0.2222222222222222,
              "#7201a8"
             ],
             [
              0.3333333333333333,
              "#9c179e"
             ],
             [
              0.4444444444444444,
              "#bd3786"
             ],
             [
              0.5555555555555556,
              "#d8576b"
             ],
             [
              0.6666666666666666,
              "#ed7953"
             ],
             [
              0.7777777777777778,
              "#fb9f3a"
             ],
             [
              0.8888888888888888,
              "#fdca26"
             ],
             [
              1,
              "#f0f921"
             ]
            ],
            "type": "heatmap"
           }
          ],
          "heatmapgl": [
           {
            "colorbar": {
             "outlinewidth": 0,
             "ticks": ""
            },
            "colorscale": [
             [
              0,
              "#0d0887"
             ],
             [
              0.1111111111111111,
              "#46039f"
             ],
             [
              0.2222222222222222,
              "#7201a8"
             ],
             [
              0.3333333333333333,
              "#9c179e"
             ],
             [
              0.4444444444444444,
              "#bd3786"
             ],
             [
              0.5555555555555556,
              "#d8576b"
             ],
             [
              0.6666666666666666,
              "#ed7953"
             ],
             [
              0.7777777777777778,
              "#fb9f3a"
             ],
             [
              0.8888888888888888,
              "#fdca26"
             ],
             [
              1,
              "#f0f921"
             ]
            ],
            "type": "heatmapgl"
           }
          ],
          "histogram": [
           {
            "marker": {
             "pattern": {
              "fillmode": "overlay",
              "size": 10,
              "solidity": 0.2
             }
            },
            "type": "histogram"
           }
          ],
          "histogram2d": [
           {
            "colorbar": {
             "outlinewidth": 0,
             "ticks": ""
            },
            "colorscale": [
             [
              0,
              "#0d0887"
             ],
             [
              0.1111111111111111,
              "#46039f"
             ],
             [
              0.2222222222222222,
              "#7201a8"
             ],
             [
              0.3333333333333333,
              "#9c179e"
             ],
             [
              0.4444444444444444,
              "#bd3786"
             ],
             [
              0.5555555555555556,
              "#d8576b"
             ],
             [
              0.6666666666666666,
              "#ed7953"
             ],
             [
              0.7777777777777778,
              "#fb9f3a"
             ],
             [
              0.8888888888888888,
              "#fdca26"
             ],
             [
              1,
              "#f0f921"
             ]
            ],
            "type": "histogram2d"
           }
          ],
          "histogram2dcontour": [
           {
            "colorbar": {
             "outlinewidth": 0,
             "ticks": ""
            },
            "colorscale": [
             [
              0,
              "#0d0887"
             ],
             [
              0.1111111111111111,
              "#46039f"
             ],
             [
              0.2222222222222222,
              "#7201a8"
             ],
             [
              0.3333333333333333,
              "#9c179e"
             ],
             [
              0.4444444444444444,
              "#bd3786"
             ],
             [
              0.5555555555555556,
              "#d8576b"
             ],
             [
              0.6666666666666666,
              "#ed7953"
             ],
             [
              0.7777777777777778,
              "#fb9f3a"
             ],
             [
              0.8888888888888888,
              "#fdca26"
             ],
             [
              1,
              "#f0f921"
             ]
            ],
            "type": "histogram2dcontour"
           }
          ],
          "mesh3d": [
           {
            "colorbar": {
             "outlinewidth": 0,
             "ticks": ""
            },
            "type": "mesh3d"
           }
          ],
          "parcoords": [
           {
            "line": {
             "colorbar": {
              "outlinewidth": 0,
              "ticks": ""
             }
            },
            "type": "parcoords"
           }
          ],
          "pie": [
           {
            "automargin": true,
            "type": "pie"
           }
          ],
          "scatter": [
           {
            "fillpattern": {
             "fillmode": "overlay",
             "size": 10,
             "solidity": 0.2
            },
            "type": "scatter"
           }
          ],
          "scatter3d": [
           {
            "line": {
             "colorbar": {
              "outlinewidth": 0,
              "ticks": ""
             }
            },
            "marker": {
             "colorbar": {
              "outlinewidth": 0,
              "ticks": ""
             }
            },
            "type": "scatter3d"
           }
          ],
          "scattercarpet": [
           {
            "marker": {
             "colorbar": {
              "outlinewidth": 0,
              "ticks": ""
             }
            },
            "type": "scattercarpet"
           }
          ],
          "scattergeo": [
           {
            "marker": {
             "colorbar": {
              "outlinewidth": 0,
              "ticks": ""
             }
            },
            "type": "scattergeo"
           }
          ],
          "scattergl": [
           {
            "marker": {
             "colorbar": {
              "outlinewidth": 0,
              "ticks": ""
             }
            },
            "type": "scattergl"
           }
          ],
          "scattermapbox": [
           {
            "marker": {
             "colorbar": {
              "outlinewidth": 0,
              "ticks": ""
             }
            },
            "type": "scattermapbox"
           }
          ],
          "scatterpolar": [
           {
            "marker": {
             "colorbar": {
              "outlinewidth": 0,
              "ticks": ""
             }
            },
            "type": "scatterpolar"
           }
          ],
          "scatterpolargl": [
           {
            "marker": {
             "colorbar": {
              "outlinewidth": 0,
              "ticks": ""
             }
            },
            "type": "scatterpolargl"
           }
          ],
          "scatterternary": [
           {
            "marker": {
             "colorbar": {
              "outlinewidth": 0,
              "ticks": ""
             }
            },
            "type": "scatterternary"
           }
          ],
          "surface": [
           {
            "colorbar": {
             "outlinewidth": 0,
             "ticks": ""
            },
            "colorscale": [
             [
              0,
              "#0d0887"
             ],
             [
              0.1111111111111111,
              "#46039f"
             ],
             [
              0.2222222222222222,
              "#7201a8"
             ],
             [
              0.3333333333333333,
              "#9c179e"
             ],
             [
              0.4444444444444444,
              "#bd3786"
             ],
             [
              0.5555555555555556,
              "#d8576b"
             ],
             [
              0.6666666666666666,
              "#ed7953"
             ],
             [
              0.7777777777777778,
              "#fb9f3a"
             ],
             [
              0.8888888888888888,
              "#fdca26"
             ],
             [
              1,
              "#f0f921"
             ]
            ],
            "type": "surface"
           }
          ],
          "table": [
           {
            "cells": {
             "fill": {
              "color": "#EBF0F8"
             },
             "line": {
              "color": "white"
             }
            },
            "header": {
             "fill": {
              "color": "#C8D4E3"
             },
             "line": {
              "color": "white"
             }
            },
            "type": "table"
           }
          ]
         },
         "layout": {
          "annotationdefaults": {
           "arrowcolor": "#2a3f5f",
           "arrowhead": 0,
           "arrowwidth": 1
          },
          "autotypenumbers": "strict",
          "coloraxis": {
           "colorbar": {
            "outlinewidth": 0,
            "ticks": ""
           }
          },
          "colorscale": {
           "diverging": [
            [
             0,
             "#8e0152"
            ],
            [
             0.1,
             "#c51b7d"
            ],
            [
             0.2,
             "#de77ae"
            ],
            [
             0.3,
             "#f1b6da"
            ],
            [
             0.4,
             "#fde0ef"
            ],
            [
             0.5,
             "#f7f7f7"
            ],
            [
             0.6,
             "#e6f5d0"
            ],
            [
             0.7,
             "#b8e186"
            ],
            [
             0.8,
             "#7fbc41"
            ],
            [
             0.9,
             "#4d9221"
            ],
            [
             1,
             "#276419"
            ]
           ],
           "sequential": [
            [
             0,
             "#0d0887"
            ],
            [
             0.1111111111111111,
             "#46039f"
            ],
            [
             0.2222222222222222,
             "#7201a8"
            ],
            [
             0.3333333333333333,
             "#9c179e"
            ],
            [
             0.4444444444444444,
             "#bd3786"
            ],
            [
             0.5555555555555556,
             "#d8576b"
            ],
            [
             0.6666666666666666,
             "#ed7953"
            ],
            [
             0.7777777777777778,
             "#fb9f3a"
            ],
            [
             0.8888888888888888,
             "#fdca26"
            ],
            [
             1,
             "#f0f921"
            ]
           ],
           "sequentialminus": [
            [
             0,
             "#0d0887"
            ],
            [
             0.1111111111111111,
             "#46039f"
            ],
            [
             0.2222222222222222,
             "#7201a8"
            ],
            [
             0.3333333333333333,
             "#9c179e"
            ],
            [
             0.4444444444444444,
             "#bd3786"
            ],
            [
             0.5555555555555556,
             "#d8576b"
            ],
            [
             0.6666666666666666,
             "#ed7953"
            ],
            [
             0.7777777777777778,
             "#fb9f3a"
            ],
            [
             0.8888888888888888,
             "#fdca26"
            ],
            [
             1,
             "#f0f921"
            ]
           ]
          },
          "colorway": [
           "#636efa",
           "#EF553B",
           "#00cc96",
           "#ab63fa",
           "#FFA15A",
           "#19d3f3",
           "#FF6692",
           "#B6E880",
           "#FF97FF",
           "#FECB52"
          ],
          "font": {
           "color": "#2a3f5f"
          },
          "geo": {
           "bgcolor": "white",
           "lakecolor": "white",
           "landcolor": "#E5ECF6",
           "showlakes": true,
           "showland": true,
           "subunitcolor": "white"
          },
          "hoverlabel": {
           "align": "left"
          },
          "hovermode": "closest",
          "mapbox": {
           "style": "light"
          },
          "paper_bgcolor": "white",
          "plot_bgcolor": "#E5ECF6",
          "polar": {
           "angularaxis": {
            "gridcolor": "white",
            "linecolor": "white",
            "ticks": ""
           },
           "bgcolor": "#E5ECF6",
           "radialaxis": {
            "gridcolor": "white",
            "linecolor": "white",
            "ticks": ""
           }
          },
          "scene": {
           "xaxis": {
            "backgroundcolor": "#E5ECF6",
            "gridcolor": "white",
            "gridwidth": 2,
            "linecolor": "white",
            "showbackground": true,
            "ticks": "",
            "zerolinecolor": "white"
           },
           "yaxis": {
            "backgroundcolor": "#E5ECF6",
            "gridcolor": "white",
            "gridwidth": 2,
            "linecolor": "white",
            "showbackground": true,
            "ticks": "",
            "zerolinecolor": "white"
           },
           "zaxis": {
            "backgroundcolor": "#E5ECF6",
            "gridcolor": "white",
            "gridwidth": 2,
            "linecolor": "white",
            "showbackground": true,
            "ticks": "",
            "zerolinecolor": "white"
           }
          },
          "shapedefaults": {
           "line": {
            "color": "#2a3f5f"
           }
          },
          "ternary": {
           "aaxis": {
            "gridcolor": "white",
            "linecolor": "white",
            "ticks": ""
           },
           "baxis": {
            "gridcolor": "white",
            "linecolor": "white",
            "ticks": ""
           },
           "bgcolor": "#E5ECF6",
           "caxis": {
            "gridcolor": "white",
            "linecolor": "white",
            "ticks": ""
           }
          },
          "title": {
           "x": 0.05
          },
          "xaxis": {
           "automargin": true,
           "gridcolor": "white",
           "linecolor": "white",
           "ticks": "",
           "title": {
            "standoff": 15
           },
           "zerolinecolor": "white",
           "zerolinewidth": 2
          },
          "yaxis": {
           "automargin": true,
           "gridcolor": "white",
           "linecolor": "white",
           "ticks": "",
           "title": {
            "standoff": 15
           },
           "zerolinecolor": "white",
           "zerolinewidth": 2
          }
         }
        },
        "title": {
         "text": "Conf Matrix"
        },
        "width": 800,
        "xaxis": {
         "title": {
          "text": "Predicted value"
         }
        },
        "yaxis": {
         "title": {
          "text": "Real value"
         }
        }
       }
      }
     },
     "metadata": {},
     "output_type": "display_data"
    }
   ],
   "source": [
    "display(plot_confusion_matrix(y_test,y_test))"
   ]
  },
  {
   "cell_type": "code",
   "execution_count": 15,
   "metadata": {},
   "outputs": [],
   "source": [
    "\n",
    "y_shuffled = shuffle(y_test,\n",
    "                     random_state = 42)\n",
    "\n",
    "\n",
    "dict_map_cerca = {0:1,\n",
    "                  1:2,\n",
    "                  2:3,\n",
    "                  3:4,\n",
    "                  4:3}\n",
    "\n",
    "dict_map_lejos = {0:4,\n",
    "                  1:4,\n",
    "                  2:0,\n",
    "                  3:0,\n",
    "                  4:0}\n",
    "\n",
    "y_cerca = [dict_map_cerca[i] for i in y_test]\n",
    "\n",
    "y_lejos = [dict_map_lejos[i] for i in y_test]\n"
   ]
  },
  {
   "cell_type": "code",
   "execution_count": 16,
   "metadata": {},
   "outputs": [],
   "source": [
    "random_list =  np.random.rand(len(y_test))\n",
    "\n",
    "kappa_progression = pd.DataFrame()\n",
    "\n",
    "for i in range(101):\n",
    "\n",
    "    y_simulado = [y_test.iloc[sample] if random_list[sample]<i/100 else y_shuffled.iloc[sample] for sample in range(len(y_test))]\n",
    "\n",
    "    y_simulado_cerca = [y_test.iloc[sample] if random_list[sample]<i/100 else y_cerca[sample] for sample in range(len(y_test))]\n",
    "\n",
    "    y_simulado_lejos = [y_test.iloc[sample] if random_list[sample]<i/100 else y_lejos[sample] for sample in range(len(y_test))]\n",
    "\n",
    "\n",
    "    kappa_progression = pd.concat([kappa_progression,\n",
    "                                   pd.DataFrame({'Conocidos':[i],\n",
    "                                                'kappa':cohen_kappa_score(y_test,\n",
    "                                                                        y_simulado,\n",
    "                                                                        weights = 'quadratic'),\n",
    "                                                'kappa_cerca':cohen_kappa_score(y_test,\n",
    "                                                                        y_simulado_cerca,\n",
    "                                                                        weights = 'quadratic'),\n",
    "                                                'kappa_lejos':cohen_kappa_score(y_test,\n",
    "                                                                        y_simulado_lejos,\n",
    "                                                                        weights = 'quadratic'),                                                                        \n",
    "                                                'accuracy':accuracy_score(y_test,\n",
    "                                                                        y_simulado),\n",
    "                                                'balanced_accuracy':balanced_accuracy_score(y_test,\n",
    "                                                                        y_simulado),\n",
    "                                                                        })],\n",
    "                ignore_index=True)"
   ]
  },
  {
   "cell_type": "code",
   "execution_count": 17,
   "metadata": {},
   "outputs": [
    {
     "data": {
      "application/vnd.plotly.v1+json": {
       "config": {
        "plotlyServerURL": "https://plot.ly"
       },
       "data": [
        {
         "hovertemplate": "variable=kappa<br>Conocidos=%{x}<br>value=%{y}<extra></extra>",
         "legendgroup": "kappa",
         "line": {
          "color": "#636efa",
          "dash": "solid"
         },
         "marker": {
          "symbol": "circle"
         },
         "mode": "lines",
         "name": "kappa",
         "orientation": "v",
         "showlegend": true,
         "type": "scatter",
         "x": [
          0,
          1,
          2,
          3,
          4,
          5,
          6,
          7,
          8,
          9,
          10,
          11,
          12,
          13,
          14,
          15,
          16,
          17,
          18,
          19,
          20,
          21,
          22,
          23,
          24,
          25,
          26,
          27,
          28,
          29,
          30,
          31,
          32,
          33,
          34,
          35,
          36,
          37,
          38,
          39,
          40,
          41,
          42,
          43,
          44,
          45,
          46,
          47,
          48,
          49,
          50,
          51,
          52,
          53,
          54,
          55,
          56,
          57,
          58,
          59,
          60,
          61,
          62,
          63,
          64,
          65,
          66,
          67,
          68,
          69,
          70,
          71,
          72,
          73,
          74,
          75,
          76,
          77,
          78,
          79,
          80,
          81,
          82,
          83,
          84,
          85,
          86,
          87,
          88,
          89,
          90,
          91,
          92,
          93,
          94,
          95,
          96,
          97,
          98,
          99,
          100
         ],
         "xaxis": "x",
         "y": [
          -0.0084438812302563,
          0.0009217008215111067,
          0.013586278972302246,
          0.023905124912264486,
          0.032342868534030456,
          0.040740123798271966,
          0.06086665785567569,
          0.07281884751687628,
          0.07974888375377809,
          0.08941585113060602,
          0.1000672205960439,
          0.10843267600233641,
          0.11858282116016516,
          0.12849268357213528,
          0.14160400136759332,
          0.15269763127567382,
          0.15790171938231012,
          0.166041533482701,
          0.17548505183235985,
          0.1846600220246245,
          0.19420659748984648,
          0.2044384933394615,
          0.2139282177911439,
          0.22076845915301235,
          0.23073852568898456,
          0.24374480711040214,
          0.2545195396005485,
          0.2645391402563748,
          0.2727515772523672,
          0.28231406252843183,
          0.28945575640686527,
          0.3007013897413525,
          0.3109836555442208,
          0.3192163454610506,
          0.328834035232186,
          0.33619320044125456,
          0.34706051052098497,
          0.3572620364198371,
          0.36747848719909426,
          0.38260245532127324,
          0.39025541228930904,
          0.40152408994576794,
          0.414206057693566,
          0.42996908627033226,
          0.43986032047236046,
          0.45166426094027634,
          0.4628803792087489,
          0.47481549725955596,
          0.4826909042659059,
          0.49365206029536957,
          0.5049155718077416,
          0.5137673738917352,
          0.5253124185737739,
          0.5343009580831877,
          0.5491236733270863,
          0.5596801915863828,
          0.5675241608996486,
          0.5786947300431441,
          0.5834626953764244,
          0.5920829787879923,
          0.6024355111632889,
          0.6120630500085036,
          0.6283462870200245,
          0.6344276197224241,
          0.6411991593549078,
          0.6535204158172232,
          0.660466736016706,
          0.6672839900634413,
          0.6769320354627747,
          0.6917292073935242,
          0.7070161952828353,
          0.7187887616471045,
          0.7304072579005231,
          0.741716397012546,
          0.7524479796874266,
          0.7620833262308842,
          0.7709588381211394,
          0.781401110404334,
          0.7939865686256293,
          0.7995316824240543,
          0.8083854089368173,
          0.816897803352169,
          0.8305695024340383,
          0.8403419205374277,
          0.8454955750066269,
          0.8561846874736336,
          0.8644913542688694,
          0.8760560059873171,
          0.8869242764424723,
          0.8937182089307356,
          0.905919168128361,
          0.919211361836271,
          0.9268715358175837,
          0.9352727390598323,
          0.944578705618767,
          0.9535410252347523,
          0.9661840909104589,
          0.9788193279330827,
          0.9873857210905399,
          0.9925459241994841,
          1
         ],
         "yaxis": "y"
        },
        {
         "hovertemplate": "variable=kappa_cerca<br>Conocidos=%{x}<br>value=%{y}<extra></extra>",
         "legendgroup": "kappa_cerca",
         "line": {
          "color": "#EF553B",
          "dash": "solid"
         },
         "marker": {
          "symbol": "circle"
         },
         "mode": "lines",
         "name": "kappa_cerca",
         "orientation": "v",
         "showlegend": true,
         "type": "scatter",
         "x": [
          0,
          1,
          2,
          3,
          4,
          5,
          6,
          7,
          8,
          9,
          10,
          11,
          12,
          13,
          14,
          15,
          16,
          17,
          18,
          19,
          20,
          21,
          22,
          23,
          24,
          25,
          26,
          27,
          28,
          29,
          30,
          31,
          32,
          33,
          34,
          35,
          36,
          37,
          38,
          39,
          40,
          41,
          42,
          43,
          44,
          45,
          46,
          47,
          48,
          49,
          50,
          51,
          52,
          53,
          54,
          55,
          56,
          57,
          58,
          59,
          60,
          61,
          62,
          63,
          64,
          65,
          66,
          67,
          68,
          69,
          70,
          71,
          72,
          73,
          74,
          75,
          76,
          77,
          78,
          79,
          80,
          81,
          82,
          83,
          84,
          85,
          86,
          87,
          88,
          89,
          90,
          91,
          92,
          93,
          94,
          95,
          96,
          97,
          98,
          99,
          100
         ],
         "xaxis": "x",
         "y": [
          0.5261777791943391,
          0.5321126102975011,
          0.5398684138687282,
          0.5468190890180618,
          0.553156215515104,
          0.5578751453650248,
          0.5648114586257575,
          0.5702556320235876,
          0.575414319768081,
          0.5805213877432492,
          0.5874765339862167,
          0.5934241653774406,
          0.5989821882435737,
          0.6039550809470094,
          0.6099936245999515,
          0.61677453056793,
          0.6215855550420819,
          0.6257953749922764,
          0.6327601186669944,
          0.6385375926121915,
          0.6442279867829015,
          0.6486366157142588,
          0.654192690526983,
          0.6601985539858672,
          0.66625852661801,
          0.6731549814104896,
          0.6783825637291725,
          0.683849101832545,
          0.6893396753104966,
          0.6943959650481517,
          0.6991875258675921,
          0.7040808473584709,
          0.708568218136483,
          0.7133055053523593,
          0.7179460390255954,
          0.7223919546738369,
          0.7269992982940756,
          0.7317580463575247,
          0.7370744240339071,
          0.7425842885321112,
          0.7464968576862121,
          0.7520170933432447,
          0.7577049249616659,
          0.7647125752215689,
          0.7698859312208786,
          0.774984536578776,
          0.7802046852945999,
          0.7845596314470453,
          0.7890891022977815,
          0.7940401320209345,
          0.7993153583779747,
          0.8029560084103776,
          0.8074467321935128,
          0.8127689858678828,
          0.818845438926351,
          0.8232001113376208,
          0.8268118210978416,
          0.8307706123575965,
          0.8340342148001212,
          0.8381308001352294,
          0.842432069659728,
          0.8469419517208424,
          0.8511367941113891,
          0.8540785112933207,
          0.8583982432882171,
          0.8628097778978904,
          0.8667901574255049,
          0.8704522540092773,
          0.8743015971549803,
          0.879136714480463,
          0.885380322664269,
          0.8900493970193452,
          0.8947026868160457,
          0.8991548701686991,
          0.9035519438338805,
          0.907827299059975,
          0.9120475567072981,
          0.9157765388882537,
          0.9202801622957413,
          0.923483828386827,
          0.9270851732890426,
          0.9307596504029241,
          0.9352929690070765,
          0.9401126796746441,
          0.9433553605892079,
          0.9473920433300607,
          0.9502528258428444,
          0.9540506632404443,
          0.9568783933488161,
          0.9605221771323641,
          0.964158357694946,
          0.9687711795291906,
          0.9717421042597792,
          0.9756476752096581,
          0.9787847979136036,
          0.9826826410453352,
          0.98537554442374,
          0.9896189395648193,
          0.9931446615058566,
          0.9965098755901531,
          1
         ],
         "yaxis": "y"
        },
        {
         "hovertemplate": "variable=kappa_lejos<br>Conocidos=%{x}<br>value=%{y}<extra></extra>",
         "legendgroup": "kappa_lejos",
         "line": {
          "color": "#00cc96",
          "dash": "solid"
         },
         "marker": {
          "symbol": "circle"
         },
         "mode": "lines",
         "name": "kappa_lejos",
         "orientation": "v",
         "showlegend": true,
         "type": "scatter",
         "x": [
          0,
          1,
          2,
          3,
          4,
          5,
          6,
          7,
          8,
          9,
          10,
          11,
          12,
          13,
          14,
          15,
          16,
          17,
          18,
          19,
          20,
          21,
          22,
          23,
          24,
          25,
          26,
          27,
          28,
          29,
          30,
          31,
          32,
          33,
          34,
          35,
          36,
          37,
          38,
          39,
          40,
          41,
          42,
          43,
          44,
          45,
          46,
          47,
          48,
          49,
          50,
          51,
          52,
          53,
          54,
          55,
          56,
          57,
          58,
          59,
          60,
          61,
          62,
          63,
          64,
          65,
          66,
          67,
          68,
          69,
          70,
          71,
          72,
          73,
          74,
          75,
          76,
          77,
          78,
          79,
          80,
          81,
          82,
          83,
          84,
          85,
          86,
          87,
          88,
          89,
          90,
          91,
          92,
          93,
          94,
          95,
          96,
          97,
          98,
          99,
          100
         ],
         "xaxis": "x",
         "y": [
          -0.45165018440277804,
          -0.4453973619826548,
          -0.4387792452273904,
          -0.43417468577203255,
          -0.428652532674779,
          -0.42335819319325596,
          -0.4139139505855989,
          -0.4112810577030932,
          -0.4040961147769393,
          -0.39663736090179436,
          -0.38890118981229627,
          -0.3821854958324129,
          -0.37468079280392064,
          -0.3666871621879373,
          -0.3587500338254088,
          -0.3505521031544685,
          -0.3448520547949194,
          -0.34031566641399236,
          -0.3304568871801059,
          -0.3244597810476164,
          -0.31712334820333243,
          -0.3117723272311359,
          -0.30560978129717875,
          -0.29713958252532624,
          -0.28851021606645233,
          -0.2788055500635307,
          -0.27093048166442424,
          -0.26296495189284075,
          -0.25483850868526536,
          -0.24638250190818978,
          -0.23953111518025505,
          -0.23244208848971692,
          -0.2263131470279649,
          -0.21784889806985297,
          -0.20803616920844492,
          -0.20068841445351904,
          -0.1903906019319188,
          -0.17996836943903727,
          -0.17033137775747265,
          -0.15682821599347774,
          -0.1493386020686116,
          -0.13806155426708067,
          -0.12386394692486946,
          -0.1091460317034445,
          -0.09772050652492892,
          -0.08675600534615624,
          -0.07289270854966601,
          -0.06230963658121569,
          -0.05190589419070046,
          -0.041833131913196375,
          -0.028351158429723133,
          -0.019618229351297423,
          -0.01058077037594396,
          0.0058178804327673195,
          0.023297997126418002,
          0.03372728820392901,
          0.04333487208022779,
          0.056511717403733175,
          0.06599831957780944,
          0.07925241054929955,
          0.0946277291849339,
          0.11072196835629045,
          0.13086602041555695,
          0.14091005968760206,
          0.15237783512140812,
          0.17261740672461112,
          0.1835538413037726,
          0.19739228047838697,
          0.21057577618343704,
          0.2298377352332348,
          0.2574258336224544,
          0.2776130778763547,
          0.29738762325454693,
          0.31607857684746954,
          0.33823764880345186,
          0.35984180936237264,
          0.37974820672364584,
          0.39766484640154753,
          0.4280765963170321,
          0.4449035552659012,
          0.46767030713326196,
          0.4901737613254441,
          0.515626207255415,
          0.5443523439255462,
          0.5650384531906647,
          0.5898168130669977,
          0.6073304941453718,
          0.6312694565123768,
          0.6549053493542223,
          0.6764054255497112,
          0.7035017448641157,
          0.7364227654700686,
          0.7532156385403455,
          0.780656818334758,
          0.8101721178369934,
          0.8372351166260517,
          0.8649935593748296,
          0.9039734314015024,
          0.9383723324666974,
          0.9688365811583675,
          1
         ],
         "yaxis": "y"
        },
        {
         "hovertemplate": "variable=accuracy<br>Conocidos=%{x}<br>value=%{y}<extra></extra>",
         "legendgroup": "accuracy",
         "line": {
          "color": "#ab63fa",
          "dash": "solid"
         },
         "marker": {
          "symbol": "circle"
         },
         "mode": "lines",
         "name": "accuracy",
         "orientation": "v",
         "showlegend": true,
         "type": "scatter",
         "x": [
          0,
          1,
          2,
          3,
          4,
          5,
          6,
          7,
          8,
          9,
          10,
          11,
          12,
          13,
          14,
          15,
          16,
          17,
          18,
          19,
          20,
          21,
          22,
          23,
          24,
          25,
          26,
          27,
          28,
          29,
          30,
          31,
          32,
          33,
          34,
          35,
          36,
          37,
          38,
          39,
          40,
          41,
          42,
          43,
          44,
          45,
          46,
          47,
          48,
          49,
          50,
          51,
          52,
          53,
          54,
          55,
          56,
          57,
          58,
          59,
          60,
          61,
          62,
          63,
          64,
          65,
          66,
          67,
          68,
          69,
          70,
          71,
          72,
          73,
          74,
          75,
          76,
          77,
          78,
          79,
          80,
          81,
          82,
          83,
          84,
          85,
          86,
          87,
          88,
          89,
          90,
          91,
          92,
          93,
          94,
          95,
          96,
          97,
          98,
          99,
          100
         ],
         "xaxis": "x",
         "y": [
          0.24141380460153383,
          0.2494164721573858,
          0.25808602867622543,
          0.2674224741580527,
          0.2737579193064355,
          0.2784261420473491,
          0.2887629209736579,
          0.29676558852950985,
          0.302434144714905,
          0.3081027009003001,
          0.3167722574191397,
          0.324108036012004,
          0.3307769256418806,
          0.33744581527175727,
          0.345781927309103,
          0.35545181727242414,
          0.3614538179393131,
          0.3671223741247082,
          0.37479159719906635,
          0.3837945981993998,
          0.3911303767922641,
          0.39713237745915303,
          0.40446815605201736,
          0.4124708236078693,
          0.42014004668222743,
          0.4298099366455485,
          0.4381460486828943,
          0.44581527175725244,
          0.4534844948316105,
          0.46115371790596865,
          0.46748916305435145,
          0.4748249416472157,
          0.48249416472157386,
          0.4904968322774258,
          0.49716572190730246,
          0.5035011670556853,
          0.5101700566855618,
          0.5181727242414138,
          0.5261753917972658,
          0.535511837279093,
          0.5425141713904635,
          0.5508502834278093,
          0.5601867289096365,
          0.5698566188729577,
          0.577192397465822,
          0.5858619539846616,
          0.5938646215405136,
          0.600866955651884,
          0.6072024008002668,
          0.616538846282094,
          0.6242080693564521,
          0.6308769589863288,
          0.6392130710236745,
          0.6468822940980327,
          0.6582194064688229,
          0.6655551850616872,
          0.6722240746915639,
          0.6788929643214405,
          0.6842280760253417,
          0.6912304101367123,
          0.7002334111370457,
          0.7079026342114038,
          0.7162387462487496,
          0.7219073024341447,
          0.7309103034344782,
          0.7402467489163055,
          0.746915638546182,
          0.752917639213071,
          0.7602534178059354,
          0.7692564188062687,
          0.7802600866955652,
          0.788596198732911,
          0.7969323107702567,
          0.806268756252084,
          0.8132710903634545,
          0.820273424474825,
          0.8266088696232078,
          0.8336112037345782,
          0.8426142047349117,
          0.8486162054018006,
          0.8549516505501834,
          0.8619539846615538,
          0.8712904301433811,
          0.8802934311437146,
          0.8859619873291097,
          0.8929643214404802,
          0.8986328776258753,
          0.9059686562187396,
          0.9119706568856285,
          0.9183061020340113,
          0.9263087695898633,
          0.9373124374791597,
          0.9436478826275425,
          0.9519839946648883,
          0.9576525508502834,
          0.9646548849616539,
          0.9709903301100367,
          0.9799933311103701,
          0.9879959986662221,
          0.9936645548516172,
          1
         ],
         "yaxis": "y"
        },
        {
         "hovertemplate": "variable=balanced_accuracy<br>Conocidos=%{x}<br>value=%{y}<extra></extra>",
         "legendgroup": "balanced_accuracy",
         "line": {
          "color": "#FFA15A",
          "dash": "solid"
         },
         "marker": {
          "symbol": "circle"
         },
         "mode": "lines",
         "name": "balanced_accuracy",
         "orientation": "v",
         "showlegend": true,
         "type": "scatter",
         "x": [
          0,
          1,
          2,
          3,
          4,
          5,
          6,
          7,
          8,
          9,
          10,
          11,
          12,
          13,
          14,
          15,
          16,
          17,
          18,
          19,
          20,
          21,
          22,
          23,
          24,
          25,
          26,
          27,
          28,
          29,
          30,
          31,
          32,
          33,
          34,
          35,
          36,
          37,
          38,
          39,
          40,
          41,
          42,
          43,
          44,
          45,
          46,
          47,
          48,
          49,
          50,
          51,
          52,
          53,
          54,
          55,
          56,
          57,
          58,
          59,
          60,
          61,
          62,
          63,
          64,
          65,
          66,
          67,
          68,
          69,
          70,
          71,
          72,
          73,
          74,
          75,
          76,
          77,
          78,
          79,
          80,
          81,
          82,
          83,
          84,
          85,
          86,
          87,
          88,
          89,
          90,
          91,
          92,
          93,
          94,
          95,
          96,
          97,
          98,
          99,
          100
         ],
         "xaxis": "x",
         "y": [
          0.19781671101270798,
          0.20638305761837925,
          0.21320778941888072,
          0.22290421601174232,
          0.22798274296959659,
          0.23394010869303158,
          0.2468606148960486,
          0.2534237034300329,
          0.26253599596281274,
          0.26936182998606994,
          0.2788054014890881,
          0.2847955863205295,
          0.2925262372458245,
          0.3000228684884421,
          0.3115414156286013,
          0.3239222708148505,
          0.32901070308154556,
          0.3333395753618758,
          0.3419049423285697,
          0.35147137143015483,
          0.35726678044608734,
          0.36445114003455303,
          0.3728485126237906,
          0.3793332116931104,
          0.38565560864520687,
          0.39371753854074026,
          0.4029676520119045,
          0.40928290907129145,
          0.41769668979624147,
          0.42416353309737237,
          0.42928669726146795,
          0.4373937295201603,
          0.4436583581919125,
          0.4505523802864143,
          0.45602887732813346,
          0.4612867516047614,
          0.470961743610083,
          0.47991938840040865,
          0.48655827005526486,
          0.50098084819288,
          0.5065802028331662,
          0.5134811957480389,
          0.5234696109554099,
          0.5313398609518749,
          0.5375952213806243,
          0.5468256933064457,
          0.555577378412284,
          0.5637003071612108,
          0.5711688468264893,
          0.5814138501059826,
          0.5876338415714935,
          0.5930708940945562,
          0.5995929214050688,
          0.6104979716127128,
          0.6196156675861898,
          0.6297202656563361,
          0.6375810831452464,
          0.6474005214996025,
          0.6516357448908718,
          0.659604491054262,
          0.671206482853481,
          0.6776984908878492,
          0.686546920799189,
          0.6913091321266224,
          0.6985553504602616,
          0.7171498111957657,
          0.7247975291074791,
          0.7317196083635895,
          0.7398870052464188,
          0.7515857102719902,
          0.7629033557586388,
          0.7721102796560381,
          0.7811532847313989,
          0.7911611724117741,
          0.7990443892177903,
          0.8070900772133687,
          0.8143695333233716,
          0.8221109001241459,
          0.833741451494203,
          0.8385481309555388,
          0.8439575914739107,
          0.8520201555987006,
          0.8641505829665601,
          0.8717434622786124,
          0.8788705215802329,
          0.8867045576310908,
          0.8934909471356915,
          0.9021506000572845,
          0.9092903224395089,
          0.9147095191943828,
          0.9233854111793491,
          0.9327741440827062,
          0.9379239206125154,
          0.9469609345064827,
          0.9537544639037933,
          0.9597211007068125,
          0.9692492190916461,
          0.9809438801409485,
          0.9878859342792925,
          0.9926241295848051,
          1
         ],
         "yaxis": "y"
        }
       ],
       "layout": {
        "legend": {
         "title": {
          "text": "variable"
         },
         "tracegroupgap": 0
        },
        "margin": {
         "t": 60
        },
        "template": {
         "data": {
          "bar": [
           {
            "error_x": {
             "color": "#2a3f5f"
            },
            "error_y": {
             "color": "#2a3f5f"
            },
            "marker": {
             "line": {
              "color": "#E5ECF6",
              "width": 0.5
             },
             "pattern": {
              "fillmode": "overlay",
              "size": 10,
              "solidity": 0.2
             }
            },
            "type": "bar"
           }
          ],
          "barpolar": [
           {
            "marker": {
             "line": {
              "color": "#E5ECF6",
              "width": 0.5
             },
             "pattern": {
              "fillmode": "overlay",
              "size": 10,
              "solidity": 0.2
             }
            },
            "type": "barpolar"
           }
          ],
          "carpet": [
           {
            "aaxis": {
             "endlinecolor": "#2a3f5f",
             "gridcolor": "white",
             "linecolor": "white",
             "minorgridcolor": "white",
             "startlinecolor": "#2a3f5f"
            },
            "baxis": {
             "endlinecolor": "#2a3f5f",
             "gridcolor": "white",
             "linecolor": "white",
             "minorgridcolor": "white",
             "startlinecolor": "#2a3f5f"
            },
            "type": "carpet"
           }
          ],
          "choropleth": [
           {
            "colorbar": {
             "outlinewidth": 0,
             "ticks": ""
            },
            "type": "choropleth"
           }
          ],
          "contour": [
           {
            "colorbar": {
             "outlinewidth": 0,
             "ticks": ""
            },
            "colorscale": [
             [
              0,
              "#0d0887"
             ],
             [
              0.1111111111111111,
              "#46039f"
             ],
             [
              0.2222222222222222,
              "#7201a8"
             ],
             [
              0.3333333333333333,
              "#9c179e"
             ],
             [
              0.4444444444444444,
              "#bd3786"
             ],
             [
              0.5555555555555556,
              "#d8576b"
             ],
             [
              0.6666666666666666,
              "#ed7953"
             ],
             [
              0.7777777777777778,
              "#fb9f3a"
             ],
             [
              0.8888888888888888,
              "#fdca26"
             ],
             [
              1,
              "#f0f921"
             ]
            ],
            "type": "contour"
           }
          ],
          "contourcarpet": [
           {
            "colorbar": {
             "outlinewidth": 0,
             "ticks": ""
            },
            "type": "contourcarpet"
           }
          ],
          "heatmap": [
           {
            "colorbar": {
             "outlinewidth": 0,
             "ticks": ""
            },
            "colorscale": [
             [
              0,
              "#0d0887"
             ],
             [
              0.1111111111111111,
              "#46039f"
             ],
             [
              0.2222222222222222,
              "#7201a8"
             ],
             [
              0.3333333333333333,
              "#9c179e"
             ],
             [
              0.4444444444444444,
              "#bd3786"
             ],
             [
              0.5555555555555556,
              "#d8576b"
             ],
             [
              0.6666666666666666,
              "#ed7953"
             ],
             [
              0.7777777777777778,
              "#fb9f3a"
             ],
             [
              0.8888888888888888,
              "#fdca26"
             ],
             [
              1,
              "#f0f921"
             ]
            ],
            "type": "heatmap"
           }
          ],
          "heatmapgl": [
           {
            "colorbar": {
             "outlinewidth": 0,
             "ticks": ""
            },
            "colorscale": [
             [
              0,
              "#0d0887"
             ],
             [
              0.1111111111111111,
              "#46039f"
             ],
             [
              0.2222222222222222,
              "#7201a8"
             ],
             [
              0.3333333333333333,
              "#9c179e"
             ],
             [
              0.4444444444444444,
              "#bd3786"
             ],
             [
              0.5555555555555556,
              "#d8576b"
             ],
             [
              0.6666666666666666,
              "#ed7953"
             ],
             [
              0.7777777777777778,
              "#fb9f3a"
             ],
             [
              0.8888888888888888,
              "#fdca26"
             ],
             [
              1,
              "#f0f921"
             ]
            ],
            "type": "heatmapgl"
           }
          ],
          "histogram": [
           {
            "marker": {
             "pattern": {
              "fillmode": "overlay",
              "size": 10,
              "solidity": 0.2
             }
            },
            "type": "histogram"
           }
          ],
          "histogram2d": [
           {
            "colorbar": {
             "outlinewidth": 0,
             "ticks": ""
            },
            "colorscale": [
             [
              0,
              "#0d0887"
             ],
             [
              0.1111111111111111,
              "#46039f"
             ],
             [
              0.2222222222222222,
              "#7201a8"
             ],
             [
              0.3333333333333333,
              "#9c179e"
             ],
             [
              0.4444444444444444,
              "#bd3786"
             ],
             [
              0.5555555555555556,
              "#d8576b"
             ],
             [
              0.6666666666666666,
              "#ed7953"
             ],
             [
              0.7777777777777778,
              "#fb9f3a"
             ],
             [
              0.8888888888888888,
              "#fdca26"
             ],
             [
              1,
              "#f0f921"
             ]
            ],
            "type": "histogram2d"
           }
          ],
          "histogram2dcontour": [
           {
            "colorbar": {
             "outlinewidth": 0,
             "ticks": ""
            },
            "colorscale": [
             [
              0,
              "#0d0887"
             ],
             [
              0.1111111111111111,
              "#46039f"
             ],
             [
              0.2222222222222222,
              "#7201a8"
             ],
             [
              0.3333333333333333,
              "#9c179e"
             ],
             [
              0.4444444444444444,
              "#bd3786"
             ],
             [
              0.5555555555555556,
              "#d8576b"
             ],
             [
              0.6666666666666666,
              "#ed7953"
             ],
             [
              0.7777777777777778,
              "#fb9f3a"
             ],
             [
              0.8888888888888888,
              "#fdca26"
             ],
             [
              1,
              "#f0f921"
             ]
            ],
            "type": "histogram2dcontour"
           }
          ],
          "mesh3d": [
           {
            "colorbar": {
             "outlinewidth": 0,
             "ticks": ""
            },
            "type": "mesh3d"
           }
          ],
          "parcoords": [
           {
            "line": {
             "colorbar": {
              "outlinewidth": 0,
              "ticks": ""
             }
            },
            "type": "parcoords"
           }
          ],
          "pie": [
           {
            "automargin": true,
            "type": "pie"
           }
          ],
          "scatter": [
           {
            "fillpattern": {
             "fillmode": "overlay",
             "size": 10,
             "solidity": 0.2
            },
            "type": "scatter"
           }
          ],
          "scatter3d": [
           {
            "line": {
             "colorbar": {
              "outlinewidth": 0,
              "ticks": ""
             }
            },
            "marker": {
             "colorbar": {
              "outlinewidth": 0,
              "ticks": ""
             }
            },
            "type": "scatter3d"
           }
          ],
          "scattercarpet": [
           {
            "marker": {
             "colorbar": {
              "outlinewidth": 0,
              "ticks": ""
             }
            },
            "type": "scattercarpet"
           }
          ],
          "scattergeo": [
           {
            "marker": {
             "colorbar": {
              "outlinewidth": 0,
              "ticks": ""
             }
            },
            "type": "scattergeo"
           }
          ],
          "scattergl": [
           {
            "marker": {
             "colorbar": {
              "outlinewidth": 0,
              "ticks": ""
             }
            },
            "type": "scattergl"
           }
          ],
          "scattermapbox": [
           {
            "marker": {
             "colorbar": {
              "outlinewidth": 0,
              "ticks": ""
             }
            },
            "type": "scattermapbox"
           }
          ],
          "scatterpolar": [
           {
            "marker": {
             "colorbar": {
              "outlinewidth": 0,
              "ticks": ""
             }
            },
            "type": "scatterpolar"
           }
          ],
          "scatterpolargl": [
           {
            "marker": {
             "colorbar": {
              "outlinewidth": 0,
              "ticks": ""
             }
            },
            "type": "scatterpolargl"
           }
          ],
          "scatterternary": [
           {
            "marker": {
             "colorbar": {
              "outlinewidth": 0,
              "ticks": ""
             }
            },
            "type": "scatterternary"
           }
          ],
          "surface": [
           {
            "colorbar": {
             "outlinewidth": 0,
             "ticks": ""
            },
            "colorscale": [
             [
              0,
              "#0d0887"
             ],
             [
              0.1111111111111111,
              "#46039f"
             ],
             [
              0.2222222222222222,
              "#7201a8"
             ],
             [
              0.3333333333333333,
              "#9c179e"
             ],
             [
              0.4444444444444444,
              "#bd3786"
             ],
             [
              0.5555555555555556,
              "#d8576b"
             ],
             [
              0.6666666666666666,
              "#ed7953"
             ],
             [
              0.7777777777777778,
              "#fb9f3a"
             ],
             [
              0.8888888888888888,
              "#fdca26"
             ],
             [
              1,
              "#f0f921"
             ]
            ],
            "type": "surface"
           }
          ],
          "table": [
           {
            "cells": {
             "fill": {
              "color": "#EBF0F8"
             },
             "line": {
              "color": "white"
             }
            },
            "header": {
             "fill": {
              "color": "#C8D4E3"
             },
             "line": {
              "color": "white"
             }
            },
            "type": "table"
           }
          ]
         },
         "layout": {
          "annotationdefaults": {
           "arrowcolor": "#2a3f5f",
           "arrowhead": 0,
           "arrowwidth": 1
          },
          "autotypenumbers": "strict",
          "coloraxis": {
           "colorbar": {
            "outlinewidth": 0,
            "ticks": ""
           }
          },
          "colorscale": {
           "diverging": [
            [
             0,
             "#8e0152"
            ],
            [
             0.1,
             "#c51b7d"
            ],
            [
             0.2,
             "#de77ae"
            ],
            [
             0.3,
             "#f1b6da"
            ],
            [
             0.4,
             "#fde0ef"
            ],
            [
             0.5,
             "#f7f7f7"
            ],
            [
             0.6,
             "#e6f5d0"
            ],
            [
             0.7,
             "#b8e186"
            ],
            [
             0.8,
             "#7fbc41"
            ],
            [
             0.9,
             "#4d9221"
            ],
            [
             1,
             "#276419"
            ]
           ],
           "sequential": [
            [
             0,
             "#0d0887"
            ],
            [
             0.1111111111111111,
             "#46039f"
            ],
            [
             0.2222222222222222,
             "#7201a8"
            ],
            [
             0.3333333333333333,
             "#9c179e"
            ],
            [
             0.4444444444444444,
             "#bd3786"
            ],
            [
             0.5555555555555556,
             "#d8576b"
            ],
            [
             0.6666666666666666,
             "#ed7953"
            ],
            [
             0.7777777777777778,
             "#fb9f3a"
            ],
            [
             0.8888888888888888,
             "#fdca26"
            ],
            [
             1,
             "#f0f921"
            ]
           ],
           "sequentialminus": [
            [
             0,
             "#0d0887"
            ],
            [
             0.1111111111111111,
             "#46039f"
            ],
            [
             0.2222222222222222,
             "#7201a8"
            ],
            [
             0.3333333333333333,
             "#9c179e"
            ],
            [
             0.4444444444444444,
             "#bd3786"
            ],
            [
             0.5555555555555556,
             "#d8576b"
            ],
            [
             0.6666666666666666,
             "#ed7953"
            ],
            [
             0.7777777777777778,
             "#fb9f3a"
            ],
            [
             0.8888888888888888,
             "#fdca26"
            ],
            [
             1,
             "#f0f921"
            ]
           ]
          },
          "colorway": [
           "#636efa",
           "#EF553B",
           "#00cc96",
           "#ab63fa",
           "#FFA15A",
           "#19d3f3",
           "#FF6692",
           "#B6E880",
           "#FF97FF",
           "#FECB52"
          ],
          "font": {
           "color": "#2a3f5f"
          },
          "geo": {
           "bgcolor": "white",
           "lakecolor": "white",
           "landcolor": "#E5ECF6",
           "showlakes": true,
           "showland": true,
           "subunitcolor": "white"
          },
          "hoverlabel": {
           "align": "left"
          },
          "hovermode": "closest",
          "mapbox": {
           "style": "light"
          },
          "paper_bgcolor": "white",
          "plot_bgcolor": "#E5ECF6",
          "polar": {
           "angularaxis": {
            "gridcolor": "white",
            "linecolor": "white",
            "ticks": ""
           },
           "bgcolor": "#E5ECF6",
           "radialaxis": {
            "gridcolor": "white",
            "linecolor": "white",
            "ticks": ""
           }
          },
          "scene": {
           "xaxis": {
            "backgroundcolor": "#E5ECF6",
            "gridcolor": "white",
            "gridwidth": 2,
            "linecolor": "white",
            "showbackground": true,
            "ticks": "",
            "zerolinecolor": "white"
           },
           "yaxis": {
            "backgroundcolor": "#E5ECF6",
            "gridcolor": "white",
            "gridwidth": 2,
            "linecolor": "white",
            "showbackground": true,
            "ticks": "",
            "zerolinecolor": "white"
           },
           "zaxis": {
            "backgroundcolor": "#E5ECF6",
            "gridcolor": "white",
            "gridwidth": 2,
            "linecolor": "white",
            "showbackground": true,
            "ticks": "",
            "zerolinecolor": "white"
           }
          },
          "shapedefaults": {
           "line": {
            "color": "#2a3f5f"
           }
          },
          "ternary": {
           "aaxis": {
            "gridcolor": "white",
            "linecolor": "white",
            "ticks": ""
           },
           "baxis": {
            "gridcolor": "white",
            "linecolor": "white",
            "ticks": ""
           },
           "bgcolor": "#E5ECF6",
           "caxis": {
            "gridcolor": "white",
            "linecolor": "white",
            "ticks": ""
           }
          },
          "title": {
           "x": 0.05
          },
          "xaxis": {
           "automargin": true,
           "gridcolor": "white",
           "linecolor": "white",
           "ticks": "",
           "title": {
            "standoff": 15
           },
           "zerolinecolor": "white",
           "zerolinewidth": 2
          },
          "yaxis": {
           "automargin": true,
           "gridcolor": "white",
           "linecolor": "white",
           "ticks": "",
           "title": {
            "standoff": 15
           },
           "zerolinecolor": "white",
           "zerolinewidth": 2
          }
         }
        },
        "xaxis": {
         "anchor": "y",
         "domain": [
          0,
          1
         ],
         "title": {
          "text": "Conocidos"
         }
        },
        "yaxis": {
         "anchor": "x",
         "domain": [
          0,
          1
         ],
         "title": {
          "text": "value"
         }
        }
       }
      }
     },
     "metadata": {},
     "output_type": "display_data"
    }
   ],
   "source": [
    "px.line(kappa_progression,x='Conocidos',y=['kappa',\n",
    "                                           'kappa_cerca',\n",
    "                                           'kappa_lejos',\n",
    "                                           'accuracy',\n",
    "                                           'balanced_accuracy'])"
   ]
  },
  {
   "cell_type": "code",
   "execution_count": 18,
   "metadata": {},
   "outputs": [
    {
     "data": {
      "application/vnd.plotly.v1+json": {
       "config": {
        "plotlyServerURL": "https://plot.ly"
       },
       "data": [
        {
         "type": "heatmap",
         "x": [
          0,
          1,
          2,
          3,
          4
         ],
         "y": [
          0,
          1,
          2,
          3,
          4
         ],
         "z": [
          [
           42.68292682926829,
           57.3170731707317,
           0,
           0,
           0
          ],
          [
           0,
           50.80906148867314,
           49.19093851132686,
           0,
           0
          ],
          [
           0,
           0,
           52.168525402726154,
           47.83147459727385,
           0
          ],
          [
           0,
           0,
           0,
           50.61349693251533,
           49.38650306748466
          ],
          [
           0,
           0,
           0,
           48.80952380952381,
           51.19047619047619
          ]
         ]
        }
       ],
       "layout": {
        "annotations": [
         {
          "font": {
           "color": "white"
          },
          "showarrow": false,
          "text": "42.7 - 35",
          "x": 0,
          "xref": "x",
          "y": 0,
          "yref": "y"
         },
         {
          "font": {
           "color": "white"
          },
          "showarrow": false,
          "text": "57.3 - 47",
          "x": 1,
          "xref": "x",
          "y": 0,
          "yref": "y"
         },
         {
          "font": {
           "color": "white"
          },
          "showarrow": false,
          "text": "0.0 - 0",
          "x": 2,
          "xref": "x",
          "y": 0,
          "yref": "y"
         },
         {
          "font": {
           "color": "white"
          },
          "showarrow": false,
          "text": "0.0 - 0",
          "x": 3,
          "xref": "x",
          "y": 0,
          "yref": "y"
         },
         {
          "font": {
           "color": "white"
          },
          "showarrow": false,
          "text": "0.0 - 0",
          "x": 4,
          "xref": "x",
          "y": 0,
          "yref": "y"
         },
         {
          "font": {
           "color": "white"
          },
          "showarrow": false,
          "text": "0.0 - 0",
          "x": 0,
          "xref": "x",
          "y": 1,
          "yref": "y"
         },
         {
          "font": {
           "color": "white"
          },
          "showarrow": false,
          "text": "50.8 - 314",
          "x": 1,
          "xref": "x",
          "y": 1,
          "yref": "y"
         },
         {
          "font": {
           "color": "white"
          },
          "showarrow": false,
          "text": "49.2 - 304",
          "x": 2,
          "xref": "x",
          "y": 1,
          "yref": "y"
         },
         {
          "font": {
           "color": "white"
          },
          "showarrow": false,
          "text": "0.0 - 0",
          "x": 3,
          "xref": "x",
          "y": 1,
          "yref": "y"
         },
         {
          "font": {
           "color": "white"
          },
          "showarrow": false,
          "text": "0.0 - 0",
          "x": 4,
          "xref": "x",
          "y": 1,
          "yref": "y"
         },
         {
          "font": {
           "color": "white"
          },
          "showarrow": false,
          "text": "0.0 - 0",
          "x": 0,
          "xref": "x",
          "y": 2,
          "yref": "y"
         },
         {
          "font": {
           "color": "white"
          },
          "showarrow": false,
          "text": "0.0 - 0",
          "x": 1,
          "xref": "x",
          "y": 2,
          "yref": "y"
         },
         {
          "font": {
           "color": "white"
          },
          "showarrow": false,
          "text": "52.2 - 421",
          "x": 2,
          "xref": "x",
          "y": 2,
          "yref": "y"
         },
         {
          "font": {
           "color": "white"
          },
          "showarrow": false,
          "text": "47.8 - 386",
          "x": 3,
          "xref": "x",
          "y": 2,
          "yref": "y"
         },
         {
          "font": {
           "color": "white"
          },
          "showarrow": false,
          "text": "0.0 - 0",
          "x": 4,
          "xref": "x",
          "y": 2,
          "yref": "y"
         },
         {
          "font": {
           "color": "white"
          },
          "showarrow": false,
          "text": "0.0 - 0",
          "x": 0,
          "xref": "x",
          "y": 3,
          "yref": "y"
         },
         {
          "font": {
           "color": "white"
          },
          "showarrow": false,
          "text": "0.0 - 0",
          "x": 1,
          "xref": "x",
          "y": 3,
          "yref": "y"
         },
         {
          "font": {
           "color": "white"
          },
          "showarrow": false,
          "text": "0.0 - 0",
          "x": 2,
          "xref": "x",
          "y": 3,
          "yref": "y"
         },
         {
          "font": {
           "color": "white"
          },
          "showarrow": false,
          "text": "50.6 - 330",
          "x": 3,
          "xref": "x",
          "y": 3,
          "yref": "y"
         },
         {
          "font": {
           "color": "white"
          },
          "showarrow": false,
          "text": "49.4 - 322",
          "x": 4,
          "xref": "x",
          "y": 3,
          "yref": "y"
         },
         {
          "font": {
           "color": "white"
          },
          "showarrow": false,
          "text": "0.0 - 0",
          "x": 0,
          "xref": "x",
          "y": 4,
          "yref": "y"
         },
         {
          "font": {
           "color": "white"
          },
          "showarrow": false,
          "text": "0.0 - 0",
          "x": 1,
          "xref": "x",
          "y": 4,
          "yref": "y"
         },
         {
          "font": {
           "color": "white"
          },
          "showarrow": false,
          "text": "0.0 - 0",
          "x": 2,
          "xref": "x",
          "y": 4,
          "yref": "y"
         },
         {
          "font": {
           "color": "white"
          },
          "showarrow": false,
          "text": "48.8 - 410",
          "x": 3,
          "xref": "x",
          "y": 4,
          "yref": "y"
         },
         {
          "font": {
           "color": "white"
          },
          "showarrow": false,
          "text": "51.2 - 430",
          "x": 4,
          "xref": "x",
          "y": 4,
          "yref": "y"
         }
        ],
        "height": 800,
        "template": {
         "data": {
          "bar": [
           {
            "error_x": {
             "color": "#2a3f5f"
            },
            "error_y": {
             "color": "#2a3f5f"
            },
            "marker": {
             "line": {
              "color": "#E5ECF6",
              "width": 0.5
             },
             "pattern": {
              "fillmode": "overlay",
              "size": 10,
              "solidity": 0.2
             }
            },
            "type": "bar"
           }
          ],
          "barpolar": [
           {
            "marker": {
             "line": {
              "color": "#E5ECF6",
              "width": 0.5
             },
             "pattern": {
              "fillmode": "overlay",
              "size": 10,
              "solidity": 0.2
             }
            },
            "type": "barpolar"
           }
          ],
          "carpet": [
           {
            "aaxis": {
             "endlinecolor": "#2a3f5f",
             "gridcolor": "white",
             "linecolor": "white",
             "minorgridcolor": "white",
             "startlinecolor": "#2a3f5f"
            },
            "baxis": {
             "endlinecolor": "#2a3f5f",
             "gridcolor": "white",
             "linecolor": "white",
             "minorgridcolor": "white",
             "startlinecolor": "#2a3f5f"
            },
            "type": "carpet"
           }
          ],
          "choropleth": [
           {
            "colorbar": {
             "outlinewidth": 0,
             "ticks": ""
            },
            "type": "choropleth"
           }
          ],
          "contour": [
           {
            "colorbar": {
             "outlinewidth": 0,
             "ticks": ""
            },
            "colorscale": [
             [
              0,
              "#0d0887"
             ],
             [
              0.1111111111111111,
              "#46039f"
             ],
             [
              0.2222222222222222,
              "#7201a8"
             ],
             [
              0.3333333333333333,
              "#9c179e"
             ],
             [
              0.4444444444444444,
              "#bd3786"
             ],
             [
              0.5555555555555556,
              "#d8576b"
             ],
             [
              0.6666666666666666,
              "#ed7953"
             ],
             [
              0.7777777777777778,
              "#fb9f3a"
             ],
             [
              0.8888888888888888,
              "#fdca26"
             ],
             [
              1,
              "#f0f921"
             ]
            ],
            "type": "contour"
           }
          ],
          "contourcarpet": [
           {
            "colorbar": {
             "outlinewidth": 0,
             "ticks": ""
            },
            "type": "contourcarpet"
           }
          ],
          "heatmap": [
           {
            "colorbar": {
             "outlinewidth": 0,
             "ticks": ""
            },
            "colorscale": [
             [
              0,
              "#0d0887"
             ],
             [
              0.1111111111111111,
              "#46039f"
             ],
             [
              0.2222222222222222,
              "#7201a8"
             ],
             [
              0.3333333333333333,
              "#9c179e"
             ],
             [
              0.4444444444444444,
              "#bd3786"
             ],
             [
              0.5555555555555556,
              "#d8576b"
             ],
             [
              0.6666666666666666,
              "#ed7953"
             ],
             [
              0.7777777777777778,
              "#fb9f3a"
             ],
             [
              0.8888888888888888,
              "#fdca26"
             ],
             [
              1,
              "#f0f921"
             ]
            ],
            "type": "heatmap"
           }
          ],
          "heatmapgl": [
           {
            "colorbar": {
             "outlinewidth": 0,
             "ticks": ""
            },
            "colorscale": [
             [
              0,
              "#0d0887"
             ],
             [
              0.1111111111111111,
              "#46039f"
             ],
             [
              0.2222222222222222,
              "#7201a8"
             ],
             [
              0.3333333333333333,
              "#9c179e"
             ],
             [
              0.4444444444444444,
              "#bd3786"
             ],
             [
              0.5555555555555556,
              "#d8576b"
             ],
             [
              0.6666666666666666,
              "#ed7953"
             ],
             [
              0.7777777777777778,
              "#fb9f3a"
             ],
             [
              0.8888888888888888,
              "#fdca26"
             ],
             [
              1,
              "#f0f921"
             ]
            ],
            "type": "heatmapgl"
           }
          ],
          "histogram": [
           {
            "marker": {
             "pattern": {
              "fillmode": "overlay",
              "size": 10,
              "solidity": 0.2
             }
            },
            "type": "histogram"
           }
          ],
          "histogram2d": [
           {
            "colorbar": {
             "outlinewidth": 0,
             "ticks": ""
            },
            "colorscale": [
             [
              0,
              "#0d0887"
             ],
             [
              0.1111111111111111,
              "#46039f"
             ],
             [
              0.2222222222222222,
              "#7201a8"
             ],
             [
              0.3333333333333333,
              "#9c179e"
             ],
             [
              0.4444444444444444,
              "#bd3786"
             ],
             [
              0.5555555555555556,
              "#d8576b"
             ],
             [
              0.6666666666666666,
              "#ed7953"
             ],
             [
              0.7777777777777778,
              "#fb9f3a"
             ],
             [
              0.8888888888888888,
              "#fdca26"
             ],
             [
              1,
              "#f0f921"
             ]
            ],
            "type": "histogram2d"
           }
          ],
          "histogram2dcontour": [
           {
            "colorbar": {
             "outlinewidth": 0,
             "ticks": ""
            },
            "colorscale": [
             [
              0,
              "#0d0887"
             ],
             [
              0.1111111111111111,
              "#46039f"
             ],
             [
              0.2222222222222222,
              "#7201a8"
             ],
             [
              0.3333333333333333,
              "#9c179e"
             ],
             [
              0.4444444444444444,
              "#bd3786"
             ],
             [
              0.5555555555555556,
              "#d8576b"
             ],
             [
              0.6666666666666666,
              "#ed7953"
             ],
             [
              0.7777777777777778,
              "#fb9f3a"
             ],
             [
              0.8888888888888888,
              "#fdca26"
             ],
             [
              1,
              "#f0f921"
             ]
            ],
            "type": "histogram2dcontour"
           }
          ],
          "mesh3d": [
           {
            "colorbar": {
             "outlinewidth": 0,
             "ticks": ""
            },
            "type": "mesh3d"
           }
          ],
          "parcoords": [
           {
            "line": {
             "colorbar": {
              "outlinewidth": 0,
              "ticks": ""
             }
            },
            "type": "parcoords"
           }
          ],
          "pie": [
           {
            "automargin": true,
            "type": "pie"
           }
          ],
          "scatter": [
           {
            "fillpattern": {
             "fillmode": "overlay",
             "size": 10,
             "solidity": 0.2
            },
            "type": "scatter"
           }
          ],
          "scatter3d": [
           {
            "line": {
             "colorbar": {
              "outlinewidth": 0,
              "ticks": ""
             }
            },
            "marker": {
             "colorbar": {
              "outlinewidth": 0,
              "ticks": ""
             }
            },
            "type": "scatter3d"
           }
          ],
          "scattercarpet": [
           {
            "marker": {
             "colorbar": {
              "outlinewidth": 0,
              "ticks": ""
             }
            },
            "type": "scattercarpet"
           }
          ],
          "scattergeo": [
           {
            "marker": {
             "colorbar": {
              "outlinewidth": 0,
              "ticks": ""
             }
            },
            "type": "scattergeo"
           }
          ],
          "scattergl": [
           {
            "marker": {
             "colorbar": {
              "outlinewidth": 0,
              "ticks": ""
             }
            },
            "type": "scattergl"
           }
          ],
          "scattermapbox": [
           {
            "marker": {
             "colorbar": {
              "outlinewidth": 0,
              "ticks": ""
             }
            },
            "type": "scattermapbox"
           }
          ],
          "scatterpolar": [
           {
            "marker": {
             "colorbar": {
              "outlinewidth": 0,
              "ticks": ""
             }
            },
            "type": "scatterpolar"
           }
          ],
          "scatterpolargl": [
           {
            "marker": {
             "colorbar": {
              "outlinewidth": 0,
              "ticks": ""
             }
            },
            "type": "scatterpolargl"
           }
          ],
          "scatterternary": [
           {
            "marker": {
             "colorbar": {
              "outlinewidth": 0,
              "ticks": ""
             }
            },
            "type": "scatterternary"
           }
          ],
          "surface": [
           {
            "colorbar": {
             "outlinewidth": 0,
             "ticks": ""
            },
            "colorscale": [
             [
              0,
              "#0d0887"
             ],
             [
              0.1111111111111111,
              "#46039f"
             ],
             [
              0.2222222222222222,
              "#7201a8"
             ],
             [
              0.3333333333333333,
              "#9c179e"
             ],
             [
              0.4444444444444444,
              "#bd3786"
             ],
             [
              0.5555555555555556,
              "#d8576b"
             ],
             [
              0.6666666666666666,
              "#ed7953"
             ],
             [
              0.7777777777777778,
              "#fb9f3a"
             ],
             [
              0.8888888888888888,
              "#fdca26"
             ],
             [
              1,
              "#f0f921"
             ]
            ],
            "type": "surface"
           }
          ],
          "table": [
           {
            "cells": {
             "fill": {
              "color": "#EBF0F8"
             },
             "line": {
              "color": "white"
             }
            },
            "header": {
             "fill": {
              "color": "#C8D4E3"
             },
             "line": {
              "color": "white"
             }
            },
            "type": "table"
           }
          ]
         },
         "layout": {
          "annotationdefaults": {
           "arrowcolor": "#2a3f5f",
           "arrowhead": 0,
           "arrowwidth": 1
          },
          "autotypenumbers": "strict",
          "coloraxis": {
           "colorbar": {
            "outlinewidth": 0,
            "ticks": ""
           }
          },
          "colorscale": {
           "diverging": [
            [
             0,
             "#8e0152"
            ],
            [
             0.1,
             "#c51b7d"
            ],
            [
             0.2,
             "#de77ae"
            ],
            [
             0.3,
             "#f1b6da"
            ],
            [
             0.4,
             "#fde0ef"
            ],
            [
             0.5,
             "#f7f7f7"
            ],
            [
             0.6,
             "#e6f5d0"
            ],
            [
             0.7,
             "#b8e186"
            ],
            [
             0.8,
             "#7fbc41"
            ],
            [
             0.9,
             "#4d9221"
            ],
            [
             1,
             "#276419"
            ]
           ],
           "sequential": [
            [
             0,
             "#0d0887"
            ],
            [
             0.1111111111111111,
             "#46039f"
            ],
            [
             0.2222222222222222,
             "#7201a8"
            ],
            [
             0.3333333333333333,
             "#9c179e"
            ],
            [
             0.4444444444444444,
             "#bd3786"
            ],
            [
             0.5555555555555556,
             "#d8576b"
            ],
            [
             0.6666666666666666,
             "#ed7953"
            ],
            [
             0.7777777777777778,
             "#fb9f3a"
            ],
            [
             0.8888888888888888,
             "#fdca26"
            ],
            [
             1,
             "#f0f921"
            ]
           ],
           "sequentialminus": [
            [
             0,
             "#0d0887"
            ],
            [
             0.1111111111111111,
             "#46039f"
            ],
            [
             0.2222222222222222,
             "#7201a8"
            ],
            [
             0.3333333333333333,
             "#9c179e"
            ],
            [
             0.4444444444444444,
             "#bd3786"
            ],
            [
             0.5555555555555556,
             "#d8576b"
            ],
            [
             0.6666666666666666,
             "#ed7953"
            ],
            [
             0.7777777777777778,
             "#fb9f3a"
            ],
            [
             0.8888888888888888,
             "#fdca26"
            ],
            [
             1,
             "#f0f921"
            ]
           ]
          },
          "colorway": [
           "#636efa",
           "#EF553B",
           "#00cc96",
           "#ab63fa",
           "#FFA15A",
           "#19d3f3",
           "#FF6692",
           "#B6E880",
           "#FF97FF",
           "#FECB52"
          ],
          "font": {
           "color": "#2a3f5f"
          },
          "geo": {
           "bgcolor": "white",
           "lakecolor": "white",
           "landcolor": "#E5ECF6",
           "showlakes": true,
           "showland": true,
           "subunitcolor": "white"
          },
          "hoverlabel": {
           "align": "left"
          },
          "hovermode": "closest",
          "mapbox": {
           "style": "light"
          },
          "paper_bgcolor": "white",
          "plot_bgcolor": "#E5ECF6",
          "polar": {
           "angularaxis": {
            "gridcolor": "white",
            "linecolor": "white",
            "ticks": ""
           },
           "bgcolor": "#E5ECF6",
           "radialaxis": {
            "gridcolor": "white",
            "linecolor": "white",
            "ticks": ""
           }
          },
          "scene": {
           "xaxis": {
            "backgroundcolor": "#E5ECF6",
            "gridcolor": "white",
            "gridwidth": 2,
            "linecolor": "white",
            "showbackground": true,
            "ticks": "",
            "zerolinecolor": "white"
           },
           "yaxis": {
            "backgroundcolor": "#E5ECF6",
            "gridcolor": "white",
            "gridwidth": 2,
            "linecolor": "white",
            "showbackground": true,
            "ticks": "",
            "zerolinecolor": "white"
           },
           "zaxis": {
            "backgroundcolor": "#E5ECF6",
            "gridcolor": "white",
            "gridwidth": 2,
            "linecolor": "white",
            "showbackground": true,
            "ticks": "",
            "zerolinecolor": "white"
           }
          },
          "shapedefaults": {
           "line": {
            "color": "#2a3f5f"
           }
          },
          "ternary": {
           "aaxis": {
            "gridcolor": "white",
            "linecolor": "white",
            "ticks": ""
           },
           "baxis": {
            "gridcolor": "white",
            "linecolor": "white",
            "ticks": ""
           },
           "bgcolor": "#E5ECF6",
           "caxis": {
            "gridcolor": "white",
            "linecolor": "white",
            "ticks": ""
           }
          },
          "title": {
           "x": 0.05
          },
          "xaxis": {
           "automargin": true,
           "gridcolor": "white",
           "linecolor": "white",
           "ticks": "",
           "title": {
            "standoff": 15
           },
           "zerolinecolor": "white",
           "zerolinewidth": 2
          },
          "yaxis": {
           "automargin": true,
           "gridcolor": "white",
           "linecolor": "white",
           "ticks": "",
           "title": {
            "standoff": 15
           },
           "zerolinecolor": "white",
           "zerolinewidth": 2
          }
         }
        },
        "title": {
         "text": "Kappa 0.7993153583779747"
        },
        "width": 800,
        "xaxis": {
         "title": {
          "text": "Predicted value"
         }
        },
        "yaxis": {
         "title": {
          "text": "Real value"
         }
        }
       }
      }
     },
     "metadata": {},
     "output_type": "display_data"
    },
    {
     "data": {
      "application/vnd.plotly.v1+json": {
       "config": {
        "plotlyServerURL": "https://plot.ly"
       },
       "data": [
        {
         "type": "heatmap",
         "x": [
          0,
          1,
          2,
          3,
          4
         ],
         "y": [
          0,
          1,
          2,
          3,
          4
         ],
         "z": [
          [
           42.68292682926829,
           0,
           0,
           0,
           57.3170731707317
          ],
          [
           0,
           50.80906148867314,
           0,
           0,
           49.19093851132686
          ],
          [
           47.83147459727385,
           0,
           52.168525402726154,
           0,
           0
          ],
          [
           49.38650306748466,
           0,
           0,
           50.61349693251533,
           0
          ],
          [
           48.80952380952381,
           0,
           0,
           0,
           51.19047619047619
          ]
         ]
        }
       ],
       "layout": {
        "annotations": [
         {
          "font": {
           "color": "white"
          },
          "showarrow": false,
          "text": "42.7 - 35",
          "x": 0,
          "xref": "x",
          "y": 0,
          "yref": "y"
         },
         {
          "font": {
           "color": "white"
          },
          "showarrow": false,
          "text": "0.0 - 0",
          "x": 1,
          "xref": "x",
          "y": 0,
          "yref": "y"
         },
         {
          "font": {
           "color": "white"
          },
          "showarrow": false,
          "text": "0.0 - 0",
          "x": 2,
          "xref": "x",
          "y": 0,
          "yref": "y"
         },
         {
          "font": {
           "color": "white"
          },
          "showarrow": false,
          "text": "0.0 - 0",
          "x": 3,
          "xref": "x",
          "y": 0,
          "yref": "y"
         },
         {
          "font": {
           "color": "white"
          },
          "showarrow": false,
          "text": "57.3 - 47",
          "x": 4,
          "xref": "x",
          "y": 0,
          "yref": "y"
         },
         {
          "font": {
           "color": "white"
          },
          "showarrow": false,
          "text": "0.0 - 0",
          "x": 0,
          "xref": "x",
          "y": 1,
          "yref": "y"
         },
         {
          "font": {
           "color": "white"
          },
          "showarrow": false,
          "text": "50.8 - 314",
          "x": 1,
          "xref": "x",
          "y": 1,
          "yref": "y"
         },
         {
          "font": {
           "color": "white"
          },
          "showarrow": false,
          "text": "0.0 - 0",
          "x": 2,
          "xref": "x",
          "y": 1,
          "yref": "y"
         },
         {
          "font": {
           "color": "white"
          },
          "showarrow": false,
          "text": "0.0 - 0",
          "x": 3,
          "xref": "x",
          "y": 1,
          "yref": "y"
         },
         {
          "font": {
           "color": "white"
          },
          "showarrow": false,
          "text": "49.2 - 304",
          "x": 4,
          "xref": "x",
          "y": 1,
          "yref": "y"
         },
         {
          "font": {
           "color": "white"
          },
          "showarrow": false,
          "text": "47.8 - 386",
          "x": 0,
          "xref": "x",
          "y": 2,
          "yref": "y"
         },
         {
          "font": {
           "color": "white"
          },
          "showarrow": false,
          "text": "0.0 - 0",
          "x": 1,
          "xref": "x",
          "y": 2,
          "yref": "y"
         },
         {
          "font": {
           "color": "white"
          },
          "showarrow": false,
          "text": "52.2 - 421",
          "x": 2,
          "xref": "x",
          "y": 2,
          "yref": "y"
         },
         {
          "font": {
           "color": "white"
          },
          "showarrow": false,
          "text": "0.0 - 0",
          "x": 3,
          "xref": "x",
          "y": 2,
          "yref": "y"
         },
         {
          "font": {
           "color": "white"
          },
          "showarrow": false,
          "text": "0.0 - 0",
          "x": 4,
          "xref": "x",
          "y": 2,
          "yref": "y"
         },
         {
          "font": {
           "color": "white"
          },
          "showarrow": false,
          "text": "49.4 - 322",
          "x": 0,
          "xref": "x",
          "y": 3,
          "yref": "y"
         },
         {
          "font": {
           "color": "white"
          },
          "showarrow": false,
          "text": "0.0 - 0",
          "x": 1,
          "xref": "x",
          "y": 3,
          "yref": "y"
         },
         {
          "font": {
           "color": "white"
          },
          "showarrow": false,
          "text": "0.0 - 0",
          "x": 2,
          "xref": "x",
          "y": 3,
          "yref": "y"
         },
         {
          "font": {
           "color": "white"
          },
          "showarrow": false,
          "text": "50.6 - 330",
          "x": 3,
          "xref": "x",
          "y": 3,
          "yref": "y"
         },
         {
          "font": {
           "color": "white"
          },
          "showarrow": false,
          "text": "0.0 - 0",
          "x": 4,
          "xref": "x",
          "y": 3,
          "yref": "y"
         },
         {
          "font": {
           "color": "white"
          },
          "showarrow": false,
          "text": "48.8 - 410",
          "x": 0,
          "xref": "x",
          "y": 4,
          "yref": "y"
         },
         {
          "font": {
           "color": "white"
          },
          "showarrow": false,
          "text": "0.0 - 0",
          "x": 1,
          "xref": "x",
          "y": 4,
          "yref": "y"
         },
         {
          "font": {
           "color": "white"
          },
          "showarrow": false,
          "text": "0.0 - 0",
          "x": 2,
          "xref": "x",
          "y": 4,
          "yref": "y"
         },
         {
          "font": {
           "color": "white"
          },
          "showarrow": false,
          "text": "0.0 - 0",
          "x": 3,
          "xref": "x",
          "y": 4,
          "yref": "y"
         },
         {
          "font": {
           "color": "white"
          },
          "showarrow": false,
          "text": "51.2 - 430",
          "x": 4,
          "xref": "x",
          "y": 4,
          "yref": "y"
         }
        ],
        "height": 800,
        "template": {
         "data": {
          "bar": [
           {
            "error_x": {
             "color": "#2a3f5f"
            },
            "error_y": {
             "color": "#2a3f5f"
            },
            "marker": {
             "line": {
              "color": "#E5ECF6",
              "width": 0.5
             },
             "pattern": {
              "fillmode": "overlay",
              "size": 10,
              "solidity": 0.2
             }
            },
            "type": "bar"
           }
          ],
          "barpolar": [
           {
            "marker": {
             "line": {
              "color": "#E5ECF6",
              "width": 0.5
             },
             "pattern": {
              "fillmode": "overlay",
              "size": 10,
              "solidity": 0.2
             }
            },
            "type": "barpolar"
           }
          ],
          "carpet": [
           {
            "aaxis": {
             "endlinecolor": "#2a3f5f",
             "gridcolor": "white",
             "linecolor": "white",
             "minorgridcolor": "white",
             "startlinecolor": "#2a3f5f"
            },
            "baxis": {
             "endlinecolor": "#2a3f5f",
             "gridcolor": "white",
             "linecolor": "white",
             "minorgridcolor": "white",
             "startlinecolor": "#2a3f5f"
            },
            "type": "carpet"
           }
          ],
          "choropleth": [
           {
            "colorbar": {
             "outlinewidth": 0,
             "ticks": ""
            },
            "type": "choropleth"
           }
          ],
          "contour": [
           {
            "colorbar": {
             "outlinewidth": 0,
             "ticks": ""
            },
            "colorscale": [
             [
              0,
              "#0d0887"
             ],
             [
              0.1111111111111111,
              "#46039f"
             ],
             [
              0.2222222222222222,
              "#7201a8"
             ],
             [
              0.3333333333333333,
              "#9c179e"
             ],
             [
              0.4444444444444444,
              "#bd3786"
             ],
             [
              0.5555555555555556,
              "#d8576b"
             ],
             [
              0.6666666666666666,
              "#ed7953"
             ],
             [
              0.7777777777777778,
              "#fb9f3a"
             ],
             [
              0.8888888888888888,
              "#fdca26"
             ],
             [
              1,
              "#f0f921"
             ]
            ],
            "type": "contour"
           }
          ],
          "contourcarpet": [
           {
            "colorbar": {
             "outlinewidth": 0,
             "ticks": ""
            },
            "type": "contourcarpet"
           }
          ],
          "heatmap": [
           {
            "colorbar": {
             "outlinewidth": 0,
             "ticks": ""
            },
            "colorscale": [
             [
              0,
              "#0d0887"
             ],
             [
              0.1111111111111111,
              "#46039f"
             ],
             [
              0.2222222222222222,
              "#7201a8"
             ],
             [
              0.3333333333333333,
              "#9c179e"
             ],
             [
              0.4444444444444444,
              "#bd3786"
             ],
             [
              0.5555555555555556,
              "#d8576b"
             ],
             [
              0.6666666666666666,
              "#ed7953"
             ],
             [
              0.7777777777777778,
              "#fb9f3a"
             ],
             [
              0.8888888888888888,
              "#fdca26"
             ],
             [
              1,
              "#f0f921"
             ]
            ],
            "type": "heatmap"
           }
          ],
          "heatmapgl": [
           {
            "colorbar": {
             "outlinewidth": 0,
             "ticks": ""
            },
            "colorscale": [
             [
              0,
              "#0d0887"
             ],
             [
              0.1111111111111111,
              "#46039f"
             ],
             [
              0.2222222222222222,
              "#7201a8"
             ],
             [
              0.3333333333333333,
              "#9c179e"
             ],
             [
              0.4444444444444444,
              "#bd3786"
             ],
             [
              0.5555555555555556,
              "#d8576b"
             ],
             [
              0.6666666666666666,
              "#ed7953"
             ],
             [
              0.7777777777777778,
              "#fb9f3a"
             ],
             [
              0.8888888888888888,
              "#fdca26"
             ],
             [
              1,
              "#f0f921"
             ]
            ],
            "type": "heatmapgl"
           }
          ],
          "histogram": [
           {
            "marker": {
             "pattern": {
              "fillmode": "overlay",
              "size": 10,
              "solidity": 0.2
             }
            },
            "type": "histogram"
           }
          ],
          "histogram2d": [
           {
            "colorbar": {
             "outlinewidth": 0,
             "ticks": ""
            },
            "colorscale": [
             [
              0,
              "#0d0887"
             ],
             [
              0.1111111111111111,
              "#46039f"
             ],
             [
              0.2222222222222222,
              "#7201a8"
             ],
             [
              0.3333333333333333,
              "#9c179e"
             ],
             [
              0.4444444444444444,
              "#bd3786"
             ],
             [
              0.5555555555555556,
              "#d8576b"
             ],
             [
              0.6666666666666666,
              "#ed7953"
             ],
             [
              0.7777777777777778,
              "#fb9f3a"
             ],
             [
              0.8888888888888888,
              "#fdca26"
             ],
             [
              1,
              "#f0f921"
             ]
            ],
            "type": "histogram2d"
           }
          ],
          "histogram2dcontour": [
           {
            "colorbar": {
             "outlinewidth": 0,
             "ticks": ""
            },
            "colorscale": [
             [
              0,
              "#0d0887"
             ],
             [
              0.1111111111111111,
              "#46039f"
             ],
             [
              0.2222222222222222,
              "#7201a8"
             ],
             [
              0.3333333333333333,
              "#9c179e"
             ],
             [
              0.4444444444444444,
              "#bd3786"
             ],
             [
              0.5555555555555556,
              "#d8576b"
             ],
             [
              0.6666666666666666,
              "#ed7953"
             ],
             [
              0.7777777777777778,
              "#fb9f3a"
             ],
             [
              0.8888888888888888,
              "#fdca26"
             ],
             [
              1,
              "#f0f921"
             ]
            ],
            "type": "histogram2dcontour"
           }
          ],
          "mesh3d": [
           {
            "colorbar": {
             "outlinewidth": 0,
             "ticks": ""
            },
            "type": "mesh3d"
           }
          ],
          "parcoords": [
           {
            "line": {
             "colorbar": {
              "outlinewidth": 0,
              "ticks": ""
             }
            },
            "type": "parcoords"
           }
          ],
          "pie": [
           {
            "automargin": true,
            "type": "pie"
           }
          ],
          "scatter": [
           {
            "fillpattern": {
             "fillmode": "overlay",
             "size": 10,
             "solidity": 0.2
            },
            "type": "scatter"
           }
          ],
          "scatter3d": [
           {
            "line": {
             "colorbar": {
              "outlinewidth": 0,
              "ticks": ""
             }
            },
            "marker": {
             "colorbar": {
              "outlinewidth": 0,
              "ticks": ""
             }
            },
            "type": "scatter3d"
           }
          ],
          "scattercarpet": [
           {
            "marker": {
             "colorbar": {
              "outlinewidth": 0,
              "ticks": ""
             }
            },
            "type": "scattercarpet"
           }
          ],
          "scattergeo": [
           {
            "marker": {
             "colorbar": {
              "outlinewidth": 0,
              "ticks": ""
             }
            },
            "type": "scattergeo"
           }
          ],
          "scattergl": [
           {
            "marker": {
             "colorbar": {
              "outlinewidth": 0,
              "ticks": ""
             }
            },
            "type": "scattergl"
           }
          ],
          "scattermapbox": [
           {
            "marker": {
             "colorbar": {
              "outlinewidth": 0,
              "ticks": ""
             }
            },
            "type": "scattermapbox"
           }
          ],
          "scatterpolar": [
           {
            "marker": {
             "colorbar": {
              "outlinewidth": 0,
              "ticks": ""
             }
            },
            "type": "scatterpolar"
           }
          ],
          "scatterpolargl": [
           {
            "marker": {
             "colorbar": {
              "outlinewidth": 0,
              "ticks": ""
             }
            },
            "type": "scatterpolargl"
           }
          ],
          "scatterternary": [
           {
            "marker": {
             "colorbar": {
              "outlinewidth": 0,
              "ticks": ""
             }
            },
            "type": "scatterternary"
           }
          ],
          "surface": [
           {
            "colorbar": {
             "outlinewidth": 0,
             "ticks": ""
            },
            "colorscale": [
             [
              0,
              "#0d0887"
             ],
             [
              0.1111111111111111,
              "#46039f"
             ],
             [
              0.2222222222222222,
              "#7201a8"
             ],
             [
              0.3333333333333333,
              "#9c179e"
             ],
             [
              0.4444444444444444,
              "#bd3786"
             ],
             [
              0.5555555555555556,
              "#d8576b"
             ],
             [
              0.6666666666666666,
              "#ed7953"
             ],
             [
              0.7777777777777778,
              "#fb9f3a"
             ],
             [
              0.8888888888888888,
              "#fdca26"
             ],
             [
              1,
              "#f0f921"
             ]
            ],
            "type": "surface"
           }
          ],
          "table": [
           {
            "cells": {
             "fill": {
              "color": "#EBF0F8"
             },
             "line": {
              "color": "white"
             }
            },
            "header": {
             "fill": {
              "color": "#C8D4E3"
             },
             "line": {
              "color": "white"
             }
            },
            "type": "table"
           }
          ]
         },
         "layout": {
          "annotationdefaults": {
           "arrowcolor": "#2a3f5f",
           "arrowhead": 0,
           "arrowwidth": 1
          },
          "autotypenumbers": "strict",
          "coloraxis": {
           "colorbar": {
            "outlinewidth": 0,
            "ticks": ""
           }
          },
          "colorscale": {
           "diverging": [
            [
             0,
             "#8e0152"
            ],
            [
             0.1,
             "#c51b7d"
            ],
            [
             0.2,
             "#de77ae"
            ],
            [
             0.3,
             "#f1b6da"
            ],
            [
             0.4,
             "#fde0ef"
            ],
            [
             0.5,
             "#f7f7f7"
            ],
            [
             0.6,
             "#e6f5d0"
            ],
            [
             0.7,
             "#b8e186"
            ],
            [
             0.8,
             "#7fbc41"
            ],
            [
             0.9,
             "#4d9221"
            ],
            [
             1,
             "#276419"
            ]
           ],
           "sequential": [
            [
             0,
             "#0d0887"
            ],
            [
             0.1111111111111111,
             "#46039f"
            ],
            [
             0.2222222222222222,
             "#7201a8"
            ],
            [
             0.3333333333333333,
             "#9c179e"
            ],
            [
             0.4444444444444444,
             "#bd3786"
            ],
            [
             0.5555555555555556,
             "#d8576b"
            ],
            [
             0.6666666666666666,
             "#ed7953"
            ],
            [
             0.7777777777777778,
             "#fb9f3a"
            ],
            [
             0.8888888888888888,
             "#fdca26"
            ],
            [
             1,
             "#f0f921"
            ]
           ],
           "sequentialminus": [
            [
             0,
             "#0d0887"
            ],
            [
             0.1111111111111111,
             "#46039f"
            ],
            [
             0.2222222222222222,
             "#7201a8"
            ],
            [
             0.3333333333333333,
             "#9c179e"
            ],
            [
             0.4444444444444444,
             "#bd3786"
            ],
            [
             0.5555555555555556,
             "#d8576b"
            ],
            [
             0.6666666666666666,
             "#ed7953"
            ],
            [
             0.7777777777777778,
             "#fb9f3a"
            ],
            [
             0.8888888888888888,
             "#fdca26"
            ],
            [
             1,
             "#f0f921"
            ]
           ]
          },
          "colorway": [
           "#636efa",
           "#EF553B",
           "#00cc96",
           "#ab63fa",
           "#FFA15A",
           "#19d3f3",
           "#FF6692",
           "#B6E880",
           "#FF97FF",
           "#FECB52"
          ],
          "font": {
           "color": "#2a3f5f"
          },
          "geo": {
           "bgcolor": "white",
           "lakecolor": "white",
           "landcolor": "#E5ECF6",
           "showlakes": true,
           "showland": true,
           "subunitcolor": "white"
          },
          "hoverlabel": {
           "align": "left"
          },
          "hovermode": "closest",
          "mapbox": {
           "style": "light"
          },
          "paper_bgcolor": "white",
          "plot_bgcolor": "#E5ECF6",
          "polar": {
           "angularaxis": {
            "gridcolor": "white",
            "linecolor": "white",
            "ticks": ""
           },
           "bgcolor": "#E5ECF6",
           "radialaxis": {
            "gridcolor": "white",
            "linecolor": "white",
            "ticks": ""
           }
          },
          "scene": {
           "xaxis": {
            "backgroundcolor": "#E5ECF6",
            "gridcolor": "white",
            "gridwidth": 2,
            "linecolor": "white",
            "showbackground": true,
            "ticks": "",
            "zerolinecolor": "white"
           },
           "yaxis": {
            "backgroundcolor": "#E5ECF6",
            "gridcolor": "white",
            "gridwidth": 2,
            "linecolor": "white",
            "showbackground": true,
            "ticks": "",
            "zerolinecolor": "white"
           },
           "zaxis": {
            "backgroundcolor": "#E5ECF6",
            "gridcolor": "white",
            "gridwidth": 2,
            "linecolor": "white",
            "showbackground": true,
            "ticks": "",
            "zerolinecolor": "white"
           }
          },
          "shapedefaults": {
           "line": {
            "color": "#2a3f5f"
           }
          },
          "ternary": {
           "aaxis": {
            "gridcolor": "white",
            "linecolor": "white",
            "ticks": ""
           },
           "baxis": {
            "gridcolor": "white",
            "linecolor": "white",
            "ticks": ""
           },
           "bgcolor": "#E5ECF6",
           "caxis": {
            "gridcolor": "white",
            "linecolor": "white",
            "ticks": ""
           }
          },
          "title": {
           "x": 0.05
          },
          "xaxis": {
           "automargin": true,
           "gridcolor": "white",
           "linecolor": "white",
           "ticks": "",
           "title": {
            "standoff": 15
           },
           "zerolinecolor": "white",
           "zerolinewidth": 2
          },
          "yaxis": {
           "automargin": true,
           "gridcolor": "white",
           "linecolor": "white",
           "ticks": "",
           "title": {
            "standoff": 15
           },
           "zerolinecolor": "white",
           "zerolinewidth": 2
          }
         }
        },
        "title": {
         "text": "Kappa -0.028351158429723133"
        },
        "width": 800,
        "xaxis": {
         "title": {
          "text": "Predicted value"
         }
        },
        "yaxis": {
         "title": {
          "text": "Real value"
         }
        }
       }
      }
     },
     "metadata": {},
     "output_type": "display_data"
    }
   ],
   "source": [
    "y_simulado_cerca = [y_test.iloc[sample] if random_list[sample]<50/100 else y_cerca[sample] for sample in range(len(y_test))]\n",
    "\n",
    "display(plot_confusion_matrix(y_test,y_simulado_cerca, \n",
    "                              title = \"Kappa \" + str(cohen_kappa_score(y_test,y_simulado_cerca, weights = 'quadratic'))))\n",
    "\n",
    "\n",
    "y_simulado_lejos = [y_test.iloc[sample] if random_list[sample]<50/100 else y_lejos[sample] for sample in range(len(y_test))]\n",
    "\n",
    "display(plot_confusion_matrix(y_test,y_simulado_lejos, \n",
    "                              title = \"Kappa \" + str(cohen_kappa_score(y_test,y_simulado_lejos, weights = 'quadratic'))))\n"
   ]
  },
  {
   "cell_type": "code",
   "execution_count": 19,
   "metadata": {},
   "outputs": [
    {
     "name": "stdout",
     "output_type": "stream",
     "text": [
      "[LightGBM] [Info] Number of positive: 328, number of negative: 11666\n",
      "[LightGBM] [Info] Number of positive: 2472, number of negative: 9522\n",
      "[LightGBM] [Info] Number of positive: 3230, number of negative: 8764\n",
      "[LightGBM] [Info] Number of positive: 2607, number of negative: 9387\n",
      "[LightGBM] [Info] Number of positive: 3357, number of negative: 8637\n",
      "[LightGBM] [Info] Auto-choosing row-wise multi-threading, the overhead of testing was 0.001626 seconds.\n",
      "You can set `force_row_wise=true` to remove the overhead.\n",
      "And if memory is not enough, you can set `force_col_wise=true`.\n",
      "[LightGBM] [Info] Total Bins 438\n",
      "[LightGBM] [Info] Number of data points in the train set: 11994, number of used features: 19\n",
      "[LightGBM] [Info] [binary:BoostFromScore]: pavg=0.027347 -> initscore=-3.571420\n",
      "[LightGBM] [Info] Start training from score -3.571420\n",
      "[LightGBM] [Info] [binary:BoostFromScore]: pavg=0.206103 -> initscore=-1.348577\n",
      "[LightGBM] [Info] Start training from score -1.348577\n",
      "[LightGBM] [Info] [binary:BoostFromScore]: pavg=0.269301 -> initscore=-0.998170\n",
      "[LightGBM] [Info] Start training from score -0.998170\n",
      "[LightGBM] [Info] [binary:BoostFromScore]: pavg=0.217359 -> initscore=-1.281126\n",
      "[LightGBM] [Info] Start training from score -1.281126\n",
      "[LightGBM] [Info] [binary:BoostFromScore]: pavg=0.279890 -> initscore=-0.945008\n",
      "[LightGBM] [Info] Start training from score -0.945008\n"
     ]
    }
   ],
   "source": [
    "lgb_params = params = {\n",
    "                        'objective': 'multiclassova',\n",
    "                        'num_class': len(y_train.unique())\n",
    "                        }\n",
    "\n",
    "\n",
    "lgb_train_dataset = lgb.Dataset(data=X_train,\n",
    "                                label=y_train)\n",
    "\n",
    "\n",
    "lgb_model = lgb.train(lgb_params,\n",
    "                      lgb_train_dataset)"
   ]
  },
  {
   "cell_type": "code",
   "execution_count": 20,
   "metadata": {},
   "outputs": [
    {
     "data": {
      "application/vnd.plotly.v1+json": {
       "config": {
        "plotlyServerURL": "https://plot.ly"
       },
       "data": [
        {
         "type": "heatmap",
         "x": [
          0,
          1,
          2,
          3,
          4
         ],
         "y": [
          0,
          1,
          2,
          3,
          4
         ],
         "z": [
          [
           7.317073170731707,
           39.02439024390244,
           28.04878048780488,
           7.317073170731707,
           18.29268292682927
          ],
          [
           0.48543689320388345,
           32.847896440129446,
           37.37864077669903,
           7.766990291262135,
           21.521035598705502
          ],
          [
           0.12391573729863693,
           21.437422552664188,
           38.53779429987608,
           11.152416356877323,
           28.74845105328377
          ],
          [
           0.4601226993865031,
           16.87116564417178,
           33.58895705521473,
           19.32515337423313,
           29.754601226993866
          ],
          [
           0.11904761904761905,
           9.047619047619047,
           21.785714285714285,
           6.190476190476191,
           62.857142857142854
          ]
         ]
        }
       ],
       "layout": {
        "annotations": [
         {
          "font": {
           "color": "white"
          },
          "showarrow": false,
          "text": "7.3 - 6",
          "x": 0,
          "xref": "x",
          "y": 0,
          "yref": "y"
         },
         {
          "font": {
           "color": "white"
          },
          "showarrow": false,
          "text": "39.0 - 32",
          "x": 1,
          "xref": "x",
          "y": 0,
          "yref": "y"
         },
         {
          "font": {
           "color": "white"
          },
          "showarrow": false,
          "text": "28.0 - 23",
          "x": 2,
          "xref": "x",
          "y": 0,
          "yref": "y"
         },
         {
          "font": {
           "color": "white"
          },
          "showarrow": false,
          "text": "7.3 - 6",
          "x": 3,
          "xref": "x",
          "y": 0,
          "yref": "y"
         },
         {
          "font": {
           "color": "white"
          },
          "showarrow": false,
          "text": "18.3 - 15",
          "x": 4,
          "xref": "x",
          "y": 0,
          "yref": "y"
         },
         {
          "font": {
           "color": "white"
          },
          "showarrow": false,
          "text": "0.5 - 3",
          "x": 0,
          "xref": "x",
          "y": 1,
          "yref": "y"
         },
         {
          "font": {
           "color": "white"
          },
          "showarrow": false,
          "text": "32.8 - 203",
          "x": 1,
          "xref": "x",
          "y": 1,
          "yref": "y"
         },
         {
          "font": {
           "color": "white"
          },
          "showarrow": false,
          "text": "37.4 - 231",
          "x": 2,
          "xref": "x",
          "y": 1,
          "yref": "y"
         },
         {
          "font": {
           "color": "white"
          },
          "showarrow": false,
          "text": "7.8 - 48",
          "x": 3,
          "xref": "x",
          "y": 1,
          "yref": "y"
         },
         {
          "font": {
           "color": "white"
          },
          "showarrow": false,
          "text": "21.5 - 133",
          "x": 4,
          "xref": "x",
          "y": 1,
          "yref": "y"
         },
         {
          "font": {
           "color": "white"
          },
          "showarrow": false,
          "text": "0.1 - 1",
          "x": 0,
          "xref": "x",
          "y": 2,
          "yref": "y"
         },
         {
          "font": {
           "color": "white"
          },
          "showarrow": false,
          "text": "21.4 - 173",
          "x": 1,
          "xref": "x",
          "y": 2,
          "yref": "y"
         },
         {
          "font": {
           "color": "white"
          },
          "showarrow": false,
          "text": "38.5 - 311",
          "x": 2,
          "xref": "x",
          "y": 2,
          "yref": "y"
         },
         {
          "font": {
           "color": "white"
          },
          "showarrow": false,
          "text": "11.2 - 90",
          "x": 3,
          "xref": "x",
          "y": 2,
          "yref": "y"
         },
         {
          "font": {
           "color": "white"
          },
          "showarrow": false,
          "text": "28.7 - 232",
          "x": 4,
          "xref": "x",
          "y": 2,
          "yref": "y"
         },
         {
          "font": {
           "color": "white"
          },
          "showarrow": false,
          "text": "0.5 - 3",
          "x": 0,
          "xref": "x",
          "y": 3,
          "yref": "y"
         },
         {
          "font": {
           "color": "white"
          },
          "showarrow": false,
          "text": "16.9 - 110",
          "x": 1,
          "xref": "x",
          "y": 3,
          "yref": "y"
         },
         {
          "font": {
           "color": "white"
          },
          "showarrow": false,
          "text": "33.6 - 219",
          "x": 2,
          "xref": "x",
          "y": 3,
          "yref": "y"
         },
         {
          "font": {
           "color": "white"
          },
          "showarrow": false,
          "text": "19.3 - 126",
          "x": 3,
          "xref": "x",
          "y": 3,
          "yref": "y"
         },
         {
          "font": {
           "color": "white"
          },
          "showarrow": false,
          "text": "29.8 - 194",
          "x": 4,
          "xref": "x",
          "y": 3,
          "yref": "y"
         },
         {
          "font": {
           "color": "white"
          },
          "showarrow": false,
          "text": "0.1 - 1",
          "x": 0,
          "xref": "x",
          "y": 4,
          "yref": "y"
         },
         {
          "font": {
           "color": "white"
          },
          "showarrow": false,
          "text": "9.0 - 76",
          "x": 1,
          "xref": "x",
          "y": 4,
          "yref": "y"
         },
         {
          "font": {
           "color": "white"
          },
          "showarrow": false,
          "text": "21.8 - 183",
          "x": 2,
          "xref": "x",
          "y": 4,
          "yref": "y"
         },
         {
          "font": {
           "color": "white"
          },
          "showarrow": false,
          "text": "6.2 - 52",
          "x": 3,
          "xref": "x",
          "y": 4,
          "yref": "y"
         },
         {
          "font": {
           "color": "white"
          },
          "showarrow": false,
          "text": "62.9 - 528",
          "x": 4,
          "xref": "x",
          "y": 4,
          "yref": "y"
         }
        ],
        "height": 800,
        "template": {
         "data": {
          "bar": [
           {
            "error_x": {
             "color": "#2a3f5f"
            },
            "error_y": {
             "color": "#2a3f5f"
            },
            "marker": {
             "line": {
              "color": "#E5ECF6",
              "width": 0.5
             },
             "pattern": {
              "fillmode": "overlay",
              "size": 10,
              "solidity": 0.2
             }
            },
            "type": "bar"
           }
          ],
          "barpolar": [
           {
            "marker": {
             "line": {
              "color": "#E5ECF6",
              "width": 0.5
             },
             "pattern": {
              "fillmode": "overlay",
              "size": 10,
              "solidity": 0.2
             }
            },
            "type": "barpolar"
           }
          ],
          "carpet": [
           {
            "aaxis": {
             "endlinecolor": "#2a3f5f",
             "gridcolor": "white",
             "linecolor": "white",
             "minorgridcolor": "white",
             "startlinecolor": "#2a3f5f"
            },
            "baxis": {
             "endlinecolor": "#2a3f5f",
             "gridcolor": "white",
             "linecolor": "white",
             "minorgridcolor": "white",
             "startlinecolor": "#2a3f5f"
            },
            "type": "carpet"
           }
          ],
          "choropleth": [
           {
            "colorbar": {
             "outlinewidth": 0,
             "ticks": ""
            },
            "type": "choropleth"
           }
          ],
          "contour": [
           {
            "colorbar": {
             "outlinewidth": 0,
             "ticks": ""
            },
            "colorscale": [
             [
              0,
              "#0d0887"
             ],
             [
              0.1111111111111111,
              "#46039f"
             ],
             [
              0.2222222222222222,
              "#7201a8"
             ],
             [
              0.3333333333333333,
              "#9c179e"
             ],
             [
              0.4444444444444444,
              "#bd3786"
             ],
             [
              0.5555555555555556,
              "#d8576b"
             ],
             [
              0.6666666666666666,
              "#ed7953"
             ],
             [
              0.7777777777777778,
              "#fb9f3a"
             ],
             [
              0.8888888888888888,
              "#fdca26"
             ],
             [
              1,
              "#f0f921"
             ]
            ],
            "type": "contour"
           }
          ],
          "contourcarpet": [
           {
            "colorbar": {
             "outlinewidth": 0,
             "ticks": ""
            },
            "type": "contourcarpet"
           }
          ],
          "heatmap": [
           {
            "colorbar": {
             "outlinewidth": 0,
             "ticks": ""
            },
            "colorscale": [
             [
              0,
              "#0d0887"
             ],
             [
              0.1111111111111111,
              "#46039f"
             ],
             [
              0.2222222222222222,
              "#7201a8"
             ],
             [
              0.3333333333333333,
              "#9c179e"
             ],
             [
              0.4444444444444444,
              "#bd3786"
             ],
             [
              0.5555555555555556,
              "#d8576b"
             ],
             [
              0.6666666666666666,
              "#ed7953"
             ],
             [
              0.7777777777777778,
              "#fb9f3a"
             ],
             [
              0.8888888888888888,
              "#fdca26"
             ],
             [
              1,
              "#f0f921"
             ]
            ],
            "type": "heatmap"
           }
          ],
          "heatmapgl": [
           {
            "colorbar": {
             "outlinewidth": 0,
             "ticks": ""
            },
            "colorscale": [
             [
              0,
              "#0d0887"
             ],
             [
              0.1111111111111111,
              "#46039f"
             ],
             [
              0.2222222222222222,
              "#7201a8"
             ],
             [
              0.3333333333333333,
              "#9c179e"
             ],
             [
              0.4444444444444444,
              "#bd3786"
             ],
             [
              0.5555555555555556,
              "#d8576b"
             ],
             [
              0.6666666666666666,
              "#ed7953"
             ],
             [
              0.7777777777777778,
              "#fb9f3a"
             ],
             [
              0.8888888888888888,
              "#fdca26"
             ],
             [
              1,
              "#f0f921"
             ]
            ],
            "type": "heatmapgl"
           }
          ],
          "histogram": [
           {
            "marker": {
             "pattern": {
              "fillmode": "overlay",
              "size": 10,
              "solidity": 0.2
             }
            },
            "type": "histogram"
           }
          ],
          "histogram2d": [
           {
            "colorbar": {
             "outlinewidth": 0,
             "ticks": ""
            },
            "colorscale": [
             [
              0,
              "#0d0887"
             ],
             [
              0.1111111111111111,
              "#46039f"
             ],
             [
              0.2222222222222222,
              "#7201a8"
             ],
             [
              0.3333333333333333,
              "#9c179e"
             ],
             [
              0.4444444444444444,
              "#bd3786"
             ],
             [
              0.5555555555555556,
              "#d8576b"
             ],
             [
              0.6666666666666666,
              "#ed7953"
             ],
             [
              0.7777777777777778,
              "#fb9f3a"
             ],
             [
              0.8888888888888888,
              "#fdca26"
             ],
             [
              1,
              "#f0f921"
             ]
            ],
            "type": "histogram2d"
           }
          ],
          "histogram2dcontour": [
           {
            "colorbar": {
             "outlinewidth": 0,
             "ticks": ""
            },
            "colorscale": [
             [
              0,
              "#0d0887"
             ],
             [
              0.1111111111111111,
              "#46039f"
             ],
             [
              0.2222222222222222,
              "#7201a8"
             ],
             [
              0.3333333333333333,
              "#9c179e"
             ],
             [
              0.4444444444444444,
              "#bd3786"
             ],
             [
              0.5555555555555556,
              "#d8576b"
             ],
             [
              0.6666666666666666,
              "#ed7953"
             ],
             [
              0.7777777777777778,
              "#fb9f3a"
             ],
             [
              0.8888888888888888,
              "#fdca26"
             ],
             [
              1,
              "#f0f921"
             ]
            ],
            "type": "histogram2dcontour"
           }
          ],
          "mesh3d": [
           {
            "colorbar": {
             "outlinewidth": 0,
             "ticks": ""
            },
            "type": "mesh3d"
           }
          ],
          "parcoords": [
           {
            "line": {
             "colorbar": {
              "outlinewidth": 0,
              "ticks": ""
             }
            },
            "type": "parcoords"
           }
          ],
          "pie": [
           {
            "automargin": true,
            "type": "pie"
           }
          ],
          "scatter": [
           {
            "fillpattern": {
             "fillmode": "overlay",
             "size": 10,
             "solidity": 0.2
            },
            "type": "scatter"
           }
          ],
          "scatter3d": [
           {
            "line": {
             "colorbar": {
              "outlinewidth": 0,
              "ticks": ""
             }
            },
            "marker": {
             "colorbar": {
              "outlinewidth": 0,
              "ticks": ""
             }
            },
            "type": "scatter3d"
           }
          ],
          "scattercarpet": [
           {
            "marker": {
             "colorbar": {
              "outlinewidth": 0,
              "ticks": ""
             }
            },
            "type": "scattercarpet"
           }
          ],
          "scattergeo": [
           {
            "marker": {
             "colorbar": {
              "outlinewidth": 0,
              "ticks": ""
             }
            },
            "type": "scattergeo"
           }
          ],
          "scattergl": [
           {
            "marker": {
             "colorbar": {
              "outlinewidth": 0,
              "ticks": ""
             }
            },
            "type": "scattergl"
           }
          ],
          "scattermapbox": [
           {
            "marker": {
             "colorbar": {
              "outlinewidth": 0,
              "ticks": ""
             }
            },
            "type": "scattermapbox"
           }
          ],
          "scatterpolar": [
           {
            "marker": {
             "colorbar": {
              "outlinewidth": 0,
              "ticks": ""
             }
            },
            "type": "scatterpolar"
           }
          ],
          "scatterpolargl": [
           {
            "marker": {
             "colorbar": {
              "outlinewidth": 0,
              "ticks": ""
             }
            },
            "type": "scatterpolargl"
           }
          ],
          "scatterternary": [
           {
            "marker": {
             "colorbar": {
              "outlinewidth": 0,
              "ticks": ""
             }
            },
            "type": "scatterternary"
           }
          ],
          "surface": [
           {
            "colorbar": {
             "outlinewidth": 0,
             "ticks": ""
            },
            "colorscale": [
             [
              0,
              "#0d0887"
             ],
             [
              0.1111111111111111,
              "#46039f"
             ],
             [
              0.2222222222222222,
              "#7201a8"
             ],
             [
              0.3333333333333333,
              "#9c179e"
             ],
             [
              0.4444444444444444,
              "#bd3786"
             ],
             [
              0.5555555555555556,
              "#d8576b"
             ],
             [
              0.6666666666666666,
              "#ed7953"
             ],
             [
              0.7777777777777778,
              "#fb9f3a"
             ],
             [
              0.8888888888888888,
              "#fdca26"
             ],
             [
              1,
              "#f0f921"
             ]
            ],
            "type": "surface"
           }
          ],
          "table": [
           {
            "cells": {
             "fill": {
              "color": "#EBF0F8"
             },
             "line": {
              "color": "white"
             }
            },
            "header": {
             "fill": {
              "color": "#C8D4E3"
             },
             "line": {
              "color": "white"
             }
            },
            "type": "table"
           }
          ]
         },
         "layout": {
          "annotationdefaults": {
           "arrowcolor": "#2a3f5f",
           "arrowhead": 0,
           "arrowwidth": 1
          },
          "autotypenumbers": "strict",
          "coloraxis": {
           "colorbar": {
            "outlinewidth": 0,
            "ticks": ""
           }
          },
          "colorscale": {
           "diverging": [
            [
             0,
             "#8e0152"
            ],
            [
             0.1,
             "#c51b7d"
            ],
            [
             0.2,
             "#de77ae"
            ],
            [
             0.3,
             "#f1b6da"
            ],
            [
             0.4,
             "#fde0ef"
            ],
            [
             0.5,
             "#f7f7f7"
            ],
            [
             0.6,
             "#e6f5d0"
            ],
            [
             0.7,
             "#b8e186"
            ],
            [
             0.8,
             "#7fbc41"
            ],
            [
             0.9,
             "#4d9221"
            ],
            [
             1,
             "#276419"
            ]
           ],
           "sequential": [
            [
             0,
             "#0d0887"
            ],
            [
             0.1111111111111111,
             "#46039f"
            ],
            [
             0.2222222222222222,
             "#7201a8"
            ],
            [
             0.3333333333333333,
             "#9c179e"
            ],
            [
             0.4444444444444444,
             "#bd3786"
            ],
            [
             0.5555555555555556,
             "#d8576b"
            ],
            [
             0.6666666666666666,
             "#ed7953"
            ],
            [
             0.7777777777777778,
             "#fb9f3a"
            ],
            [
             0.8888888888888888,
             "#fdca26"
            ],
            [
             1,
             "#f0f921"
            ]
           ],
           "sequentialminus": [
            [
             0,
             "#0d0887"
            ],
            [
             0.1111111111111111,
             "#46039f"
            ],
            [
             0.2222222222222222,
             "#7201a8"
            ],
            [
             0.3333333333333333,
             "#9c179e"
            ],
            [
             0.4444444444444444,
             "#bd3786"
            ],
            [
             0.5555555555555556,
             "#d8576b"
            ],
            [
             0.6666666666666666,
             "#ed7953"
            ],
            [
             0.7777777777777778,
             "#fb9f3a"
            ],
            [
             0.8888888888888888,
             "#fdca26"
            ],
            [
             1,
             "#f0f921"
            ]
           ]
          },
          "colorway": [
           "#636efa",
           "#EF553B",
           "#00cc96",
           "#ab63fa",
           "#FFA15A",
           "#19d3f3",
           "#FF6692",
           "#B6E880",
           "#FF97FF",
           "#FECB52"
          ],
          "font": {
           "color": "#2a3f5f"
          },
          "geo": {
           "bgcolor": "white",
           "lakecolor": "white",
           "landcolor": "#E5ECF6",
           "showlakes": true,
           "showland": true,
           "subunitcolor": "white"
          },
          "hoverlabel": {
           "align": "left"
          },
          "hovermode": "closest",
          "mapbox": {
           "style": "light"
          },
          "paper_bgcolor": "white",
          "plot_bgcolor": "#E5ECF6",
          "polar": {
           "angularaxis": {
            "gridcolor": "white",
            "linecolor": "white",
            "ticks": ""
           },
           "bgcolor": "#E5ECF6",
           "radialaxis": {
            "gridcolor": "white",
            "linecolor": "white",
            "ticks": ""
           }
          },
          "scene": {
           "xaxis": {
            "backgroundcolor": "#E5ECF6",
            "gridcolor": "white",
            "gridwidth": 2,
            "linecolor": "white",
            "showbackground": true,
            "ticks": "",
            "zerolinecolor": "white"
           },
           "yaxis": {
            "backgroundcolor": "#E5ECF6",
            "gridcolor": "white",
            "gridwidth": 2,
            "linecolor": "white",
            "showbackground": true,
            "ticks": "",
            "zerolinecolor": "white"
           },
           "zaxis": {
            "backgroundcolor": "#E5ECF6",
            "gridcolor": "white",
            "gridwidth": 2,
            "linecolor": "white",
            "showbackground": true,
            "ticks": "",
            "zerolinecolor": "white"
           }
          },
          "shapedefaults": {
           "line": {
            "color": "#2a3f5f"
           }
          },
          "ternary": {
           "aaxis": {
            "gridcolor": "white",
            "linecolor": "white",
            "ticks": ""
           },
           "baxis": {
            "gridcolor": "white",
            "linecolor": "white",
            "ticks": ""
           },
           "bgcolor": "#E5ECF6",
           "caxis": {
            "gridcolor": "white",
            "linecolor": "white",
            "ticks": ""
           }
          },
          "title": {
           "x": 0.05
          },
          "xaxis": {
           "automargin": true,
           "gridcolor": "white",
           "linecolor": "white",
           "ticks": "",
           "title": {
            "standoff": 15
           },
           "zerolinecolor": "white",
           "zerolinewidth": 2
          },
          "yaxis": {
           "automargin": true,
           "gridcolor": "white",
           "linecolor": "white",
           "ticks": "",
           "title": {
            "standoff": 15
           },
           "zerolinecolor": "white",
           "zerolinewidth": 2
          }
         }
        },
        "title": {
         "text": "Conf Matrix"
        },
        "width": 800,
        "xaxis": {
         "title": {
          "text": "Predicted value"
         }
        },
        "yaxis": {
         "title": {
          "text": "Real value"
         }
        }
       }
      }
     },
     "metadata": {},
     "output_type": "display_data"
    },
    {
     "data": {
      "text/plain": [
       "{'kappa': 0.33093403829656054,\n",
       " 'accuracy': 0.3914638212737579,\n",
       " 'balanced_accuracy': 0.32177012028422647}"
      ]
     },
     "execution_count": 20,
     "metadata": {},
     "output_type": "execute_result"
    }
   ],
   "source": [
    "\n",
    "y_pred = lgb_model.predict(X_test).argmax(axis=1)\n",
    "\n",
    "display(plot_confusion_matrix(y_test,y_pred))\n",
    "\n",
    "{'kappa':cohen_kappa_score(y_test,\n",
    "                y_pred,\n",
    "                weights = 'quadratic'),\n",
    " 'accuracy':accuracy_score(y_test,y_pred),\n",
    " 'balanced_accuracy':balanced_accuracy_score(y_test,y_pred)}\n",
    "\n",
    "\n"
   ]
  },
  {
   "cell_type": "code",
   "execution_count": 21,
   "metadata": {},
   "outputs": [],
   "source": [
    "def lgb_objective(trial):\n",
    "    lgb_params = {      \n",
    "                        'objective': 'multiclass',\n",
    "                        'verbosity':-1,\n",
    "                        'num_class': len(y_train.unique()),\n",
    "                        'lambda_l1': trial.suggest_float('lambda_l1', 1e-8, 10.0, log=True),\n",
    "                        'lambda_l2': trial.suggest_float('lambda_l2', 1e-8, 10.0, log=True),\n",
    "                        'num_leaves': trial.suggest_int('num_leaves', 2, 256),\n",
    "                        'feature_fraction': trial.suggest_float('feature_fraction', 0.4, 1.0),\n",
    "                        'bagging_fraction': trial.suggest_float('bagging_fraction', 0.4, 1.0),\n",
    "                        'bagging_freq': trial.suggest_int('bagging_freq', 1, 7),\n",
    "                        'min_child_samples': trial.suggest_int('min_child_samples', 5, 100),\n",
    "                        } \n",
    "\n",
    "\n",
    "    lgb_train_dataset = lgb.Dataset(data=X_train,\n",
    "                                    label=y_train)\n",
    "\n",
    "\n",
    "    lgb_model = lgb.train(lgb_params,\n",
    "                        lgb_train_dataset)\n",
    "    \n",
    "    return(cohen_kappa_score(y_test,lgb_model.predict(X_test).argmax(axis=1),\n",
    "                             weights = 'quadratic'))"
   ]
  },
  {
   "cell_type": "code",
   "execution_count": 22,
   "metadata": {},
   "outputs": [
    {
     "name": "stderr",
     "output_type": "stream",
     "text": [
      "[I 2024-06-19 18:21:08,668] Using an existing study with name '04 - LGB Multiclass' instead of creating a new one.\n",
      "[I 2024-06-19 18:21:11,093] Trial 100 finished with value: 0.31099857740724135 and parameters: {'lambda_l1': 0.7601403812211934, 'lambda_l2': 1.2664669824477846, 'num_leaves': 221, 'feature_fraction': 0.7252241416684759, 'bagging_fraction': 0.4535838845654929, 'bagging_freq': 1, 'min_child_samples': 80}. Best is trial 14 with value: 0.3285398292984908.\n",
      "[I 2024-06-19 18:21:12,392] Trial 101 finished with value: 0.31244760951258477 and parameters: {'lambda_l1': 4.773483668150672, 'lambda_l2': 0.34465271339556247, 'num_leaves': 183, 'feature_fraction': 0.5375869277025375, 'bagging_fraction': 0.4269807627868867, 'bagging_freq': 2, 'min_child_samples': 97}. Best is trial 14 with value: 0.3285398292984908.\n",
      "[I 2024-06-19 18:21:15,398] Trial 102 finished with value: 0.3076220466428642 and parameters: {'lambda_l1': 1.932933283868399e-05, 'lambda_l2': 0.10902085197660201, 'num_leaves': 243, 'feature_fraction': 0.6364425552773887, 'bagging_fraction': 0.4638909711926596, 'bagging_freq': 1, 'min_child_samples': 67}. Best is trial 14 with value: 0.3285398292984908.\n",
      "[I 2024-06-19 18:21:17,793] Trial 103 finished with value: 0.2998193614186363 and parameters: {'lambda_l1': 3.99012804035963e-05, 'lambda_l2': 0.015924874431854214, 'num_leaves': 205, 'feature_fraction': 0.5530626635844796, 'bagging_fraction': 0.41484538516788094, 'bagging_freq': 2, 'min_child_samples': 88}. Best is trial 14 with value: 0.3285398292984908.\n",
      "[I 2024-06-19 18:21:20,327] Trial 104 finished with value: 0.3185537182432966 and parameters: {'lambda_l1': 6.20943778690306e-05, 'lambda_l2': 0.02799289302900491, 'num_leaves': 211, 'feature_fraction': 0.6239947263304265, 'bagging_fraction': 0.5143728850080433, 'bagging_freq': 2, 'min_child_samples': 90}. Best is trial 14 with value: 0.3285398292984908.\n",
      "[I 2024-06-19 18:21:24,209] Trial 105 finished with value: 0.3036920579501373 and parameters: {'lambda_l1': 0.00013844730927813935, 'lambda_l2': 0.06052019707083705, 'num_leaves': 231, 'feature_fraction': 0.9276827723139143, 'bagging_fraction': 0.5359309118362893, 'bagging_freq': 5, 'min_child_samples': 57}. Best is trial 14 with value: 0.3285398292984908.\n",
      "[I 2024-06-19 18:21:26,691] Trial 106 finished with value: 0.3201062639720418 and parameters: {'lambda_l1': 0.0066625468019453175, 'lambda_l2': 0.1829058322978904, 'num_leaves': 195, 'feature_fraction': 0.6106785040204589, 'bagging_fraction': 0.5558477893082564, 'bagging_freq': 1, 'min_child_samples': 95}. Best is trial 14 with value: 0.3285398292984908.\n",
      "[I 2024-06-19 18:21:29,654] Trial 107 finished with value: 0.31306728533662587 and parameters: {'lambda_l1': 0.0017265354531529056, 'lambda_l2': 0.001897510639055504, 'num_leaves': 240, 'feature_fraction': 0.40133922841619507, 'bagging_fraction': 0.49131907462006413, 'bagging_freq': 1, 'min_child_samples': 92}. Best is trial 14 with value: 0.3285398292984908.\n",
      "[I 2024-06-19 18:21:31,740] Trial 108 finished with value: 0.3110765511594714 and parameters: {'lambda_l1': 1.2503624056164665e-05, 'lambda_l2': 0.0002687478388811744, 'num_leaves': 224, 'feature_fraction': 0.5768372628035913, 'bagging_fraction': 0.40041590837674823, 'bagging_freq': 7, 'min_child_samples': 98}. Best is trial 14 with value: 0.3285398292984908.\n",
      "[I 2024-06-19 18:21:34,824] Trial 109 finished with value: 0.31603149256237495 and parameters: {'lambda_l1': 0.5747675354790227, 'lambda_l2': 0.009139180142516653, 'num_leaves': 152, 'feature_fraction': 0.4838159546130086, 'bagging_fraction': 0.6129768798102262, 'bagging_freq': 2, 'min_child_samples': 86}. Best is trial 14 with value: 0.3285398292984908.\n",
      "[I 2024-06-19 18:21:37,808] Trial 110 finished with value: 0.3225093199455965 and parameters: {'lambda_l1': 0.0006408507872307372, 'lambda_l2': 0.0006949639878049852, 'num_leaves': 215, 'feature_fraction': 0.4698336419707437, 'bagging_fraction': 0.44291562310356297, 'bagging_freq': 1, 'min_child_samples': 100}. Best is trial 14 with value: 0.3285398292984908.\n",
      "[I 2024-06-19 18:21:39,958] Trial 111 finished with value: 0.3111459091945509 and parameters: {'lambda_l1': 0.0005981985932555029, 'lambda_l2': 0.0006797584813189977, 'num_leaves': 214, 'feature_fraction': 0.43492851284714834, 'bagging_fraction': 0.4478463597256553, 'bagging_freq': 1, 'min_child_samples': 100}. Best is trial 14 with value: 0.3285398292984908.\n",
      "[I 2024-06-19 18:21:41,929] Trial 112 finished with value: 0.30478433912552205 and parameters: {'lambda_l1': 0.000236258669411681, 'lambda_l2': 0.0013252628356997746, 'num_leaves': 250, 'feature_fraction': 0.4701576033612622, 'bagging_fraction': 0.4325707015928724, 'bagging_freq': 1, 'min_child_samples': 96}. Best is trial 14 with value: 0.3285398292984908.\n",
      "[I 2024-06-19 18:21:44,217] Trial 113 finished with value: 0.32429917916337436 and parameters: {'lambda_l1': 0.01829511497611662, 'lambda_l2': 0.002867305571302935, 'num_leaves': 219, 'feature_fraction': 0.4905340552018346, 'bagging_fraction': 0.47119853362350583, 'bagging_freq': 1, 'min_child_samples': 94}. Best is trial 14 with value: 0.3285398292984908.\n",
      "[I 2024-06-19 18:21:46,825] Trial 114 finished with value: 0.3232768093311662 and parameters: {'lambda_l1': 0.019514593609462342, 'lambda_l2': 0.0026007797580723815, 'num_leaves': 219, 'feature_fraction': 0.5109984604075803, 'bagging_fraction': 0.4720039005465798, 'bagging_freq': 1, 'min_child_samples': 93}. Best is trial 14 with value: 0.3285398292984908.\n",
      "[I 2024-06-19 18:21:48,984] Trial 115 finished with value: 0.3265749783147128 and parameters: {'lambda_l1': 0.018345115455258607, 'lambda_l2': 0.003080797744216032, 'num_leaves': 229, 'feature_fraction': 0.49246533183853497, 'bagging_fraction': 0.472597823486522, 'bagging_freq': 1, 'min_child_samples': 94}. Best is trial 14 with value: 0.3285398292984908.\n",
      "[I 2024-06-19 18:21:51,403] Trial 116 finished with value: 0.32696673740751014 and parameters: {'lambda_l1': 0.014594964526854756, 'lambda_l2': 0.0031385063381147425, 'num_leaves': 228, 'feature_fraction': 0.507555655945048, 'bagging_fraction': 0.4804375697957268, 'bagging_freq': 1, 'min_child_samples': 93}. Best is trial 14 with value: 0.3285398292984908.\n",
      "[I 2024-06-19 18:21:53,750] Trial 117 finished with value: 0.30873661788896445 and parameters: {'lambda_l1': 0.03307507834694186, 'lambda_l2': 0.0023582317466852164, 'num_leaves': 220, 'feature_fraction': 0.5061696163931066, 'bagging_fraction': 0.4761866034822332, 'bagging_freq': 1, 'min_child_samples': 93}. Best is trial 14 with value: 0.3285398292984908.\n",
      "[I 2024-06-19 18:21:55,998] Trial 118 finished with value: 0.31998192073170495 and parameters: {'lambda_l1': 0.019253856137216876, 'lambda_l2': 0.003201691478314397, 'num_leaves': 236, 'feature_fraction': 0.46699240270995473, 'bagging_fraction': 0.4603510999268133, 'bagging_freq': 1, 'min_child_samples': 94}. Best is trial 14 with value: 0.3285398292984908.\n",
      "[I 2024-06-19 18:21:57,888] Trial 119 finished with value: 0.31743808425609044 and parameters: {'lambda_l1': 0.04494218922852362, 'lambda_l2': 0.005965724833615051, 'num_leaves': 32, 'feature_fraction': 0.5116954212934025, 'bagging_fraction': 0.4681325445037922, 'bagging_freq': 1, 'min_child_samples': 91}. Best is trial 14 with value: 0.3285398292984908.\n",
      "[I 2024-06-19 18:22:00,071] Trial 120 finished with value: 0.3157866225298982 and parameters: {'lambda_l1': 0.10230158488594883, 'lambda_l2': 0.0035257932062804577, 'num_leaves': 244, 'feature_fraction': 0.45639612299117605, 'bagging_fraction': 0.5013207252143798, 'bagging_freq': 1, 'min_child_samples': 96}. Best is trial 14 with value: 0.3285398292984908.\n",
      "[I 2024-06-19 18:22:02,273] Trial 121 finished with value: 0.3174851613419144 and parameters: {'lambda_l1': 0.014611833736405962, 'lambda_l2': 0.0007838917948095338, 'num_leaves': 227, 'feature_fraction': 0.4936352338388549, 'bagging_fraction': 0.483163893072803, 'bagging_freq': 1, 'min_child_samples': 100}. Best is trial 14 with value: 0.3285398292984908.\n",
      "[I 2024-06-19 18:22:04,804] Trial 122 finished with value: 0.31683804278069405 and parameters: {'lambda_l1': 0.008918734435323828, 'lambda_l2': 0.001367291751431761, 'num_leaves': 227, 'feature_fraction': 0.5306209445013959, 'bagging_fraction': 0.49323742736940307, 'bagging_freq': 1, 'min_child_samples': 93}. Best is trial 14 with value: 0.3285398292984908.\n",
      "[I 2024-06-19 18:22:07,518] Trial 123 finished with value: 0.321035148988267 and parameters: {'lambda_l1': 0.004380150263956644, 'lambda_l2': 0.006581820555153652, 'num_leaves': 234, 'feature_fraction': 0.478199322799309, 'bagging_fraction': 0.525607565249956, 'bagging_freq': 1, 'min_child_samples': 90}. Best is trial 14 with value: 0.3285398292984908.\n",
      "[I 2024-06-19 18:22:09,744] Trial 124 finished with value: 0.3251871288292585 and parameters: {'lambda_l1': 0.03378503660726101, 'lambda_l2': 0.0020862385256205916, 'num_leaves': 218, 'feature_fraction': 0.49167749980785047, 'bagging_fraction': 0.5153783457295081, 'bagging_freq': 1, 'min_child_samples': 87}. Best is trial 14 with value: 0.3285398292984908.\n",
      "[I 2024-06-19 18:22:11,981] Trial 125 finished with value: 0.3115281824591549 and parameters: {'lambda_l1': 0.0698065276766916, 'lambda_l2': 0.004251761975824014, 'num_leaves': 218, 'feature_fraction': 0.5095343186236582, 'bagging_fraction': 0.44984554697685253, 'bagging_freq': 1, 'min_child_samples': 95}. Best is trial 14 with value: 0.3285398292984908.\n",
      "[I 2024-06-19 18:22:14,163] Trial 126 finished with value: 0.312925866845974 and parameters: {'lambda_l1': 0.039083024888900184, 'lambda_l2': 0.002659895990960367, 'num_leaves': 239, 'feature_fraction': 0.5441860718672626, 'bagging_fraction': 0.5067744239598848, 'bagging_freq': 1, 'min_child_samples': 98}. Best is trial 14 with value: 0.3285398292984908.\n",
      "[I 2024-06-19 18:22:16,390] Trial 127 finished with value: 0.3137183818037462 and parameters: {'lambda_l1': 0.15017423531082932, 'lambda_l2': 0.0009427298476523287, 'num_leaves': 249, 'feature_fraction': 0.4412587589231381, 'bagging_fraction': 0.5709933522898314, 'bagging_freq': 1, 'min_child_samples': 92}. Best is trial 14 with value: 0.3285398292984908.\n",
      "[I 2024-06-19 18:22:18,716] Trial 128 finished with value: 0.3146517466522788 and parameters: {'lambda_l1': 0.019288790923464458, 'lambda_l2': 0.00040451896448423974, 'num_leaves': 216, 'feature_fraction': 0.45523965589536125, 'bagging_fraction': 0.47875349698126923, 'bagging_freq': 1, 'min_child_samples': 84}. Best is trial 14 with value: 0.3285398292984908.\n",
      "[I 2024-06-19 18:22:21,164] Trial 129 finished with value: 0.3195819551530489 and parameters: {'lambda_l1': 0.001915864430548782, 'lambda_l2': 0.0018773545665392638, 'num_leaves': 224, 'feature_fraction': 0.49736226327851996, 'bagging_fraction': 0.5419858865168989, 'bagging_freq': 1, 'min_child_samples': 97}. Best is trial 14 with value: 0.3285398292984908.\n",
      "[I 2024-06-19 18:22:23,514] Trial 130 finished with value: 0.32924651845187136 and parameters: {'lambda_l1': 0.030638042643919464, 'lambda_l2': 0.01173738450559207, 'num_leaves': 209, 'feature_fraction': 0.5281608560901017, 'bagging_fraction': 0.4645557424771726, 'bagging_freq': 1, 'min_child_samples': 86}. Best is trial 130 with value: 0.32924651845187136.\n",
      "[I 2024-06-19 18:22:25,684] Trial 131 finished with value: 0.3162838726472441 and parameters: {'lambda_l1': 0.06361508126874006, 'lambda_l2': 0.009892808003757336, 'num_leaves': 232, 'feature_fraction': 0.5201577927585226, 'bagging_fraction': 0.4601077821661825, 'bagging_freq': 1, 'min_child_samples': 87}. Best is trial 130 with value: 0.32924651845187136.\n",
      "[I 2024-06-19 18:22:28,040] Trial 132 finished with value: 0.30054827190411937 and parameters: {'lambda_l1': 0.03047839731213731, 'lambda_l2': 0.020965986593403114, 'num_leaves': 210, 'feature_fraction': 0.5329822470671128, 'bagging_fraction': 0.4430795445465312, 'bagging_freq': 1, 'min_child_samples': 82}. Best is trial 130 with value: 0.32924651845187136.\n",
      "[I 2024-06-19 18:22:31,346] Trial 133 finished with value: 0.31260562682169 and parameters: {'lambda_l1': 0.009252350013723838, 'lambda_l2': 0.005208080391206306, 'num_leaves': 238, 'feature_fraction': 0.9950226830868596, 'bagging_fraction': 0.47009970851171234, 'bagging_freq': 1, 'min_child_samples': 90}. Best is trial 130 with value: 0.32924651845187136.\n",
      "[I 2024-06-19 18:22:33,988] Trial 134 finished with value: 0.32191555921815873 and parameters: {'lambda_l1': 0.012340058992156235, 'lambda_l2': 0.013611074396638742, 'num_leaves': 256, 'feature_fraction': 0.4756602842800127, 'bagging_fraction': 0.49752763741070277, 'bagging_freq': 1, 'min_child_samples': 94}. Best is trial 130 with value: 0.32924651845187136.\n",
      "[I 2024-06-19 18:22:35,985] Trial 135 finished with value: 0.29998449360206025 and parameters: {'lambda_l1': 0.0057686153981923085, 'lambda_l2': 0.0001919239989077983, 'num_leaves': 222, 'feature_fraction': 0.5674068218262005, 'bagging_fraction': 0.4195651356728453, 'bagging_freq': 1, 'min_child_samples': 99}. Best is trial 130 with value: 0.32924651845187136.\n",
      "[I 2024-06-19 18:22:38,405] Trial 136 finished with value: 0.3094792118932298 and parameters: {'lambda_l1': 0.021744358997722896, 'lambda_l2': 0.0021469553981257653, 'num_leaves': 202, 'feature_fraction': 0.4894821857997573, 'bagging_fraction': 0.4846658220251937, 'bagging_freq': 1, 'min_child_samples': 87}. Best is trial 130 with value: 0.32924651845187136.\n",
      "[I 2024-06-19 18:22:40,682] Trial 137 finished with value: 0.3113226885764121 and parameters: {'lambda_l1': 0.04529101873869736, 'lambda_l2': 0.008158340500532131, 'num_leaves': 208, 'feature_fraction': 0.4205273736485255, 'bagging_fraction': 0.4534452448556195, 'bagging_freq': 1, 'min_child_samples': 96}. Best is trial 130 with value: 0.32924651845187136.\n",
      "[I 2024-06-19 18:22:43,085] Trial 138 finished with value: 0.30886704530030473 and parameters: {'lambda_l1': 0.096847047116784, 'lambda_l2': 0.003447983968951674, 'num_leaves': 216, 'feature_fraction': 0.5096530502178367, 'bagging_fraction': 0.5131363448577936, 'bagging_freq': 1, 'min_child_samples': 92}. Best is trial 130 with value: 0.32924651845187136.\n",
      "[I 2024-06-19 18:22:45,648] Trial 139 finished with value: 0.3109745149562322 and parameters: {'lambda_l1': 0.0033502369463656997, 'lambda_l2': 0.0012806566321064948, 'num_leaves': 246, 'feature_fraction': 0.5238260381584562, 'bagging_fraction': 0.6443658200256175, 'bagging_freq': 1, 'min_child_samples': 100}. Best is trial 130 with value: 0.32924651845187136.\n",
      "[I 2024-06-19 18:22:48,137] Trial 140 finished with value: 0.31104143662792316 and parameters: {'lambda_l1': 0.2230730692336176, 'lambda_l2': 0.01669224732044718, 'num_leaves': 230, 'feature_fraction': 0.46540961840074935, 'bagging_fraction': 0.4257585945645889, 'bagging_freq': 1, 'min_child_samples': 89}. Best is trial 130 with value: 0.32924651845187136.\n",
      "[I 2024-06-19 18:22:50,766] Trial 141 finished with value: 0.309851025862492 and parameters: {'lambda_l1': 0.018781329355497315, 'lambda_l2': 0.030583559273263214, 'num_leaves': 231, 'feature_fraction': 0.4883957663146874, 'bagging_fraction': 0.5595386486216656, 'bagging_freq': 1, 'min_child_samples': 84}. Best is trial 130 with value: 0.32924651845187136.\n",
      "[I 2024-06-19 18:22:53,450] Trial 142 finished with value: 0.310754198144479 and parameters: {'lambda_l1': 0.01402154929724925, 'lambda_l2': 0.01060246723100254, 'num_leaves': 225, 'feature_fraction': 0.4968137013452789, 'bagging_fraction': 0.5129439869183037, 'bagging_freq': 1, 'min_child_samples': 88}. Best is trial 130 with value: 0.32924651845187136.\n",
      "[I 2024-06-19 18:22:56,116] Trial 143 finished with value: 0.32105729374751535 and parameters: {'lambda_l1': 0.034513747442927685, 'lambda_l2': 0.005220626084770433, 'num_leaves': 237, 'feature_fraction': 0.5504265778994613, 'bagging_fraction': 0.5221345964346267, 'bagging_freq': 6, 'min_child_samples': 80}. Best is trial 130 with value: 0.32924651845187136.\n",
      "[I 2024-06-19 18:22:58,926] Trial 144 finished with value: 0.3185962222527946 and parameters: {'lambda_l1': 0.01041181276532831, 'lambda_l2': 0.0006066906206437313, 'num_leaves': 220, 'feature_fraction': 0.5043142844865172, 'bagging_fraction': 0.6892438227961253, 'bagging_freq': 1, 'min_child_samples': 94}. Best is trial 130 with value: 0.32924651845187136.\n",
      "[I 2024-06-19 18:23:01,491] Trial 145 finished with value: 0.32645835189397765 and parameters: {'lambda_l1': 0.0060423132032336735, 'lambda_l2': 0.046421358513033036, 'num_leaves': 243, 'feature_fraction': 0.47896961150678036, 'bagging_fraction': 0.4691607311547701, 'bagging_freq': 1, 'min_child_samples': 86}. Best is trial 130 with value: 0.32924651845187136.\n",
      "[I 2024-06-19 18:23:03,689] Trial 146 finished with value: 0.3174951811730289 and parameters: {'lambda_l1': 0.00037365367184397596, 'lambda_l2': 2.3426876285166008e-07, 'num_leaves': 250, 'feature_fraction': 0.47261359709674167, 'bagging_fraction': 0.4712261391336481, 'bagging_freq': 1, 'min_child_samples': 97}. Best is trial 130 with value: 0.32924651845187136.\n",
      "[I 2024-06-19 18:23:07,052] Trial 147 finished with value: 0.3158153700088816 and parameters: {'lambda_l1': 0.0014759719340497288, 'lambda_l2': 0.0183914199813876, 'num_leaves': 242, 'feature_fraction': 0.45328921084259155, 'bagging_fraction': 0.49099070211152585, 'bagging_freq': 1, 'min_child_samples': 85}. Best is trial 130 with value: 0.32924651845187136.\n",
      "[I 2024-06-19 18:23:09,828] Trial 148 finished with value: 0.3093674131873736 and parameters: {'lambda_l1': 0.029216064860820148, 'lambda_l2': 0.04340241030673268, 'num_leaves': 243, 'feature_fraction': 0.5333250834935718, 'bagging_fraction': 0.4387860059240674, 'bagging_freq': 1, 'min_child_samples': 91}. Best is trial 130 with value: 0.32924651845187136.\n",
      "[I 2024-06-19 18:23:12,116] Trial 149 finished with value: 0.3094616895436132 and parameters: {'lambda_l1': 0.005716664496961446, 'lambda_l2': 0.029833096883608752, 'num_leaves': 212, 'feature_fraction': 0.5173695736681182, 'bagging_fraction': 0.47761044565134664, 'bagging_freq': 2, 'min_child_samples': 95}. Best is trial 130 with value: 0.32924651845187136.\n",
      "[I 2024-06-19 18:23:14,466] Trial 150 finished with value: 0.3205603454359852 and parameters: {'lambda_l1': 0.0606498908147673, 'lambda_l2': 0.0075326027097948715, 'num_leaves': 251, 'feature_fraction': 0.4818711063460589, 'bagging_fraction': 0.46107735259639965, 'bagging_freq': 1, 'min_child_samples': 86}. Best is trial 130 with value: 0.32924651845187136.\n",
      "[I 2024-06-19 18:23:16,821] Trial 151 finished with value: 0.3108822717827525 and parameters: {'lambda_l1': 0.010879502766735993, 'lambda_l2': 0.04971366990996864, 'num_leaves': 228, 'feature_fraction': 0.49634353397777775, 'bagging_fraction': 0.49800839410638476, 'bagging_freq': 1, 'min_child_samples': 83}. Best is trial 130 with value: 0.32924651845187136.\n",
      "[I 2024-06-19 18:23:18,981] Trial 152 finished with value: 0.3146776128957718 and parameters: {'lambda_l1': 0.015401103301275533, 'lambda_l2': 0.0954698809881569, 'num_leaves': 233, 'feature_fraction': 0.48720887464183354, 'bagging_fraction': 0.44759255415564564, 'bagging_freq': 1, 'min_child_samples': 89}. Best is trial 130 with value: 0.32924651845187136.\n",
      "[I 2024-06-19 18:23:21,137] Trial 153 finished with value: 0.3260565209687598 and parameters: {'lambda_l1': 0.02775176900602277, 'lambda_l2': 0.002497940116509772, 'num_leaves': 220, 'feature_fraction': 0.46714939162818203, 'bagging_fraction': 0.5886123832035791, 'bagging_freq': 1, 'min_child_samples': 98}. Best is trial 130 with value: 0.32924651845187136.\n",
      "[I 2024-06-19 18:23:22,950] Trial 154 finished with value: 0.30675606602772165 and parameters: {'lambda_l1': 0.024537187540270834, 'lambda_l2': 0.0014365732384117316, 'num_leaves': 205, 'feature_fraction': 0.4370543998489524, 'bagging_fraction': 0.4098186997906601, 'bagging_freq': 1, 'min_child_samples': 99}. Best is trial 130 with value: 0.32924651845187136.\n",
      "[I 2024-06-19 18:23:25,250] Trial 155 finished with value: 0.32510382382751757 and parameters: {'lambda_l1': 0.04841359189209622, 'lambda_l2': 0.002403249107485938, 'num_leaves': 220, 'feature_fraction': 0.45982522224782546, 'bagging_fraction': 0.5884476845130573, 'bagging_freq': 1, 'min_child_samples': 98}. Best is trial 130 with value: 0.32924651845187136.\n",
      "[I 2024-06-19 18:23:28,644] Trial 156 finished with value: 0.3098427232764388 and parameters: {'lambda_l1': 0.07707836720739555, 'lambda_l2': 0.0027327769983039106, 'num_leaves': 221, 'feature_fraction': 0.4633399255887127, 'bagging_fraction': 0.5956477183959579, 'bagging_freq': 1, 'min_child_samples': 93}. Best is trial 130 with value: 0.32924651845187136.\n",
      "[I 2024-06-19 18:23:30,815] Trial 157 finished with value: 0.3219149825201666 and parameters: {'lambda_l1': 0.03821017376143059, 'lambda_l2': 0.004139336802177812, 'num_leaves': 227, 'feature_fraction': 0.4289234750835091, 'bagging_fraction': 0.6187748156843148, 'bagging_freq': 1, 'min_child_samples': 97}. Best is trial 130 with value: 0.32924651845187136.\n",
      "[I 2024-06-19 18:23:33,287] Trial 158 finished with value: 0.31199579332631433 and parameters: {'lambda_l1': 0.14573592189560952, 'lambda_l2': 0.01251611301373897, 'num_leaves': 238, 'feature_fraction': 0.5071984961445017, 'bagging_fraction': 0.5841328459002366, 'bagging_freq': 1, 'min_child_samples': 95}. Best is trial 130 with value: 0.32924651845187136.\n",
      "[I 2024-06-19 18:23:35,374] Trial 159 finished with value: 0.3232404278960226 and parameters: {'lambda_l1': 0.04899803855663268, 'lambda_l2': 0.007173458401749119, 'num_leaves': 246, 'feature_fraction': 0.4134149344200122, 'bagging_fraction': 0.579295819638953, 'bagging_freq': 2, 'min_child_samples': 98}. Best is trial 130 with value: 0.32924651845187136.\n",
      "[I 2024-06-19 18:23:38,040] Trial 160 finished with value: 0.31597442958905186 and parameters: {'lambda_l1': 0.052926124255297476, 'lambda_l2': 0.0020658637055023213, 'num_leaves': 138, 'feature_fraction': 0.4081440479040249, 'bagging_fraction': 0.549508106208862, 'bagging_freq': 2, 'min_child_samples': 91}. Best is trial 130 with value: 0.32924651845187136.\n",
      "[I 2024-06-19 18:23:40,466] Trial 161 finished with value: 0.31863940225097453 and parameters: {'lambda_l1': 0.022903530171808927, 'lambda_l2': 0.0034110707660743034, 'num_leaves': 247, 'feature_fraction': 0.41750623230537853, 'bagging_fraction': 0.5778503035220405, 'bagging_freq': 2, 'min_child_samples': 98}. Best is trial 130 with value: 0.32924651845187136.\n",
      "[I 2024-06-19 18:23:42,850] Trial 162 finished with value: 0.3100242411311315 and parameters: {'lambda_l1': 0.047255387678972284, 'lambda_l2': 0.006907769375785808, 'num_leaves': 243, 'feature_fraction': 0.42945200121892657, 'bagging_fraction': 0.6302708447449313, 'bagging_freq': 2, 'min_child_samples': 95}. Best is trial 130 with value: 0.32924651845187136.\n",
      "[I 2024-06-19 18:23:45,233] Trial 163 finished with value: 0.31487911830993454 and parameters: {'lambda_l1': 0.08579447174959415, 'lambda_l2': 0.00499049635706009, 'num_leaves': 233, 'feature_fraction': 0.44711079111655067, 'bagging_fraction': 0.5633760681216468, 'bagging_freq': 2, 'min_child_samples': 98}. Best is trial 130 with value: 0.32924651845187136.\n",
      "[I 2024-06-19 18:23:47,522] Trial 164 finished with value: 0.3183002509372991 and parameters: {'lambda_l1': 0.031615915646307426, 'lambda_l2': 0.01623232767236234, 'num_leaves': 255, 'feature_fraction': 0.5433247617493794, 'bagging_fraction': 0.5875583468792751, 'bagging_freq': 1, 'min_child_samples': 93}. Best is trial 130 with value: 0.32924651845187136.\n",
      "[I 2024-06-19 18:23:50,073] Trial 165 finished with value: 0.3176923666401369 and parameters: {'lambda_l1': 0.007871606845694686, 'lambda_l2': 0.023584550595411004, 'num_leaves': 221, 'feature_fraction': 0.4759453457003451, 'bagging_fraction': 0.7387238121188024, 'bagging_freq': 1, 'min_child_samples': 100}. Best is trial 130 with value: 0.32924651845187136.\n",
      "[I 2024-06-19 18:23:52,309] Trial 166 finished with value: 0.3248191818326144 and parameters: {'lambda_l1': 0.018381972875299715, 'lambda_l2': 0.0009291552074252244, 'num_leaves': 239, 'feature_fraction': 0.4460049683558213, 'bagging_fraction': 0.6099480548969147, 'bagging_freq': 2, 'min_child_samples': 96}. Best is trial 130 with value: 0.32924651845187136.\n",
      "[I 2024-06-19 18:23:54,612] Trial 167 finished with value: 0.30345859892415783 and parameters: {'lambda_l1': 0.01590557151620987, 'lambda_l2': 0.0016792466299833054, 'num_leaves': 237, 'feature_fraction': 0.4436982499150154, 'bagging_fraction': 0.6023693841370932, 'bagging_freq': 2, 'min_child_samples': 96}. Best is trial 130 with value: 0.32924651845187136.\n",
      "[I 2024-06-19 18:23:57,442] Trial 168 finished with value: 0.3203753929827843 and parameters: {'lambda_l1': 0.11217520123732627, 'lambda_l2': 0.0026857148679271295, 'num_leaves': 217, 'feature_fraction': 0.4605110092099722, 'bagging_fraction': 0.6117414433664716, 'bagging_freq': 2, 'min_child_samples': 90}. Best is trial 130 with value: 0.32924651845187136.\n",
      "[I 2024-06-19 18:23:59,932] Trial 169 finished with value: 0.309984128552372 and parameters: {'lambda_l1': 0.05887102925700452, 'lambda_l2': 0.0014969412848952286, 'num_leaves': 226, 'feature_fraction': 0.4091448765556175, 'bagging_fraction': 0.5289066003506184, 'bagging_freq': 2, 'min_child_samples': 92}. Best is trial 130 with value: 0.32924651845187136.\n",
      "[I 2024-06-19 18:24:03,342] Trial 170 finished with value: 0.319795867499988 and parameters: {'lambda_l1': 0.005344608989950553, 'lambda_l2': 0.0009419488825356176, 'num_leaves': 233, 'feature_fraction': 0.42416553483988856, 'bagging_fraction': 0.6648305390690465, 'bagging_freq': 2, 'min_child_samples': 94}. Best is trial 130 with value: 0.32924651845187136.\n",
      "[I 2024-06-19 18:24:05,332] Trial 171 finished with value: 0.31761075870100197 and parameters: {'lambda_l1': 0.02269265710726428, 'lambda_l2': 0.011616285908452734, 'num_leaves': 245, 'feature_fraction': 0.4528821693528899, 'bagging_fraction': 0.5896862934608962, 'bagging_freq': 1, 'min_child_samples': 97}. Best is trial 130 with value: 0.32924651845187136.\n",
      "[I 2024-06-19 18:24:07,798] Trial 172 finished with value: 0.3216808601874205 and parameters: {'lambda_l1': 0.03326617476578416, 'lambda_l2': 0.006276131006817027, 'num_leaves': 248, 'feature_fraction': 0.4794353631211675, 'bagging_fraction': 0.5430059792493338, 'bagging_freq': 1, 'min_child_samples': 98}. Best is trial 130 with value: 0.32924651845187136.\n",
      "[I 2024-06-19 18:24:10,903] Trial 173 finished with value: 0.30683565689376313 and parameters: {'lambda_l1': 0.009432658594474232, 'lambda_l2': 0.0010160133750398285, 'num_leaves': 238, 'feature_fraction': 0.5154693784967971, 'bagging_fraction': 0.567915999596586, 'bagging_freq': 1, 'min_child_samples': 96}. Best is trial 130 with value: 0.32924651845187136.\n",
      "[I 2024-06-19 18:24:13,278] Trial 174 finished with value: 0.3080781565160253 and parameters: {'lambda_l1': 0.016707471530456174, 'lambda_l2': 0.004594952059438515, 'num_leaves': 212, 'feature_fraction': 0.49486615829567376, 'bagging_fraction': 0.5551031477951209, 'bagging_freq': 3, 'min_child_samples': 93}. Best is trial 130 with value: 0.32924651845187136.\n",
      "[I 2024-06-19 18:24:15,641] Trial 175 finished with value: 0.319884894807445 and parameters: {'lambda_l1': 2.68488259099047e-05, 'lambda_l2': 0.0025690479313458347, 'num_leaves': 242, 'feature_fraction': 0.4667128856056695, 'bagging_fraction': 0.5735429707773029, 'bagging_freq': 2, 'min_child_samples': 100}. Best is trial 130 with value: 0.32924651845187136.\n",
      "[I 2024-06-19 18:24:17,727] Trial 176 finished with value: 0.333509448392314 and parameters: {'lambda_l1': 1.8823365701329963e-06, 'lambda_l2': 0.010052631726366019, 'num_leaves': 224, 'feature_fraction': 0.529219993784728, 'bagging_fraction': 0.4840258269554657, 'bagging_freq': 1, 'min_child_samples': 88}. Best is trial 176 with value: 0.333509448392314.\n",
      "[I 2024-06-19 18:24:20,212] Trial 177 finished with value: 0.32625155445878373 and parameters: {'lambda_l1': 2.074345972087347e-06, 'lambda_l2': 0.00809684696321556, 'num_leaves': 224, 'feature_fraction': 0.5387322243337181, 'bagging_fraction': 0.48688395205033846, 'bagging_freq': 1, 'min_child_samples': 86}. Best is trial 176 with value: 0.333509448392314.\n",
      "[I 2024-06-19 18:24:22,794] Trial 178 finished with value: 0.3215374236365832 and parameters: {'lambda_l1': 1.989884857963521e-06, 'lambda_l2': 0.0032963706743566433, 'num_leaves': 223, 'feature_fraction': 0.5594291248215507, 'bagging_fraction': 0.4889177359176466, 'bagging_freq': 1, 'min_child_samples': 81}. Best is trial 176 with value: 0.333509448392314.\n",
      "[I 2024-06-19 18:24:25,230] Trial 179 finished with value: 0.314400494624653 and parameters: {'lambda_l1': 9.150980698802595e-07, 'lambda_l2': 0.0095502071137189, 'num_leaves': 228, 'feature_fraction': 0.5275867757380754, 'bagging_fraction': 0.4779609889056721, 'bagging_freq': 1, 'min_child_samples': 85}. Best is trial 176 with value: 0.333509448392314.\n",
      "[I 2024-06-19 18:24:27,423] Trial 180 finished with value: 0.3076548820060875 and parameters: {'lambda_l1': 5.172404786240849e-06, 'lambda_l2': 0.0018000084086628283, 'num_leaves': 217, 'feature_fraction': 0.540602032411369, 'bagging_fraction': 0.5067276000604767, 'bagging_freq': 1, 'min_child_samples': 86}. Best is trial 176 with value: 0.333509448392314.\n",
      "[I 2024-06-19 18:24:29,649] Trial 181 finished with value: 0.32046728469006813 and parameters: {'lambda_l1': 1.5395541066784484e-06, 'lambda_l2': 0.008065263187169571, 'num_leaves': 223, 'feature_fraction': 0.5273863656989035, 'bagging_fraction': 0.47271288052211324, 'bagging_freq': 1, 'min_child_samples': 88}. Best is trial 176 with value: 0.333509448392314.\n",
      "[I 2024-06-19 18:24:32,014] Trial 182 finished with value: 0.31795735071887077 and parameters: {'lambda_l1': 2.912864945601732e-07, 'lambda_l2': 0.004424994106939593, 'num_leaves': 231, 'feature_fraction': 0.5060891161342549, 'bagging_fraction': 0.4619705532525034, 'bagging_freq': 1, 'min_child_samples': 90}. Best is trial 176 with value: 0.333509448392314.\n",
      "[I 2024-06-19 18:24:34,537] Trial 183 finished with value: 0.32120528957718697 and parameters: {'lambda_l1': 1.2336273861607294e-07, 'lambda_l2': 0.013428737067426337, 'num_leaves': 219, 'feature_fraction': 0.7457915497124661, 'bagging_fraction': 0.49030078092115303, 'bagging_freq': 1, 'min_child_samples': 88}. Best is trial 176 with value: 0.333509448392314.\n",
      "[I 2024-06-19 18:24:36,675] Trial 184 finished with value: 0.3214257121880053 and parameters: {'lambda_l1': 5.0422964805603e-07, 'lambda_l2': 0.006702410613219463, 'num_leaves': 209, 'feature_fraction': 0.5665841719248241, 'bagging_fraction': 0.5022031914994908, 'bagging_freq': 1, 'min_child_samples': 78}. Best is trial 176 with value: 0.333509448392314.\n",
      "[I 2024-06-19 18:24:39,282] Trial 185 finished with value: 0.3070392916395891 and parameters: {'lambda_l1': 0.03972791034193656, 'lambda_l2': 1.0989761611221297e-08, 'num_leaves': 234, 'feature_fraction': 0.5197226040293037, 'bagging_fraction': 0.6052036811127257, 'bagging_freq': 1, 'min_child_samples': 83}. Best is trial 176 with value: 0.333509448392314.\n",
      "[I 2024-06-19 18:24:41,300] Trial 186 finished with value: 0.2982393729071402 and parameters: {'lambda_l1': 9.951190338960265e-07, 'lambda_l2': 0.0025554346487894485, 'num_leaves': 213, 'feature_fraction': 0.4388724054819156, 'bagging_fraction': 0.4698927313252706, 'bagging_freq': 2, 'min_child_samples': 91}. Best is trial 176 with value: 0.333509448392314.\n",
      "[I 2024-06-19 18:24:43,506] Trial 187 finished with value: 0.3014483118814828 and parameters: {'lambda_l1': 2.82465580457631e-06, 'lambda_l2': 0.000983811557549746, 'num_leaves': 105, 'feature_fraction': 0.5851956282279784, 'bagging_fraction': 0.48080104022685594, 'bagging_freq': 4, 'min_child_samples': 87}. Best is trial 176 with value: 0.333509448392314.\n",
      "[I 2024-06-19 18:24:46,030] Trial 188 finished with value: 0.29946519552791184 and parameters: {'lambda_l1': 3.967968840582771e-08, 'lambda_l2': 0.009323470433199341, 'num_leaves': 227, 'feature_fraction': 0.5442573293586942, 'bagging_fraction': 0.5789244567965011, 'bagging_freq': 1, 'min_child_samples': 94}. Best is trial 176 with value: 0.333509448392314.\n",
      "[I 2024-06-19 18:24:48,270] Trial 189 finished with value: 0.31025434663538065 and parameters: {'lambda_l1': 7.43434809653763e-06, 'lambda_l2': 0.0037576636835375743, 'num_leaves': 238, 'feature_fraction': 0.48388491849135495, 'bagging_fraction': 0.5323787608707047, 'bagging_freq': 1, 'min_child_samples': 82}. Best is trial 176 with value: 0.333509448392314.\n",
      "[I 2024-06-19 18:24:50,717] Trial 190 finished with value: 0.31543319955904325 and parameters: {'lambda_l1': 0.011718792298212034, 'lambda_l2': 0.0004978281253104928, 'num_leaves': 201, 'feature_fraction': 0.5007794053614991, 'bagging_fraction': 0.632828113567303, 'bagging_freq': 1, 'min_child_samples': 92}. Best is trial 176 with value: 0.333509448392314.\n",
      "[I 2024-06-19 18:24:52,696] Trial 191 finished with value: 0.3135031015331342 and parameters: {'lambda_l1': 0.02629863103265671, 'lambda_l2': 0.02924687049414188, 'num_leaves': 253, 'feature_fraction': 0.5081654141226022, 'bagging_fraction': 0.4576312348142862, 'bagging_freq': 1, 'min_child_samples': 98}. Best is trial 176 with value: 0.333509448392314.\n",
      "[I 2024-06-19 18:24:55,187] Trial 192 finished with value: 0.29979962545811534 and parameters: {'lambda_l1': 0.018178076277836956, 'lambda_l2': 0.016741349133034204, 'num_leaves': 224, 'feature_fraction': 0.4901924681006631, 'bagging_fraction': 0.7856132929235287, 'bagging_freq': 1, 'min_child_samples': 96}. Best is trial 176 with value: 0.333509448392314.\n",
      "[I 2024-06-19 18:24:57,136] Trial 193 finished with value: 0.3177937996709952 and parameters: {'lambda_l1': 3.5794655358685237e-06, 'lambda_l2': 0.022046793240218975, 'num_leaves': 242, 'feature_fraction': 0.7916580072499515, 'bagging_fraction': 0.4828504160049862, 'bagging_freq': 1, 'min_child_samples': 100}. Best is trial 176 with value: 0.333509448392314.\n",
      "[I 2024-06-19 18:24:59,322] Trial 194 finished with value: 0.318226228089878 and parameters: {'lambda_l1': 0.05171321437971643, 'lambda_l2': 0.03936315754365574, 'num_leaves': 230, 'feature_fraction': 0.4698037647901507, 'bagging_fraction': 0.5954565082054554, 'bagging_freq': 1, 'min_child_samples': 98}. Best is trial 176 with value: 0.333509448392314.\n",
      "[I 2024-06-19 18:25:01,570] Trial 195 finished with value: 0.3116887143591862 and parameters: {'lambda_l1': 0.0027680797663366162, 'lambda_l2': 0.010690392720339321, 'num_leaves': 249, 'feature_fraction': 0.5525664751286411, 'bagging_fraction': 0.4959148904472582, 'bagging_freq': 1, 'min_child_samples': 95}. Best is trial 176 with value: 0.333509448392314.\n",
      "[I 2024-06-19 18:25:03,924] Trial 196 finished with value: 0.315351260027936 and parameters: {'lambda_l1': 0.026871316128657508, 'lambda_l2': 0.00492822172589809, 'num_leaves': 219, 'feature_fraction': 0.5275742685791288, 'bagging_fraction': 0.517093051972645, 'bagging_freq': 2, 'min_child_samples': 89}. Best is trial 176 with value: 0.333509448392314.\n",
      "[I 2024-06-19 18:25:06,869] Trial 197 finished with value: 0.32116166769664145 and parameters: {'lambda_l1': 0.06944744591173888, 'lambda_l2': 0.002199134116640175, 'num_leaves': 235, 'feature_fraction': 0.4530287674959224, 'bagging_fraction': 0.4638723093599857, 'bagging_freq': 1, 'min_child_samples': 85}. Best is trial 176 with value: 0.333509448392314.\n",
      "[I 2024-06-19 18:25:09,334] Trial 198 finished with value: 0.31298684900774876 and parameters: {'lambda_l1': 0.013640402886946857, 'lambda_l2': 0.023278642175603975, 'num_leaves': 214, 'feature_fraction': 0.5157141736720151, 'bagging_fraction': 0.5593667755630185, 'bagging_freq': 1, 'min_child_samples': 96}. Best is trial 176 with value: 0.333509448392314.\n",
      "[I 2024-06-19 18:25:11,797] Trial 199 finished with value: 0.3153284926205987 and parameters: {'lambda_l1': 0.007027277217567704, 'lambda_l2': 0.08825166798394903, 'num_leaves': 74, 'feature_fraction': 0.4996412402210824, 'bagging_fraction': 0.45248061386213617, 'bagging_freq': 1, 'min_child_samples': 93}. Best is trial 176 with value: 0.333509448392314.\n"
     ]
    }
   ],
   "source": [
    "study = optuna.create_study(direction='maximize',\n",
    "                            storage=\"sqlite:///db.sqlite3\",  # Specify the storage URL here.\n",
    "                            study_name=\"04 - LGB Multiclass\",\n",
    "                            load_if_exists=True)\n",
    "study.optimize(lgb_objective, n_trials=100)"
   ]
  },
  {
   "cell_type": "code",
   "execution_count": 23,
   "metadata": {},
   "outputs": [
    {
     "data": {
      "application/vnd.plotly.v1+json": {
       "config": {
        "plotlyServerURL": "https://plot.ly"
       },
       "data": [
        {
         "type": "heatmap",
         "x": [
          0,
          1,
          2,
          3,
          4
         ],
         "y": [
          0,
          1,
          2,
          3,
          4
         ],
         "z": [
          [
           3.6585365853658534,
           45.1219512195122,
           29.268292682926827,
           2.4390243902439024,
           19.51219512195122
          ],
          [
           0.6472491909385114,
           34.627831715210355,
           33.81877022653722,
           9.223300970873787,
           21.68284789644013
          ],
          [
           0.12391573729863693,
           23.42007434944238,
           36.18339529120198,
           14.374225526641885,
           25.89838909541512
          ],
          [
           0.15337423312883436,
           17.02453987730061,
           30.061349693251532,
           22.699386503067483,
           30.061349693251532
          ],
          [
           0.11904761904761905,
           11.547619047619047,
           17.61904761904762,
           8.80952380952381,
           61.904761904761905
          ]
         ]
        }
       ],
       "layout": {
        "annotations": [
         {
          "font": {
           "color": "white"
          },
          "showarrow": false,
          "text": "3.7 - 3",
          "x": 0,
          "xref": "x",
          "y": 0,
          "yref": "y"
         },
         {
          "font": {
           "color": "white"
          },
          "showarrow": false,
          "text": "45.1 - 37",
          "x": 1,
          "xref": "x",
          "y": 0,
          "yref": "y"
         },
         {
          "font": {
           "color": "white"
          },
          "showarrow": false,
          "text": "29.3 - 24",
          "x": 2,
          "xref": "x",
          "y": 0,
          "yref": "y"
         },
         {
          "font": {
           "color": "white"
          },
          "showarrow": false,
          "text": "2.4 - 2",
          "x": 3,
          "xref": "x",
          "y": 0,
          "yref": "y"
         },
         {
          "font": {
           "color": "white"
          },
          "showarrow": false,
          "text": "19.5 - 16",
          "x": 4,
          "xref": "x",
          "y": 0,
          "yref": "y"
         },
         {
          "font": {
           "color": "white"
          },
          "showarrow": false,
          "text": "0.6 - 4",
          "x": 0,
          "xref": "x",
          "y": 1,
          "yref": "y"
         },
         {
          "font": {
           "color": "white"
          },
          "showarrow": false,
          "text": "34.6 - 214",
          "x": 1,
          "xref": "x",
          "y": 1,
          "yref": "y"
         },
         {
          "font": {
           "color": "white"
          },
          "showarrow": false,
          "text": "33.8 - 209",
          "x": 2,
          "xref": "x",
          "y": 1,
          "yref": "y"
         },
         {
          "font": {
           "color": "white"
          },
          "showarrow": false,
          "text": "9.2 - 57",
          "x": 3,
          "xref": "x",
          "y": 1,
          "yref": "y"
         },
         {
          "font": {
           "color": "white"
          },
          "showarrow": false,
          "text": "21.7 - 134",
          "x": 4,
          "xref": "x",
          "y": 1,
          "yref": "y"
         },
         {
          "font": {
           "color": "white"
          },
          "showarrow": false,
          "text": "0.1 - 1",
          "x": 0,
          "xref": "x",
          "y": 2,
          "yref": "y"
         },
         {
          "font": {
           "color": "white"
          },
          "showarrow": false,
          "text": "23.4 - 189",
          "x": 1,
          "xref": "x",
          "y": 2,
          "yref": "y"
         },
         {
          "font": {
           "color": "white"
          },
          "showarrow": false,
          "text": "36.2 - 292",
          "x": 2,
          "xref": "x",
          "y": 2,
          "yref": "y"
         },
         {
          "font": {
           "color": "white"
          },
          "showarrow": false,
          "text": "14.4 - 116",
          "x": 3,
          "xref": "x",
          "y": 2,
          "yref": "y"
         },
         {
          "font": {
           "color": "white"
          },
          "showarrow": false,
          "text": "25.9 - 209",
          "x": 4,
          "xref": "x",
          "y": 2,
          "yref": "y"
         },
         {
          "font": {
           "color": "white"
          },
          "showarrow": false,
          "text": "0.2 - 1",
          "x": 0,
          "xref": "x",
          "y": 3,
          "yref": "y"
         },
         {
          "font": {
           "color": "white"
          },
          "showarrow": false,
          "text": "17.0 - 111",
          "x": 1,
          "xref": "x",
          "y": 3,
          "yref": "y"
         },
         {
          "font": {
           "color": "white"
          },
          "showarrow": false,
          "text": "30.1 - 196",
          "x": 2,
          "xref": "x",
          "y": 3,
          "yref": "y"
         },
         {
          "font": {
           "color": "white"
          },
          "showarrow": false,
          "text": "22.7 - 148",
          "x": 3,
          "xref": "x",
          "y": 3,
          "yref": "y"
         },
         {
          "font": {
           "color": "white"
          },
          "showarrow": false,
          "text": "30.1 - 196",
          "x": 4,
          "xref": "x",
          "y": 3,
          "yref": "y"
         },
         {
          "font": {
           "color": "white"
          },
          "showarrow": false,
          "text": "0.1 - 1",
          "x": 0,
          "xref": "x",
          "y": 4,
          "yref": "y"
         },
         {
          "font": {
           "color": "white"
          },
          "showarrow": false,
          "text": "11.5 - 97",
          "x": 1,
          "xref": "x",
          "y": 4,
          "yref": "y"
         },
         {
          "font": {
           "color": "white"
          },
          "showarrow": false,
          "text": "17.6 - 148",
          "x": 2,
          "xref": "x",
          "y": 4,
          "yref": "y"
         },
         {
          "font": {
           "color": "white"
          },
          "showarrow": false,
          "text": "8.8 - 74",
          "x": 3,
          "xref": "x",
          "y": 4,
          "yref": "y"
         },
         {
          "font": {
           "color": "white"
          },
          "showarrow": false,
          "text": "61.9 - 520",
          "x": 4,
          "xref": "x",
          "y": 4,
          "yref": "y"
         }
        ],
        "height": 800,
        "template": {
         "data": {
          "bar": [
           {
            "error_x": {
             "color": "#2a3f5f"
            },
            "error_y": {
             "color": "#2a3f5f"
            },
            "marker": {
             "line": {
              "color": "#E5ECF6",
              "width": 0.5
             },
             "pattern": {
              "fillmode": "overlay",
              "size": 10,
              "solidity": 0.2
             }
            },
            "type": "bar"
           }
          ],
          "barpolar": [
           {
            "marker": {
             "line": {
              "color": "#E5ECF6",
              "width": 0.5
             },
             "pattern": {
              "fillmode": "overlay",
              "size": 10,
              "solidity": 0.2
             }
            },
            "type": "barpolar"
           }
          ],
          "carpet": [
           {
            "aaxis": {
             "endlinecolor": "#2a3f5f",
             "gridcolor": "white",
             "linecolor": "white",
             "minorgridcolor": "white",
             "startlinecolor": "#2a3f5f"
            },
            "baxis": {
             "endlinecolor": "#2a3f5f",
             "gridcolor": "white",
             "linecolor": "white",
             "minorgridcolor": "white",
             "startlinecolor": "#2a3f5f"
            },
            "type": "carpet"
           }
          ],
          "choropleth": [
           {
            "colorbar": {
             "outlinewidth": 0,
             "ticks": ""
            },
            "type": "choropleth"
           }
          ],
          "contour": [
           {
            "colorbar": {
             "outlinewidth": 0,
             "ticks": ""
            },
            "colorscale": [
             [
              0,
              "#0d0887"
             ],
             [
              0.1111111111111111,
              "#46039f"
             ],
             [
              0.2222222222222222,
              "#7201a8"
             ],
             [
              0.3333333333333333,
              "#9c179e"
             ],
             [
              0.4444444444444444,
              "#bd3786"
             ],
             [
              0.5555555555555556,
              "#d8576b"
             ],
             [
              0.6666666666666666,
              "#ed7953"
             ],
             [
              0.7777777777777778,
              "#fb9f3a"
             ],
             [
              0.8888888888888888,
              "#fdca26"
             ],
             [
              1,
              "#f0f921"
             ]
            ],
            "type": "contour"
           }
          ],
          "contourcarpet": [
           {
            "colorbar": {
             "outlinewidth": 0,
             "ticks": ""
            },
            "type": "contourcarpet"
           }
          ],
          "heatmap": [
           {
            "colorbar": {
             "outlinewidth": 0,
             "ticks": ""
            },
            "colorscale": [
             [
              0,
              "#0d0887"
             ],
             [
              0.1111111111111111,
              "#46039f"
             ],
             [
              0.2222222222222222,
              "#7201a8"
             ],
             [
              0.3333333333333333,
              "#9c179e"
             ],
             [
              0.4444444444444444,
              "#bd3786"
             ],
             [
              0.5555555555555556,
              "#d8576b"
             ],
             [
              0.6666666666666666,
              "#ed7953"
             ],
             [
              0.7777777777777778,
              "#fb9f3a"
             ],
             [
              0.8888888888888888,
              "#fdca26"
             ],
             [
              1,
              "#f0f921"
             ]
            ],
            "type": "heatmap"
           }
          ],
          "heatmapgl": [
           {
            "colorbar": {
             "outlinewidth": 0,
             "ticks": ""
            },
            "colorscale": [
             [
              0,
              "#0d0887"
             ],
             [
              0.1111111111111111,
              "#46039f"
             ],
             [
              0.2222222222222222,
              "#7201a8"
             ],
             [
              0.3333333333333333,
              "#9c179e"
             ],
             [
              0.4444444444444444,
              "#bd3786"
             ],
             [
              0.5555555555555556,
              "#d8576b"
             ],
             [
              0.6666666666666666,
              "#ed7953"
             ],
             [
              0.7777777777777778,
              "#fb9f3a"
             ],
             [
              0.8888888888888888,
              "#fdca26"
             ],
             [
              1,
              "#f0f921"
             ]
            ],
            "type": "heatmapgl"
           }
          ],
          "histogram": [
           {
            "marker": {
             "pattern": {
              "fillmode": "overlay",
              "size": 10,
              "solidity": 0.2
             }
            },
            "type": "histogram"
           }
          ],
          "histogram2d": [
           {
            "colorbar": {
             "outlinewidth": 0,
             "ticks": ""
            },
            "colorscale": [
             [
              0,
              "#0d0887"
             ],
             [
              0.1111111111111111,
              "#46039f"
             ],
             [
              0.2222222222222222,
              "#7201a8"
             ],
             [
              0.3333333333333333,
              "#9c179e"
             ],
             [
              0.4444444444444444,
              "#bd3786"
             ],
             [
              0.5555555555555556,
              "#d8576b"
             ],
             [
              0.6666666666666666,
              "#ed7953"
             ],
             [
              0.7777777777777778,
              "#fb9f3a"
             ],
             [
              0.8888888888888888,
              "#fdca26"
             ],
             [
              1,
              "#f0f921"
             ]
            ],
            "type": "histogram2d"
           }
          ],
          "histogram2dcontour": [
           {
            "colorbar": {
             "outlinewidth": 0,
             "ticks": ""
            },
            "colorscale": [
             [
              0,
              "#0d0887"
             ],
             [
              0.1111111111111111,
              "#46039f"
             ],
             [
              0.2222222222222222,
              "#7201a8"
             ],
             [
              0.3333333333333333,
              "#9c179e"
             ],
             [
              0.4444444444444444,
              "#bd3786"
             ],
             [
              0.5555555555555556,
              "#d8576b"
             ],
             [
              0.6666666666666666,
              "#ed7953"
             ],
             [
              0.7777777777777778,
              "#fb9f3a"
             ],
             [
              0.8888888888888888,
              "#fdca26"
             ],
             [
              1,
              "#f0f921"
             ]
            ],
            "type": "histogram2dcontour"
           }
          ],
          "mesh3d": [
           {
            "colorbar": {
             "outlinewidth": 0,
             "ticks": ""
            },
            "type": "mesh3d"
           }
          ],
          "parcoords": [
           {
            "line": {
             "colorbar": {
              "outlinewidth": 0,
              "ticks": ""
             }
            },
            "type": "parcoords"
           }
          ],
          "pie": [
           {
            "automargin": true,
            "type": "pie"
           }
          ],
          "scatter": [
           {
            "fillpattern": {
             "fillmode": "overlay",
             "size": 10,
             "solidity": 0.2
            },
            "type": "scatter"
           }
          ],
          "scatter3d": [
           {
            "line": {
             "colorbar": {
              "outlinewidth": 0,
              "ticks": ""
             }
            },
            "marker": {
             "colorbar": {
              "outlinewidth": 0,
              "ticks": ""
             }
            },
            "type": "scatter3d"
           }
          ],
          "scattercarpet": [
           {
            "marker": {
             "colorbar": {
              "outlinewidth": 0,
              "ticks": ""
             }
            },
            "type": "scattercarpet"
           }
          ],
          "scattergeo": [
           {
            "marker": {
             "colorbar": {
              "outlinewidth": 0,
              "ticks": ""
             }
            },
            "type": "scattergeo"
           }
          ],
          "scattergl": [
           {
            "marker": {
             "colorbar": {
              "outlinewidth": 0,
              "ticks": ""
             }
            },
            "type": "scattergl"
           }
          ],
          "scattermapbox": [
           {
            "marker": {
             "colorbar": {
              "outlinewidth": 0,
              "ticks": ""
             }
            },
            "type": "scattermapbox"
           }
          ],
          "scatterpolar": [
           {
            "marker": {
             "colorbar": {
              "outlinewidth": 0,
              "ticks": ""
             }
            },
            "type": "scatterpolar"
           }
          ],
          "scatterpolargl": [
           {
            "marker": {
             "colorbar": {
              "outlinewidth": 0,
              "ticks": ""
             }
            },
            "type": "scatterpolargl"
           }
          ],
          "scatterternary": [
           {
            "marker": {
             "colorbar": {
              "outlinewidth": 0,
              "ticks": ""
             }
            },
            "type": "scatterternary"
           }
          ],
          "surface": [
           {
            "colorbar": {
             "outlinewidth": 0,
             "ticks": ""
            },
            "colorscale": [
             [
              0,
              "#0d0887"
             ],
             [
              0.1111111111111111,
              "#46039f"
             ],
             [
              0.2222222222222222,
              "#7201a8"
             ],
             [
              0.3333333333333333,
              "#9c179e"
             ],
             [
              0.4444444444444444,
              "#bd3786"
             ],
             [
              0.5555555555555556,
              "#d8576b"
             ],
             [
              0.6666666666666666,
              "#ed7953"
             ],
             [
              0.7777777777777778,
              "#fb9f3a"
             ],
             [
              0.8888888888888888,
              "#fdca26"
             ],
             [
              1,
              "#f0f921"
             ]
            ],
            "type": "surface"
           }
          ],
          "table": [
           {
            "cells": {
             "fill": {
              "color": "#EBF0F8"
             },
             "line": {
              "color": "white"
             }
            },
            "header": {
             "fill": {
              "color": "#C8D4E3"
             },
             "line": {
              "color": "white"
             }
            },
            "type": "table"
           }
          ]
         },
         "layout": {
          "annotationdefaults": {
           "arrowcolor": "#2a3f5f",
           "arrowhead": 0,
           "arrowwidth": 1
          },
          "autotypenumbers": "strict",
          "coloraxis": {
           "colorbar": {
            "outlinewidth": 0,
            "ticks": ""
           }
          },
          "colorscale": {
           "diverging": [
            [
             0,
             "#8e0152"
            ],
            [
             0.1,
             "#c51b7d"
            ],
            [
             0.2,
             "#de77ae"
            ],
            [
             0.3,
             "#f1b6da"
            ],
            [
             0.4,
             "#fde0ef"
            ],
            [
             0.5,
             "#f7f7f7"
            ],
            [
             0.6,
             "#e6f5d0"
            ],
            [
             0.7,
             "#b8e186"
            ],
            [
             0.8,
             "#7fbc41"
            ],
            [
             0.9,
             "#4d9221"
            ],
            [
             1,
             "#276419"
            ]
           ],
           "sequential": [
            [
             0,
             "#0d0887"
            ],
            [
             0.1111111111111111,
             "#46039f"
            ],
            [
             0.2222222222222222,
             "#7201a8"
            ],
            [
             0.3333333333333333,
             "#9c179e"
            ],
            [
             0.4444444444444444,
             "#bd3786"
            ],
            [
             0.5555555555555556,
             "#d8576b"
            ],
            [
             0.6666666666666666,
             "#ed7953"
            ],
            [
             0.7777777777777778,
             "#fb9f3a"
            ],
            [
             0.8888888888888888,
             "#fdca26"
            ],
            [
             1,
             "#f0f921"
            ]
           ],
           "sequentialminus": [
            [
             0,
             "#0d0887"
            ],
            [
             0.1111111111111111,
             "#46039f"
            ],
            [
             0.2222222222222222,
             "#7201a8"
            ],
            [
             0.3333333333333333,
             "#9c179e"
            ],
            [
             0.4444444444444444,
             "#bd3786"
            ],
            [
             0.5555555555555556,
             "#d8576b"
            ],
            [
             0.6666666666666666,
             "#ed7953"
            ],
            [
             0.7777777777777778,
             "#fb9f3a"
            ],
            [
             0.8888888888888888,
             "#fdca26"
            ],
            [
             1,
             "#f0f921"
            ]
           ]
          },
          "colorway": [
           "#636efa",
           "#EF553B",
           "#00cc96",
           "#ab63fa",
           "#FFA15A",
           "#19d3f3",
           "#FF6692",
           "#B6E880",
           "#FF97FF",
           "#FECB52"
          ],
          "font": {
           "color": "#2a3f5f"
          },
          "geo": {
           "bgcolor": "white",
           "lakecolor": "white",
           "landcolor": "#E5ECF6",
           "showlakes": true,
           "showland": true,
           "subunitcolor": "white"
          },
          "hoverlabel": {
           "align": "left"
          },
          "hovermode": "closest",
          "mapbox": {
           "style": "light"
          },
          "paper_bgcolor": "white",
          "plot_bgcolor": "#E5ECF6",
          "polar": {
           "angularaxis": {
            "gridcolor": "white",
            "linecolor": "white",
            "ticks": ""
           },
           "bgcolor": "#E5ECF6",
           "radialaxis": {
            "gridcolor": "white",
            "linecolor": "white",
            "ticks": ""
           }
          },
          "scene": {
           "xaxis": {
            "backgroundcolor": "#E5ECF6",
            "gridcolor": "white",
            "gridwidth": 2,
            "linecolor": "white",
            "showbackground": true,
            "ticks": "",
            "zerolinecolor": "white"
           },
           "yaxis": {
            "backgroundcolor": "#E5ECF6",
            "gridcolor": "white",
            "gridwidth": 2,
            "linecolor": "white",
            "showbackground": true,
            "ticks": "",
            "zerolinecolor": "white"
           },
           "zaxis": {
            "backgroundcolor": "#E5ECF6",
            "gridcolor": "white",
            "gridwidth": 2,
            "linecolor": "white",
            "showbackground": true,
            "ticks": "",
            "zerolinecolor": "white"
           }
          },
          "shapedefaults": {
           "line": {
            "color": "#2a3f5f"
           }
          },
          "ternary": {
           "aaxis": {
            "gridcolor": "white",
            "linecolor": "white",
            "ticks": ""
           },
           "baxis": {
            "gridcolor": "white",
            "linecolor": "white",
            "ticks": ""
           },
           "bgcolor": "#E5ECF6",
           "caxis": {
            "gridcolor": "white",
            "linecolor": "white",
            "ticks": ""
           }
          },
          "title": {
           "x": 0.05
          },
          "xaxis": {
           "automargin": true,
           "gridcolor": "white",
           "linecolor": "white",
           "ticks": "",
           "title": {
            "standoff": 15
           },
           "zerolinecolor": "white",
           "zerolinewidth": 2
          },
          "yaxis": {
           "automargin": true,
           "gridcolor": "white",
           "linecolor": "white",
           "ticks": "",
           "title": {
            "standoff": 15
           },
           "zerolinecolor": "white",
           "zerolinewidth": 2
          }
         }
        },
        "title": {
         "text": "Conf Matrix"
        },
        "width": 800,
        "xaxis": {
         "title": {
          "text": "Predicted value"
         }
        },
        "yaxis": {
         "title": {
          "text": "Real value"
         }
        }
       }
      }
     },
     "metadata": {},
     "output_type": "display_data"
    }
   ],
   "source": [
    "lgb_params =  {      \n",
    "                        'objective': 'multiclass',\n",
    "                        'verbosity':-1,\n",
    "                        'num_class': len(y_train.unique())} | study.best_params\n",
    "\n",
    "lgb_train_dataset = lgb.Dataset(data=X_train,\n",
    "                                label=y_train)\n",
    "\n",
    "\n",
    "lgb_model = lgb.train(lgb_params,\n",
    "                    lgb_train_dataset)\n",
    "\n",
    "display(plot_confusion_matrix(y_test,lgb_model.predict(X_test).argmax(axis=1)))\n"
   ]
  },
  {
   "cell_type": "code",
   "execution_count": 24,
   "metadata": {},
   "outputs": [],
   "source": [
    "def lgb_custom_metric_kappa(dy_pred, dy_true):\n",
    "\n",
    "    metric_name = 'kappa'\n",
    "    value = cohen_kappa_score(dy_true.get_label(),dy_pred.argmax(axis=1),weights = 'quadratic')\n",
    "    is_higher_better = True\n",
    "    return(metric_name, value, is_higher_better)\n",
    "\n",
    "def cv_es_lgb_objective(trial):\n",
    "\n",
    "    lgb_params = {      \n",
    "                        'objective': 'multiclass',\n",
    "                        'verbosity':-1,\n",
    "                        'num_class': len(y_train.unique()),\n",
    "                        'lambda_l1': trial.suggest_float('lambda_l1', 1e-8, 10.0, log=True),\n",
    "                        'lambda_l2': trial.suggest_float('lambda_l2', 1e-8, 10.0, log=True),\n",
    "                        'num_leaves': trial.suggest_int('num_leaves', 2, 256),\n",
    "                        'feature_fraction': trial.suggest_float('feature_fraction', 0.4, 1.0),\n",
    "                        'bagging_fraction': trial.suggest_float('bagging_fraction', 0.4, 1.0),\n",
    "                        'bagging_freq': trial.suggest_int('bagging_freq', 1, 7),\n",
    "                        'min_child_samples': trial.suggest_int('min_child_samples', 5, 100),\n",
    "                        } \n",
    "\n",
    "    scores_ensemble = np.zeros((len(y_test),len(y_train.unique())))\n",
    "    score_folds = 0\n",
    "    n_splits = 5\n",
    "\n",
    "\n",
    "    skf = StratifiedKFold(n_splits=n_splits)\n",
    "\n",
    "    for i, (if_index, oof_index) in enumerate(skf.split(X_train, y_train)):\n",
    "        \n",
    "        lgb_if_dataset = lgb.Dataset(data=X_train.iloc[if_index],\n",
    "                                        label=y_train.iloc[if_index],\n",
    "                                        free_raw_data=False)\n",
    "        \n",
    "        lgb_oof_dataset = lgb.Dataset(data=X_train.iloc[oof_index],\n",
    "                                        label=y_train.iloc[oof_index],\n",
    "                                        free_raw_data=False)\n",
    "\n",
    "        lgb_model = lgb.train(lgb_params,\n",
    "                                lgb_if_dataset,\n",
    "                                valid_sets=lgb_oof_dataset,\n",
    "                                callbacks=[lgb.early_stopping(10, verbose=False)],\n",
    "                                feval = lgb_custom_metric_kappa\n",
    "                                )\n",
    "        \n",
    "        scores_ensemble = scores_ensemble + lgb_model.predict(X_test) #prediction!!!!\n",
    "        \n",
    "        score_folds = score_folds + cohen_kappa_score(y_train.iloc[oof_index], \n",
    "                                                            lgb_model.predict(X_train.iloc[oof_index]).argmax(axis=1),weights = 'quadratic')/n_splits\n",
    "\n",
    "\n",
    "    predicted_filename = os.path.join(PATH_TO_TEMP_FILES,f'test_{trial.study.study_name}_{trial.number}.joblib')\n",
    "    predicted_df = test.copy()\n",
    "    predicted_df['pred'] = [scores_ensemble[p,:] for p in range(scores_ensemble.shape[0])]\n",
    "    dump(predicted_df, predicted_filename)\n",
    "    upload_artifact(trial, predicted_filename, artifact_store)    \n",
    "\n",
    "    cm_filename = os.path.join(PATH_TO_TEMP_FILES,f'cm_{trial.study.study_name}_{trial.number}.jpg')\n",
    "    plot_confusion_matrix(y_test,scores_ensemble.argmax(axis=1)).write_image(cm_filename)\n",
    "    upload_artifact(trial, cm_filename, artifact_store)\n",
    "\n",
    "    test_score = cohen_kappa_score(y_test,scores_ensemble.argmax(axis=1),weights = 'quadratic')\n",
    "    trial.set_user_attr(\"test_score\", test_score)\n",
    "\n",
    "    return(score_folds)"
   ]
  },
  {
   "cell_type": "code",
   "execution_count": 25,
   "metadata": {},
   "outputs": [
    {
     "name": "stderr",
     "output_type": "stream",
     "text": [
      "C:\\Users\\Usuario\\AppData\\Local\\Temp\\ipykernel_2436\\3012677449.py:1: ExperimentalWarning:\n",
      "\n",
      "FileSystemArtifactStore is experimental (supported from v3.3.0). The interface can change in the future.\n",
      "\n",
      "[I 2024-06-19 18:25:24,752] Using an existing study with name '04 - LGB Multiclass CV' instead of creating a new one.\n",
      "C:\\Users\\Usuario\\AppData\\Local\\Temp\\ipykernel_2436\\1344764334.py:57: ExperimentalWarning:\n",
      "\n",
      "upload_artifact is experimental (supported from v3.3.0). The interface can change in the future.\n",
      "\n",
      "C:\\Users\\Usuario\\AppData\\Local\\Temp\\ipykernel_2436\\1344764334.py:61: ExperimentalWarning:\n",
      "\n",
      "upload_artifact is experimental (supported from v3.3.0). The interface can change in the future.\n",
      "\n",
      "[I 2024-06-19 18:25:40,358] Trial 2 finished with value: 0.3395239660335658 and parameters: {'lambda_l1': 8.868575952232886, 'lambda_l2': 1.983358513799663e-08, 'num_leaves': 4, 'feature_fraction': 0.9196583664867848, 'bagging_fraction': 0.5647838736487406, 'bagging_freq': 3, 'min_child_samples': 16}. Best is trial 2 with value: 0.3395239660335658.\n",
      "C:\\Users\\Usuario\\AppData\\Local\\Temp\\ipykernel_2436\\1344764334.py:57: ExperimentalWarning:\n",
      "\n",
      "upload_artifact is experimental (supported from v3.3.0). The interface can change in the future.\n",
      "\n",
      "C:\\Users\\Usuario\\AppData\\Local\\Temp\\ipykernel_2436\\1344764334.py:61: ExperimentalWarning:\n",
      "\n",
      "upload_artifact is experimental (supported from v3.3.0). The interface can change in the future.\n",
      "\n",
      "[I 2024-06-19 18:25:50,157] Trial 3 finished with value: 0.35743887255417306 and parameters: {'lambda_l1': 0.20186468687384285, 'lambda_l2': 2.3594393474872362e-05, 'num_leaves': 128, 'feature_fraction': 0.48206922824249154, 'bagging_fraction': 0.6826050921120017, 'bagging_freq': 7, 'min_child_samples': 77}. Best is trial 3 with value: 0.35743887255417306.\n",
      "C:\\Users\\Usuario\\AppData\\Local\\Temp\\ipykernel_2436\\1344764334.py:57: ExperimentalWarning:\n",
      "\n",
      "upload_artifact is experimental (supported from v3.3.0). The interface can change in the future.\n",
      "\n",
      "C:\\Users\\Usuario\\AppData\\Local\\Temp\\ipykernel_2436\\1344764334.py:61: ExperimentalWarning:\n",
      "\n",
      "upload_artifact is experimental (supported from v3.3.0). The interface can change in the future.\n",
      "\n",
      "[I 2024-06-19 18:25:59,810] Trial 4 finished with value: 0.35145587455962357 and parameters: {'lambda_l1': 0.0015859964228628022, 'lambda_l2': 0.7938998395236563, 'num_leaves': 135, 'feature_fraction': 0.417310251455455, 'bagging_fraction': 0.5025604425029347, 'bagging_freq': 5, 'min_child_samples': 78}. Best is trial 3 with value: 0.35743887255417306.\n",
      "C:\\Users\\Usuario\\AppData\\Local\\Temp\\ipykernel_2436\\1344764334.py:57: ExperimentalWarning:\n",
      "\n",
      "upload_artifact is experimental (supported from v3.3.0). The interface can change in the future.\n",
      "\n",
      "C:\\Users\\Usuario\\AppData\\Local\\Temp\\ipykernel_2436\\1344764334.py:61: ExperimentalWarning:\n",
      "\n",
      "upload_artifact is experimental (supported from v3.3.0). The interface can change in the future.\n",
      "\n",
      "[I 2024-06-19 18:26:07,507] Trial 5 finished with value: 0.34306468676500596 and parameters: {'lambda_l1': 3.067407207649015e-05, 'lambda_l2': 8.812388093356185e-06, 'num_leaves': 67, 'feature_fraction': 0.9803213266036179, 'bagging_fraction': 0.4722681146901449, 'bagging_freq': 7, 'min_child_samples': 39}. Best is trial 3 with value: 0.35743887255417306.\n",
      "C:\\Users\\Usuario\\AppData\\Local\\Temp\\ipykernel_2436\\1344764334.py:57: ExperimentalWarning:\n",
      "\n",
      "upload_artifact is experimental (supported from v3.3.0). The interface can change in the future.\n",
      "\n",
      "C:\\Users\\Usuario\\AppData\\Local\\Temp\\ipykernel_2436\\1344764334.py:61: ExperimentalWarning:\n",
      "\n",
      "upload_artifact is experimental (supported from v3.3.0). The interface can change in the future.\n",
      "\n",
      "[I 2024-06-19 18:26:16,619] Trial 6 finished with value: 0.34551481453929933 and parameters: {'lambda_l1': 1.0307895175334134e-07, 'lambda_l2': 1.2488695211471636e-07, 'num_leaves': 48, 'feature_fraction': 0.5794154566652243, 'bagging_fraction': 0.45849662259315066, 'bagging_freq': 6, 'min_child_samples': 66}. Best is trial 3 with value: 0.35743887255417306.\n",
      "C:\\Users\\Usuario\\AppData\\Local\\Temp\\ipykernel_2436\\1344764334.py:57: ExperimentalWarning:\n",
      "\n",
      "upload_artifact is experimental (supported from v3.3.0). The interface can change in the future.\n",
      "\n",
      "C:\\Users\\Usuario\\AppData\\Local\\Temp\\ipykernel_2436\\1344764334.py:61: ExperimentalWarning:\n",
      "\n",
      "upload_artifact is experimental (supported from v3.3.0). The interface can change in the future.\n",
      "\n",
      "[I 2024-06-19 18:26:26,387] Trial 7 finished with value: 0.3408493929501755 and parameters: {'lambda_l1': 4.21536139927557e-06, 'lambda_l2': 4.292340923926933e-06, 'num_leaves': 83, 'feature_fraction': 0.42205078797768947, 'bagging_fraction': 0.402773767709785, 'bagging_freq': 7, 'min_child_samples': 59}. Best is trial 3 with value: 0.35743887255417306.\n",
      "C:\\Users\\Usuario\\AppData\\Local\\Temp\\ipykernel_2436\\1344764334.py:57: ExperimentalWarning:\n",
      "\n",
      "upload_artifact is experimental (supported from v3.3.0). The interface can change in the future.\n",
      "\n",
      "C:\\Users\\Usuario\\AppData\\Local\\Temp\\ipykernel_2436\\1344764334.py:61: ExperimentalWarning:\n",
      "\n",
      "upload_artifact is experimental (supported from v3.3.0). The interface can change in the future.\n",
      "\n",
      "[I 2024-06-19 18:26:36,630] Trial 8 finished with value: 0.34486150413148065 and parameters: {'lambda_l1': 0.1646958785633411, 'lambda_l2': 5.776676076213446e-05, 'num_leaves': 136, 'feature_fraction': 0.5185805196095721, 'bagging_fraction': 0.4746760241069748, 'bagging_freq': 4, 'min_child_samples': 92}. Best is trial 3 with value: 0.35743887255417306.\n",
      "C:\\Users\\Usuario\\AppData\\Local\\Temp\\ipykernel_2436\\1344764334.py:57: ExperimentalWarning:\n",
      "\n",
      "upload_artifact is experimental (supported from v3.3.0). The interface can change in the future.\n",
      "\n",
      "C:\\Users\\Usuario\\AppData\\Local\\Temp\\ipykernel_2436\\1344764334.py:61: ExperimentalWarning:\n",
      "\n",
      "upload_artifact is experimental (supported from v3.3.0). The interface can change in the future.\n",
      "\n",
      "[I 2024-06-19 18:26:49,245] Trial 9 finished with value: 0.35157973769686374 and parameters: {'lambda_l1': 4.205300864630398e-08, 'lambda_l2': 0.004410073008106792, 'num_leaves': 124, 'feature_fraction': 0.6141370709134617, 'bagging_fraction': 0.6873989494319932, 'bagging_freq': 2, 'min_child_samples': 11}. Best is trial 3 with value: 0.35743887255417306.\n",
      "C:\\Users\\Usuario\\AppData\\Local\\Temp\\ipykernel_2436\\1344764334.py:57: ExperimentalWarning:\n",
      "\n",
      "upload_artifact is experimental (supported from v3.3.0). The interface can change in the future.\n",
      "\n",
      "C:\\Users\\Usuario\\AppData\\Local\\Temp\\ipykernel_2436\\1344764334.py:61: ExperimentalWarning:\n",
      "\n",
      "upload_artifact is experimental (supported from v3.3.0). The interface can change in the future.\n",
      "\n",
      "[I 2024-06-19 18:26:58,323] Trial 10 finished with value: 0.3446352894799575 and parameters: {'lambda_l1': 2.095820983455821e-07, 'lambda_l2': 1.8429842123307203e-05, 'num_leaves': 134, 'feature_fraction': 0.7778021489412283, 'bagging_fraction': 0.530821943492549, 'bagging_freq': 7, 'min_child_samples': 88}. Best is trial 3 with value: 0.35743887255417306.\n",
      "C:\\Users\\Usuario\\AppData\\Local\\Temp\\ipykernel_2436\\1344764334.py:57: ExperimentalWarning:\n",
      "\n",
      "upload_artifact is experimental (supported from v3.3.0). The interface can change in the future.\n",
      "\n",
      "C:\\Users\\Usuario\\AppData\\Local\\Temp\\ipykernel_2436\\1344764334.py:61: ExperimentalWarning:\n",
      "\n",
      "upload_artifact is experimental (supported from v3.3.0). The interface can change in the future.\n",
      "\n",
      "[I 2024-06-19 18:27:06,273] Trial 11 finished with value: 0.35052828416712356 and parameters: {'lambda_l1': 0.00014785780736684058, 'lambda_l2': 2.0683232879562803e-05, 'num_leaves': 20, 'feature_fraction': 0.8379713590602959, 'bagging_fraction': 0.45279816983890686, 'bagging_freq': 7, 'min_child_samples': 83}. Best is trial 3 with value: 0.35743887255417306.\n",
      "C:\\Users\\Usuario\\AppData\\Local\\Temp\\ipykernel_2436\\1344764334.py:57: ExperimentalWarning:\n",
      "\n",
      "upload_artifact is experimental (supported from v3.3.0). The interface can change in the future.\n",
      "\n",
      "C:\\Users\\Usuario\\AppData\\Local\\Temp\\ipykernel_2436\\1344764334.py:61: ExperimentalWarning:\n",
      "\n",
      "upload_artifact is experimental (supported from v3.3.0). The interface can change in the future.\n",
      "\n",
      "[I 2024-06-19 18:27:18,428] Trial 12 finished with value: 0.34874963177104257 and parameters: {'lambda_l1': 0.020406306384710304, 'lambda_l2': 0.01122267358798077, 'num_leaves': 227, 'feature_fraction': 0.6754540025090977, 'bagging_fraction': 0.9842343464830878, 'bagging_freq': 1, 'min_child_samples': 39}. Best is trial 3 with value: 0.35743887255417306.\n",
      "C:\\Users\\Usuario\\AppData\\Local\\Temp\\ipykernel_2436\\1344764334.py:57: ExperimentalWarning:\n",
      "\n",
      "upload_artifact is experimental (supported from v3.3.0). The interface can change in the future.\n",
      "\n",
      "C:\\Users\\Usuario\\AppData\\Local\\Temp\\ipykernel_2436\\1344764334.py:61: ExperimentalWarning:\n",
      "\n",
      "upload_artifact is experimental (supported from v3.3.0). The interface can change in the future.\n",
      "\n",
      "[I 2024-06-19 18:27:34,641] Trial 13 finished with value: 0.3348857507441672 and parameters: {'lambda_l1': 1.0474076176263501e-08, 'lambda_l2': 0.005581094197121576, 'num_leaves': 194, 'feature_fraction': 0.5758693613502892, 'bagging_fraction': 0.7401553682516862, 'bagging_freq': 2, 'min_child_samples': 6}. Best is trial 3 with value: 0.35743887255417306.\n",
      "C:\\Users\\Usuario\\AppData\\Local\\Temp\\ipykernel_2436\\1344764334.py:57: ExperimentalWarning:\n",
      "\n",
      "upload_artifact is experimental (supported from v3.3.0). The interface can change in the future.\n",
      "\n",
      "C:\\Users\\Usuario\\AppData\\Local\\Temp\\ipykernel_2436\\1344764334.py:61: ExperimentalWarning:\n",
      "\n",
      "upload_artifact is experimental (supported from v3.3.0). The interface can change in the future.\n",
      "\n",
      "[I 2024-06-19 18:27:45,060] Trial 14 finished with value: 0.3520612212622095 and parameters: {'lambda_l1': 9.819956235501834, 'lambda_l2': 0.002375399934803027, 'num_leaves': 183, 'feature_fraction': 0.6744509960595565, 'bagging_fraction': 0.7159973885560766, 'bagging_freq': 3, 'min_child_samples': 38}. Best is trial 3 with value: 0.35743887255417306.\n",
      "C:\\Users\\Usuario\\AppData\\Local\\Temp\\ipykernel_2436\\1344764334.py:57: ExperimentalWarning:\n",
      "\n",
      "upload_artifact is experimental (supported from v3.3.0). The interface can change in the future.\n",
      "\n",
      "C:\\Users\\Usuario\\AppData\\Local\\Temp\\ipykernel_2436\\1344764334.py:61: ExperimentalWarning:\n",
      "\n",
      "upload_artifact is experimental (supported from v3.3.0). The interface can change in the future.\n",
      "\n",
      "[I 2024-06-19 18:27:56,470] Trial 15 finished with value: 0.3530697677753253 and parameters: {'lambda_l1': 8.49747275742242, 'lambda_l2': 0.4050839808777225, 'num_leaves': 186, 'feature_fraction': 0.7198836887946094, 'bagging_fraction': 0.7473159178014457, 'bagging_freq': 4, 'min_child_samples': 44}. Best is trial 3 with value: 0.35743887255417306.\n",
      "C:\\Users\\Usuario\\AppData\\Local\\Temp\\ipykernel_2436\\1344764334.py:57: ExperimentalWarning:\n",
      "\n",
      "upload_artifact is experimental (supported from v3.3.0). The interface can change in the future.\n",
      "\n",
      "C:\\Users\\Usuario\\AppData\\Local\\Temp\\ipykernel_2436\\1344764334.py:61: ExperimentalWarning:\n",
      "\n",
      "upload_artifact is experimental (supported from v3.3.0). The interface can change in the future.\n",
      "\n",
      "[I 2024-06-19 18:28:07,142] Trial 16 finished with value: 0.3540441432232143 and parameters: {'lambda_l1': 0.24302364261511367, 'lambda_l2': 2.0064741861580586, 'num_leaves': 241, 'feature_fraction': 0.7633813205394583, 'bagging_fraction': 0.8205204856360384, 'bagging_freq': 5, 'min_child_samples': 68}. Best is trial 3 with value: 0.35743887255417306.\n",
      "C:\\Users\\Usuario\\AppData\\Local\\Temp\\ipykernel_2436\\1344764334.py:57: ExperimentalWarning:\n",
      "\n",
      "upload_artifact is experimental (supported from v3.3.0). The interface can change in the future.\n",
      "\n",
      "C:\\Users\\Usuario\\AppData\\Local\\Temp\\ipykernel_2436\\1344764334.py:61: ExperimentalWarning:\n",
      "\n",
      "upload_artifact is experimental (supported from v3.3.0). The interface can change in the future.\n",
      "\n",
      "[I 2024-06-19 18:28:19,899] Trial 17 finished with value: 0.35604270361184676 and parameters: {'lambda_l1': 0.16212526920411144, 'lambda_l2': 2.7843788204804207, 'num_leaves': 253, 'feature_fraction': 0.7995406094151483, 'bagging_fraction': 0.8736856678154629, 'bagging_freq': 5, 'min_child_samples': 71}. Best is trial 3 with value: 0.35743887255417306.\n",
      "C:\\Users\\Usuario\\AppData\\Local\\Temp\\ipykernel_2436\\1344764334.py:57: ExperimentalWarning:\n",
      "\n",
      "upload_artifact is experimental (supported from v3.3.0). The interface can change in the future.\n",
      "\n",
      "C:\\Users\\Usuario\\AppData\\Local\\Temp\\ipykernel_2436\\1344764334.py:61: ExperimentalWarning:\n",
      "\n",
      "upload_artifact is experimental (supported from v3.3.0). The interface can change in the future.\n",
      "\n",
      "[I 2024-06-19 18:28:30,474] Trial 18 finished with value: 0.3551196907068086 and parameters: {'lambda_l1': 0.009736383459587064, 'lambda_l2': 9.398384360464469, 'num_leaves': 101, 'feature_fraction': 0.8586812566362662, 'bagging_fraction': 0.92154322149108, 'bagging_freq': 6, 'min_child_samples': 99}. Best is trial 3 with value: 0.35743887255417306.\n",
      "C:\\Users\\Usuario\\AppData\\Local\\Temp\\ipykernel_2436\\1344764334.py:57: ExperimentalWarning:\n",
      "\n",
      "upload_artifact is experimental (supported from v3.3.0). The interface can change in the future.\n",
      "\n",
      "C:\\Users\\Usuario\\AppData\\Local\\Temp\\ipykernel_2436\\1344764334.py:61: ExperimentalWarning:\n",
      "\n",
      "upload_artifact is experimental (supported from v3.3.0). The interface can change in the future.\n",
      "\n",
      "[I 2024-06-19 18:28:40,045] Trial 19 finished with value: 0.3523490420434125 and parameters: {'lambda_l1': 0.4081376055706458, 'lambda_l2': 0.08962648332162187, 'num_leaves': 163, 'feature_fraction': 0.4787958333043735, 'bagging_fraction': 0.6287206395710997, 'bagging_freq': 5, 'min_child_samples': 75}. Best is trial 3 with value: 0.35743887255417306.\n",
      "C:\\Users\\Usuario\\AppData\\Local\\Temp\\ipykernel_2436\\1344764334.py:57: ExperimentalWarning:\n",
      "\n",
      "upload_artifact is experimental (supported from v3.3.0). The interface can change in the future.\n",
      "\n",
      "C:\\Users\\Usuario\\AppData\\Local\\Temp\\ipykernel_2436\\1344764334.py:61: ExperimentalWarning:\n",
      "\n",
      "upload_artifact is experimental (supported from v3.3.0). The interface can change in the future.\n",
      "\n",
      "[I 2024-06-19 18:28:50,335] Trial 20 finished with value: 0.34949876052607154 and parameters: {'lambda_l1': 0.014239402124860821, 'lambda_l2': 0.0004584848443981483, 'num_leaves': 224, 'feature_fraction': 0.8296240400664685, 'bagging_fraction': 0.8431151604545161, 'bagging_freq': 6, 'min_child_samples': 57}. Best is trial 3 with value: 0.35743887255417306.\n",
      "C:\\Users\\Usuario\\AppData\\Local\\Temp\\ipykernel_2436\\1344764334.py:57: ExperimentalWarning:\n",
      "\n",
      "upload_artifact is experimental (supported from v3.3.0). The interface can change in the future.\n",
      "\n",
      "C:\\Users\\Usuario\\AppData\\Local\\Temp\\ipykernel_2436\\1344764334.py:61: ExperimentalWarning:\n",
      "\n",
      "upload_artifact is experimental (supported from v3.3.0). The interface can change in the future.\n",
      "\n",
      "[I 2024-06-19 18:29:04,083] Trial 21 finished with value: 0.3557115270419955 and parameters: {'lambda_l1': 0.0010372428251023598, 'lambda_l2': 4.5994073998565794e-07, 'num_leaves': 256, 'feature_fraction': 0.5128518362567241, 'bagging_fraction': 0.805480550450361, 'bagging_freq': 4, 'min_child_samples': 69}. Best is trial 3 with value: 0.35743887255417306.\n",
      "C:\\Users\\Usuario\\AppData\\Local\\Temp\\ipykernel_2436\\1344764334.py:57: ExperimentalWarning:\n",
      "\n",
      "upload_artifact is experimental (supported from v3.3.0). The interface can change in the future.\n",
      "\n",
      "C:\\Users\\Usuario\\AppData\\Local\\Temp\\ipykernel_2436\\1344764334.py:61: ExperimentalWarning:\n",
      "\n",
      "upload_artifact is experimental (supported from v3.3.0). The interface can change in the future.\n",
      "\n",
      "[I 2024-06-19 18:29:15,453] Trial 22 finished with value: 0.34433798777024993 and parameters: {'lambda_l1': 0.5601772465794761, 'lambda_l2': 0.00028958338238048995, 'num_leaves': 161, 'feature_fraction': 0.6265239748632014, 'bagging_fraction': 0.6338904286361665, 'bagging_freq': 6, 'min_child_samples': 26}. Best is trial 3 with value: 0.35743887255417306.\n",
      "C:\\Users\\Usuario\\AppData\\Local\\Temp\\ipykernel_2436\\1344764334.py:57: ExperimentalWarning:\n",
      "\n",
      "upload_artifact is experimental (supported from v3.3.0). The interface can change in the future.\n",
      "\n",
      "C:\\Users\\Usuario\\AppData\\Local\\Temp\\ipykernel_2436\\1344764334.py:61: ExperimentalWarning:\n",
      "\n",
      "upload_artifact is experimental (supported from v3.3.0). The interface can change in the future.\n",
      "\n",
      "[I 2024-06-19 18:29:27,713] Trial 23 finished with value: 0.3592997334855125 and parameters: {'lambda_l1': 0.0008652046740824666, 'lambda_l2': 8.704490332055937e-07, 'num_leaves': 253, 'feature_fraction': 0.4994487614445312, 'bagging_fraction': 0.821283030194131, 'bagging_freq': 3, 'min_child_samples': 70}. Best is trial 23 with value: 0.3592997334855125.\n",
      "C:\\Users\\Usuario\\AppData\\Local\\Temp\\ipykernel_2436\\1344764334.py:57: ExperimentalWarning:\n",
      "\n",
      "upload_artifact is experimental (supported from v3.3.0). The interface can change in the future.\n",
      "\n",
      "C:\\Users\\Usuario\\AppData\\Local\\Temp\\ipykernel_2436\\1344764334.py:61: ExperimentalWarning:\n",
      "\n",
      "upload_artifact is experimental (supported from v3.3.0). The interface can change in the future.\n",
      "\n",
      "[I 2024-06-19 18:29:40,129] Trial 24 finished with value: 0.3511871259348049 and parameters: {'lambda_l1': 0.07094241788148901, 'lambda_l2': 9.42369732867161e-07, 'num_leaves': 212, 'feature_fraction': 0.4759699500759269, 'bagging_fraction': 0.8902550817131509, 'bagging_freq': 3, 'min_child_samples': 50}. Best is trial 23 with value: 0.3592997334855125.\n",
      "C:\\Users\\Usuario\\AppData\\Local\\Temp\\ipykernel_2436\\1344764334.py:57: ExperimentalWarning:\n",
      "\n",
      "upload_artifact is experimental (supported from v3.3.0). The interface can change in the future.\n",
      "\n",
      "C:\\Users\\Usuario\\AppData\\Local\\Temp\\ipykernel_2436\\1344764334.py:61: ExperimentalWarning:\n",
      "\n",
      "upload_artifact is experimental (supported from v3.3.0). The interface can change in the future.\n",
      "\n",
      "[I 2024-06-19 18:29:50,420] Trial 25 finished with value: 0.35699223913373956 and parameters: {'lambda_l1': 1.3200953363970869, 'lambda_l2': 1.227885063794374e-08, 'num_leaves': 251, 'feature_fraction': 0.5484834550446309, 'bagging_fraction': 0.7808347715028953, 'bagging_freq': 2, 'min_child_samples': 77}. Best is trial 23 with value: 0.3592997334855125.\n",
      "C:\\Users\\Usuario\\AppData\\Local\\Temp\\ipykernel_2436\\1344764334.py:57: ExperimentalWarning:\n",
      "\n",
      "upload_artifact is experimental (supported from v3.3.0). The interface can change in the future.\n",
      "\n",
      "C:\\Users\\Usuario\\AppData\\Local\\Temp\\ipykernel_2436\\1344764334.py:61: ExperimentalWarning:\n",
      "\n",
      "upload_artifact is experimental (supported from v3.3.0). The interface can change in the future.\n",
      "\n",
      "[I 2024-06-19 18:29:59,861] Trial 26 finished with value: 0.3618556955847591 and parameters: {'lambda_l1': 1.8850292652580056, 'lambda_l2': 1.3479276596987775e-08, 'num_leaves': 215, 'feature_fraction': 0.533539720962688, 'bagging_fraction': 0.7668008014232693, 'bagging_freq': 1, 'min_child_samples': 81}. Best is trial 26 with value: 0.3618556955847591.\n",
      "C:\\Users\\Usuario\\AppData\\Local\\Temp\\ipykernel_2436\\1344764334.py:57: ExperimentalWarning:\n",
      "\n",
      "upload_artifact is experimental (supported from v3.3.0). The interface can change in the future.\n",
      "\n",
      "C:\\Users\\Usuario\\AppData\\Local\\Temp\\ipykernel_2436\\1344764334.py:61: ExperimentalWarning:\n",
      "\n",
      "upload_artifact is experimental (supported from v3.3.0). The interface can change in the future.\n",
      "\n",
      "[I 2024-06-19 18:30:09,750] Trial 27 finished with value: 0.3538029974075592 and parameters: {'lambda_l1': 2.0051432159723658e-05, 'lambda_l2': 6.006992703080273e-08, 'num_leaves': 206, 'feature_fraction': 0.4736598787687951, 'bagging_fraction': 0.6301279957188589, 'bagging_freq': 1, 'min_child_samples': 86}. Best is trial 26 with value: 0.3618556955847591.\n",
      "C:\\Users\\Usuario\\AppData\\Local\\Temp\\ipykernel_2436\\1344764334.py:57: ExperimentalWarning:\n",
      "\n",
      "upload_artifact is experimental (supported from v3.3.0). The interface can change in the future.\n",
      "\n",
      "C:\\Users\\Usuario\\AppData\\Local\\Temp\\ipykernel_2436\\1344764334.py:61: ExperimentalWarning:\n",
      "\n",
      "upload_artifact is experimental (supported from v3.3.0). The interface can change in the future.\n",
      "\n",
      "[I 2024-06-19 18:30:19,212] Trial 28 finished with value: 0.3499406736996287 and parameters: {'lambda_l1': 1.8533177416783508, 'lambda_l2': 1.3976139216104598e-06, 'num_leaves': 166, 'feature_fraction': 0.4187638648999999, 'bagging_fraction': 0.681846160279086, 'bagging_freq': 1, 'min_child_samples': 97}. Best is trial 26 with value: 0.3618556955847591.\n",
      "C:\\Users\\Usuario\\AppData\\Local\\Temp\\ipykernel_2436\\1344764334.py:57: ExperimentalWarning:\n",
      "\n",
      "upload_artifact is experimental (supported from v3.3.0). The interface can change in the future.\n",
      "\n",
      "C:\\Users\\Usuario\\AppData\\Local\\Temp\\ipykernel_2436\\1344764334.py:61: ExperimentalWarning:\n",
      "\n",
      "upload_artifact is experimental (supported from v3.3.0). The interface can change in the future.\n",
      "\n",
      "[I 2024-06-19 18:30:30,308] Trial 29 finished with value: 0.3527443423808538 and parameters: {'lambda_l1': 0.0036378867868832707, 'lambda_l2': 2.5560095926494034e-07, 'num_leaves': 104, 'feature_fraction': 0.633905760752451, 'bagging_fraction': 0.7784712091623156, 'bagging_freq': 2, 'min_child_samples': 59}. Best is trial 26 with value: 0.3618556955847591.\n",
      "C:\\Users\\Usuario\\AppData\\Local\\Temp\\ipykernel_2436\\1344764334.py:57: ExperimentalWarning:\n",
      "\n",
      "upload_artifact is experimental (supported from v3.3.0). The interface can change in the future.\n",
      "\n",
      "C:\\Users\\Usuario\\AppData\\Local\\Temp\\ipykernel_2436\\1344764334.py:61: ExperimentalWarning:\n",
      "\n",
      "upload_artifact is experimental (supported from v3.3.0). The interface can change in the future.\n",
      "\n",
      "[I 2024-06-19 18:30:42,385] Trial 30 finished with value: 0.3501912401186683 and parameters: {'lambda_l1': 0.00023862750462597874, 'lambda_l2': 6.215445937623725e-08, 'num_leaves': 228, 'feature_fraction': 0.5257213675975504, 'bagging_fraction': 0.5810905597763186, 'bagging_freq': 3, 'min_child_samples': 80}. Best is trial 26 with value: 0.3618556955847591.\n",
      "C:\\Users\\Usuario\\AppData\\Local\\Temp\\ipykernel_2436\\1344764334.py:57: ExperimentalWarning:\n",
      "\n",
      "upload_artifact is experimental (supported from v3.3.0). The interface can change in the future.\n",
      "\n",
      "C:\\Users\\Usuario\\AppData\\Local\\Temp\\ipykernel_2436\\1344764334.py:61: ExperimentalWarning:\n",
      "\n",
      "upload_artifact is experimental (supported from v3.3.0). The interface can change in the future.\n",
      "\n",
      "[I 2024-06-19 18:30:55,248] Trial 31 finished with value: 0.35193942931917693 and parameters: {'lambda_l1': 0.04791397584677713, 'lambda_l2': 2.3520038110792997e-06, 'num_leaves': 152, 'feature_fraction': 0.4825032710172312, 'bagging_fraction': 0.9778743156228679, 'bagging_freq': 4, 'min_child_samples': 91}. Best is trial 26 with value: 0.3618556955847591.\n",
      "C:\\Users\\Usuario\\AppData\\Local\\Temp\\ipykernel_2436\\1344764334.py:57: ExperimentalWarning:\n",
      "\n",
      "upload_artifact is experimental (supported from v3.3.0). The interface can change in the future.\n",
      "\n",
      "C:\\Users\\Usuario\\AppData\\Local\\Temp\\ipykernel_2436\\1344764334.py:61: ExperimentalWarning:\n",
      "\n",
      "upload_artifact is experimental (supported from v3.3.0). The interface can change in the future.\n",
      "\n",
      "[I 2024-06-19 18:31:06,124] Trial 32 finished with value: 0.3552644559829878 and parameters: {'lambda_l1': 1.6133206934277043e-06, 'lambda_l2': 2.4030705025218004e-08, 'num_leaves': 113, 'feature_fraction': 0.5798110765565203, 'bagging_fraction': 0.9320129764484364, 'bagging_freq': 1, 'min_child_samples': 66}. Best is trial 26 with value: 0.3618556955847591.\n",
      "C:\\Users\\Usuario\\AppData\\Local\\Temp\\ipykernel_2436\\1344764334.py:57: ExperimentalWarning:\n",
      "\n",
      "upload_artifact is experimental (supported from v3.3.0). The interface can change in the future.\n",
      "\n",
      "C:\\Users\\Usuario\\AppData\\Local\\Temp\\ipykernel_2436\\1344764334.py:61: ExperimentalWarning:\n",
      "\n",
      "upload_artifact is experimental (supported from v3.3.0). The interface can change in the future.\n",
      "\n",
      "[I 2024-06-19 18:31:17,661] Trial 33 finished with value: 0.3601669710526807 and parameters: {'lambda_l1': 1.5094250100467683, 'lambda_l2': 1.0223764934895867e-08, 'num_leaves': 240, 'feature_fraction': 0.5386746957785314, 'bagging_fraction': 0.7977107069606288, 'bagging_freq': 2, 'min_child_samples': 75}. Best is trial 26 with value: 0.3618556955847591.\n",
      "C:\\Users\\Usuario\\AppData\\Local\\Temp\\ipykernel_2436\\1344764334.py:57: ExperimentalWarning:\n",
      "\n",
      "upload_artifact is experimental (supported from v3.3.0). The interface can change in the future.\n",
      "\n",
      "C:\\Users\\Usuario\\AppData\\Local\\Temp\\ipykernel_2436\\1344764334.py:61: ExperimentalWarning:\n",
      "\n",
      "upload_artifact is experimental (supported from v3.3.0). The interface can change in the future.\n",
      "\n",
      "[I 2024-06-19 18:31:34,030] Trial 34 finished with value: 0.35183311759469577 and parameters: {'lambda_l1': 1.8758455682263309, 'lambda_l2': 1.156567795657642e-08, 'num_leaves': 236, 'feature_fraction': 0.44482362196230674, 'bagging_fraction': 0.8491547932145477, 'bagging_freq': 2, 'min_child_samples': 75}. Best is trial 26 with value: 0.3618556955847591.\n",
      "C:\\Users\\Usuario\\AppData\\Local\\Temp\\ipykernel_2436\\1344764334.py:57: ExperimentalWarning:\n",
      "\n",
      "upload_artifact is experimental (supported from v3.3.0). The interface can change in the future.\n",
      "\n",
      "C:\\Users\\Usuario\\AppData\\Local\\Temp\\ipykernel_2436\\1344764334.py:61: ExperimentalWarning:\n",
      "\n",
      "upload_artifact is experimental (supported from v3.3.0). The interface can change in the future.\n",
      "\n",
      "[I 2024-06-19 18:31:49,900] Trial 35 finished with value: 0.3566777484059114 and parameters: {'lambda_l1': 3.6245856393033065, 'lambda_l2': 3.1624161669582064e-07, 'num_leaves': 218, 'feature_fraction': 0.552518968946566, 'bagging_fraction': 0.772332960565603, 'bagging_freq': 3, 'min_child_samples': 62}. Best is trial 26 with value: 0.3618556955847591.\n",
      "C:\\Users\\Usuario\\AppData\\Local\\Temp\\ipykernel_2436\\1344764334.py:57: ExperimentalWarning:\n",
      "\n",
      "upload_artifact is experimental (supported from v3.3.0). The interface can change in the future.\n",
      "\n",
      "C:\\Users\\Usuario\\AppData\\Local\\Temp\\ipykernel_2436\\1344764334.py:61: ExperimentalWarning:\n",
      "\n",
      "upload_artifact is experimental (supported from v3.3.0). The interface can change in the future.\n",
      "\n",
      "[I 2024-06-19 18:31:58,704] Trial 36 finished with value: 0.3578169157516107 and parameters: {'lambda_l1': 0.001455294718634903, 'lambda_l2': 5.274099545700549e-08, 'num_leaves': 197, 'feature_fraction': 0.4595674596686555, 'bagging_fraction': 0.6665234213008806, 'bagging_freq': 2, 'min_child_samples': 82}. Best is trial 26 with value: 0.3618556955847591.\n",
      "C:\\Users\\Usuario\\AppData\\Local\\Temp\\ipykernel_2436\\1344764334.py:57: ExperimentalWarning:\n",
      "\n",
      "upload_artifact is experimental (supported from v3.3.0). The interface can change in the future.\n",
      "\n",
      "C:\\Users\\Usuario\\AppData\\Local\\Temp\\ipykernel_2436\\1344764334.py:61: ExperimentalWarning:\n",
      "\n",
      "upload_artifact is experimental (supported from v3.3.0). The interface can change in the future.\n",
      "\n",
      "[I 2024-06-19 18:32:10,233] Trial 37 finished with value: 0.35430523551539267 and parameters: {'lambda_l1': 0.001316605790983514, 'lambda_l2': 7.513153739046229e-08, 'num_leaves': 198, 'feature_fraction': 0.40441061173089127, 'bagging_fraction': 0.6625635936219014, 'bagging_freq': 2, 'min_child_samples': 83}. Best is trial 26 with value: 0.3618556955847591.\n",
      "C:\\Users\\Usuario\\AppData\\Local\\Temp\\ipykernel_2436\\1344764334.py:57: ExperimentalWarning:\n",
      "\n",
      "upload_artifact is experimental (supported from v3.3.0). The interface can change in the future.\n",
      "\n",
      "C:\\Users\\Usuario\\AppData\\Local\\Temp\\ipykernel_2436\\1344764334.py:61: ExperimentalWarning:\n",
      "\n",
      "upload_artifact is experimental (supported from v3.3.0). The interface can change in the future.\n",
      "\n",
      "[I 2024-06-19 18:32:19,018] Trial 38 finished with value: 0.3568125071657722 and parameters: {'lambda_l1': 5.342689565944286e-05, 'lambda_l2': 4.2067399906254255e-08, 'num_leaves': 239, 'feature_fraction': 0.5092454014017034, 'bagging_fraction': 0.7290682109802294, 'bagging_freq': 1, 'min_child_samples': 92}. Best is trial 26 with value: 0.3618556955847591.\n",
      "C:\\Users\\Usuario\\AppData\\Local\\Temp\\ipykernel_2436\\1344764334.py:57: ExperimentalWarning:\n",
      "\n",
      "upload_artifact is experimental (supported from v3.3.0). The interface can change in the future.\n",
      "\n",
      "C:\\Users\\Usuario\\AppData\\Local\\Temp\\ipykernel_2436\\1344764334.py:61: ExperimentalWarning:\n",
      "\n",
      "upload_artifact is experimental (supported from v3.3.0). The interface can change in the future.\n",
      "\n",
      "[I 2024-06-19 18:32:30,428] Trial 39 finished with value: 0.3578585506023214 and parameters: {'lambda_l1': 0.004337374367490539, 'lambda_l2': 1.0568023529612469e-08, 'num_leaves': 208, 'feature_fraction': 0.4528384105741542, 'bagging_fraction': 0.8140076168498618, 'bagging_freq': 3, 'min_child_samples': 52}. Best is trial 26 with value: 0.3618556955847591.\n",
      "C:\\Users\\Usuario\\AppData\\Local\\Temp\\ipykernel_2436\\1344764334.py:57: ExperimentalWarning:\n",
      "\n",
      "upload_artifact is experimental (supported from v3.3.0). The interface can change in the future.\n",
      "\n",
      "C:\\Users\\Usuario\\AppData\\Local\\Temp\\ipykernel_2436\\1344764334.py:61: ExperimentalWarning:\n",
      "\n",
      "upload_artifact is experimental (supported from v3.3.0). The interface can change in the future.\n",
      "\n",
      "[I 2024-06-19 18:32:37,978] Trial 40 finished with value: 0.34819708530422033 and parameters: {'lambda_l1': 0.007623135082410119, 'lambda_l2': 1.4566579910814074e-07, 'num_leaves': 175, 'feature_fraction': 0.9602002352133265, 'bagging_fraction': 0.8146978381478988, 'bagging_freq': 3, 'min_child_samples': 50}. Best is trial 26 with value: 0.3618556955847591.\n",
      "C:\\Users\\Usuario\\AppData\\Local\\Temp\\ipykernel_2436\\1344764334.py:57: ExperimentalWarning:\n",
      "\n",
      "upload_artifact is experimental (supported from v3.3.0). The interface can change in the future.\n",
      "\n",
      "C:\\Users\\Usuario\\AppData\\Local\\Temp\\ipykernel_2436\\1344764334.py:61: ExperimentalWarning:\n",
      "\n",
      "upload_artifact is experimental (supported from v3.3.0). The interface can change in the future.\n",
      "\n",
      "[I 2024-06-19 18:32:53,203] Trial 41 finished with value: 0.35932873220360895 and parameters: {'lambda_l1': 0.04832101995088322, 'lambda_l2': 1.2130695237763488e-08, 'num_leaves': 215, 'feature_fraction': 0.6034837507441333, 'bagging_fraction': 0.885088436909922, 'bagging_freq': 3, 'min_child_samples': 55}. Best is trial 26 with value: 0.3618556955847591.\n",
      "C:\\Users\\Usuario\\AppData\\Local\\Temp\\ipykernel_2436\\1344764334.py:57: ExperimentalWarning:\n",
      "\n",
      "upload_artifact is experimental (supported from v3.3.0). The interface can change in the future.\n",
      "\n",
      "C:\\Users\\Usuario\\AppData\\Local\\Temp\\ipykernel_2436\\1344764334.py:61: ExperimentalWarning:\n",
      "\n",
      "upload_artifact is experimental (supported from v3.3.0). The interface can change in the future.\n",
      "\n",
      "[I 2024-06-19 18:33:05,737] Trial 42 finished with value: 0.3498840008394693 and parameters: {'lambda_l1': 0.05427541980373357, 'lambda_l2': 6.006345351647079e-06, 'num_leaves': 244, 'feature_fraction': 0.5969642036768981, 'bagging_fraction': 0.8905288641056424, 'bagging_freq': 2, 'min_child_samples': 73}. Best is trial 26 with value: 0.3618556955847591.\n",
      "C:\\Users\\Usuario\\AppData\\Local\\Temp\\ipykernel_2436\\1344764334.py:57: ExperimentalWarning:\n",
      "\n",
      "upload_artifact is experimental (supported from v3.3.0). The interface can change in the future.\n",
      "\n",
      "C:\\Users\\Usuario\\AppData\\Local\\Temp\\ipykernel_2436\\1344764334.py:61: ExperimentalWarning:\n",
      "\n",
      "upload_artifact is experimental (supported from v3.3.0). The interface can change in the future.\n",
      "\n",
      "[I 2024-06-19 18:33:19,717] Trial 43 finished with value: 0.3619918387044535 and parameters: {'lambda_l1': 0.0003897831223047926, 'lambda_l2': 1.4184746393449426e-08, 'num_leaves': 212, 'feature_fraction': 0.536953238296695, 'bagging_fraction': 0.8489822194056519, 'bagging_freq': 3, 'min_child_samples': 53}. Best is trial 43 with value: 0.3619918387044535.\n",
      "C:\\Users\\Usuario\\AppData\\Local\\Temp\\ipykernel_2436\\1344764334.py:57: ExperimentalWarning:\n",
      "\n",
      "upload_artifact is experimental (supported from v3.3.0). The interface can change in the future.\n",
      "\n",
      "C:\\Users\\Usuario\\AppData\\Local\\Temp\\ipykernel_2436\\1344764334.py:61: ExperimentalWarning:\n",
      "\n",
      "upload_artifact is experimental (supported from v3.3.0). The interface can change in the future.\n",
      "\n",
      "[I 2024-06-19 18:33:32,704] Trial 44 finished with value: 0.3614527255369464 and parameters: {'lambda_l1': 0.0005671987447961441, 'lambda_l2': 2.2595369553718864e-08, 'num_leaves': 229, 'feature_fraction': 0.5474833184470612, 'bagging_fraction': 0.8568998163034426, 'bagging_freq': 3, 'min_child_samples': 63}. Best is trial 43 with value: 0.3619918387044535.\n",
      "C:\\Users\\Usuario\\AppData\\Local\\Temp\\ipykernel_2436\\1344764334.py:57: ExperimentalWarning:\n",
      "\n",
      "upload_artifact is experimental (supported from v3.3.0). The interface can change in the future.\n",
      "\n",
      "C:\\Users\\Usuario\\AppData\\Local\\Temp\\ipykernel_2436\\1344764334.py:61: ExperimentalWarning:\n",
      "\n",
      "upload_artifact is experimental (supported from v3.3.0). The interface can change in the future.\n",
      "\n",
      "[I 2024-06-19 18:33:57,230] Trial 45 finished with value: 0.3613910665278679 and parameters: {'lambda_l1': 7.231440441243492e-06, 'lambda_l2': 2.8341112066411577e-08, 'num_leaves': 229, 'feature_fraction': 0.5447342481262046, 'bagging_fraction': 0.9347551039954145, 'bagging_freq': 3, 'min_child_samples': 61}. Best is trial 43 with value: 0.3619918387044535.\n",
      "C:\\Users\\Usuario\\AppData\\Local\\Temp\\ipykernel_2436\\1344764334.py:57: ExperimentalWarning:\n",
      "\n",
      "upload_artifact is experimental (supported from v3.3.0). The interface can change in the future.\n",
      "\n",
      "C:\\Users\\Usuario\\AppData\\Local\\Temp\\ipykernel_2436\\1344764334.py:61: ExperimentalWarning:\n",
      "\n",
      "upload_artifact is experimental (supported from v3.3.0). The interface can change in the future.\n",
      "\n",
      "[I 2024-06-19 18:34:15,019] Trial 46 finished with value: 0.3540783385665917 and parameters: {'lambda_l1': 1.1935947012173036e-06, 'lambda_l2': 2.3043209034873723e-08, 'num_leaves': 230, 'feature_fraction': 0.5507113247568675, 'bagging_fraction': 0.9391412505552994, 'bagging_freq': 4, 'min_child_samples': 64}. Best is trial 43 with value: 0.3619918387044535.\n",
      "C:\\Users\\Usuario\\AppData\\Local\\Temp\\ipykernel_2436\\1344764334.py:57: ExperimentalWarning:\n",
      "\n",
      "upload_artifact is experimental (supported from v3.3.0). The interface can change in the future.\n",
      "\n",
      "C:\\Users\\Usuario\\AppData\\Local\\Temp\\ipykernel_2436\\1344764334.py:61: ExperimentalWarning:\n",
      "\n",
      "upload_artifact is experimental (supported from v3.3.0). The interface can change in the future.\n",
      "\n",
      "[I 2024-06-19 18:34:26,509] Trial 47 finished with value: 0.3405148075089072 and parameters: {'lambda_l1': 8.602197074905272e-06, 'lambda_l2': 1.7378502254778012e-07, 'num_leaves': 203, 'feature_fraction': 0.6622451777598464, 'bagging_fraction': 0.9590035132110344, 'bagging_freq': 1, 'min_child_samples': 47}. Best is trial 43 with value: 0.3619918387044535.\n",
      "C:\\Users\\Usuario\\AppData\\Local\\Temp\\ipykernel_2436\\1344764334.py:57: ExperimentalWarning:\n",
      "\n",
      "upload_artifact is experimental (supported from v3.3.0). The interface can change in the future.\n",
      "\n",
      "C:\\Users\\Usuario\\AppData\\Local\\Temp\\ipykernel_2436\\1344764334.py:61: ExperimentalWarning:\n",
      "\n",
      "upload_artifact is experimental (supported from v3.3.0). The interface can change in the future.\n",
      "\n",
      "[I 2024-06-19 18:34:35,324] Trial 48 finished with value: 0.3117545346331233 and parameters: {'lambda_l1': 0.00010785589201794303, 'lambda_l2': 2.853786637951132e-08, 'num_leaves': 3, 'feature_fraction': 0.5705807729582271, 'bagging_fraction': 0.9156468013013483, 'bagging_freq': 2, 'min_child_samples': 61}. Best is trial 43 with value: 0.3619918387044535.\n",
      "C:\\Users\\Usuario\\AppData\\Local\\Temp\\ipykernel_2436\\1344764334.py:57: ExperimentalWarning:\n",
      "\n",
      "upload_artifact is experimental (supported from v3.3.0). The interface can change in the future.\n",
      "\n",
      "C:\\Users\\Usuario\\AppData\\Local\\Temp\\ipykernel_2436\\1344764334.py:61: ExperimentalWarning:\n",
      "\n",
      "upload_artifact is experimental (supported from v3.3.0). The interface can change in the future.\n",
      "\n",
      "[I 2024-06-19 18:34:46,572] Trial 49 finished with value: 0.35372079309947546 and parameters: {'lambda_l1': 2.919559307116971e-07, 'lambda_l2': 1.1115714096372537e-07, 'num_leaves': 39, 'feature_fraction': 0.6365147119850038, 'bagging_fraction': 0.9990224923584572, 'bagging_freq': 4, 'min_child_samples': 30}. Best is trial 43 with value: 0.3619918387044535.\n",
      "C:\\Users\\Usuario\\AppData\\Local\\Temp\\ipykernel_2436\\1344764334.py:57: ExperimentalWarning:\n",
      "\n",
      "upload_artifact is experimental (supported from v3.3.0). The interface can change in the future.\n",
      "\n",
      "C:\\Users\\Usuario\\AppData\\Local\\Temp\\ipykernel_2436\\1344764334.py:61: ExperimentalWarning:\n",
      "\n",
      "upload_artifact is experimental (supported from v3.3.0). The interface can change in the future.\n",
      "\n",
      "[I 2024-06-19 18:34:59,555] Trial 50 finished with value: 0.3489887405242167 and parameters: {'lambda_l1': 0.0004981812765345661, 'lambda_l2': 5.104130563685508e-07, 'num_leaves': 186, 'feature_fraction': 0.7271387978430411, 'bagging_fraction': 0.8514614603959633, 'bagging_freq': 3, 'min_child_samples': 44}. Best is trial 43 with value: 0.3619918387044535.\n",
      "C:\\Users\\Usuario\\AppData\\Local\\Temp\\ipykernel_2436\\1344764334.py:57: ExperimentalWarning:\n",
      "\n",
      "upload_artifact is experimental (supported from v3.3.0). The interface can change in the future.\n",
      "\n",
      "C:\\Users\\Usuario\\AppData\\Local\\Temp\\ipykernel_2436\\1344764334.py:61: ExperimentalWarning:\n",
      "\n",
      "upload_artifact is experimental (supported from v3.3.0). The interface can change in the future.\n",
      "\n",
      "[I 2024-06-19 18:35:12,760] Trial 51 finished with value: 0.35454876367882937 and parameters: {'lambda_l1': 1.802439090972878e-05, 'lambda_l2': 2.3359848766427482e-08, 'num_leaves': 220, 'feature_fraction': 0.5337626479937346, 'bagging_fraction': 0.7554461047987432, 'bagging_freq': 2, 'min_child_samples': 54}. Best is trial 43 with value: 0.3619918387044535.\n",
      "C:\\Users\\Usuario\\AppData\\Local\\Temp\\ipykernel_2436\\1344764334.py:57: ExperimentalWarning:\n",
      "\n",
      "upload_artifact is experimental (supported from v3.3.0). The interface can change in the future.\n",
      "\n",
      "C:\\Users\\Usuario\\AppData\\Local\\Temp\\ipykernel_2436\\1344764334.py:61: ExperimentalWarning:\n",
      "\n",
      "upload_artifact is experimental (supported from v3.3.0). The interface can change in the future.\n",
      "\n",
      "[I 2024-06-19 18:35:30,767] Trial 52 finished with value: 0.34974695803295 and parameters: {'lambda_l1': 3.43791526500713e-06, 'lambda_l2': 4.6044812665643216e-05, 'num_leaves': 234, 'feature_fraction': 0.5911677200550081, 'bagging_fraction': 0.7087786438549857, 'bagging_freq': 3, 'min_child_samples': 65}. Best is trial 43 with value: 0.3619918387044535.\n",
      "C:\\Users\\Usuario\\AppData\\Local\\Temp\\ipykernel_2436\\1344764334.py:57: ExperimentalWarning:\n",
      "\n",
      "upload_artifact is experimental (supported from v3.3.0). The interface can change in the future.\n",
      "\n",
      "C:\\Users\\Usuario\\AppData\\Local\\Temp\\ipykernel_2436\\1344764334.py:61: ExperimentalWarning:\n",
      "\n",
      "upload_artifact is experimental (supported from v3.3.0). The interface can change in the future.\n",
      "\n",
      "[I 2024-06-19 18:35:41,967] Trial 53 finished with value: 0.3496500808160944 and parameters: {'lambda_l1': 0.7849409512927702, 'lambda_l2': 1.0674596087604258e-08, 'num_leaves': 213, 'feature_fraction': 0.6138641330366945, 'bagging_fraction': 0.8974329626994478, 'bagging_freq': 4, 'min_child_samples': 57}. Best is trial 43 with value: 0.3619918387044535.\n",
      "C:\\Users\\Usuario\\AppData\\Local\\Temp\\ipykernel_2436\\1344764334.py:57: ExperimentalWarning:\n",
      "\n",
      "upload_artifact is experimental (supported from v3.3.0). The interface can change in the future.\n",
      "\n",
      "C:\\Users\\Usuario\\AppData\\Local\\Temp\\ipykernel_2436\\1344764334.py:61: ExperimentalWarning:\n",
      "\n",
      "upload_artifact is experimental (supported from v3.3.0). The interface can change in the future.\n",
      "\n",
      "[I 2024-06-19 18:35:54,691] Trial 54 finished with value: 0.36197045886202023 and parameters: {'lambda_l1': 4.504424362634344, 'lambda_l2': 1.1059825584415819e-07, 'num_leaves': 221, 'feature_fraction': 0.5599025816065181, 'bagging_fraction': 0.874133391934499, 'bagging_freq': 3, 'min_child_samples': 56}. Best is trial 43 with value: 0.3619918387044535.\n",
      "C:\\Users\\Usuario\\AppData\\Local\\Temp\\ipykernel_2436\\1344764334.py:57: ExperimentalWarning:\n",
      "\n",
      "upload_artifact is experimental (supported from v3.3.0). The interface can change in the future.\n",
      "\n",
      "C:\\Users\\Usuario\\AppData\\Local\\Temp\\ipykernel_2436\\1344764334.py:61: ExperimentalWarning:\n",
      "\n",
      "upload_artifact is experimental (supported from v3.3.0). The interface can change in the future.\n",
      "\n",
      "[I 2024-06-19 18:36:07,010] Trial 55 finished with value: 0.35575288514098935 and parameters: {'lambda_l1': 4.6136338084126685, 'lambda_l2': 1.2291023518090362e-07, 'num_leaves': 244, 'feature_fraction': 0.5647475115246292, 'bagging_fraction': 0.846816602895694, 'bagging_freq': 3, 'min_child_samples': 43}. Best is trial 43 with value: 0.3619918387044535.\n",
      "C:\\Users\\Usuario\\AppData\\Local\\Temp\\ipykernel_2436\\1344764334.py:57: ExperimentalWarning:\n",
      "\n",
      "upload_artifact is experimental (supported from v3.3.0). The interface can change in the future.\n",
      "\n",
      "C:\\Users\\Usuario\\AppData\\Local\\Temp\\ipykernel_2436\\1344764334.py:61: ExperimentalWarning:\n",
      "\n",
      "upload_artifact is experimental (supported from v3.3.0). The interface can change in the future.\n",
      "\n",
      "[I 2024-06-19 18:36:19,452] Trial 56 finished with value: 0.35951898234689117 and parameters: {'lambda_l1': 4.519437940419391, 'lambda_l2': 4.256696922790732e-08, 'num_leaves': 226, 'feature_fraction': 0.5381173518025151, 'bagging_fraction': 0.8717165858997825, 'bagging_freq': 2, 'min_child_samples': 61}. Best is trial 43 with value: 0.3619918387044535.\n",
      "C:\\Users\\Usuario\\AppData\\Local\\Temp\\ipykernel_2436\\1344764334.py:57: ExperimentalWarning:\n",
      "\n",
      "upload_artifact is experimental (supported from v3.3.0). The interface can change in the future.\n",
      "\n",
      "C:\\Users\\Usuario\\AppData\\Local\\Temp\\ipykernel_2436\\1344764334.py:61: ExperimentalWarning:\n",
      "\n",
      "upload_artifact is experimental (supported from v3.3.0). The interface can change in the future.\n",
      "\n",
      "[I 2024-06-19 18:36:34,469] Trial 57 finished with value: 0.35151821903354574 and parameters: {'lambda_l1': 6.776413157149579e-05, 'lambda_l2': 2.3487747849055657e-07, 'num_leaves': 192, 'feature_fraction': 0.5008896271554006, 'bagging_fraction': 0.7919193491113733, 'bagging_freq': 4, 'min_child_samples': 73}. Best is trial 43 with value: 0.3619918387044535.\n",
      "C:\\Users\\Usuario\\AppData\\Local\\Temp\\ipykernel_2436\\1344764334.py:57: ExperimentalWarning:\n",
      "\n",
      "upload_artifact is experimental (supported from v3.3.0). The interface can change in the future.\n",
      "\n",
      "C:\\Users\\Usuario\\AppData\\Local\\Temp\\ipykernel_2436\\1344764334.py:61: ExperimentalWarning:\n",
      "\n",
      "upload_artifact is experimental (supported from v3.3.0). The interface can change in the future.\n",
      "\n",
      "[I 2024-06-19 18:36:48,807] Trial 58 finished with value: 0.3502436551989529 and parameters: {'lambda_l1': 0.0004030185230323358, 'lambda_l2': 2.8301733356966503e-08, 'num_leaves': 180, 'feature_fraction': 0.43964823205026404, 'bagging_fraction': 0.8620282782418289, 'bagging_freq': 1, 'min_child_samples': 36}. Best is trial 43 with value: 0.3619918387044535.\n",
      "C:\\Users\\Usuario\\AppData\\Local\\Temp\\ipykernel_2436\\1344764334.py:57: ExperimentalWarning:\n",
      "\n",
      "upload_artifact is experimental (supported from v3.3.0). The interface can change in the future.\n",
      "\n",
      "C:\\Users\\Usuario\\AppData\\Local\\Temp\\ipykernel_2436\\1344764334.py:61: ExperimentalWarning:\n",
      "\n",
      "upload_artifact is experimental (supported from v3.3.0). The interface can change in the future.\n",
      "\n",
      "[I 2024-06-19 18:36:58,062] Trial 59 finished with value: 0.3506624012049735 and parameters: {'lambda_l1': 0.21929843026747425, 'lambda_l2': 2.3966503047364117e-06, 'num_leaves': 78, 'feature_fraction': 0.6456894914316094, 'bagging_fraction': 0.9564734789725723, 'bagging_freq': 3, 'min_child_samples': 67}. Best is trial 43 with value: 0.3619918387044535.\n",
      "C:\\Users\\Usuario\\AppData\\Local\\Temp\\ipykernel_2436\\1344764334.py:57: ExperimentalWarning:\n",
      "\n",
      "upload_artifact is experimental (supported from v3.3.0). The interface can change in the future.\n",
      "\n",
      "C:\\Users\\Usuario\\AppData\\Local\\Temp\\ipykernel_2436\\1344764334.py:61: ExperimentalWarning:\n",
      "\n",
      "upload_artifact is experimental (supported from v3.3.0). The interface can change in the future.\n",
      "\n",
      "[I 2024-06-19 18:37:10,960] Trial 60 finished with value: 0.3537667139607384 and parameters: {'lambda_l1': 8.740030053790018e-08, 'lambda_l2': 8.390509655364665e-08, 'num_leaves': 247, 'feature_fraction': 0.5185837488198272, 'bagging_fraction': 0.9087280708670623, 'bagging_freq': 2, 'min_child_samples': 78}. Best is trial 43 with value: 0.3619918387044535.\n",
      "C:\\Users\\Usuario\\AppData\\Local\\Temp\\ipykernel_2436\\1344764334.py:57: ExperimentalWarning:\n",
      "\n",
      "upload_artifact is experimental (supported from v3.3.0). The interface can change in the future.\n",
      "\n",
      "C:\\Users\\Usuario\\AppData\\Local\\Temp\\ipykernel_2436\\1344764334.py:61: ExperimentalWarning:\n",
      "\n",
      "upload_artifact is experimental (supported from v3.3.0). The interface can change in the future.\n",
      "\n",
      "[I 2024-06-19 18:37:23,339] Trial 61 finished with value: 0.3565764088155775 and parameters: {'lambda_l1': 0.9200338953880445, 'lambda_l2': 5.051105785497622e-07, 'num_leaves': 146, 'feature_fraction': 0.6959939681127248, 'bagging_fraction': 0.8320104608765087, 'bagging_freq': 3, 'min_child_samples': 87}. Best is trial 43 with value: 0.3619918387044535.\n",
      "C:\\Users\\Usuario\\AppData\\Local\\Temp\\ipykernel_2436\\1344764334.py:57: ExperimentalWarning:\n",
      "\n",
      "upload_artifact is experimental (supported from v3.3.0). The interface can change in the future.\n",
      "\n",
      "C:\\Users\\Usuario\\AppData\\Local\\Temp\\ipykernel_2436\\1344764334.py:61: ExperimentalWarning:\n",
      "\n",
      "upload_artifact is experimental (supported from v3.3.0). The interface can change in the future.\n",
      "\n",
      "[I 2024-06-19 18:37:43,193] Trial 62 finished with value: 0.35403962900201885 and parameters: {'lambda_l1': 0.3622285034548442, 'lambda_l2': 1.112906508826305e-05, 'num_leaves': 222, 'feature_fraction': 0.4899749301313982, 'bagging_fraction': 0.7988929178782543, 'bagging_freq': 1, 'min_child_samples': 58}. Best is trial 43 with value: 0.3619918387044535.\n",
      "C:\\Users\\Usuario\\AppData\\Local\\Temp\\ipykernel_2436\\1344764334.py:57: ExperimentalWarning:\n",
      "\n",
      "upload_artifact is experimental (supported from v3.3.0). The interface can change in the future.\n",
      "\n",
      "C:\\Users\\Usuario\\AppData\\Local\\Temp\\ipykernel_2436\\1344764334.py:61: ExperimentalWarning:\n",
      "\n",
      "upload_artifact is experimental (supported from v3.3.0). The interface can change in the future.\n",
      "\n",
      "[I 2024-06-19 18:38:00,034] Trial 63 finished with value: 0.35938243166743933 and parameters: {'lambda_l1': 4.70470238793838, 'lambda_l2': 2.7905916086025594e-08, 'num_leaves': 230, 'feature_fraction': 0.5378554229814938, 'bagging_fraction': 0.8717503957260855, 'bagging_freq': 2, 'min_child_samples': 62}. Best is trial 43 with value: 0.3619918387044535.\n",
      "C:\\Users\\Usuario\\AppData\\Local\\Temp\\ipykernel_2436\\1344764334.py:57: ExperimentalWarning:\n",
      "\n",
      "upload_artifact is experimental (supported from v3.3.0). The interface can change in the future.\n",
      "\n",
      "C:\\Users\\Usuario\\AppData\\Local\\Temp\\ipykernel_2436\\1344764334.py:61: ExperimentalWarning:\n",
      "\n",
      "upload_artifact is experimental (supported from v3.3.0). The interface can change in the future.\n",
      "\n",
      "[I 2024-06-19 18:38:10,890] Trial 64 finished with value: 0.3408040193925883 and parameters: {'lambda_l1': 8.166012578912868, 'lambda_l2': 6.369546313350159e-08, 'num_leaves': 237, 'feature_fraction': 0.5636860647274246, 'bagging_fraction': 0.7531383812892177, 'bagging_freq': 3, 'min_child_samples': 48}. Best is trial 43 with value: 0.3619918387044535.\n",
      "C:\\Users\\Usuario\\AppData\\Local\\Temp\\ipykernel_2436\\1344764334.py:57: ExperimentalWarning:\n",
      "\n",
      "upload_artifact is experimental (supported from v3.3.0). The interface can change in the future.\n",
      "\n",
      "C:\\Users\\Usuario\\AppData\\Local\\Temp\\ipykernel_2436\\1344764334.py:61: ExperimentalWarning:\n",
      "\n",
      "upload_artifact is experimental (supported from v3.3.0). The interface can change in the future.\n",
      "\n",
      "[I 2024-06-19 18:38:23,282] Trial 65 finished with value: 0.35813583801052806 and parameters: {'lambda_l1': 2.7979822001987174, 'lambda_l2': 4.444229235809127e-08, 'num_leaves': 224, 'feature_fraction': 0.5318138801593292, 'bagging_fraction': 0.8680388237141888, 'bagging_freq': 2, 'min_child_samples': 70}. Best is trial 43 with value: 0.3619918387044535.\n",
      "C:\\Users\\Usuario\\AppData\\Local\\Temp\\ipykernel_2436\\1344764334.py:57: ExperimentalWarning:\n",
      "\n",
      "upload_artifact is experimental (supported from v3.3.0). The interface can change in the future.\n",
      "\n",
      "C:\\Users\\Usuario\\AppData\\Local\\Temp\\ipykernel_2436\\1344764334.py:61: ExperimentalWarning:\n",
      "\n",
      "upload_artifact is experimental (supported from v3.3.0). The interface can change in the future.\n",
      "\n",
      "[I 2024-06-19 18:38:35,489] Trial 66 finished with value: 0.3520068965028396 and parameters: {'lambda_l1': 0.11378545519141028, 'lambda_l2': 1.8717640959816814e-08, 'num_leaves': 207, 'feature_fraction': 0.5834281770794134, 'bagging_fraction': 0.8373759561106532, 'bagging_freq': 4, 'min_child_samples': 54}. Best is trial 43 with value: 0.3619918387044535.\n",
      "C:\\Users\\Usuario\\AppData\\Local\\Temp\\ipykernel_2436\\1344764334.py:57: ExperimentalWarning:\n",
      "\n",
      "upload_artifact is experimental (supported from v3.3.0). The interface can change in the future.\n",
      "\n",
      "C:\\Users\\Usuario\\AppData\\Local\\Temp\\ipykernel_2436\\1344764334.py:61: ExperimentalWarning:\n",
      "\n",
      "upload_artifact is experimental (supported from v3.3.0). The interface can change in the future.\n",
      "\n",
      "[I 2024-06-19 18:38:52,427] Trial 67 finished with value: 0.3628217567015956 and parameters: {'lambda_l1': 1.3906523947281424, 'lambda_l2': 0.06707503164831186, 'num_leaves': 254, 'feature_fraction': 0.5479422700730897, 'bagging_fraction': 0.933758611351899, 'bagging_freq': 2, 'min_child_samples': 60}. Best is trial 67 with value: 0.3628217567015956.\n",
      "C:\\Users\\Usuario\\AppData\\Local\\Temp\\ipykernel_2436\\1344764334.py:57: ExperimentalWarning:\n",
      "\n",
      "upload_artifact is experimental (supported from v3.3.0). The interface can change in the future.\n",
      "\n",
      "C:\\Users\\Usuario\\AppData\\Local\\Temp\\ipykernel_2436\\1344764334.py:61: ExperimentalWarning:\n",
      "\n",
      "upload_artifact is experimental (supported from v3.3.0). The interface can change in the future.\n",
      "\n",
      "[I 2024-06-19 18:39:15,088] Trial 68 finished with value: 0.3505446399226144 and parameters: {'lambda_l1': 1.499366098111422, 'lambda_l2': 0.08223355324541196, 'num_leaves': 256, 'feature_fraction': 0.6163400300106762, 'bagging_fraction': 0.9350538300560168, 'bagging_freq': 3, 'min_child_samples': 64}. Best is trial 67 with value: 0.3628217567015956.\n",
      "C:\\Users\\Usuario\\AppData\\Local\\Temp\\ipykernel_2436\\1344764334.py:57: ExperimentalWarning:\n",
      "\n",
      "upload_artifact is experimental (supported from v3.3.0). The interface can change in the future.\n",
      "\n",
      "C:\\Users\\Usuario\\AppData\\Local\\Temp\\ipykernel_2436\\1344764334.py:61: ExperimentalWarning:\n",
      "\n",
      "upload_artifact is experimental (supported from v3.3.0). The interface can change in the future.\n",
      "\n",
      "[I 2024-06-19 18:39:29,955] Trial 69 finished with value: 0.3548406423600219 and parameters: {'lambda_l1': 0.02098968577597695, 'lambda_l2': 0.0006560462905149577, 'num_leaves': 243, 'feature_fraction': 0.49950033328197974, 'bagging_fraction': 0.9583918271148761, 'bagging_freq': 1, 'min_child_samples': 51}. Best is trial 67 with value: 0.3628217567015956.\n",
      "C:\\Users\\Usuario\\AppData\\Local\\Temp\\ipykernel_2436\\1344764334.py:57: ExperimentalWarning:\n",
      "\n",
      "upload_artifact is experimental (supported from v3.3.0). The interface can change in the future.\n",
      "\n",
      "C:\\Users\\Usuario\\AppData\\Local\\Temp\\ipykernel_2436\\1344764334.py:61: ExperimentalWarning:\n",
      "\n",
      "upload_artifact is experimental (supported from v3.3.0). The interface can change in the future.\n",
      "\n",
      "[I 2024-06-19 18:39:42,813] Trial 70 finished with value: 0.3568790827468167 and parameters: {'lambda_l1': 0.4106069077609557, 'lambda_l2': 0.048029045564078096, 'num_leaves': 250, 'feature_fraction': 0.5587703873861396, 'bagging_fraction': 0.9064632617439061, 'bagging_freq': 2, 'min_child_samples': 56}. Best is trial 67 with value: 0.3628217567015956.\n",
      "C:\\Users\\Usuario\\AppData\\Local\\Temp\\ipykernel_2436\\1344764334.py:57: ExperimentalWarning:\n",
      "\n",
      "upload_artifact is experimental (supported from v3.3.0). The interface can change in the future.\n",
      "\n",
      "C:\\Users\\Usuario\\AppData\\Local\\Temp\\ipykernel_2436\\1344764334.py:61: ExperimentalWarning:\n",
      "\n",
      "upload_artifact is experimental (supported from v3.3.0). The interface can change in the future.\n",
      "\n",
      "[I 2024-06-19 18:39:56,273] Trial 71 finished with value: 0.3438634179786748 and parameters: {'lambda_l1': 9.755108664602698, 'lambda_l2': 0.6389830762196478, 'num_leaves': 218, 'feature_fraction': 0.46784118291379895, 'bagging_fraction': 0.7682132837036195, 'bagging_freq': 4, 'min_child_samples': 72}. Best is trial 67 with value: 0.3628217567015956.\n",
      "C:\\Users\\Usuario\\AppData\\Local\\Temp\\ipykernel_2436\\1344764334.py:57: ExperimentalWarning:\n",
      "\n",
      "upload_artifact is experimental (supported from v3.3.0). The interface can change in the future.\n",
      "\n",
      "C:\\Users\\Usuario\\AppData\\Local\\Temp\\ipykernel_2436\\1344764334.py:61: ExperimentalWarning:\n",
      "\n",
      "upload_artifact is experimental (supported from v3.3.0). The interface can change in the future.\n",
      "\n",
      "[I 2024-06-19 18:40:07,038] Trial 72 finished with value: 0.3546902714685906 and parameters: {'lambda_l1': 0.00019143103368775147, 'lambda_l2': 0.034812575702336354, 'num_leaves': 231, 'feature_fraction': 0.5178577636341742, 'bagging_fraction': 0.7944144340937206, 'bagging_freq': 3, 'min_child_samples': 68}. Best is trial 67 with value: 0.3628217567015956.\n",
      "C:\\Users\\Usuario\\AppData\\Local\\Temp\\ipykernel_2436\\1344764334.py:57: ExperimentalWarning:\n",
      "\n",
      "upload_artifact is experimental (supported from v3.3.0). The interface can change in the future.\n",
      "\n",
      "C:\\Users\\Usuario\\AppData\\Local\\Temp\\ipykernel_2436\\1344764334.py:61: ExperimentalWarning:\n",
      "\n",
      "upload_artifact is experimental (supported from v3.3.0). The interface can change in the future.\n",
      "\n",
      "[I 2024-06-19 18:40:21,241] Trial 73 finished with value: 0.3612834806181454 and parameters: {'lambda_l1': 2.4191518158371923, 'lambda_l2': 3.621047072674548e-08, 'num_leaves': 201, 'feature_fraction': 0.5403103632500026, 'bagging_fraction': 0.8760396852708701, 'bagging_freq': 2, 'min_child_samples': 59}. Best is trial 67 with value: 0.3628217567015956.\n",
      "C:\\Users\\Usuario\\AppData\\Local\\Temp\\ipykernel_2436\\1344764334.py:57: ExperimentalWarning:\n",
      "\n",
      "upload_artifact is experimental (supported from v3.3.0). The interface can change in the future.\n",
      "\n",
      "C:\\Users\\Usuario\\AppData\\Local\\Temp\\ipykernel_2436\\1344764334.py:61: ExperimentalWarning:\n",
      "\n",
      "upload_artifact is experimental (supported from v3.3.0). The interface can change in the future.\n",
      "\n",
      "[I 2024-06-19 18:40:32,973] Trial 74 finished with value: 0.3557321433895883 and parameters: {'lambda_l1': 1.037950486175359e-08, 'lambda_l2': 0.0016408254578371007, 'num_leaves': 200, 'feature_fraction': 0.576543814998344, 'bagging_fraction': 0.9208727785871508, 'bagging_freq': 2, 'min_child_samples': 60}. Best is trial 67 with value: 0.3628217567015956.\n",
      "C:\\Users\\Usuario\\AppData\\Local\\Temp\\ipykernel_2436\\1344764334.py:57: ExperimentalWarning:\n",
      "\n",
      "upload_artifact is experimental (supported from v3.3.0). The interface can change in the future.\n",
      "\n",
      "C:\\Users\\Usuario\\AppData\\Local\\Temp\\ipykernel_2436\\1344764334.py:61: ExperimentalWarning:\n",
      "\n",
      "upload_artifact is experimental (supported from v3.3.0). The interface can change in the future.\n",
      "\n",
      "[I 2024-06-19 18:40:49,769] Trial 75 finished with value: 0.3661188848889183 and parameters: {'lambda_l1': 2.552409864440406, 'lambda_l2': 1.625696348232659e-08, 'num_leaves': 212, 'feature_fraction': 0.5525505492904781, 'bagging_fraction': 0.8303348339240384, 'bagging_freq': 2, 'min_child_samples': 48}. Best is trial 75 with value: 0.3661188848889183.\n",
      "C:\\Users\\Usuario\\AppData\\Local\\Temp\\ipykernel_2436\\1344764334.py:57: ExperimentalWarning:\n",
      "\n",
      "upload_artifact is experimental (supported from v3.3.0). The interface can change in the future.\n",
      "\n",
      "C:\\Users\\Usuario\\AppData\\Local\\Temp\\ipykernel_2436\\1344764334.py:61: ExperimentalWarning:\n",
      "\n",
      "upload_artifact is experimental (supported from v3.3.0). The interface can change in the future.\n",
      "\n",
      "[I 2024-06-19 18:41:01,862] Trial 76 finished with value: 0.36011801245858094 and parameters: {'lambda_l1': 0.783419655669214, 'lambda_l2': 0.0001845491442799176, 'num_leaves': 190, 'feature_fraction': 0.5995779986807166, 'bagging_fraction': 0.9464701266213241, 'bagging_freq': 1, 'min_child_samples': 37}. Best is trial 75 with value: 0.3661188848889183.\n",
      "C:\\Users\\Usuario\\AppData\\Local\\Temp\\ipykernel_2436\\1344764334.py:57: ExperimentalWarning:\n",
      "\n",
      "upload_artifact is experimental (supported from v3.3.0). The interface can change in the future.\n",
      "\n",
      "C:\\Users\\Usuario\\AppData\\Local\\Temp\\ipykernel_2436\\1344764334.py:61: ExperimentalWarning:\n",
      "\n",
      "upload_artifact is experimental (supported from v3.3.0). The interface can change in the future.\n",
      "\n",
      "[I 2024-06-19 18:41:15,340] Trial 77 finished with value: 0.351346438751483 and parameters: {'lambda_l1': 2.512344453057106, 'lambda_l2': 1.9460536188101373e-08, 'num_leaves': 208, 'feature_fraction': 0.5512962347453123, 'bagging_fraction': 0.8243800752945403, 'bagging_freq': 3, 'min_child_samples': 47}. Best is trial 75 with value: 0.3661188848889183.\n",
      "C:\\Users\\Usuario\\AppData\\Local\\Temp\\ipykernel_2436\\1344764334.py:57: ExperimentalWarning:\n",
      "\n",
      "upload_artifact is experimental (supported from v3.3.0). The interface can change in the future.\n",
      "\n",
      "C:\\Users\\Usuario\\AppData\\Local\\Temp\\ipykernel_2436\\1344764334.py:61: ExperimentalWarning:\n",
      "\n",
      "upload_artifact is experimental (supported from v3.3.0). The interface can change in the future.\n",
      "\n",
      "[I 2024-06-19 18:41:30,928] Trial 78 finished with value: 0.35953375585677055 and parameters: {'lambda_l1': 0.5233720051675714, 'lambda_l2': 0.2554619415325171, 'num_leaves': 212, 'feature_fraction': 0.5149749934653185, 'bagging_fraction': 0.976776574017693, 'bagging_freq': 2, 'min_child_samples': 19}. Best is trial 75 with value: 0.3661188848889183.\n",
      "C:\\Users\\Usuario\\AppData\\Local\\Temp\\ipykernel_2436\\1344764334.py:57: ExperimentalWarning:\n",
      "\n",
      "upload_artifact is experimental (supported from v3.3.0). The interface can change in the future.\n",
      "\n",
      "C:\\Users\\Usuario\\AppData\\Local\\Temp\\ipykernel_2436\\1344764334.py:61: ExperimentalWarning:\n",
      "\n",
      "upload_artifact is experimental (supported from v3.3.0). The interface can change in the future.\n",
      "\n",
      "[I 2024-06-19 18:41:41,760] Trial 79 finished with value: 0.3556591168509854 and parameters: {'lambda_l1': 0.000711919222850357, 'lambda_l2': 1.070241086896121e-07, 'num_leaves': 202, 'feature_fraction': 0.5835260150680317, 'bagging_fraction': 0.8902563079982627, 'bagging_freq': 3, 'min_child_samples': 42}. Best is trial 75 with value: 0.3661188848889183.\n",
      "C:\\Users\\Usuario\\AppData\\Local\\Temp\\ipykernel_2436\\1344764334.py:57: ExperimentalWarning:\n",
      "\n",
      "upload_artifact is experimental (supported from v3.3.0). The interface can change in the future.\n",
      "\n",
      "C:\\Users\\Usuario\\AppData\\Local\\Temp\\ipykernel_2436\\1344764334.py:61: ExperimentalWarning:\n",
      "\n",
      "upload_artifact is experimental (supported from v3.3.0). The interface can change in the future.\n",
      "\n",
      "[I 2024-06-19 18:41:53,691] Trial 80 finished with value: 0.345220953046068 and parameters: {'lambda_l1': 0.11918845080607375, 'lambda_l2': 2.3447977225885296e-07, 'num_leaves': 180, 'feature_fraction': 0.48614079880492894, 'bagging_fraction': 0.4164034015274661, 'bagging_freq': 1, 'min_child_samples': 53}. Best is trial 75 with value: 0.3661188848889183.\n",
      "C:\\Users\\Usuario\\AppData\\Local\\Temp\\ipykernel_2436\\1344764334.py:57: ExperimentalWarning:\n",
      "\n",
      "upload_artifact is experimental (supported from v3.3.0). The interface can change in the future.\n",
      "\n",
      "C:\\Users\\Usuario\\AppData\\Local\\Temp\\ipykernel_2436\\1344764334.py:61: ExperimentalWarning:\n",
      "\n",
      "upload_artifact is experimental (supported from v3.3.0). The interface can change in the future.\n",
      "\n",
      "[I 2024-06-19 18:42:08,283] Trial 81 finished with value: 0.3571375278725022 and parameters: {'lambda_l1': 0.003409623691176443, 'lambda_l2': 0.016651737704072665, 'num_leaves': 169, 'feature_fraction': 0.4303482456115317, 'bagging_fraction': 0.8505361666463369, 'bagging_freq': 3, 'min_child_samples': 58}. Best is trial 75 with value: 0.3661188848889183.\n",
      "C:\\Users\\Usuario\\AppData\\Local\\Temp\\ipykernel_2436\\1344764334.py:57: ExperimentalWarning:\n",
      "\n",
      "upload_artifact is experimental (supported from v3.3.0). The interface can change in the future.\n",
      "\n",
      "C:\\Users\\Usuario\\AppData\\Local\\Temp\\ipykernel_2436\\1344764334.py:61: ExperimentalWarning:\n",
      "\n",
      "upload_artifact is experimental (supported from v3.3.0). The interface can change in the future.\n",
      "\n",
      "[I 2024-06-19 18:42:20,747] Trial 82 finished with value: 0.35535986434288375 and parameters: {'lambda_l1': 0.9786572366937607, 'lambda_l2': 2.4900450828668554, 'num_leaves': 218, 'feature_fraction': 0.6178785509595823, 'bagging_fraction': 0.8780195276453919, 'bagging_freq': 2, 'min_child_samples': 33}. Best is trial 75 with value: 0.3661188848889183.\n",
      "C:\\Users\\Usuario\\AppData\\Local\\Temp\\ipykernel_2436\\1344764334.py:57: ExperimentalWarning:\n",
      "\n",
      "upload_artifact is experimental (supported from v3.3.0). The interface can change in the future.\n",
      "\n",
      "C:\\Users\\Usuario\\AppData\\Local\\Temp\\ipykernel_2436\\1344764334.py:61: ExperimentalWarning:\n",
      "\n",
      "upload_artifact is experimental (supported from v3.3.0). The interface can change in the future.\n",
      "\n",
      "[I 2024-06-19 18:42:31,355] Trial 83 finished with value: 0.35677282381485564 and parameters: {'lambda_l1': 1.9137816080714172, 'lambda_l2': 1.5776604628446975e-08, 'num_leaves': 240, 'feature_fraction': 0.5378389345611536, 'bagging_fraction': 0.8161517388224497, 'bagging_freq': 2, 'min_child_samples': 75}. Best is trial 75 with value: 0.3661188848889183.\n",
      "C:\\Users\\Usuario\\AppData\\Local\\Temp\\ipykernel_2436\\1344764334.py:57: ExperimentalWarning:\n",
      "\n",
      "upload_artifact is experimental (supported from v3.3.0). The interface can change in the future.\n",
      "\n",
      "C:\\Users\\Usuario\\AppData\\Local\\Temp\\ipykernel_2436\\1344764334.py:61: ExperimentalWarning:\n",
      "\n",
      "upload_artifact is experimental (supported from v3.3.0). The interface can change in the future.\n",
      "\n",
      "[I 2024-06-19 18:42:42,927] Trial 84 finished with value: 0.35751095858122534 and parameters: {'lambda_l1': 5.568834705503057, 'lambda_l2': 3.5568714300907906e-08, 'num_leaves': 235, 'feature_fraction': 0.546560823291169, 'bagging_fraction': 0.8586973618241328, 'bagging_freq': 2, 'min_child_samples': 49}. Best is trial 75 with value: 0.3661188848889183.\n",
      "C:\\Users\\Usuario\\AppData\\Local\\Temp\\ipykernel_2436\\1344764334.py:57: ExperimentalWarning:\n",
      "\n",
      "upload_artifact is experimental (supported from v3.3.0). The interface can change in the future.\n",
      "\n",
      "C:\\Users\\Usuario\\AppData\\Local\\Temp\\ipykernel_2436\\1344764334.py:61: ExperimentalWarning:\n",
      "\n",
      "upload_artifact is experimental (supported from v3.3.0). The interface can change in the future.\n",
      "\n",
      "[I 2024-06-19 18:42:53,825] Trial 85 finished with value: 0.35466723431490543 and parameters: {'lambda_l1': 2.6409504819336123, 'lambda_l2': 6.444530173378157e-08, 'num_leaves': 250, 'feature_fraction': 0.5244448818850124, 'bagging_fraction': 0.839101641090109, 'bagging_freq': 2, 'min_child_samples': 63}. Best is trial 75 with value: 0.3661188848889183.\n",
      "C:\\Users\\Usuario\\AppData\\Local\\Temp\\ipykernel_2436\\1344764334.py:57: ExperimentalWarning:\n",
      "\n",
      "upload_artifact is experimental (supported from v3.3.0). The interface can change in the future.\n",
      "\n",
      "C:\\Users\\Usuario\\AppData\\Local\\Temp\\ipykernel_2436\\1344764334.py:61: ExperimentalWarning:\n",
      "\n",
      "upload_artifact is experimental (supported from v3.3.0). The interface can change in the future.\n",
      "\n",
      "[I 2024-06-19 18:43:04,672] Trial 86 finished with value: 0.35898660749270095 and parameters: {'lambda_l1': 1.3258470684461503, 'lambda_l2': 1.560859072441037e-08, 'num_leaves': 225, 'feature_fraction': 0.502953682187916, 'bagging_fraction': 0.8027818732051849, 'bagging_freq': 1, 'min_child_samples': 56}. Best is trial 75 with value: 0.3661188848889183.\n",
      "C:\\Users\\Usuario\\AppData\\Local\\Temp\\ipykernel_2436\\1344764334.py:57: ExperimentalWarning:\n",
      "\n",
      "upload_artifact is experimental (supported from v3.3.0). The interface can change in the future.\n",
      "\n",
      "C:\\Users\\Usuario\\AppData\\Local\\Temp\\ipykernel_2436\\1344764334.py:61: ExperimentalWarning:\n",
      "\n",
      "upload_artifact is experimental (supported from v3.3.0). The interface can change in the future.\n",
      "\n",
      "[I 2024-06-19 18:43:16,710] Trial 87 finished with value: 0.3564896990226607 and parameters: {'lambda_l1': 2.09955186688487e-08, 'lambda_l2': 7.0849833057380245, 'num_leaves': 238, 'feature_fraction': 0.5702059540575282, 'bagging_fraction': 0.9011228699603314, 'bagging_freq': 5, 'min_child_samples': 80}. Best is trial 75 with value: 0.3661188848889183.\n",
      "C:\\Users\\Usuario\\AppData\\Local\\Temp\\ipykernel_2436\\1344764334.py:57: ExperimentalWarning:\n",
      "\n",
      "upload_artifact is experimental (supported from v3.3.0). The interface can change in the future.\n",
      "\n",
      "C:\\Users\\Usuario\\AppData\\Local\\Temp\\ipykernel_2436\\1344764334.py:61: ExperimentalWarning:\n",
      "\n",
      "upload_artifact is experimental (supported from v3.3.0). The interface can change in the future.\n",
      "\n",
      "[I 2024-06-19 18:43:26,097] Trial 88 finished with value: 0.35355294526798375 and parameters: {'lambda_l1': 6.5108938037712605, 'lambda_l2': 1.0190515663088668e-08, 'num_leaves': 195, 'feature_fraction': 0.5532717128702751, 'bagging_fraction': 0.7202076854201228, 'bagging_freq': 2, 'min_child_samples': 95}. Best is trial 75 with value: 0.3661188848889183.\n",
      "C:\\Users\\Usuario\\AppData\\Local\\Temp\\ipykernel_2436\\1344764334.py:57: ExperimentalWarning:\n",
      "\n",
      "upload_artifact is experimental (supported from v3.3.0). The interface can change in the future.\n",
      "\n",
      "C:\\Users\\Usuario\\AppData\\Local\\Temp\\ipykernel_2436\\1344764334.py:61: ExperimentalWarning:\n",
      "\n",
      "upload_artifact is experimental (supported from v3.3.0). The interface can change in the future.\n",
      "\n",
      "[I 2024-06-19 18:43:37,954] Trial 89 finished with value: 0.3549635395357288 and parameters: {'lambda_l1': 0.264136003732882, 'lambda_l2': 3.695890610196726e-08, 'num_leaves': 229, 'feature_fraction': 0.4655909708294952, 'bagging_fraction': 0.926109030323893, 'bagging_freq': 3, 'min_child_samples': 40}. Best is trial 75 with value: 0.3661188848889183.\n",
      "C:\\Users\\Usuario\\AppData\\Local\\Temp\\ipykernel_2436\\1344764334.py:57: ExperimentalWarning:\n",
      "\n",
      "upload_artifact is experimental (supported from v3.3.0). The interface can change in the future.\n",
      "\n",
      "C:\\Users\\Usuario\\AppData\\Local\\Temp\\ipykernel_2436\\1344764334.py:61: ExperimentalWarning:\n",
      "\n",
      "upload_artifact is experimental (supported from v3.3.0). The interface can change in the future.\n",
      "\n",
      "[I 2024-06-19 18:43:51,046] Trial 90 finished with value: 0.3495599011931696 and parameters: {'lambda_l1': 2.496782147588049e-07, 'lambda_l2': 1.6037024509385264e-07, 'num_leaves': 246, 'feature_fraction': 0.6528139367613632, 'bagging_fraction': 0.7771947244325729, 'bagging_freq': 3, 'min_child_samples': 59}. Best is trial 75 with value: 0.3661188848889183.\n",
      "C:\\Users\\Usuario\\AppData\\Local\\Temp\\ipykernel_2436\\1344764334.py:57: ExperimentalWarning:\n",
      "\n",
      "upload_artifact is experimental (supported from v3.3.0). The interface can change in the future.\n",
      "\n",
      "C:\\Users\\Usuario\\AppData\\Local\\Temp\\ipykernel_2436\\1344764334.py:61: ExperimentalWarning:\n",
      "\n",
      "upload_artifact is experimental (supported from v3.3.0). The interface can change in the future.\n",
      "\n",
      "[I 2024-06-19 18:44:01,215] Trial 91 finished with value: 0.35570398047594753 and parameters: {'lambda_l1': 1.1068004749131119e-06, 'lambda_l2': 1.8181338886683954e-08, 'num_leaves': 212, 'feature_fraction': 0.600806904934351, 'bagging_fraction': 0.8895638340586112, 'bagging_freq': 2, 'min_child_samples': 66}. Best is trial 75 with value: 0.3661188848889183.\n",
      "C:\\Users\\Usuario\\AppData\\Local\\Temp\\ipykernel_2436\\1344764334.py:57: ExperimentalWarning:\n",
      "\n",
      "upload_artifact is experimental (supported from v3.3.0). The interface can change in the future.\n",
      "\n",
      "C:\\Users\\Usuario\\AppData\\Local\\Temp\\ipykernel_2436\\1344764334.py:61: ExperimentalWarning:\n",
      "\n",
      "upload_artifact is experimental (supported from v3.3.0). The interface can change in the future.\n",
      "\n",
      "[I 2024-06-19 18:44:08,727] Trial 92 finished with value: 0.3470740529620039 and parameters: {'lambda_l1': 3.3048159769559065, 'lambda_l2': 3.903450574308413e-07, 'num_leaves': 221, 'feature_fraction': 0.8619130380962223, 'bagging_fraction': 0.829995447711519, 'bagging_freq': 1, 'min_child_samples': 84}. Best is trial 75 with value: 0.3661188848889183.\n",
      "C:\\Users\\Usuario\\AppData\\Local\\Temp\\ipykernel_2436\\1344764334.py:57: ExperimentalWarning:\n",
      "\n",
      "upload_artifact is experimental (supported from v3.3.0). The interface can change in the future.\n",
      "\n",
      "C:\\Users\\Usuario\\AppData\\Local\\Temp\\ipykernel_2436\\1344764334.py:61: ExperimentalWarning:\n",
      "\n",
      "upload_artifact is experimental (supported from v3.3.0). The interface can change in the future.\n",
      "\n",
      "[I 2024-06-19 18:44:19,176] Trial 93 finished with value: 0.3556081855045239 and parameters: {'lambda_l1': 0.6250960658104476, 'lambda_l2': 6.083945880538581e-05, 'num_leaves': 188, 'feature_fraction': 0.5884509297600107, 'bagging_fraction': 0.9438151132352357, 'bagging_freq': 1, 'min_child_samples': 26}. Best is trial 75 with value: 0.3661188848889183.\n",
      "C:\\Users\\Usuario\\AppData\\Local\\Temp\\ipykernel_2436\\1344764334.py:57: ExperimentalWarning:\n",
      "\n",
      "upload_artifact is experimental (supported from v3.3.0). The interface can change in the future.\n",
      "\n",
      "C:\\Users\\Usuario\\AppData\\Local\\Temp\\ipykernel_2436\\1344764334.py:61: ExperimentalWarning:\n",
      "\n",
      "upload_artifact is experimental (supported from v3.3.0). The interface can change in the future.\n",
      "\n",
      "[I 2024-06-19 18:44:29,976] Trial 94 finished with value: 0.3600137804383494 and parameters: {'lambda_l1': 1.056886207861762, 'lambda_l2': 0.007022044693273949, 'num_leaves': 203, 'feature_fraction': 0.5249426984152538, 'bagging_fraction': 0.9981614219641124, 'bagging_freq': 1, 'min_child_samples': 46}. Best is trial 75 with value: 0.3661188848889183.\n",
      "C:\\Users\\Usuario\\AppData\\Local\\Temp\\ipykernel_2436\\1344764334.py:57: ExperimentalWarning:\n",
      "\n",
      "upload_artifact is experimental (supported from v3.3.0). The interface can change in the future.\n",
      "\n",
      "C:\\Users\\Usuario\\AppData\\Local\\Temp\\ipykernel_2436\\1344764334.py:61: ExperimentalWarning:\n",
      "\n",
      "upload_artifact is experimental (supported from v3.3.0). The interface can change in the future.\n",
      "\n",
      "[I 2024-06-19 18:44:39,615] Trial 95 finished with value: 0.3541855022798927 and parameters: {'lambda_l1': 0.00010114091172083287, 'lambda_l2': 0.00014141702753283692, 'num_leaves': 192, 'feature_fraction': 0.5640567296378569, 'bagging_fraction': 0.9461096432806209, 'bagging_freq': 1, 'min_child_samples': 52}. Best is trial 75 with value: 0.3661188848889183.\n",
      "C:\\Users\\Usuario\\AppData\\Local\\Temp\\ipykernel_2436\\1344764334.py:57: ExperimentalWarning:\n",
      "\n",
      "upload_artifact is experimental (supported from v3.3.0). The interface can change in the future.\n",
      "\n",
      "C:\\Users\\Usuario\\AppData\\Local\\Temp\\ipykernel_2436\\1344764334.py:61: ExperimentalWarning:\n",
      "\n",
      "upload_artifact is experimental (supported from v3.3.0). The interface can change in the future.\n",
      "\n",
      "[I 2024-06-19 18:44:51,255] Trial 96 finished with value: 0.35268658591248786 and parameters: {'lambda_l1': 0.0024370930224123935, 'lambda_l2': 8.144510073450543e-08, 'num_leaves': 216, 'feature_fraction': 0.605904016227404, 'bagging_fraction': 0.861762227882553, 'bagging_freq': 1, 'min_child_samples': 45}. Best is trial 75 with value: 0.3661188848889183.\n",
      "C:\\Users\\Usuario\\AppData\\Local\\Temp\\ipykernel_2436\\1344764334.py:57: ExperimentalWarning:\n",
      "\n",
      "upload_artifact is experimental (supported from v3.3.0). The interface can change in the future.\n",
      "\n",
      "C:\\Users\\Usuario\\AppData\\Local\\Temp\\ipykernel_2436\\1344764334.py:61: ExperimentalWarning:\n",
      "\n",
      "upload_artifact is experimental (supported from v3.3.0). The interface can change in the future.\n",
      "\n",
      "[I 2024-06-19 18:45:04,693] Trial 97 finished with value: 0.35652971264554306 and parameters: {'lambda_l1': 1.7010596172816324, 'lambda_l2': 0.0026068704781917803, 'num_leaves': 233, 'feature_fraction': 0.5379596287747382, 'bagging_fraction': 0.9081811881753395, 'bagging_freq': 2, 'min_child_samples': 37}. Best is trial 75 with value: 0.3661188848889183.\n",
      "C:\\Users\\Usuario\\AppData\\Local\\Temp\\ipykernel_2436\\1344764334.py:57: ExperimentalWarning:\n",
      "\n",
      "upload_artifact is experimental (supported from v3.3.0). The interface can change in the future.\n",
      "\n",
      "C:\\Users\\Usuario\\AppData\\Local\\Temp\\ipykernel_2436\\1344764334.py:61: ExperimentalWarning:\n",
      "\n",
      "upload_artifact is experimental (supported from v3.3.0). The interface can change in the future.\n",
      "\n",
      "[I 2024-06-19 18:45:15,696] Trial 98 finished with value: 0.35655013639533156 and parameters: {'lambda_l1': 0.6766230651694228, 'lambda_l2': 3.864329332104788e-08, 'num_leaves': 209, 'feature_fraction': 0.5121880189960619, 'bagging_fraction': 0.9700540895438823, 'bagging_freq': 2, 'min_child_samples': 55}. Best is trial 75 with value: 0.3661188848889183.\n",
      "C:\\Users\\Usuario\\AppData\\Local\\Temp\\ipykernel_2436\\1344764334.py:57: ExperimentalWarning:\n",
      "\n",
      "upload_artifact is experimental (supported from v3.3.0). The interface can change in the future.\n",
      "\n",
      "C:\\Users\\Usuario\\AppData\\Local\\Temp\\ipykernel_2436\\1344764334.py:61: ExperimentalWarning:\n",
      "\n",
      "upload_artifact is experimental (supported from v3.3.0). The interface can change in the future.\n",
      "\n",
      "[I 2024-06-19 18:45:27,597] Trial 99 finished with value: 0.35685031519334215 and parameters: {'lambda_l1': 0.024293944252831906, 'lambda_l2': 1.0198887570724874e-08, 'num_leaves': 127, 'feature_fraction': 0.49690272483068565, 'bagging_fraction': 0.8811090199905498, 'bagging_freq': 3, 'min_child_samples': 90}. Best is trial 75 with value: 0.3661188848889183.\n",
      "C:\\Users\\Usuario\\AppData\\Local\\Temp\\ipykernel_2436\\1344764334.py:57: ExperimentalWarning:\n",
      "\n",
      "upload_artifact is experimental (supported from v3.3.0). The interface can change in the future.\n",
      "\n",
      "C:\\Users\\Usuario\\AppData\\Local\\Temp\\ipykernel_2436\\1344764334.py:61: ExperimentalWarning:\n",
      "\n",
      "upload_artifact is experimental (supported from v3.3.0). The interface can change in the future.\n",
      "\n",
      "[I 2024-06-19 18:45:40,502] Trial 100 finished with value: 0.35468748784726867 and parameters: {'lambda_l1': 8.055295114982187e-06, 'lambda_l2': 2.7669033490007417e-08, 'num_leaves': 225, 'feature_fraction': 0.5457620007614464, 'bagging_fraction': 0.7655957730214018, 'bagging_freq': 1, 'min_child_samples': 50}. Best is trial 75 with value: 0.3661188848889183.\n",
      "C:\\Users\\Usuario\\AppData\\Local\\Temp\\ipykernel_2436\\1344764334.py:57: ExperimentalWarning:\n",
      "\n",
      "upload_artifact is experimental (supported from v3.3.0). The interface can change in the future.\n",
      "\n",
      "C:\\Users\\Usuario\\AppData\\Local\\Temp\\ipykernel_2436\\1344764334.py:61: ExperimentalWarning:\n",
      "\n",
      "upload_artifact is experimental (supported from v3.3.0). The interface can change in the future.\n",
      "\n",
      "[I 2024-06-19 18:45:51,819] Trial 101 finished with value: 0.3615987652193982 and parameters: {'lambda_l1': 0.33071873122577206, 'lambda_l2': 5.077259800902494e-08, 'num_leaves': 198, 'feature_fraction': 0.5706263945131391, 'bagging_fraction': 0.8103702070584005, 'bagging_freq': 3, 'min_child_samples': 41}. Best is trial 75 with value: 0.3661188848889183.\n"
     ]
    }
   ],
   "source": [
    "artifact_store = FileSystemArtifactStore(base_path=PATH_TO_OPTUNA_ARTIFACTS)\n",
    "\n",
    "study = optuna.create_study(direction='maximize',\n",
    "                            storage=\"sqlite:///db.sqlite3\",  # Specify the storage URL here.\n",
    "                            study_name=\"04 - LGB Multiclass CV\",\n",
    "                            load_if_exists = True)\n",
    "\n",
    "study.optimize(cv_es_lgb_objective, n_trials=100)"
   ]
  },
  {
   "cell_type": "code",
   "execution_count": 27,
   "metadata": {},
   "outputs": [
    {
     "name": "stdout",
     "output_type": "stream",
     "text": [
      "^C\n"
     ]
    }
   ],
   "source": [
    "!optuna-dashboard sqlite:///db.sqlite3 --artifact-dir ../work/optuna_artifacts/"
   ]
  },
  {
   "cell_type": "code",
   "execution_count": null,
   "metadata": {},
   "outputs": [],
   "source": [
    "!optuna-dashboard sqlite:///db.sqlite3 --artifact-dir C:\\\\\\Users\\\\Usuario\\\\Documents\\\\Universidad\\\\austral\\\\2024\\\\lab2\\\\repos\\\\Personal\\\\UA_MDM_LDI_II\\\\work\\\\optuna_artifacts"
   ]
  },
  {
   "cell_type": "code",
   "execution_count": 27,
   "metadata": {},
   "outputs": [
    {
     "name": "stdout",
     "output_type": "stream",
     "text": [
      "Collecting kaleido\n",
      "  Downloading kaleido-0.2.1-py2.py3-none-win_amd64.whl.metadata (15 kB)\n",
      "Downloading kaleido-0.2.1-py2.py3-none-win_amd64.whl (65.9 MB)\n",
      "   ---------------------------------------- 0.0/65.9 MB ? eta -:--:--\n",
      "   ---------------------------------------- 0.0/65.9 MB ? eta -:--:--\n",
      "   ---------------------------------------- 0.0/65.9 MB ? eta -:--:--\n",
      "   ---------------------------------------- 0.0/65.9 MB 262.6 kB/s eta 0:04:12\n",
      "   ---------------------------------------- 0.0/65.9 MB 279.3 kB/s eta 0:03:56\n",
      "   ---------------------------------------- 0.1/65.9 MB 847.9 kB/s eta 0:01:18\n",
      "   ---------------------------------------- 0.4/65.9 MB 2.1 MB/s eta 0:00:32\n",
      "    --------------------------------------- 1.0/65.9 MB 4.3 MB/s eta 0:00:16\n",
      "   - -------------------------------------- 1.9/65.9 MB 6.8 MB/s eta 0:00:10\n",
      "   -- ------------------------------------- 3.4/65.9 MB 10.2 MB/s eta 0:00:07\n",
      "   -- ------------------------------------- 4.8/65.9 MB 13.3 MB/s eta 0:00:05\n",
      "   --- ------------------------------------ 5.5/65.9 MB 13.6 MB/s eta 0:00:05\n",
      "   ---- ----------------------------------- 7.3/65.9 MB 16.1 MB/s eta 0:00:04\n",
      "   ----- ---------------------------------- 8.5/65.9 MB 17.0 MB/s eta 0:00:04\n",
      "   ------ --------------------------------- 10.5/65.9 MB 29.7 MB/s eta 0:00:02\n",
      "   ------ --------------------------------- 11.4/65.9 MB 31.2 MB/s eta 0:00:02\n",
      "   ------- -------------------------------- 12.6/65.9 MB 31.2 MB/s eta 0:00:02\n",
      "   -------- ------------------------------- 13.5/65.9 MB 31.1 MB/s eta 0:00:02\n",
      "   -------- ------------------------------- 14.4/65.9 MB 29.8 MB/s eta 0:00:02\n",
      "   --------- ------------------------------ 15.8/65.9 MB 31.2 MB/s eta 0:00:02\n",
      "   ---------- ----------------------------- 16.6/65.9 MB 28.5 MB/s eta 0:00:02\n",
      "   ---------- ----------------------------- 18.1/65.9 MB 27.3 MB/s eta 0:00:02\n",
      "   ----------- ---------------------------- 18.3/65.9 MB 26.2 MB/s eta 0:00:02\n",
      "   ------------ --------------------------- 19.8/65.9 MB 25.2 MB/s eta 0:00:02\n",
      "   ------------ --------------------------- 20.1/65.9 MB 25.2 MB/s eta 0:00:02\n",
      "   ------------ --------------------------- 20.9/65.9 MB 23.4 MB/s eta 0:00:02\n",
      "   ------------ --------------------------- 21.4/65.9 MB 21.8 MB/s eta 0:00:03\n",
      "   ------------- -------------------------- 21.9/65.9 MB 21.8 MB/s eta 0:00:03\n",
      "   ------------- -------------------------- 22.5/65.9 MB 20.5 MB/s eta 0:00:03\n",
      "   -------------- ------------------------- 23.1/65.9 MB 19.8 MB/s eta 0:00:03\n",
      "   -------------- ------------------------- 23.4/65.9 MB 18.2 MB/s eta 0:00:03\n",
      "   -------------- ------------------------- 23.6/65.9 MB 17.7 MB/s eta 0:00:03\n",
      "   -------------- ------------------------- 24.0/65.9 MB 16.8 MB/s eta 0:00:03\n",
      "   -------------- ------------------------- 24.3/65.9 MB 16.0 MB/s eta 0:00:03\n",
      "   -------------- ------------------------- 24.7/65.9 MB 15.6 MB/s eta 0:00:03\n",
      "   -------------- ------------------------- 24.7/65.9 MB 15.6 MB/s eta 0:00:03\n",
      "   --------------- ------------------------ 25.2/65.9 MB 13.9 MB/s eta 0:00:03\n",
      "   --------------- ------------------------ 25.3/65.9 MB 13.4 MB/s eta 0:00:04\n",
      "   --------------- ------------------------ 25.7/65.9 MB 12.8 MB/s eta 0:00:04\n",
      "   --------------- ------------------------ 26.0/65.9 MB 12.4 MB/s eta 0:00:04\n",
      "   --------------- ------------------------ 26.3/65.9 MB 12.4 MB/s eta 0:00:04\n",
      "   ---------------- ----------------------- 26.5/65.9 MB 11.5 MB/s eta 0:00:04\n",
      "   ---------------- ----------------------- 27.1/65.9 MB 11.1 MB/s eta 0:00:04\n",
      "   ---------------- ----------------------- 27.4/65.9 MB 10.7 MB/s eta 0:00:04\n",
      "   ---------------- ----------------------- 27.9/65.9 MB 10.4 MB/s eta 0:00:04\n",
      "   ----------------- ---------------------- 28.0/65.9 MB 10.2 MB/s eta 0:00:04\n",
      "   ----------------- ---------------------- 28.4/65.9 MB 9.6 MB/s eta 0:00:04\n",
      "   ----------------- ---------------------- 29.1/65.9 MB 9.2 MB/s eta 0:00:04\n",
      "   ----------------- ---------------------- 29.5/65.9 MB 8.8 MB/s eta 0:00:05\n",
      "   ------------------ --------------------- 30.0/65.9 MB 8.7 MB/s eta 0:00:05\n",
      "   ------------------ --------------------- 30.3/65.9 MB 8.6 MB/s eta 0:00:05\n",
      "   ------------------ --------------------- 30.6/65.9 MB 8.6 MB/s eta 0:00:05\n",
      "   ------------------ --------------------- 31.0/65.9 MB 8.3 MB/s eta 0:00:05\n",
      "   ------------------- -------------------- 31.4/65.9 MB 8.2 MB/s eta 0:00:05\n",
      "   ------------------- -------------------- 31.8/65.9 MB 8.2 MB/s eta 0:00:05\n",
      "   ------------------- -------------------- 32.4/65.9 MB 8.1 MB/s eta 0:00:05\n",
      "   ------------------- -------------------- 32.9/65.9 MB 8.0 MB/s eta 0:00:05\n",
      "   -------------------- ------------------- 33.4/65.9 MB 8.2 MB/s eta 0:00:04\n",
      "   -------------------- ------------------- 33.8/65.9 MB 8.1 MB/s eta 0:00:04\n",
      "   -------------------- ------------------- 34.3/65.9 MB 8.2 MB/s eta 0:00:04\n",
      "   --------------------- ------------------ 34.7/65.9 MB 8.3 MB/s eta 0:00:04\n",
      "   --------------------- ------------------ 35.1/65.9 MB 8.5 MB/s eta 0:00:04\n",
      "   --------------------- ------------------ 35.5/65.9 MB 8.7 MB/s eta 0:00:04\n",
      "   --------------------- ------------------ 35.7/65.9 MB 8.6 MB/s eta 0:00:04\n",
      "   ---------------------- ----------------- 36.3/65.9 MB 9.0 MB/s eta 0:00:04\n",
      "   ---------------------- ----------------- 36.5/65.9 MB 9.0 MB/s eta 0:00:04\n",
      "   ---------------------- ----------------- 36.8/65.9 MB 9.1 MB/s eta 0:00:04\n",
      "   ---------------------- ----------------- 37.2/65.9 MB 9.0 MB/s eta 0:00:04\n",
      "   ---------------------- ----------------- 37.4/65.9 MB 8.8 MB/s eta 0:00:04\n",
      "   ---------------------- ----------------- 37.7/65.9 MB 9.0 MB/s eta 0:00:04\n",
      "   ----------------------- ---------------- 38.0/65.9 MB 8.7 MB/s eta 0:00:04\n",
      "   ----------------------- ---------------- 38.3/65.9 MB 9.1 MB/s eta 0:00:04\n",
      "   ----------------------- ---------------- 38.6/65.9 MB 8.8 MB/s eta 0:00:04\n",
      "   ----------------------- ---------------- 38.9/65.9 MB 8.8 MB/s eta 0:00:04\n",
      "   ----------------------- ---------------- 39.3/65.9 MB 9.0 MB/s eta 0:00:03\n",
      "   ------------------------ --------------- 39.7/65.9 MB 8.8 MB/s eta 0:00:03\n",
      "   ------------------------ --------------- 40.0/65.9 MB 8.8 MB/s eta 0:00:03\n",
      "   ------------------------ --------------- 40.3/65.9 MB 8.8 MB/s eta 0:00:03\n",
      "   ------------------------ --------------- 40.6/65.9 MB 9.0 MB/s eta 0:00:03\n",
      "   ------------------------ --------------- 41.0/65.9 MB 9.0 MB/s eta 0:00:03\n",
      "   ------------------------- -------------- 41.3/65.9 MB 8.8 MB/s eta 0:00:03\n",
      "   ------------------------- -------------- 41.8/65.9 MB 8.7 MB/s eta 0:00:03\n",
      "   ------------------------- -------------- 42.1/65.9 MB 8.6 MB/s eta 0:00:03\n",
      "   ------------------------- -------------- 42.6/65.9 MB 8.6 MB/s eta 0:00:03\n",
      "   -------------------------- ------------- 42.9/65.9 MB 8.5 MB/s eta 0:00:03\n",
      "   -------------------------- ------------- 43.2/65.9 MB 8.5 MB/s eta 0:00:03\n",
      "   -------------------------- ------------- 43.6/65.9 MB 8.4 MB/s eta 0:00:03\n",
      "   -------------------------- ------------- 43.9/65.9 MB 8.3 MB/s eta 0:00:03\n",
      "   -------------------------- ------------- 44.3/65.9 MB 8.3 MB/s eta 0:00:03\n",
      "   --------------------------- ------------ 44.7/65.9 MB 8.2 MB/s eta 0:00:03\n",
      "   --------------------------- ------------ 45.0/65.9 MB 8.2 MB/s eta 0:00:03\n",
      "   --------------------------- ------------ 45.4/65.9 MB 8.1 MB/s eta 0:00:03\n",
      "   --------------------------- ------------ 45.8/65.9 MB 8.1 MB/s eta 0:00:03\n",
      "   ---------------------------- ----------- 46.2/65.9 MB 8.0 MB/s eta 0:00:03\n",
      "   ---------------------------- ----------- 46.7/65.9 MB 8.1 MB/s eta 0:00:03\n",
      "   ---------------------------- ----------- 47.0/65.9 MB 8.1 MB/s eta 0:00:03\n",
      "   ---------------------------- ----------- 47.4/65.9 MB 8.1 MB/s eta 0:00:03\n",
      "   ----------------------------- ---------- 47.9/65.9 MB 8.2 MB/s eta 0:00:03\n",
      "   ----------------------------- ---------- 48.3/65.9 MB 8.2 MB/s eta 0:00:03\n",
      "   ----------------------------- ---------- 48.7/65.9 MB 8.3 MB/s eta 0:00:03\n",
      "   ----------------------------- ---------- 49.0/65.9 MB 8.3 MB/s eta 0:00:03\n",
      "   ----------------------------- ---------- 49.4/65.9 MB 8.4 MB/s eta 0:00:02\n",
      "   ------------------------------ --------- 49.6/65.9 MB 8.3 MB/s eta 0:00:02\n",
      "   ------------------------------ --------- 49.9/65.9 MB 8.2 MB/s eta 0:00:02\n",
      "   ------------------------------ --------- 50.1/65.9 MB 8.2 MB/s eta 0:00:02\n",
      "   ------------------------------ --------- 50.4/65.9 MB 8.1 MB/s eta 0:00:02\n",
      "   ------------------------------ --------- 50.7/65.9 MB 8.0 MB/s eta 0:00:02\n",
      "   ------------------------------ --------- 51.0/65.9 MB 8.0 MB/s eta 0:00:02\n",
      "   ------------------------------- -------- 51.2/65.9 MB 8.0 MB/s eta 0:00:02\n",
      "   ------------------------------- -------- 51.5/65.9 MB 7.9 MB/s eta 0:00:02\n",
      "   ------------------------------- -------- 51.8/65.9 MB 7.9 MB/s eta 0:00:02\n",
      "   ------------------------------- -------- 52.1/65.9 MB 7.7 MB/s eta 0:00:02\n",
      "   ------------------------------- -------- 52.6/65.9 MB 7.7 MB/s eta 0:00:02\n",
      "   -------------------------------- ------- 52.9/65.9 MB 7.7 MB/s eta 0:00:02\n",
      "   -------------------------------- ------- 53.2/65.9 MB 7.6 MB/s eta 0:00:02\n",
      "   -------------------------------- ------- 53.5/65.9 MB 7.6 MB/s eta 0:00:02\n",
      "   -------------------------------- ------- 53.8/65.9 MB 7.5 MB/s eta 0:00:02\n",
      "   -------------------------------- ------- 54.1/65.9 MB 7.4 MB/s eta 0:00:02\n",
      "   --------------------------------- ------ 54.6/65.9 MB 7.4 MB/s eta 0:00:02\n",
      "   --------------------------------- ------ 54.8/65.9 MB 7.4 MB/s eta 0:00:02\n",
      "   --------------------------------- ------ 55.0/65.9 MB 7.4 MB/s eta 0:00:02\n",
      "   --------------------------------- ------ 55.1/65.9 MB 7.2 MB/s eta 0:00:02\n",
      "   --------------------------------- ------ 55.4/65.9 MB 7.1 MB/s eta 0:00:02\n",
      "   --------------------------------- ------ 55.7/65.9 MB 7.1 MB/s eta 0:00:02\n",
      "   --------------------------------- ------ 56.0/65.9 MB 7.1 MB/s eta 0:00:02\n",
      "   ---------------------------------- ----- 56.2/65.9 MB 7.0 MB/s eta 0:00:02\n",
      "   ---------------------------------- ----- 56.6/65.9 MB 7.0 MB/s eta 0:00:02\n",
      "   ---------------------------------- ----- 56.9/65.9 MB 7.0 MB/s eta 0:00:02\n",
      "   ---------------------------------- ----- 57.1/65.9 MB 7.0 MB/s eta 0:00:02\n",
      "   ---------------------------------- ----- 57.4/65.9 MB 7.0 MB/s eta 0:00:02\n",
      "   ----------------------------------- ---- 57.7/65.9 MB 7.0 MB/s eta 0:00:02\n",
      "   ----------------------------------- ---- 57.9/65.9 MB 6.8 MB/s eta 0:00:02\n",
      "   ----------------------------------- ---- 58.1/65.9 MB 6.7 MB/s eta 0:00:02\n",
      "   ----------------------------------- ---- 58.3/65.9 MB 6.7 MB/s eta 0:00:02\n",
      "   ----------------------------------- ---- 58.6/65.9 MB 6.7 MB/s eta 0:00:02\n",
      "   ----------------------------------- ---- 58.9/65.9 MB 6.7 MB/s eta 0:00:02\n",
      "   ----------------------------------- ---- 59.1/65.9 MB 6.7 MB/s eta 0:00:02\n",
      "   ------------------------------------ --- 59.4/65.9 MB 6.6 MB/s eta 0:00:01\n",
      "   ------------------------------------ --- 59.6/65.9 MB 6.5 MB/s eta 0:00:01\n",
      "   ------------------------------------ --- 60.1/65.9 MB 6.5 MB/s eta 0:00:01\n",
      "   ------------------------------------ --- 60.5/65.9 MB 6.5 MB/s eta 0:00:01\n",
      "   ------------------------------------ --- 60.8/65.9 MB 6.6 MB/s eta 0:00:01\n",
      "   ------------------------------------ --- 60.9/65.9 MB 6.5 MB/s eta 0:00:01\n",
      "   ------------------------------------- -- 61.2/65.9 MB 6.5 MB/s eta 0:00:01\n",
      "   ------------------------------------- -- 61.4/65.9 MB 6.5 MB/s eta 0:00:01\n",
      "   ------------------------------------- -- 61.6/65.9 MB 6.5 MB/s eta 0:00:01\n",
      "   ------------------------------------- -- 61.7/65.9 MB 6.5 MB/s eta 0:00:01\n",
      "   ------------------------------------- -- 61.9/65.9 MB 6.4 MB/s eta 0:00:01\n",
      "   ------------------------------------- -- 62.1/65.9 MB 6.3 MB/s eta 0:00:01\n",
      "   ------------------------------------- -- 62.4/65.9 MB 6.4 MB/s eta 0:00:01\n",
      "   ------------------------------------- -- 62.5/65.9 MB 6.3 MB/s eta 0:00:01\n",
      "   -------------------------------------- - 62.8/65.9 MB 6.2 MB/s eta 0:00:01\n",
      "   -------------------------------------- - 63.1/65.9 MB 6.2 MB/s eta 0:00:01\n",
      "   -------------------------------------- - 63.4/65.9 MB 6.4 MB/s eta 0:00:01\n",
      "   -------------------------------------- - 63.7/65.9 MB 6.3 MB/s eta 0:00:01\n",
      "   -------------------------------------- - 63.9/65.9 MB 6.3 MB/s eta 0:00:01\n",
      "   -------------------------------------- - 64.1/65.9 MB 6.3 MB/s eta 0:00:01\n",
      "   -------------------------------------- - 64.2/65.9 MB 6.2 MB/s eta 0:00:01\n",
      "   ---------------------------------------  64.6/65.9 MB 6.1 MB/s eta 0:00:01\n",
      "   ---------------------------------------  64.9/65.9 MB 6.1 MB/s eta 0:00:01\n",
      "   ---------------------------------------  65.1/65.9 MB 6.2 MB/s eta 0:00:01\n",
      "   ---------------------------------------  65.4/65.9 MB 6.1 MB/s eta 0:00:01\n",
      "   ---------------------------------------  65.7/65.9 MB 6.2 MB/s eta 0:00:01\n",
      "   ---------------------------------------  65.9/65.9 MB 6.2 MB/s eta 0:00:01\n",
      "   ---------------------------------------  65.9/65.9 MB 6.2 MB/s eta 0:00:01\n",
      "   ---------------------------------------  65.9/65.9 MB 6.2 MB/s eta 0:00:01\n",
      "   ---------------------------------------  65.9/65.9 MB 6.2 MB/s eta 0:00:01\n",
      "   ---------------------------------------  65.9/65.9 MB 6.2 MB/s eta 0:00:01\n",
      "   ---------------------------------------  65.9/65.9 MB 6.2 MB/s eta 0:00:01\n",
      "   ---------------------------------------  65.9/65.9 MB 6.2 MB/s eta 0:00:01\n",
      "   ---------------------------------------- 65.9/65.9 MB 5.3 MB/s eta 0:00:00\n",
      "Installing collected packages: kaleido\n",
      "Successfully installed kaleido-0.2.1\n"
     ]
    }
   ],
   "source": [
    "!pip install -U kaleido"
   ]
  }
 ],
 "metadata": {
  "kernelspec": {
   "display_name": "ldi2",
   "language": "python",
   "name": "python3"
  },
  "language_info": {
   "codemirror_mode": {
    "name": "ipython",
    "version": 3
   },
   "file_extension": ".py",
   "mimetype": "text/x-python",
   "name": "python",
   "nbconvert_exporter": "python",
   "pygments_lexer": "ipython3",
   "version": "3.11.9"
  }
 },
 "nbformat": 4,
 "nbformat_minor": 2
}
